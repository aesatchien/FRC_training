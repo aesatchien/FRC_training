{
 "cells": [
  {
   "cell_type": "markdown",
   "id": "8b804ee5-7e54-4cd2-a4ac-51a78a87e8fe",
   "metadata": {},
   "source": [
    "#### initial apriltag test 20221219 CJH"
   ]
  },
  {
   "cell_type": "code",
   "execution_count": 1,
   "id": "1997cfce-29d9-4a51-af4b-17192dda1d87",
   "metadata": {},
   "outputs": [],
   "source": [
    "# from pupil_apriltags import Detector  # use this one on windows if you don't have robotpy\n",
    "from robotpy_apriltag import AprilTagDetector\n",
    "import cv2\n",
    "import numpy as np\n",
    "import matplotlib.pyplot as plt"
   ]
  },
  {
   "cell_type": "code",
   "execution_count": 2,
   "id": "b222b6d5-f3b7-4708-bc00-14df81f86005",
   "metadata": {},
   "outputs": [
    {
     "data": {
      "text/plain": [
       "'C:\\\\CJH\\\\Python\\\\FRC\\\\FRC_training\\\\apriltag'"
      ]
     },
     "execution_count": 2,
     "metadata": {},
     "output_type": "execute_result"
    }
   ],
   "source": [
    "pwd"
   ]
  },
  {
   "cell_type": "code",
   "execution_count": 3,
   "id": "7eec3869-e40e-4635-a755-0c169a664709",
   "metadata": {},
   "outputs": [
    {
     "data": {
      "text/plain": [
       "\u001b[1;31mDocstring:\u001b[0m     \n",
       "An AprilTag detector engine. This is expensive to set up and tear down, so\n",
       "most use cases should only create one of these, add a family to it, set up\n",
       "any other configuration, and repeatedly call Detect().\n",
       "\u001b[1;31mInit docstring:\u001b[0m __init__(self: robotpy_apriltag._apriltag.AprilTagDetector) -> None\n",
       "\u001b[1;31mFile:\u001b[0m           c:\\users\\cjhill\\miniconda3\\envs\\robo2023\\lib\\site-packages\\robotpy_apriltag\\_apriltag.cp310-win_amd64.pyd\n",
       "\u001b[1;31mType:\u001b[0m           pybind11_type\n",
       "\u001b[1;31mSubclasses:\u001b[0m     \n"
      ]
     },
     "metadata": {},
     "output_type": "display_data"
    }
   ],
   "source": [
    "AprilTagDetector??"
   ]
  },
  {
   "cell_type": "code",
   "execution_count": 5,
   "id": "4f1b7ca5-528b-4dac-a5ef-21716c92373b",
   "metadata": {},
   "outputs": [
    {
     "data": {
      "text/plain": [
       "True"
      ]
     },
     "execution_count": 5,
     "metadata": {},
     "output_type": "execute_result"
    }
   ],
   "source": [
    "at_detector = AprilTagDetector()\n",
    "at_detector.addFamily(fam='tag16h5', bitsCorrected=0)"
   ]
  },
  {
   "cell_type": "raw",
   "id": "621c418d-4700-4632-a4d7-05694d5a3b20",
   "metadata": {},
   "source": [
    "# pupil_apriltags way\n",
    "at_detector = AprilTagDetector(\n",
    "   families=\"tag16h5\",\n",
    "   nthreads=2,\n",
    "   quad_decimate=1.0,\n",
    "   quad_sigma=0.0,\n",
    "   refine_edges=1,\n",
    "   decode_sharpening=0.25,\n",
    "   debug=0\n",
    ")"
   ]
  },
  {
   "cell_type": "code",
   "execution_count": null,
   "id": "903bf755-91e3-4a8f-ab6b-da587f2f482e",
   "metadata": {},
   "outputs": [],
   "source": [
    "camera_port = 1  # usually 0 is you only have one camera\n",
    "cam = cv2.VideoCapture(camera_port, cv2.CAP_DSHOW)  # regular USB cams on windows\n",
    "#cam.set(cv2.CAP_PROP_EXPOSURE,-20)\n",
    "s, image_raw = cam.read()  # the read function returns a tuple - if the frame was read correctly and the image\n",
    "if s > 0:\n",
    "    cv2.imshow(f'Test Picture', image_raw)  # pop open an image window\n",
    "else:\n",
    "    print(f'No video on camera: {camera_port}', end = '\\n')\n",
    "# release the camera, wait for the user to hit escape, then close the openCV window\n",
    "cam.release()\n",
    "cv2.waitKey(0)\n",
    "cv2.destroyAllWindows()\n",
    "\n",
    "# can display here too, but have to fix the BGR (openCV standard) to RGB (everything else)\n",
    "plt.imshow(cv2.cvtColor(image_raw, cv2.COLOR_BGR2RGB))"
   ]
  },
  {
   "cell_type": "code",
   "execution_count": 10,
   "id": "ad4f31e9-0682-4110-a1d9-1c4d16ae58b6",
   "metadata": {},
   "outputs": [
    {
     "data": {
      "text/plain": [
       "60.00488064236111"
      ]
     },
     "execution_count": 10,
     "metadata": {},
     "output_type": "execute_result"
    }
   ],
   "source": [
    "image_raw.mean()"
   ]
  },
  {
   "cell_type": "code",
   "execution_count": null,
   "id": "19552248-c856-49e5-983a-4f04e044da80",
   "metadata": {},
   "outputs": [],
   "source": [
    "plt.imshow(cv2.cvtColor(image_raw, cv2.COLOR_BGR2RGB))"
   ]
  },
  {
   "cell_type": "code",
   "execution_count": null,
   "id": "c94727b8-6809-4ccb-8ac9-b5d310e76a1d",
   "metadata": {},
   "outputs": [],
   "source": [
    "at_detector.detect(img)"
   ]
  },
  {
   "cell_type": "code",
   "execution_count": null,
   "id": "f0fc4ef2-2c14-4c8a-bdcd-b5acce45d3ac",
   "metadata": {},
   "outputs": [],
   "source": []
  }
 ],
 "metadata": {
  "kernelspec": {
   "display_name": "Python [conda env:robo2023]",
   "language": "python",
   "name": "conda-env-robo2023-py"
  },
  "language_info": {
   "codemirror_mode": {
    "name": "ipython",
    "version": 3
   },
   "file_extension": ".py",
   "mimetype": "text/x-python",
   "name": "python",
   "nbconvert_exporter": "python",
   "pygments_lexer": "ipython3",
   "version": "3.10.8"
  }
 },
 "nbformat": 4,
 "nbformat_minor": 5
}
