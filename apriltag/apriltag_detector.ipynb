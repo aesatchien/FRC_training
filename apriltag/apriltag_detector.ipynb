{
 "cells": [
  {
   "cell_type": "markdown",
   "id": "8b804ee5-7e54-4cd2-a4ac-51a78a87e8fe",
   "metadata": {},
   "source": [
    "#### initial apriltag test 20221219 CJH"
   ]
  },
  {
   "cell_type": "code",
   "execution_count": 9,
   "id": "1997cfce-29d9-4a51-af4b-17192dda1d87",
   "metadata": {},
   "outputs": [],
   "source": [
    "from pupil_apriltags import Detector\n",
    "import cv2\n",
    "import numpy as np\n",
    "import matplotlib.pyplot as plt"
   ]
  },
  {
   "cell_type": "code",
   "execution_count": 10,
   "id": "b222b6d5-f3b7-4708-bc00-14df81f86005",
   "metadata": {},
   "outputs": [
    {
     "data": {
      "text/plain": [
       "'C:\\\\Users\\\\cjhill\\\\Miniconda3\\\\envs\\\\robo2022\\\\Lib\\\\site-packages\\\\pupil_apriltags\\\\lib'"
      ]
     },
     "execution_count": 10,
     "metadata": {},
     "output_type": "execute_result"
    }
   ],
   "source": [
    "pwd"
   ]
  },
  {
   "cell_type": "code",
   "execution_count": 11,
   "id": "d90903c9-aac3-4c71-baca-cabaaca0f582",
   "metadata": {},
   "outputs": [
    {
     "name": "stdout",
     "output_type": "stream",
     "text": [
      "C:\\Users\\cjhill\\Miniconda3\\envs\\robo2022\\Lib\\site-packages\\pupil_apriltags\\lib\n"
     ]
    }
   ],
   "source": [
    "cd \"C:\\\\Users\\\\cjhill\\\\Miniconda3\\\\envs\\\\robo2022\\\\Lib\\\\site-packages\\\\pupil_apriltags\\\\lib\""
   ]
  },
  {
   "cell_type": "code",
   "execution_count": 12,
   "id": "dc296e3a-13a2-4702-b225-029e0dfb9cd6",
   "metadata": {},
   "outputs": [
    {
     "name": "stdout",
     "output_type": "stream",
     "text": [
      " Volume in drive C is Windows\n",
      " Volume Serial Number is 32E4-5A88\n",
      "\n",
      " Directory of C:\\Users\\cjhill\\Miniconda3\\envs\\robo2022\\Lib\\site-packages\\pupil_apriltags\\lib\n",
      "\n",
      "12/19/2022  01:48 PM    <DIR>          .\n",
      "12/19/2022  01:48 PM    <DIR>          ..\n",
      "12/19/2022  01:48 PM         6,509,568 apriltag.dll\n",
      "12/19/2022  01:48 PM            71,714 apriltag.lib\n",
      "               2 File(s)      6,581,282 bytes\n",
      "               2 Dir(s)  389,556,609,024 bytes free\n"
     ]
    }
   ],
   "source": [
    "ls"
   ]
  },
  {
   "cell_type": "code",
   "execution_count": 14,
   "id": "f668af1d-2b68-4eb3-86d8-cf7da8e3a9fe",
   "metadata": {},
   "outputs": [],
   "source": [
    "import os, ctypes"
   ]
  },
  {
   "cell_type": "code",
   "execution_count": 20,
   "id": "70e2f501-cd87-4538-a550-3a1ca4e47e2b",
   "metadata": {},
   "outputs": [
    {
     "ename": "FileNotFoundError",
     "evalue": "Could not find module 'C:\\Users\\cjhill\\Miniconda3\\envs\\robo2022\\Lib\\site-packages\\pupil_apriltags\\lib\\apriltag.dll' (or one of its dependencies). Try using the full path with constructor syntax.",
     "output_type": "error",
     "traceback": [
      "\u001b[1;31m---------------------------------------------------------------------------\u001b[0m",
      "\u001b[1;31mFileNotFoundError\u001b[0m                         Traceback (most recent call last)",
      "\u001b[1;32m~\\AppData\\Local\\Temp\\2/ipykernel_25232/3155231217.py\u001b[0m in \u001b[0;36m<module>\u001b[1;34m\u001b[0m\n\u001b[1;32m----> 1\u001b[1;33m \u001b[0mctypes\u001b[0m\u001b[1;33m.\u001b[0m\u001b[0mCDLL\u001b[0m\u001b[1;33m(\u001b[0m\u001b[1;34m'./apriltag.dll'\u001b[0m\u001b[1;33m)\u001b[0m\u001b[1;33m\u001b[0m\u001b[1;33m\u001b[0m\u001b[0m\n\u001b[0m",
      "\u001b[1;32m~\\Miniconda3\\envs\\robo2022\\lib\\ctypes\\__init__.py\u001b[0m in \u001b[0;36m__init__\u001b[1;34m(self, name, mode, handle, use_errno, use_last_error, winmode)\u001b[0m\n\u001b[0;32m    380\u001b[0m \u001b[1;33m\u001b[0m\u001b[0m\n\u001b[0;32m    381\u001b[0m         \u001b[1;32mif\u001b[0m \u001b[0mhandle\u001b[0m \u001b[1;32mis\u001b[0m \u001b[1;32mNone\u001b[0m\u001b[1;33m:\u001b[0m\u001b[1;33m\u001b[0m\u001b[1;33m\u001b[0m\u001b[0m\n\u001b[1;32m--> 382\u001b[1;33m             \u001b[0mself\u001b[0m\u001b[1;33m.\u001b[0m\u001b[0m_handle\u001b[0m \u001b[1;33m=\u001b[0m \u001b[0m_dlopen\u001b[0m\u001b[1;33m(\u001b[0m\u001b[0mself\u001b[0m\u001b[1;33m.\u001b[0m\u001b[0m_name\u001b[0m\u001b[1;33m,\u001b[0m \u001b[0mmode\u001b[0m\u001b[1;33m)\u001b[0m\u001b[1;33m\u001b[0m\u001b[1;33m\u001b[0m\u001b[0m\n\u001b[0m\u001b[0;32m    383\u001b[0m         \u001b[1;32melse\u001b[0m\u001b[1;33m:\u001b[0m\u001b[1;33m\u001b[0m\u001b[1;33m\u001b[0m\u001b[0m\n\u001b[0;32m    384\u001b[0m             \u001b[0mself\u001b[0m\u001b[1;33m.\u001b[0m\u001b[0m_handle\u001b[0m \u001b[1;33m=\u001b[0m \u001b[0mhandle\u001b[0m\u001b[1;33m\u001b[0m\u001b[1;33m\u001b[0m\u001b[0m\n",
      "\u001b[1;31mFileNotFoundError\u001b[0m: Could not find module 'C:\\Users\\cjhill\\Miniconda3\\envs\\robo2022\\Lib\\site-packages\\pupil_apriltags\\lib\\apriltag.dll' (or one of its dependencies). Try using the full path with constructor syntax."
     ]
    }
   ],
   "source": [
    "ctypes.CDLL('./apriltag.dll')"
   ]
  },
  {
   "cell_type": "code",
   "execution_count": 3,
   "id": "7eec3869-e40e-4635-a755-0c169a664709",
   "metadata": {},
   "outputs": [],
   "source": [
    "#Detector?"
   ]
  },
  {
   "cell_type": "code",
   "execution_count": 4,
   "id": "ae2193f7-ac9a-4a22-985c-973e112a8809",
   "metadata": {},
   "outputs": [
    {
     "ename": "FileNotFoundError",
     "evalue": "Could not find module 'C:\\Users\\cjhill\\Miniconda3\\envs\\robo2022\\Lib\\site-packages\\pupil_apriltags\\lib\\apriltag.dll' (or one of its dependencies). Try using the full path with constructor syntax.",
     "output_type": "error",
     "traceback": [
      "\u001b[1;31m---------------------------------------------------------------------------\u001b[0m",
      "\u001b[1;31mFileNotFoundError\u001b[0m                         Traceback (most recent call last)",
      "\u001b[1;32m~\\AppData\\Local\\Temp\\2/ipykernel_25232/4091793763.py\u001b[0m in \u001b[0;36m<module>\u001b[1;34m\u001b[0m\n\u001b[1;32m----> 1\u001b[1;33m at_detector = Detector(\n\u001b[0m\u001b[0;32m      2\u001b[0m    \u001b[0mfamilies\u001b[0m\u001b[1;33m=\u001b[0m\u001b[1;34m\"tag16h5\"\u001b[0m\u001b[1;33m,\u001b[0m\u001b[1;33m\u001b[0m\u001b[1;33m\u001b[0m\u001b[0m\n\u001b[0;32m      3\u001b[0m    \u001b[0mnthreads\u001b[0m\u001b[1;33m=\u001b[0m\u001b[1;36m2\u001b[0m\u001b[1;33m,\u001b[0m\u001b[1;33m\u001b[0m\u001b[1;33m\u001b[0m\u001b[0m\n\u001b[0;32m      4\u001b[0m    \u001b[0mquad_decimate\u001b[0m\u001b[1;33m=\u001b[0m\u001b[1;36m1.0\u001b[0m\u001b[1;33m,\u001b[0m\u001b[1;33m\u001b[0m\u001b[1;33m\u001b[0m\u001b[0m\n\u001b[0;32m      5\u001b[0m    \u001b[0mquad_sigma\u001b[0m\u001b[1;33m=\u001b[0m\u001b[1;36m0.0\u001b[0m\u001b[1;33m,\u001b[0m\u001b[1;33m\u001b[0m\u001b[1;33m\u001b[0m\u001b[0m\n",
      "\u001b[1;32m~\\Miniconda3\\envs\\robo2022\\lib\\site-packages\\pupil_apriltags\\bindings.py\u001b[0m in \u001b[0;36m__init__\u001b[1;34m(self, families, nthreads, quad_decimate, quad_sigma, refine_edges, decode_sharpening, debug, searchpath)\u001b[0m\n\u001b[0;32m    345\u001b[0m                 \u001b[1;32mif\u001b[0m \u001b[0msys\u001b[0m\u001b[1;33m.\u001b[0m\u001b[0mversion_info\u001b[0m \u001b[1;33m>=\u001b[0m \u001b[1;33m(\u001b[0m\u001b[1;36m3\u001b[0m\u001b[1;33m,\u001b[0m \u001b[1;36m8\u001b[0m\u001b[1;33m)\u001b[0m\u001b[1;33m:\u001b[0m\u001b[1;33m\u001b[0m\u001b[1;33m\u001b[0m\u001b[0m\n\u001b[0;32m    346\u001b[0m                     \u001b[0mdll_dir\u001b[0m \u001b[1;33m=\u001b[0m \u001b[0mos\u001b[0m\u001b[1;33m.\u001b[0m\u001b[0madd_dll_directory\u001b[0m\u001b[1;33m(\u001b[0m\u001b[0mdll_path\u001b[0m\u001b[1;33m)\u001b[0m\u001b[1;33m\u001b[0m\u001b[1;33m\u001b[0m\u001b[0m\n\u001b[1;32m--> 347\u001b[1;33m             \u001b[0mself\u001b[0m\u001b[1;33m.\u001b[0m\u001b[0mlibc\u001b[0m \u001b[1;33m=\u001b[0m \u001b[0mctypes\u001b[0m\u001b[1;33m.\u001b[0m\u001b[0mCDLL\u001b[0m\u001b[1;33m(\u001b[0m\u001b[0mstr\u001b[0m\u001b[1;33m(\u001b[0m\u001b[0mhit\u001b[0m\u001b[1;33m)\u001b[0m\u001b[1;33m)\u001b[0m\u001b[1;33m\u001b[0m\u001b[1;33m\u001b[0m\u001b[0m\n\u001b[0m\u001b[0;32m    348\u001b[0m             \u001b[1;32mif\u001b[0m \u001b[0mself\u001b[0m\u001b[1;33m.\u001b[0m\u001b[0mlibc\u001b[0m\u001b[1;33m:\u001b[0m\u001b[1;33m\u001b[0m\u001b[1;33m\u001b[0m\u001b[0m\n\u001b[0;32m    349\u001b[0m                 \u001b[0mlogger\u001b[0m\u001b[1;33m.\u001b[0m\u001b[0mdebug\u001b[0m\u001b[1;33m(\u001b[0m\u001b[1;34mf\"Found working clib at {hit}\"\u001b[0m\u001b[1;33m)\u001b[0m\u001b[1;33m\u001b[0m\u001b[1;33m\u001b[0m\u001b[0m\n",
      "\u001b[1;32m~\\Miniconda3\\envs\\robo2022\\lib\\ctypes\\__init__.py\u001b[0m in \u001b[0;36m__init__\u001b[1;34m(self, name, mode, handle, use_errno, use_last_error, winmode)\u001b[0m\n\u001b[0;32m    380\u001b[0m \u001b[1;33m\u001b[0m\u001b[0m\n\u001b[0;32m    381\u001b[0m         \u001b[1;32mif\u001b[0m \u001b[0mhandle\u001b[0m \u001b[1;32mis\u001b[0m \u001b[1;32mNone\u001b[0m\u001b[1;33m:\u001b[0m\u001b[1;33m\u001b[0m\u001b[1;33m\u001b[0m\u001b[0m\n\u001b[1;32m--> 382\u001b[1;33m             \u001b[0mself\u001b[0m\u001b[1;33m.\u001b[0m\u001b[0m_handle\u001b[0m \u001b[1;33m=\u001b[0m \u001b[0m_dlopen\u001b[0m\u001b[1;33m(\u001b[0m\u001b[0mself\u001b[0m\u001b[1;33m.\u001b[0m\u001b[0m_name\u001b[0m\u001b[1;33m,\u001b[0m \u001b[0mmode\u001b[0m\u001b[1;33m)\u001b[0m\u001b[1;33m\u001b[0m\u001b[1;33m\u001b[0m\u001b[0m\n\u001b[0m\u001b[0;32m    383\u001b[0m         \u001b[1;32melse\u001b[0m\u001b[1;33m:\u001b[0m\u001b[1;33m\u001b[0m\u001b[1;33m\u001b[0m\u001b[0m\n\u001b[0;32m    384\u001b[0m             \u001b[0mself\u001b[0m\u001b[1;33m.\u001b[0m\u001b[0m_handle\u001b[0m \u001b[1;33m=\u001b[0m \u001b[0mhandle\u001b[0m\u001b[1;33m\u001b[0m\u001b[1;33m\u001b[0m\u001b[0m\n",
      "\u001b[1;31mFileNotFoundError\u001b[0m: Could not find module 'C:\\Users\\cjhill\\Miniconda3\\envs\\robo2022\\Lib\\site-packages\\pupil_apriltags\\lib\\apriltag.dll' (or one of its dependencies). Try using the full path with constructor syntax."
     ]
    }
   ],
   "source": [
    "at_detector = Detector(\n",
    "   families=\"tag16h5\",\n",
    "   nthreads=2,\n",
    "   quad_decimate=1.0,\n",
    "   quad_sigma=0.0,\n",
    "   refine_edges=1,\n",
    "   decode_sharpening=0.25,\n",
    "   debug=0\n",
    ")"
   ]
  },
  {
   "cell_type": "code",
   "execution_count": 39,
   "id": "903bf755-91e3-4a8f-ab6b-da587f2f482e",
   "metadata": {},
   "outputs": [
    {
     "data": {
      "text/plain": [
       "<matplotlib.image.AxesImage at 0x2be8f7d2370>"
      ]
     },
     "execution_count": 39,
     "metadata": {},
     "output_type": "execute_result"
    },
    {
     "data": {
      "image/png": "[encoded data removed]",
      "text/plain": [
       "<Figure size 432x288 with 1 Axes>"
      ]
     },
     "metadata": {
      "needs_background": "light"
     },
     "output_type": "display_data"
    }
   ],
   "source": [
    "camera_port = 0  # usually 0 is you only have one camera\n",
    "cam = cv2.VideoCapture(camera_port, cv2.CAP_DSHOW)  # regular USB cams on windows\n",
    "#cam.set(cv2.CAP_PROP_EXPOSURE,-20)\n",
    "s, image_raw = cam.read()  # the read function returns a tuple - if the frame was read correctly and the image\n",
    "if s > 0:\n",
    "    cv2.imshow(f'Test Picture', image_raw)  # pop open an image window\n",
    "else:\n",
    "    print(f'No video on camera: {camera_port}', end = '\\n')\n",
    "# release the camera, wait for the user to hit escape, then close the openCV window\n",
    "cam.release()\n",
    "cv2.waitKey(0)\n",
    "cv2.destroyAllWindows()\n",
    "\n",
    "# can display here too, but have to fix the BGR (openCV standard) to RGB (everything else)\n",
    "plt.imshow(cv2.cvtColor(image_raw, cv2.COLOR_BGR2RGB))"
   ]
  },
  {
   "cell_type": "code",
   "execution_count": 38,
   "id": "ad4f31e9-0682-4110-a1d9-1c4d16ae58b6",
   "metadata": {},
   "outputs": [
    {
     "data": {
      "text/plain": [
       "1.5480881076388888"
      ]
     },
     "execution_count": 38,
     "metadata": {},
     "output_type": "execute_result"
    }
   ],
   "source": [
    "image_raw.mean()"
   ]
  },
  {
   "cell_type": "code",
   "execution_count": null,
   "id": "19552248-c856-49e5-983a-4f04e044da80",
   "metadata": {},
   "outputs": [],
   "source": [
    "plt.imshow(cv2.cvtColor(image_raw, cv2.COLOR_BGR2RGB))"
   ]
  },
  {
   "cell_type": "code",
   "execution_count": null,
   "id": "c94727b8-6809-4ccb-8ac9-b5d310e76a1d",
   "metadata": {},
   "outputs": [],
   "source": [
    "at_detector.detect(img)"
   ]
  },
  {
   "cell_type": "code",
   "execution_count": null,
   "id": "f0fc4ef2-2c14-4c8a-bdcd-b5acce45d3ac",
   "metadata": {},
   "outputs": [],
   "source": []
  }
 ],
 "metadata": {
  "kernelspec": {
   "display_name": "Python [conda env:robo2022]",
   "language": "python",
   "name": "conda-env-robo2022-py"
  },
  "language_info": {
   "codemirror_mode": {
    "name": "ipython",
    "version": 3
   },
   "file_extension": ".py",
   "mimetype": "text/x-python",
   "name": "python",
   "nbconvert_exporter": "python",
   "pygments_lexer": "ipython3",
   "version": "3.9.7"
  }
 },
 "nbformat": 4,
 "nbformat_minor": 5
}
