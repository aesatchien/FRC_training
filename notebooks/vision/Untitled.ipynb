{
 "cells": [
  {
   "cell_type": "code",
   "execution_count": 1,
   "id": "7c022114-fdb9-4ab9-b7b2-28d8ae23356b",
   "metadata": {},
   "outputs": [
    {
     "data": {
      "text/plain": [
       "3398.5"
      ]
     },
     "execution_count": 1,
     "metadata": {},
     "output_type": "execute_result"
    }
   ],
   "source": [
    "hub_distance = 5\n",
    "2486 - 103 * hub_distance + 57.1 * hub_distance ** 2"
   ]
  },
  {
   "cell_type": "code",
   "execution_count": null,
   "id": "ec91f4d6-41dd-4002-a5c0-d39ed856e4dc",
   "metadata": {},
   "outputs": [],
   "source": []
  }
 ],
 "metadata": {
  "kernelspec": {
   "display_name": "Python 3 (ipykernel)",
   "language": "python",
   "name": "python3"
  },
  "language_info": {
   "codemirror_mode": {
    "name": "ipython",
    "version": 3
   },
   "file_extension": ".py",
   "mimetype": "text/x-python",
   "name": "python",
   "nbconvert_exporter": "python",
   "pygments_lexer": "ipython3",
   "version": "3.9.5"
  }
 },
 "nbformat": 4,
 "nbformat_minor": 5
}
