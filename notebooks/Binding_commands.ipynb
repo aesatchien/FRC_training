{
 "cells": [
  {
   "cell_type": "markdown",
   "id": "6a2d9118-75d0-4260-83a5-fceab7bd0785",
   "metadata": {},
   "source": [
    "### Binding robot commands - 2022 0107 CJH\n",
    "---"
   ]
  },
  {
   "cell_type": "code",
   "execution_count": 1,
   "id": "94552085-6359-4e6c-a720-3fe8712007cf",
   "metadata": {},
   "outputs": [],
   "source": [
    "import wpilib\n",
    "import commands2"
   ]
  },
  {
   "cell_type": "markdown",
   "id": "f839fd66-7b2c-4fb5-b10c-75c1da11e752",
   "metadata": {},
   "source": [
    "#### you need something to act on (motor, solenoid) or measure\n",
    "* usually do that in a class that is based on the **Subsystem** class\n",
    "* a simple one is here with one motor\n",
    "* put in a function that you can call to do something useful\n"
   ]
  },
  {
   "cell_type": "code",
   "execution_count": 22,
   "id": "894d3c4d-7e16-4241-92ca-965d2caff854",
   "metadata": {},
   "outputs": [],
   "source": [
    "# get the Subsystem class from the pyfrc library and the Spark motor controller\n",
    "from commands2 import SubsystemBase\n",
    "from wpilib import Spark\n",
    "\n",
    "class Intake(SubsystemBase):\n",
    "    def __init__(self):\n",
    "        super().__init__()  # need this so that SubsystemBase is set up correctly (call its __init__)\n",
    "        \n",
    "        self.intake_spark = Spark(6) # set up a simple PWM motor\n",
    " \n",
    "\n",
    "    def set_intake(self, speed=0):\n",
    "        self.intake_spark.set(speed)\n"
   ]
  },
  {
   "cell_type": "markdown",
   "id": "09a4f851-deff-4579-acba-658f78a4ba3c",
   "metadata": {},
   "source": [
    "#### the simplest way - commands2 lets you lambda them\n",
    "* can to this directly in oi (pre-2021) or robotcontainer (after 2021) or wherever you want to do the binding"
   ]
  },
  {
   "cell_type": "code",
   "execution_count": 27,
   "id": "1834bbf4-b2fb-42c9-b59d-ab6108d4b1b7",
   "metadata": {},
   "outputs": [],
   "source": [
    "from commands2.button import JoystickButton\n",
    "import time\n",
    "\n",
    "class RobotContainer():\n",
    "    \n",
    "    def __init__(self):\n",
    "        \n",
    "        self.intake = Intake()\n",
    "        self.start_time = time.time()\n",
    "        \n",
    "        self.stick = wpilib.Joystick(port=0)  \n",
    "        self.buttonA = JoystickButton(self.stick, 1)\n",
    "        self.buttonB = JoystickButton(self.stick, 2)\n",
    "        self.buttonX = JoystickButton(self.stick, 3)\n",
    "        self.buttonY = JoystickButton(self.stick, 4)\n",
    "        \n",
    "        # super simple\n",
    "        self.buttonA.whenPressed(lambda: self.intake.set_intake(speed=0.5))  # send half power\n",
    "        self.buttonB.whenPressed(lambda: self.intake.set_intake(speed=0))  # stop motor\n",
    "        \n",
    "        # I think we can also do this way\n",
    "        self.buttonX.whenPressed(commands2.InstantCommand(lambda: self.intake.set_intake(speed=0.5), self.intake))\n",
    "        self.buttonY.whenPressed(commands2.InstantCommand(lambda: self.intake.set_intake(speed=0.0), self.intake))\n",
    "        "
   ]
  },
  {
   "cell_type": "markdown",
   "id": "6422b1e7-0476-498b-b2dd-5c4c9796efb0",
   "metadata": {},
   "source": [
    "#### the much more verbose way - make a command as a separate class and call it\n",
    "* make the class file as below, modify as needed\n",
    "* this gives you total control over every aspect of the command"
   ]
  },
  {
   "cell_type": "code",
   "execution_count": 28,
   "id": "8dea5aaf-0b71-49d2-8079-a76fc6013326",
   "metadata": {},
   "outputs": [],
   "source": [
    "class SetIntake(commands2.CommandBase):\n",
    "    def __init__(self, container, speed=0) -> None:\n",
    "        super().__init__()\n",
    "        self.setName('set_intake')\n",
    "        \n",
    "        self.speed = speed  # take the value we passed in and make it available as a class member variable\n",
    "        \n",
    "    def initialize(self) -> None:\n",
    "        self.start_time = self.container.get_enabled_time()\n",
    "        print(\"\\n\" + f\"** Started {self.__class__.__name__} / {self.getName()} at {self.start_time:.1f} s **\")\n",
    "        \n",
    "        self.container.intake.set_intake(self.speed)  #\n",
    "        \n",
    "    def execute(self) -> None:\n",
    "        pass  # add stuff here if you need to \n",
    "    \n",
    "    def isFinished(self) -> bool:\n",
    "        return True\n",
    "    \n",
    "    def end(self, interrupted: bool) -> None:\n",
    "        end_time = self.container.get_enabled_time()\n",
    "        message = 'Interrupted' if interrupted else 'Ended'\n",
    "        print(f\"** {message} {self.getName()} at {end_time:.11f} s after {end_time - self.start_time:.1f} s **\")\n",
    "    "
   ]
  },
  {
   "cell_type": "markdown",
   "id": "7aefd8ec-b291-426d-af7f-da7f1ff3ef5a",
   "metadata": {},
   "source": [
    "* now RobotContainer has to import the command you wrote \n",
    "* replace the lambda with the actual call"
   ]
  },
  {
   "cell_type": "code",
   "execution_count": null,
   "id": "3551ee68-f89f-4069-ac14-02a69f0909d1",
   "metadata": {},
   "outputs": [],
   "source": [
    "from commands2.button import JoystickButton\n",
    "import time\n",
    "\n",
    "class RobotContainer():\n",
    "    \n",
    "    def __init__(self):\n",
    "        \n",
    "        self.intake = Intake()\n",
    "        self.start_time = time.time()\n",
    "        \n",
    "        self.stick = wpilib.Joystick(port=0)  \n",
    "        self.buttonA = JoystickButton(self.stick, 1)\n",
    "        self.buttonB = JoystickButton(self.stick, 2)\n",
    "        \n",
    "        self.buttonA.whenPressed(SetIntake(speed=0.5))  # send half power\n",
    "        self.buttonB.whenPressed(SetIntake(speed=0))  # stop motor\n",
    "        \n",
    "    def get_enabled_time(self):  # call when we want to know the start/elapsed time for status and debug messages\n",
    "        return time.time() - self.start_time"
   ]
  }
 ],
 "metadata": {
  "kernelspec": {
   "display_name": "Python [conda env:robo2021]",
   "language": "python",
   "name": "conda-env-robo2021-py"
  },
  "language_info": {
   "codemirror_mode": {
    "name": "ipython",
    "version": 3
   },
   "file_extension": ".py",
   "mimetype": "text/x-python",
   "name": "python",
   "nbconvert_exporter": "python",
   "pygments_lexer": "ipython3",
   "version": "3.8.12"
  }
 },
 "nbformat": 4,
 "nbformat_minor": 5
}
