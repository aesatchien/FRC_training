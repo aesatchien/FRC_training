{
 "cells": [
  {
   "cell_type": "markdown",
   "id": "mighty-ethics",
   "metadata": {
    "tags": []
   },
   "source": [
    "### PIDs and using wpilib's PID controller - 2021 1212 CJH\n",
    "---"
   ]
  },
  {
   "cell_type": "code",
   "execution_count": 1,
   "id": "italian-pepper",
   "metadata": {},
   "outputs": [],
   "source": [
    "import numpy as np\n",
    "import matplotlib.pyplot as plt\n",
    "from matplotlib import gridspec\n",
    "\n",
    "import wpilib\n",
    "from wpilib import controller"
   ]
  },
  {
   "cell_type": "markdown",
   "id": "toxic-senate",
   "metadata": {},
   "source": [
    "### the standard PID control equation looks like this:\n",
    "## ${u(t)} = K_p e(t) + K_i \\int e(t)\\, dt + K_d \\frac{de}{dt}$\n",
    "### or, since computers rarely actually do calculus,\n",
    "## ${u(t)} = K_p e(t) + K_i \\sum \\limits _{j=1} ^{n} e(t_j){\\Delta}t + K_d \\frac{(e(t)-e(t-{\\Delta}t))}{{\\Delta}t}$\n",
    "Where\n",
    "* u(t) is the output of the controller - usually power from -100% to 100%\n",
    "* e(t) is the error = **(setpoint - measured value)** at time t\n",
    "* and the gains, which the user inputs to the model, are\n",
    "  * Kp is the proportional gain - the farther away from the setpoint, the more power is applied (like a spring)\n",
    "  * Ki is the integral gain - the sum of all of the old errors times the time between measurements\n",
    "  * Kd is the derivative gain - looks at the change in the error **(error now - previous error)** and slows you down - (like a shock absorber)\n"
   ]
  },
  {
   "cell_type": "markdown",
   "id": "juvenile-input",
   "metadata": {
    "jp-MarkdownHeadingCollapsed": true,
    "tags": []
   },
   "source": [
    "### Do some simple tests with static models"
   ]
  },
  {
   "cell_type": "code",
   "execution_count": 2,
   "id": "restricted-protest",
   "metadata": {},
   "outputs": [],
   "source": [
    "def clamp(value: float, bottom: float, top: float) -> float:\n",
    "    return max(bottom, min(value, top))"
   ]
  },
  {
   "cell_type": "markdown",
   "id": "lovely-priest",
   "metadata": {},
   "source": [
    "### How about an elevator acting under gravity\n",
    "* calculate PID response for a simple elevator\n",
    "* elevator is acted on by an acceleration a (down) and a motor (pid output * motor_scale * a) up \n",
    "* each loop we calculate\n",
    "  * acceleration (y_tt), velocity (y_t) and position (y)\n",
    "  * the error, the sum of the error and the change in error\n",
    "  * the pid response"
   ]
  },
  {
   "cell_type": "code",
   "execution_count": 5,
   "id": "negative-situation",
   "metadata": {},
   "outputs": [],
   "source": [
    "def calc_pids(kp=0, ki=0, kd=0, setpoint=7, y_0=0, motor_scale=2):\n",
    "# set up the array of times\n",
    "    x = np.linspace(0,4,100) # four seconds of data\n",
    "    dt = x[1]-x[0]\n",
    "\n",
    "    # set the initial conditions\n",
    "    y = y_0\n",
    "    y_t = 0\n",
    "\n",
    "    setpoint = setpoint\n",
    "    sum_error = 0\n",
    "    previous_error = 0\n",
    "    a = 10\n",
    "\n",
    "    # initialize the two arrays we calculate\n",
    "    position = []\n",
    "    velocity = []\n",
    "    accel = []\n",
    "    pid = []\n",
    "\n",
    "    # calculate the error and position at each point\n",
    "    for t in x:\n",
    "        error = setpoint - y\n",
    "        sum_error += error\n",
    "        output = kp * error + ki * sum_error * dt + kd * (error-previous_error)/dt\n",
    "        output = clamp(output, -1, 1)\n",
    "        previous_error = error\n",
    "\n",
    "        # forces, velocity, position\n",
    "        y_tt = -a + motor_scale * a * output  # fake it, make the motor 2x gravity at full power\n",
    "        y_t += y_tt * dt  # velocity is at\n",
    "        y += y_t * dt\n",
    "        y = 0 if y < 0 else y\n",
    "        y_t = 0 if y <= 0 else y_t\n",
    "\n",
    "        position.append(y)\n",
    "        velocity.append(y_t)\n",
    "        pid.append(output)\n",
    "        accel.append(y_tt)\n",
    "        \n",
    "    return x, position, velocity, pid, accel\n",
    "\n",
    "def plot_elevator(kp=0, ki=0, kd=0, setpoint=7, y_0=0, motor_scale=2, label='',):\n",
    "    \n",
    "    x, position, velocity, pid, accel = calc_pids(kp=kp, ki=ki, kd=kd, setpoint=setpoint, y_0=y_0, motor_scale=motor_scale)\n",
    "    #start the figure\n",
    "    fig = plt.figure(figsize=(12,8))\n",
    "    # set height ratios for subplots\n",
    "    gs = gridspec.GridSpec(4, 1, height_ratios=[2, 1, 1, 1]) \n",
    "\n",
    "    # the first subplot\n",
    "    ax1 = plt.subplot(gs[0])\n",
    "    line_1, = ax1.plot(x, position, color='g', label='position')\n",
    "    ax1.axhline(y=setpoint, color='g', lw=1, linestyle='--', label='setpoint')\n",
    "\n",
    "    ax4 = plt.subplot(gs[3])\n",
    "    line_4, = ax4.plot(x, pid, color='k', label='PID')\n",
    "\n",
    "\n",
    "    ax2 = plt.subplot(gs[1])\n",
    "    line_2, = ax2.plot(x, velocity, color='b', label='velocity')\n",
    "    ax2.axhline(y=0, color='b', lw=1, linestyle='--', label='')\n",
    "\n",
    "    ax3 = plt.subplot(gs[2])\n",
    "    line_3, = ax3.plot(x, accel, color='r', label='acceleration')\n",
    "\n",
    "    # format the chart\n",
    "    ax1.set_title(f'{label} (kp={kp},ki={ki},kd={kd}) PID output,  setpoint = {setpoint}', fontsize=14)\n",
    "    ax1.set_ylabel('measured position', color='g', fontsize=14)\n",
    "    ax2.set_ylabel('velocity', color='b', fontsize=14, rotation=90, ha='center', labelpad=0)\n",
    "    ax3.set_ylabel('accel', color='r', fontsize=14, rotation=90, ha='center', labelpad=0)\n",
    "    ax4.set_ylabel('PID', color='k', fontsize=14, rotation=90, ha='center', labelpad=0)\n",
    "    ax4.set_xlabel(f'time', fontsize=14)\n",
    "    ax3.set_xticks([])\n",
    "    \n",
    "    [ax.legend(loc='lower right', prop={'size': 12}) for ax in [ax1, ax2, ax3, ax4]]\n",
    "    # remove vertical gap between subplots\n",
    "    plt.subplots_adjust(hspace=0)\n",
    "\n",
    "    return fig"
   ]
  },
  {
   "cell_type": "code",
   "execution_count": 6,
   "id": "bibliographic-techno",
   "metadata": {},
   "outputs": [
    {
     "data": {
      "image/png": "[encoded data removed]",
      "text/plain": [
       "<Figure size 864x576 with 4 Axes>"
      ]
     },
     "metadata": {
      "needs_background": "light"
     },
     "output_type": "display_data"
    }
   ],
   "source": [
    "# set the gains\n",
    "kp, ki, kd = 0.0, 0.0, 0.0\n",
    "#kp, ki, kd = 0.9, 0.2, 0.1\n",
    "#kp, ki, kd = 1.8, 0.5, 0.2\n",
    "setpoint = 5\n",
    "y_0 = 5\n",
    "_ = plot_elevator(kp=kp, ki=ki, kd=kd, setpoint=setpoint, y_0=y_0, label='Frictionless Elevator', motor_scale=2)"
   ]
  },
  {
   "cell_type": "code",
   "execution_count": null,
   "id": "corrected-result",
   "metadata": {},
   "outputs": [],
   "source": []
  }
 ],
 "metadata": {
  "kernelspec": {
   "display_name": "Python 3",
   "language": "python",
   "name": "python3"
  },
  "language_info": {
   "codemirror_mode": {
    "name": "ipython",
    "version": 3
   },
   "file_extension": ".py",
   "mimetype": "text/x-python",
   "name": "python",
   "nbconvert_exporter": "python",
   "pygments_lexer": "ipython3",
   "version": "3.8.5"
  }
 },
 "nbformat": 4,
 "nbformat_minor": 5
}
