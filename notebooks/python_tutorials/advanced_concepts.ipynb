{
 "cells": [
  {
   "cell_type": "markdown",
   "id": "f8f0a203-48cf-4fa6-8d9d-9ea49137876c",
   "metadata": {},
   "source": [
    "### Python Advanced concepts  2021 1230 CJH\n",
    "---"
   ]
  },
  {
   "cell_type": "markdown",
   "id": "5f8cd6d9-a58b-4f05-9685-b90495b2f8ad",
   "metadata": {},
   "source": [
    "### lambdas (aka anonymous functions)\n",
    "* a time saving device for returning an in-line function\n",
    "* you define it where you use it\n",
    "* so it's a perfect device for a function that you only use once\n",
    "* also common in functions that require functions as input (like when you bind actions to a joystick button)"
   ]
  },
  {
   "cell_type": "code",
   "execution_count": 3,
   "id": "33102da0-a80a-4f0c-9bd3-0a76b61a67b0",
   "metadata": {},
   "outputs": [
    {
     "data": {
      "text/plain": [
       "10"
      ]
     },
     "execution_count": 3,
     "metadata": {},
     "output_type": "execute_result"
    }
   ],
   "source": [
    "# standard function definition\n",
    "def sum(a,b):\n",
    "    return a + b\n",
    "\n",
    "sum(3, 7)"
   ]
  },
  {
   "cell_type": "code",
   "execution_count": 5,
   "id": "aeedf5b8-582f-4eb2-bfb8-5695097727f5",
   "metadata": {},
   "outputs": [
    {
     "data": {
      "text/plain": [
       "11"
      ]
     },
     "execution_count": 5,
     "metadata": {},
     "output_type": "execute_result"
    }
   ],
   "source": [
    "# a lambda definition is a bit different\n",
    "lsum = lambda x,y : x + y\n",
    "\n",
    "lsum(3, 8)"
   ]
  },
  {
   "cell_type": "code",
   "execution_count": 9,
   "id": "66a4a379-a257-49b9-800a-c326ee08a33a",
   "metadata": {},
   "outputs": [
    {
     "data": {
      "text/plain": [
       "5"
      ]
     },
     "execution_count": 9,
     "metadata": {},
     "output_type": "execute_result"
    }
   ],
   "source": [
    "# immediately invoked function expression  (IIFE)\n",
    "# rarely used this way\n",
    "(lambda x, y: x + y)(2, 3)"
   ]
  },
  {
   "cell_type": "code",
   "execution_count": 25,
   "id": "d048268c-2965-4158-8827-c929550cc542",
   "metadata": {},
   "outputs": [
    {
     "data": {
      "text/plain": [
       "\u001b[1;31mSignature:\u001b[0m \u001b[0msorted\u001b[0m\u001b[1;33m(\u001b[0m\u001b[0miterable\u001b[0m\u001b[1;33m,\u001b[0m \u001b[1;33m/\u001b[0m\u001b[1;33m,\u001b[0m \u001b[1;33m*\u001b[0m\u001b[1;33m,\u001b[0m \u001b[0mkey\u001b[0m\u001b[1;33m=\u001b[0m\u001b[1;32mNone\u001b[0m\u001b[1;33m,\u001b[0m \u001b[0mreverse\u001b[0m\u001b[1;33m=\u001b[0m\u001b[1;32mFalse\u001b[0m\u001b[1;33m)\u001b[0m\u001b[1;33m\u001b[0m\u001b[1;33m\u001b[0m\u001b[0m\n",
       "\u001b[1;31mDocstring:\u001b[0m\n",
       "Return a new list containing all items from the iterable in ascending order.\n",
       "\n",
       "A custom key function can be supplied to customize the sort order, and the\n",
       "reverse flag can be set to request the result in descending order.\n",
       "\u001b[1;31mType:\u001b[0m      builtin_function_or_method\n"
      ]
     },
     "metadata": {},
     "output_type": "display_data"
    }
   ],
   "source": [
    "# an actual use - pass a different sorting function to python's sorted() list operation\n",
    "sorted?"
   ]
  },
  {
   "cell_type": "code",
   "execution_count": 22,
   "id": "1358821b-134a-487d-a63f-19514c84effe",
   "metadata": {
    "tags": []
   },
   "outputs": [
    {
     "data": {
      "text/plain": [
       "[1, 2, 3, 4, 5, 6, 7, 8, 9]"
      ]
     },
     "execution_count": 22,
     "metadata": {},
     "output_type": "execute_result"
    }
   ],
   "source": [
    "# by default it just sorts in ascending order on the value given\n",
    "sorted([1, 2, 3, 4, 5, 6, 7, 8, 9])"
   ]
  },
  {
   "cell_type": "code",
   "execution_count": 23,
   "id": "b8e3115d-909e-4535-a289-2d90e115ee7d",
   "metadata": {},
   "outputs": [
    {
     "data": {
      "text/plain": [
       "[9, 8, 7, 6, 5, 4, 3, 2, 1]"
      ]
     },
     "execution_count": 23,
     "metadata": {},
     "output_type": "execute_result"
    }
   ],
   "source": [
    "sorted([1, 2, 3, 4, 5, 6, 7, 8, 9], key=lambda x: -x)  # actually, you could have just said reverse=True"
   ]
  },
  {
   "cell_type": "code",
   "execution_count": 24,
   "id": "441b897c-2b9c-422f-a69d-a59a53256975",
   "metadata": {},
   "outputs": [
    {
     "data": {
      "text/plain": [
       "[5, 4, 6, 3, 7, 2, 8, 1, 9]"
      ]
     },
     "execution_count": 24,
     "metadata": {},
     "output_type": "execute_result"
    }
   ],
   "source": [
    "# here is a wacky one\n",
    "sorted([1, 2, 3, 4, 5, 6, 7, 8, 9], key=lambda x: abs(5-x))"
   ]
  },
  {
   "cell_type": "markdown",
   "id": "38836e75-2009-4f33-8a84-9fc591013886",
   "metadata": {},
   "source": [
    "---\n",
    "### args and kwargs\n",
    "* Python has an unpacking operators `(*)` and `(**)`\n",
    "* you can use them in function defintions and when you call functions\n",
    "* examples from https://realpython.com/python-kwargs-and-args/"
   ]
  },
  {
   "cell_type": "code",
   "execution_count": 5,
   "id": "63a4291e-4a5c-41cb-8375-aa54dfbe676e",
   "metadata": {},
   "outputs": [
    {
     "name": "stdout",
     "output_type": "stream",
     "text": [
      "6\n"
     ]
    }
   ],
   "source": [
    "# sum_integers_list.py\n",
    "def my_sum(my_integers):\n",
    "    result = 0\n",
    "    for x in my_integers:\n",
    "        result += x\n",
    "    return result\n",
    "\n",
    "list_of_integers = [1, 2, 3]\n",
    "print(my_sum(list_of_integers))"
   ]
  },
  {
   "cell_type": "markdown",
   "id": "dab756e1-d43f-482b-8abd-fac6c0321ac6",
   "metadata": {},
   "source": [
    "### instead, you could have your function look at every *unnamed* argument passed to it with the * operator\n",
    "* for example, define it with `*args` and your function now has an iterator `args` you can loop over"
   ]
  },
  {
   "cell_type": "code",
   "execution_count": 6,
   "id": "63ee4822-13d2-443b-90e8-1fe1bfc7fe42",
   "metadata": {},
   "outputs": [
    {
     "name": "stdout",
     "output_type": "stream",
     "text": [
      "6\n"
     ]
    }
   ],
   "source": [
    "# sum_integers_args.py\n",
    "def my_sum(*args):\n",
    "    result = 0\n",
    "    # Iterating over the Python args tuple\n",
    "    for x in args:\n",
    "        result += x\n",
    "    return result\n",
    "\n",
    "print(my_sum(1, 2, 3))"
   ]
  },
  {
   "cell_type": "markdown",
   "id": "47589e50-cb4c-4fc2-9a0a-80201009dce7",
   "metadata": {},
   "source": [
    "### instead, you could have your function look at every *named* argument passed to it with the ** operator\n",
    "* for example, define it with `**kwargs` and your function now has an dictionary `kwargs` you can iterate over\n",
    "* note, however, when you iterate over a dictionary you get the keys, so use kwargs.values() or kwargs.keys() when you loop"
   ]
  },
  {
   "cell_type": "code",
   "execution_count": 7,
   "id": "1ce1cb5a-7b23-4055-a76b-3b1dfc8de489",
   "metadata": {},
   "outputs": [
    {
     "name": "stdout",
     "output_type": "stream",
     "text": [
      "RealPythonIsGreat!\n"
     ]
    }
   ],
   "source": [
    "# concatenate.py\n",
    "def concatenate(**kwargs):\n",
    "    result = \"\"\n",
    "    # Iterating over the Python kwargs dictionary\n",
    "    for arg in kwargs.values():\n",
    "        result += arg\n",
    "    return result\n",
    "\n",
    "print(concatenate(a=\"Real\", b=\"Python\", c=\"Is\", d=\"Great\", e=\"!\"))"
   ]
  },
  {
   "cell_type": "code",
   "execution_count": null,
   "id": "9aad0860-27b6-41e5-a920-9e56fc338fb7",
   "metadata": {},
   "outputs": [],
   "source": []
  },
  {
   "cell_type": "markdown",
   "id": "8d82cbbd-447c-4ded-992f-78691e94462f",
   "metadata": {},
   "source": [
    "### putting them all together has a specific order"
   ]
  },
  {
   "cell_type": "code",
   "execution_count": 8,
   "id": "b78b8e76-5c7c-45eb-bc1b-f3692dd1aa86",
   "metadata": {},
   "outputs": [],
   "source": [
    "# correct_function_definition.py\n",
    "def my_function(a, b, *args, **kwargs):\n",
    "    pass"
   ]
  },
  {
   "cell_type": "code",
   "execution_count": null,
   "id": "2d92336e-6370-4a09-b38f-6a882245aceb",
   "metadata": {},
   "outputs": [],
   "source": []
  }
 ],
 "metadata": {
  "kernelspec": {
   "display_name": "Python 3 (ipykernel)",
   "language": "python",
   "name": "python3"
  },
  "language_info": {
   "codemirror_mode": {
    "name": "ipython",
    "version": 3
   },
   "file_extension": ".py",
   "mimetype": "text/x-python",
   "name": "python",
   "nbconvert_exporter": "python",
   "pygments_lexer": "ipython3",
   "version": "3.9.5"
  }
 },
 "nbformat": 4,
 "nbformat_minor": 5
}
