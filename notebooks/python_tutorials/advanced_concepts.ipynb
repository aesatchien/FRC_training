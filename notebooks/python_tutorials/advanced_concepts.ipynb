{
 "cells": [
  {
   "cell_type": "markdown",
   "id": "f8f0a203-48cf-4fa6-8d9d-9ea49137876c",
   "metadata": {},
   "source": [
    "### Python Advanced concepts  2021 1230 CJH\n",
    "* Mainly taken from Real Python (https://realpython.com/) - search for the examples for more in-depth explanations\n",
    "---"
   ]
  },
  {
   "cell_type": "markdown",
   "id": "799f34f0-c599-4099-936a-782d482f3d2f",
   "metadata": {},
   "source": [
    "### python libraries\n",
    "* math, date, time - all bultins\n",
    "* regex - find patterns in strings\n",
    "* numpy - fast computation on arrays\n",
    "* matplotlib - incredibly versatile plotting\n",
    "* pandas - the go-to data science library"
   ]
  },
  {
   "cell_type": "markdown",
   "id": "5f8cd6d9-a58b-4f05-9685-b90495b2f8ad",
   "metadata": {},
   "source": [
    "### lambdas (aka anonymous functions)\n",
    "* a time saving device for returning an in-line function\n",
    "* you define it where you use it\n",
    "* so it's a perfect device for a function that you only use once\n",
    "* also common in functions that require functions as input (like when you bind actions to a joystick button)"
   ]
  },
  {
   "cell_type": "code",
   "execution_count": 1,
   "id": "33102da0-a80a-4f0c-9bd3-0a76b61a67b0",
   "metadata": {},
   "outputs": [
    {
     "data": {
      "text/plain": [
       "10"
      ]
     },
     "execution_count": 1,
     "metadata": {},
     "output_type": "execute_result"
    }
   ],
   "source": [
    "# standard function definition\n",
    "def sum(a,b):\n",
    "    return a + b\n",
    "\n",
    "sum(3, 7)"
   ]
  },
  {
   "cell_type": "code",
   "execution_count": 2,
   "id": "aeedf5b8-582f-4eb2-bfb8-5695097727f5",
   "metadata": {},
   "outputs": [
    {
     "data": {
      "text/plain": [
       "11"
      ]
     },
     "execution_count": 2,
     "metadata": {},
     "output_type": "execute_result"
    }
   ],
   "source": [
    "# a lambda definition is a bit different\n",
    "lsum = lambda x,y : x + y\n",
    "\n",
    "lsum(3, 8)"
   ]
  },
  {
   "cell_type": "code",
   "execution_count": 3,
   "id": "66a4a379-a257-49b9-800a-c326ee08a33a",
   "metadata": {},
   "outputs": [
    {
     "data": {
      "text/plain": [
       "5"
      ]
     },
     "execution_count": 3,
     "metadata": {},
     "output_type": "execute_result"
    }
   ],
   "source": [
    "# immediately invoked function expression  (IIFE)\n",
    "# rarely used this way\n",
    "(lambda x, y: x + y)(2, 3)"
   ]
  },
  {
   "cell_type": "code",
   "execution_count": 4,
   "id": "d048268c-2965-4158-8827-c929550cc542",
   "metadata": {},
   "outputs": [
    {
     "data": {
      "text/plain": [
       "\u001b[1;31mSignature:\u001b[0m \u001b[0msorted\u001b[0m\u001b[1;33m(\u001b[0m\u001b[0miterable\u001b[0m\u001b[1;33m,\u001b[0m \u001b[1;33m/\u001b[0m\u001b[1;33m,\u001b[0m \u001b[1;33m*\u001b[0m\u001b[1;33m,\u001b[0m \u001b[0mkey\u001b[0m\u001b[1;33m=\u001b[0m\u001b[1;32mNone\u001b[0m\u001b[1;33m,\u001b[0m \u001b[0mreverse\u001b[0m\u001b[1;33m=\u001b[0m\u001b[1;32mFalse\u001b[0m\u001b[1;33m)\u001b[0m\u001b[1;33m\u001b[0m\u001b[1;33m\u001b[0m\u001b[0m\n",
       "\u001b[1;31mDocstring:\u001b[0m\n",
       "Return a new list containing all items from the iterable in ascending order.\n",
       "\n",
       "A custom key function can be supplied to customize the sort order, and the\n",
       "reverse flag can be set to request the result in descending order.\n",
       "\u001b[1;31mType:\u001b[0m      builtin_function_or_method\n"
      ]
     },
     "metadata": {},
     "output_type": "display_data"
    }
   ],
   "source": [
    "# an actual use - pass a different sorting function to python's sorted() list operation\n",
    "sorted?"
   ]
  },
  {
   "cell_type": "code",
   "execution_count": 5,
   "id": "1358821b-134a-487d-a63f-19514c84effe",
   "metadata": {
    "tags": []
   },
   "outputs": [
    {
     "data": {
      "text/plain": [
       "[1, 2, 3, 4, 5, 6, 7, 8, 9]"
      ]
     },
     "execution_count": 5,
     "metadata": {},
     "output_type": "execute_result"
    }
   ],
   "source": [
    "# by default it just sorts in ascending order on the value given\n",
    "sorted([1, 2, 3, 4, 5, 6, 7, 8, 9])"
   ]
  },
  {
   "cell_type": "code",
   "execution_count": 6,
   "id": "b8e3115d-909e-4535-a289-2d90e115ee7d",
   "metadata": {},
   "outputs": [
    {
     "data": {
      "text/plain": [
       "[9, 8, 7, 6, 5, 4, 3, 2, 1]"
      ]
     },
     "execution_count": 6,
     "metadata": {},
     "output_type": "execute_result"
    }
   ],
   "source": [
    "sorted([1, 2, 3, 4, 5, 6, 7, 8, 9], key=lambda x: -x)  # actually, you could have just said reverse=True"
   ]
  },
  {
   "cell_type": "code",
   "execution_count": 7,
   "id": "441b897c-2b9c-422f-a69d-a59a53256975",
   "metadata": {},
   "outputs": [
    {
     "data": {
      "text/plain": [
       "[5, 4, 6, 3, 7, 2, 8, 1, 9]"
      ]
     },
     "execution_count": 7,
     "metadata": {},
     "output_type": "execute_result"
    }
   ],
   "source": [
    "# here is a wacky one\n",
    "sorted([1, 2, 3, 4, 5, 6, 7, 8, 9], key=lambda x: abs(5-x))"
   ]
  },
  {
   "cell_type": "markdown",
   "id": "38836e75-2009-4f33-8a84-9fc591013886",
   "metadata": {},
   "source": [
    "---\n",
    "### args and kwargs\n",
    "* Python has an unpacking operators `(*)` and `(**)`\n",
    "* you can use them in function defintions and when you call functions\n",
    "* examples from https://realpython.com/python-kwargs-and-args/"
   ]
  },
  {
   "cell_type": "code",
   "execution_count": 8,
   "id": "63a4291e-4a5c-41cb-8375-aa54dfbe676e",
   "metadata": {},
   "outputs": [
    {
     "name": "stdout",
     "output_type": "stream",
     "text": [
      "6\n"
     ]
    }
   ],
   "source": [
    "# sum_integers_list.py\n",
    "def my_sum(my_integers):\n",
    "    result = 0\n",
    "    for x in my_integers:\n",
    "        result += x\n",
    "    return result\n",
    "\n",
    "list_of_integers = [1, 2, 3]\n",
    "print(my_sum(list_of_integers))"
   ]
  },
  {
   "cell_type": "markdown",
   "id": "dab756e1-d43f-482b-8abd-fac6c0321ac6",
   "metadata": {},
   "source": [
    "### instead, you could have your function look at every *unnamed* argument passed to it with the * operator\n",
    "* for example, define it with `*args` and your function now has an iterator `args` you can loop over"
   ]
  },
  {
   "cell_type": "code",
   "execution_count": 9,
   "id": "63ee4822-13d2-443b-90e8-1fe1bfc7fe42",
   "metadata": {},
   "outputs": [
    {
     "name": "stdout",
     "output_type": "stream",
     "text": [
      "6\n"
     ]
    }
   ],
   "source": [
    "# sum_integers_args.py\n",
    "def my_sum(*args):\n",
    "    result = 0\n",
    "    # Iterating over the Python args tuple\n",
    "    for x in args:\n",
    "        result += x\n",
    "    return result\n",
    "\n",
    "print(my_sum(1, 2, 3))"
   ]
  },
  {
   "cell_type": "markdown",
   "id": "47589e50-cb4c-4fc2-9a0a-80201009dce7",
   "metadata": {},
   "source": [
    "### instead, you could have your function look at every *named* argument passed to it with the ** operator\n",
    "* for example, define it with `**kwargs` and your function now has an dictionary `kwargs` you can iterate over\n",
    "* note, however, when you iterate over a dictionary you get the keys, so use kwargs.values() or kwargs.keys() when you loop"
   ]
  },
  {
   "cell_type": "code",
   "execution_count": 10,
   "id": "1ce1cb5a-7b23-4055-a76b-3b1dfc8de489",
   "metadata": {},
   "outputs": [
    {
     "name": "stdout",
     "output_type": "stream",
     "text": [
      "RealPythonIsGreat!\n"
     ]
    }
   ],
   "source": [
    "# concatenate.py\n",
    "def concatenate(**kwargs):\n",
    "    result = \"\"\n",
    "    # Iterating over the Python kwargs dictionary\n",
    "    for arg in kwargs.values():\n",
    "        result += arg\n",
    "    return result\n",
    "\n",
    "print(concatenate(a=\"Real\", b=\"Python\", c=\"Is\", d=\"Great\", e=\"!\"))"
   ]
  },
  {
   "cell_type": "code",
   "execution_count": null,
   "id": "9aad0860-27b6-41e5-a920-9e56fc338fb7",
   "metadata": {},
   "outputs": [],
   "source": []
  },
  {
   "cell_type": "markdown",
   "id": "8d82cbbd-447c-4ded-992f-78691e94462f",
   "metadata": {
    "tags": []
   },
   "source": [
    "### putting them all together has a specific order"
   ]
  },
  {
   "cell_type": "code",
   "execution_count": 11,
   "id": "b78b8e76-5c7c-45eb-bc1b-f3692dd1aa86",
   "metadata": {},
   "outputs": [],
   "source": [
    "# correct_function_definition.py\n",
    "def my_function(a, b, *args, **kwargs):\n",
    "    pass"
   ]
  },
  {
   "cell_type": "code",
   "execution_count": null,
   "id": "2d92336e-6370-4a09-b38f-6a882245aceb",
   "metadata": {},
   "outputs": [],
   "source": []
  },
  {
   "cell_type": "markdown",
   "id": "c34e2d74-40fe-463f-9728-49403796bd39",
   "metadata": {
    "tags": []
   },
   "source": [
    "### super quick look at pandas"
   ]
  },
  {
   "cell_type": "code",
   "execution_count": 12,
   "id": "17b3906a-b649-43b5-9ece-2b4f64bdf613",
   "metadata": {
    "tags": []
   },
   "outputs": [],
   "source": [
    "import pandas as pd"
   ]
  },
  {
   "cell_type": "code",
   "execution_count": null,
   "id": "27403cb5-b361-4db3-a1a5-5df5638fc8b6",
   "metadata": {},
   "outputs": [],
   "source": [
    "#!pip install pandas"
   ]
  },
  {
   "cell_type": "code",
   "execution_count": 50,
   "id": "d8f303b2-bb0c-468a-aa4b-ab5733437c6f",
   "metadata": {},
   "outputs": [],
   "source": [
    "url = 'https://en.wikipedia.org/wiki/World_population'"
   ]
  },
  {
   "cell_type": "code",
   "execution_count": 98,
   "id": "c186ecb6-e9aa-4f89-8292-afae35cc6d3a",
   "metadata": {},
   "outputs": [],
   "source": [
    "pop_tables = pd.read_html(url)\n",
    "pop_table = pop_tables[4]"
   ]
  },
  {
   "cell_type": "code",
   "execution_count": 99,
   "id": "b6457138-c916-4630-8fd5-be2942f9c5b6",
   "metadata": {},
   "outputs": [],
   "source": [
    "#!pip install lxml"
   ]
  },
  {
   "cell_type": "code",
   "execution_count": 100,
   "id": "6836b2f2-53f7-4fa5-a55f-842de2107ec5",
   "metadata": {},
   "outputs": [
    {
     "data": {
      "text/html": [
       "<div>\n",
       "<style scoped>\n",
       "    .dataframe tbody tr th:only-of-type {\n",
       "        vertical-align: middle;\n",
       "    }\n",
       "\n",
       "    .dataframe tbody tr th {\n",
       "        vertical-align: top;\n",
       "    }\n",
       "\n",
       "    .dataframe thead th {\n",
       "        text-align: right;\n",
       "    }\n",
       "</style>\n",
       "<table border=\"1\" class=\"dataframe\">\n",
       "  <thead>\n",
       "    <tr style=\"text-align: right;\">\n",
       "      <th></th>\n",
       "      <th>Rank</th>\n",
       "      <th>Country</th>\n",
       "      <th>Population</th>\n",
       "      <th>% of world</th>\n",
       "      <th>Date</th>\n",
       "      <th>Source(official or UN)</th>\n",
       "    </tr>\n",
       "  </thead>\n",
       "  <tbody>\n",
       "    <tr>\n",
       "      <th>0</th>\n",
       "      <td>1</td>\n",
       "      <td>China</td>\n",
       "      <td>1413617120</td>\n",
       "      <td>NaN</td>\n",
       "      <td>9 Jun 2022</td>\n",
       "      <td>National population clock[92]</td>\n",
       "    </tr>\n",
       "    <tr>\n",
       "      <th>1</th>\n",
       "      <td>2</td>\n",
       "      <td>India</td>\n",
       "      <td>1378988500</td>\n",
       "      <td>NaN</td>\n",
       "      <td>9 Jun 2022</td>\n",
       "      <td>National population clock[93]</td>\n",
       "    </tr>\n",
       "    <tr>\n",
       "      <th>2</th>\n",
       "      <td>3</td>\n",
       "      <td>United States</td>\n",
       "      <td>332755331</td>\n",
       "      <td>NaN</td>\n",
       "      <td>9 Jun 2022</td>\n",
       "      <td>National population clock[94]</td>\n",
       "    </tr>\n",
       "    <tr>\n",
       "      <th>3</th>\n",
       "      <td>4</td>\n",
       "      <td>Indonesia</td>\n",
       "      <td>269603400</td>\n",
       "      <td>NaN</td>\n",
       "      <td>1 Jul 2020</td>\n",
       "      <td>National annual projection[95]</td>\n",
       "    </tr>\n",
       "    <tr>\n",
       "      <th>4</th>\n",
       "      <td>5</td>\n",
       "      <td>Pakistan</td>\n",
       "      <td>220892331</td>\n",
       "      <td>NaN</td>\n",
       "      <td>1 Jul 2020</td>\n",
       "      <td>UN Projection[96]</td>\n",
       "    </tr>\n",
       "    <tr>\n",
       "      <th>5</th>\n",
       "      <td>6</td>\n",
       "      <td>Brazil</td>\n",
       "      <td>214737316</td>\n",
       "      <td>NaN</td>\n",
       "      <td>9 Jun 2022</td>\n",
       "      <td>National population clock[97]</td>\n",
       "    </tr>\n",
       "    <tr>\n",
       "      <th>6</th>\n",
       "      <td>7</td>\n",
       "      <td>Nigeria</td>\n",
       "      <td>206139587</td>\n",
       "      <td>NaN</td>\n",
       "      <td>1 Jul 2020</td>\n",
       "      <td>UN Projection[96]</td>\n",
       "    </tr>\n",
       "    <tr>\n",
       "      <th>7</th>\n",
       "      <td>8</td>\n",
       "      <td>Bangladesh</td>\n",
       "      <td>172861468</td>\n",
       "      <td>NaN</td>\n",
       "      <td>9 Jun 2022</td>\n",
       "      <td>National population clock[98]</td>\n",
       "    </tr>\n",
       "    <tr>\n",
       "      <th>8</th>\n",
       "      <td>9</td>\n",
       "      <td>Russia</td>\n",
       "      <td>146748590</td>\n",
       "      <td>NaN</td>\n",
       "      <td>1 Jan 2020</td>\n",
       "      <td>National annual estimate[99]</td>\n",
       "    </tr>\n",
       "    <tr>\n",
       "      <th>9</th>\n",
       "      <td>10</td>\n",
       "      <td>Mexico</td>\n",
       "      <td>127792286</td>\n",
       "      <td>NaN</td>\n",
       "      <td>1 Jul 2020</td>\n",
       "      <td>National annual projection[100]</td>\n",
       "    </tr>\n",
       "  </tbody>\n",
       "</table>\n",
       "</div>"
      ],
      "text/plain": [
       "   Rank        Country  Population  % of world        Date  \\\n",
       "0     1          China  1413617120         NaN  9 Jun 2022   \n",
       "1     2          India  1378988500         NaN  9 Jun 2022   \n",
       "2     3  United States   332755331         NaN  9 Jun 2022   \n",
       "3     4      Indonesia   269603400         NaN  1 Jul 2020   \n",
       "4     5       Pakistan   220892331         NaN  1 Jul 2020   \n",
       "5     6         Brazil   214737316         NaN  9 Jun 2022   \n",
       "6     7        Nigeria   206139587         NaN  1 Jul 2020   \n",
       "7     8     Bangladesh   172861468         NaN  9 Jun 2022   \n",
       "8     9         Russia   146748590         NaN  1 Jan 2020   \n",
       "9    10         Mexico   127792286         NaN  1 Jul 2020   \n",
       "\n",
       "            Source(official or UN)  \n",
       "0    National population clock[92]  \n",
       "1    National population clock[93]  \n",
       "2    National population clock[94]  \n",
       "3   National annual projection[95]  \n",
       "4                UN Projection[96]  \n",
       "5    National population clock[97]  \n",
       "6                UN Projection[96]  \n",
       "7    National population clock[98]  \n",
       "8     National annual estimate[99]  \n",
       "9  National annual projection[100]  "
      ]
     },
     "execution_count": 100,
     "metadata": {},
     "output_type": "execute_result"
    }
   ],
   "source": [
    "pop_table"
   ]
  },
  {
   "cell_type": "code",
   "execution_count": 101,
   "id": "28197a5a-b87d-4fae-986b-3312e2b5f396",
   "metadata": {},
   "outputs": [
    {
     "data": {
      "text/plain": [
       "Index(['Rank', 'Country', 'Population', '% of world', 'Date',\n",
       "       'Source(official or UN)'],\n",
       "      dtype='object')"
      ]
     },
     "execution_count": 101,
     "metadata": {},
     "output_type": "execute_result"
    }
   ],
   "source": [
    "pop_table.columns"
   ]
  },
  {
   "cell_type": "code",
   "execution_count": 102,
   "id": "624c73da-c761-48e4-a8d7-22e67da0afa7",
   "metadata": {},
   "outputs": [],
   "source": [
    "pop_table['Population_Mil'] = pop_table['Population']/1E6"
   ]
  },
  {
   "cell_type": "code",
   "execution_count": 112,
   "id": "f79d2ac5-2ffe-42e4-92f5-c04933cb1ee7",
   "metadata": {},
   "outputs": [
    {
     "data": {
      "image/png": "[encoded data removed]",
      "text/plain": [
       "<Figure size 432x288 with 1 Axes>"
      ]
     },
     "metadata": {
      "needs_background": "light"
     },
     "output_type": "display_data"
    }
   ],
   "source": [
    "ax = pop_table.plot.scatter('Country','Population_Mil')"
   ]
  },
  {
   "cell_type": "code",
   "execution_count": 108,
   "id": "b60dd4ea-b3b1-4a0d-9c85-9238302cf59b",
   "metadata": {},
   "outputs": [],
   "source": [
    "import matplotlib.pyplot as plt"
   ]
  },
  {
   "cell_type": "code",
   "execution_count": 143,
   "id": "42aeca20-4c53-47b7-bc39-2c8757c8cf05",
   "metadata": {},
   "outputs": [
    {
     "data": {
      "image/png": "[encoded data removed]",
      "text/plain": [
       "<Figure size 1008x432 with 1 Axes>"
      ]
     },
     "metadata": {
      "needs_background": "light"
     },
     "output_type": "display_data"
    }
   ],
   "source": [
    "fig, ax = plt.subplots(1,1, figsize = (14,6))\n",
    "fontsize = 18\n",
    "pop_table.plot.scatter(x='Country',y='Population_Mil', s='Population_Mil', ax=ax)\n",
    "ax.set_title(f'World Population, 2020', fontsize=fontsize)\n",
    "ax.annotate(f'Source: {url}', xy=(1, 1), xytext=(0.55, 0.95), textcoords='axes fraction', fontsize=12)\n",
    "ax.set_xlabel('Country',  fontsize=fontsize-2)\n",
    "ax.tick_params(axis='x', labelsize=12)\n",
    "ax.set_ylabel('Population, Millions', fontsize=fontsize-2)\n",
    "ax.set_ylim([0,1600])\n",
    "plt.show()\n"
   ]
  },
  {
   "cell_type": "code",
   "execution_count": null,
   "id": "fc4d8c9e-1fa4-43f5-bc7d-77742210cacf",
   "metadata": {},
   "outputs": [],
   "source": []
  }
 ],
 "metadata": {
  "kernelspec": {
   "display_name": "Python 3 (ipykernel)",
   "language": "python",
   "name": "python3"
  },
  "language_info": {
   "codemirror_mode": {
    "name": "ipython",
    "version": 3
   },
   "file_extension": ".py",
   "mimetype": "text/x-python",
   "name": "python",
   "nbconvert_exporter": "python",
   "pygments_lexer": "ipython3",
   "version": "3.9.5"
  }
 },
 "nbformat": 4,
 "nbformat_minor": 5
}
