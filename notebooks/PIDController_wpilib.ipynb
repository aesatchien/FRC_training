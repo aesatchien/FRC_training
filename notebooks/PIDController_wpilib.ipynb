{
 "cells": [
  {
   "cell_type": "markdown",
   "id": "economic-flash",
   "metadata": {
    "tags": []
   },
   "source": [
    "### Using wpilib's PID controller - 2021 1212 CJH\n",
    "#### see other PID notebook for PID basics and a physics-based elevator model\n",
    "---"
   ]
  },
  {
   "cell_type": "code",
   "execution_count": 2,
   "id": "affiliated-costs",
   "metadata": {},
   "outputs": [],
   "source": [
    "import numpy as np\n",
    "import matplotlib.pyplot as plt\n",
    "from matplotlib import gridspec\n",
    "\n",
    "import wpilib\n",
    "from wpilib import controller"
   ]
  },
  {
   "cell_type": "markdown",
   "id": "leading-browser",
   "metadata": {
    "tags": []
   },
   "source": [
    "### The docstring and various aspects of the PIDController class are explored below\n",
    "* instantiate by passing three gains, e.g. `test_control = controller.PIDController(Kp=0.01, Ki=0, Kd=0)`\n",
    "* setpoint is 0 by default, change by `.setSetpoint()`\n",
    "* get the output from `calculate(current_measurement)`  *you feed it POSITION, not error!*\n",
    "* it does not clamp to ±1 so you have to do that yourself\n",
    "* you can force the the integral to be in a range with `setIntegratorRange(min, max)`\n",
    "* use in combination with the feedforward for better control\n",
    "https://docs.wpilib.org/en/stable/docs/software/advanced-controls/controllers/feedforward.html"
   ]
  },
  {
   "cell_type": "code",
   "execution_count": 7,
   "id": "dietary-retirement",
   "metadata": {},
   "outputs": [
    {
     "data": {
      "text/plain": [
       "\u001b[1;31mDocstring:\u001b[0m      Implements a PID control loop.\n",
       "\u001b[1;31mInit docstring:\u001b[0m\n",
       "__init__(self: wpilib.controller._controller.PIDController, Kp: float, Ki: float, Kd: float, period: seconds = 0.02) -> None\n",
       "\n",
       "Allocates a PIDController with the given constants for Kp, Ki, and Kd.\n",
       "\n",
       ":param Kp:     The proportional coefficient.\n",
       ":param Ki:     The integral coefficient.\n",
       ":param Kd:     The derivative coefficient.\n",
       ":param period: The period between controller updates in seconds. The\n",
       "               default is 20 milliseconds. Must be non-zero and positive.\n",
       "\u001b[1;31mFile:\u001b[0m           c:\\users\\coryh\\miniconda3\\lib\\site-packages\\wpilib\\controller\\_controller.cp38-win_amd64.pyd\n",
       "\u001b[1;31mType:\u001b[0m           pybind11_type\n",
       "\u001b[1;31mSubclasses:\u001b[0m     \n"
      ]
     },
     "metadata": {},
     "output_type": "display_data"
    }
   ],
   "source": [
    "controller.PIDController?"
   ]
  },
  {
   "cell_type": "code",
   "execution_count": 8,
   "id": "classified-assignment",
   "metadata": {},
   "outputs": [],
   "source": [
    "test_control = controller.PIDController(Kp=0.01, Ki=0, Kd=0)"
   ]
  },
  {
   "cell_type": "code",
   "execution_count": 9,
   "id": "removable-fantasy",
   "metadata": {},
   "outputs": [
    {
     "data": {
      "text/plain": [
       "0.0"
      ]
     },
     "execution_count": 9,
     "metadata": {},
     "output_type": "execute_result"
    }
   ],
   "source": [
    "test_control.getSetpoint()"
   ]
  },
  {
   "cell_type": "code",
   "execution_count": 10,
   "id": "chinese-loading",
   "metadata": {},
   "outputs": [
    {
     "data": {
      "text/plain": [
       "0.0"
      ]
     },
     "execution_count": 10,
     "metadata": {},
     "output_type": "execute_result"
    }
   ],
   "source": [
    "test_control.getPositionError()"
   ]
  },
  {
   "cell_type": "code",
   "execution_count": 11,
   "id": "coastal-stylus",
   "metadata": {},
   "outputs": [
    {
     "data": {
      "text/plain": [
       "\u001b[1;31mDocstring:\u001b[0m\n",
       "calculate(*args, **kwargs)\n",
       "Overloaded function.\n",
       "\n",
       "1. calculate(self: wpilib.controller._controller.PIDController, measurement: float) -> float\n",
       "\n",
       "Returns the next output of the PID controller.\n",
       "\n",
       ":param measurement: The current measurement of the process variable.\n",
       "\n",
       "2. calculate(self: wpilib.controller._controller.PIDController, measurement: float, setpoint: float) -> float\n",
       "\n",
       "Returns the next output of the PID controller.\n",
       "\n",
       ":param measurement: The current measurement of the process variable.\n",
       ":param setpoint:    The new setpoint of the controller.\n",
       "\u001b[1;31mType:\u001b[0m      method\n"
      ]
     },
     "metadata": {},
     "output_type": "display_data"
    }
   ],
   "source": [
    "test_control.calculate?"
   ]
  },
  {
   "cell_type": "code",
   "execution_count": 12,
   "id": "completed-highway",
   "metadata": {},
   "outputs": [
    {
     "name": "stdout",
     "output_type": "stream",
     "text": [
      "atSetpoint, calculate, disableContinuousInput, enableContinuousInput, getD, getI, getP, getPeriod\n",
      "getPositionError, getSetpoint, getVelocityError, initSendable, isContinuousInputEnabled, reset, setD, setI\n",
      "setIntegratorRange, setP, setPID, setSetpoint, setTolerance, "
     ]
    }
   ],
   "source": [
    "# let's see what the PID controller gives us\n",
    "controller_attributes = [name for name in dir(test_control) if '_' not in name]\n",
    "_ = [print(attrib, end=', ') if (ix+1)%8!=0 else print(attrib, end='\\n') for ix, attrib in enumerate(controller_attributes) ]"
   ]
  },
  {
   "cell_type": "markdown",
   "id": "monetary-deficit",
   "metadata": {
    "jp-MarkdownHeadingCollapsed": true,
    "tags": []
   },
   "source": [
    "### Do some simple tests with static models"
   ]
  },
  {
   "cell_type": "code",
   "execution_count": 3,
   "id": "oriental-metro",
   "metadata": {},
   "outputs": [],
   "source": [
    "def clamp(value: float, bottom: float, top: float) -> float:\n",
    "    return max(bottom, min(value, top))"
   ]
  },
  {
   "cell_type": "code",
   "execution_count": 61,
   "id": "interstate-scotland",
   "metadata": {},
   "outputs": [],
   "source": [
    "# Simple data to display in various forms\n",
    "def get_response(kp, ki, kd, model='const'):\n",
    "    # make some dummy data\n",
    "    x = np.linspace(1,100,100)  # call this time, from 0 to 100\n",
    "    if model == 'const':  # everybody is a 1\n",
    "        pos = np.ones(len(x))\n",
    "    elif model == 'sin':  # sine of the time\n",
    "        pos = np.sin(x/5)\n",
    "    elif model == 'ramp':  # linear ramp from zero to 1\n",
    "        pos = x / max(x)\n",
    "    else:\n",
    "        raise ValueError('Invalid model: specify const, sin or ramp')\n",
    "        \n",
    "    test_control = controller.PIDController(Kp=kp, Ki=ki, Kd=kd)\n",
    "    test_control.setIntegratorRange(-0.5, 0.5)\n",
    "    pid_response = [clamp(test_control.calculate(ix), -1, 1) for ix in pos]\n",
    "    return x, pos, pid_response"
   ]
  },
  {
   "cell_type": "code",
   "execution_count": 62,
   "id": "convinced-creation",
   "metadata": {},
   "outputs": [],
   "source": [
    "# also an example of how to use **kwargs\n",
    "def plot_responses(gain_dict_1, gain_dict_2, model='const'):\n",
    "    \n",
    "    x, pos, pid_response_1 = get_response(**gain_dict_1, model=model)  # same as kp=gain_dict_1['kp'] etc\n",
    "    x, pos, pid_response_2 = get_response(**gain_dict_2, model=model)\n",
    "    \n",
    "    #start the figure\n",
    "    fig = plt.figure(figsize=(12,8))\n",
    "    # set height ratios for subplots\n",
    "    gs = gridspec.GridSpec(3, 1, height_ratios=[2, 1, 1]) \n",
    "\n",
    "    # the first subplot - position vs time\n",
    "    ax1 = plt.subplot(gs[0])\n",
    "    line_1, = ax1.plot(x, pos, color='g', label='position')\n",
    "    ax1.axhline(y=0, color='g', lw=1, linestyle='--', label='setpoint')\n",
    "\n",
    "    # the second subplot \n",
    "    # shared axis X\n",
    "    ax2 = plt.subplot(gs[1], sharex = ax1)\n",
    "    line_2, = ax2.plot(x, pid_response_1, color='b', linestyle='--', label=f\"(kp:{gain_dict_1['kp']},ki:{gain_dict_1['ki']},kd:{gain_dict_1['kd']})\")\n",
    "    #plt.setp(ax1.get_xticklabels(), visible=False)\n",
    "\n",
    "    # the third subplot\n",
    "    # shared axis X\n",
    "    ax3 = plt.subplot(gs[2], sharex = ax1)\n",
    "    kp, ki, kd = 2, 0, 0\n",
    "    x, pos, pid_response = get_response(**gain_dict_2)\n",
    "    line_3, = ax3.plot(x, pid_response_2, color='b', linestyle='--', label=f\"(kp:{gain_dict_2['kp']},ki:{gain_dict_2['ki']},kd:{gain_dict_2['kd']})\")\n",
    "\n",
    "    # format the chart\n",
    "    ax1.set_ylabel('measured position', color='g', fontsize=14)\n",
    "    ax2.set_ylabel('PID output', color='b', fontsize=14, rotation=90, ha='center', labelpad=0)\n",
    "    ax3.set_ylabel('PID output', color='b', fontsize=14, rotation=90, ha='center', labelpad=0)\n",
    "    ax3.set_xlabel(f'time', fontsize=14)\n",
    "    ax2.set_ylim([-1.1,1.1])\n",
    "    ax3.set_ylim([-1.1,1.1])\n",
    "    ax2.set_xlabel(f'time', fontsize=14)\n",
    "    ax1.set_title(f'Proportional (kp only) PID output,  setpoint = 0', fontsize=14)\n",
    "    #ax1.legend((line_1, line_2), ('position', f'(kp:{kp},ki:{ki},kd:{kd})'), loc='lower left', prop={'size': 12})\n",
    "    [ax.legend(loc='lower left', prop={'size': 12}) for ax in [ax1, ax2, ax3]]\n",
    "    # remove vertical gap between subplots\n",
    "    plt.subplots_adjust(hspace=0)\n",
    "    plt.show()"
   ]
  },
  {
   "cell_type": "markdown",
   "id": "hawaiian-shark",
   "metadata": {},
   "source": [
    "### This is how you use the plot\n",
    "* set up twp gain dictionaries\n",
    "* use them as input to the `plot_responses()` function\n",
    "* choose a model to test against - a constant, a sine wave, or a ramp"
   ]
  },
  {
   "cell_type": "code",
   "execution_count": 60,
   "id": "classical-anchor",
   "metadata": {},
   "outputs": [
    {
     "data": {
      "image/png": "[encoded data removed]",
      "text/plain": [
       "<Figure size 864x576 with 3 Axes>"
      ]
     },
     "metadata": {
      "needs_background": "light"
     },
     "output_type": "display_data"
    }
   ],
   "source": [
    "gain_dict_1 = {'kp':0.2, 'ki':0.5, 'kd':0}\n",
    "gain_dict_2 = {'kp':2, 'ki':0, 'kd':0}\n",
    "plot_responses(gain_dict_1, gain_dict_2, model='ramp')"
   ]
  },
  {
   "cell_type": "code",
   "execution_count": null,
   "id": "other-holder",
   "metadata": {},
   "outputs": [],
   "source": []
  }
 ],
 "metadata": {
  "kernelspec": {
   "display_name": "Python 3 (ipykernel)",
   "language": "python",
   "name": "python3"
  },
  "language_info": {
   "codemirror_mode": {
    "name": "ipython",
    "version": 3
   },
   "file_extension": ".py",
   "mimetype": "text/x-python",
   "name": "python",
   "nbconvert_exporter": "python",
   "pygments_lexer": "ipython3",
   "version": "3.9.5"
  }
 },
 "nbformat": 4,
 "nbformat_minor": 5
}
