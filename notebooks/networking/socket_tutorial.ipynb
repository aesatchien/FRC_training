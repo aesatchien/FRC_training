{
 "cells": [
  {
   "cell_type": "markdown",
   "id": "e28ea2aa-5591-4e43-ba4f-14198dc0a76a",
   "metadata": {},
   "source": [
    "### Sockets client/server test - for fast communication b/w robot and rpi  - 2022 0119 CJH\n",
    "* https://www.geeksforgeeks.org/socket-programming-python/, which is actually from \n",
    "* https://yasoob.me/2013/08/06/python-socket-network-programming/\n",
    "* i modified it so we send a dictionary via json instead of a simple string\n",
    "---"
   ]
  },
  {
   "cell_type": "code",
   "execution_count": 2,
   "id": "85403b5f-3bb0-449f-8c20-2175b7660e89",
   "metadata": {},
   "outputs": [],
   "source": [
    "import socket"
   ]
  },
  {
   "cell_type": "markdown",
   "id": "d47ad960-9e01-4224-8135-46086ad52d72",
   "metadata": {},
   "source": [
    "#### The server side - goes in a file on the server and needs to be started there\n",
    "* for us, this could be started when we start the camera server on the rpi\n",
    "* if you run it in a notebook you need to run the client in a different notebook"
   ]
  },
  {
   "cell_type": "code",
   "execution_count": 9,
   "id": "dd27efaf-6a48-4505-9043-1a1e5e40b393",
   "metadata": {},
   "outputs": [
    {
     "name": "stdout",
     "output_type": "stream",
     "text": [
      "Socket successfully created\n",
      "socket binded to 12345\n",
      "socket is listening\n",
      "Got connection from ('127.0.0.1', 61580)\n"
     ]
    }
   ],
   "source": [
    "# first of all import the socket library\n",
    "import socket            \n",
    "import time\n",
    "import json\n",
    " \n",
    "# next create a socket object\n",
    "s = socket.socket()        \n",
    "print (\"Socket successfully created\")\n",
    " \n",
    "# reserve a port on your computer in our case it is 12345 but it can be anything\n",
    "port = 12345               \n",
    " \n",
    "# Next bind to the port. We have not typed any ip in the ip field\n",
    "# instead we have inputted an empty string - this makes the server listen to requests\n",
    "# coming from other computers on the network\n",
    "s.bind(('', port))        \n",
    "print (\"socket binded to %s\" %(port))\n",
    " \n",
    "# put the socket into reuse and listening mode\n",
    "s.setsockopt(socket.SOL_SOCKET, socket.SO_REUSEADDR, 1)\n",
    "s.listen(5)    \n",
    "print (\"socket is listening\")           \n",
    " \n",
    "# a forever loop until we interrupt it or an error occurs\n",
    "while True:\n",
    "    # Establish connection with client.\n",
    "    c, addr = s.accept()    \n",
    "    print ('Got connection from', addr )\n",
    " \n",
    "    data = {'TIME':time.time(), 'TARGETS_BLUE':11, 'TARGETS_RED':2}\n",
    "    data_string = json.dumps(data)\n",
    "    # send a thank you message to the client. encoding to send byte type.\n",
    "    #c.send('Thank you for connecting'.encode())\n",
    "    c.send(data_string.encode())\n",
    "    # Close the connection with the client\n",
    "    c.close()\n",
    "   \n",
    "    # Breaking once connection closed\n",
    "    break\n",
    "\n"
   ]
  },
  {
   "cell_type": "markdown",
   "id": "f53ef5e7-ac26-4d7e-91f8-bcdb1f1ece37",
   "metadata": {},
   "source": [
    "#### The client side\n",
    "* for us, this could be in a subsystem on the robot and we just get the info several times per second"
   ]
  },
  {
   "cell_type": "code",
   "execution_count": 7,
   "id": "24f930be-b065-4d47-850e-331d2a8ad044",
   "metadata": {},
   "outputs": [
    {
     "name": "stdout",
     "output_type": "stream",
     "text": [
      "{'TIME': 1642581007.6510549, 'TARGETS_BLUE': 1, 'TARGETS_RED': 2}\n"
     ]
    }
   ],
   "source": [
    "# Import socket module\n",
    "import socket\n",
    "import json\n",
    " \n",
    "# Create a socket object\n",
    "s = socket.socket()        \n",
    " \n",
    "# Define the port on which you want to connect\n",
    "port = 12345               \n",
    " \n",
    "# connect to the server on local computer\n",
    "robot = False\n",
    "if robot:\n",
    "    ip = '192.168.1.50'\n",
    "else:\n",
    "    ip = '127.0.0.1'\n",
    "s.connect((ip, port))\n",
    " \n",
    "# receive data from the server and decoding to get the string.\n",
    "#print (s.recv(1024).decode())\n",
    "data_received = s.recv(1024).decode()\n",
    "data = json.loads(data_received) #data loaded\n",
    "# close the connection\n",
    "s.close()\n",
    "print(data)"
   ]
  },
  {
   "cell_type": "code",
   "execution_count": null,
   "id": "431368fc-720d-495b-a515-19f4c3014a05",
   "metadata": {},
   "outputs": [],
   "source": []
  }
 ],
 "metadata": {
  "kernelspec": {
   "display_name": "Python 3 (ipykernel)",
   "language": "python",
   "name": "python3"
  },
  "language_info": {
   "codemirror_mode": {
    "name": "ipython",
    "version": 3
   },
   "file_extension": ".py",
   "mimetype": "text/x-python",
   "name": "python",
   "nbconvert_exporter": "python",
   "pygments_lexer": "ipython3",
   "version": "3.9.5"
  }
 },
 "nbformat": 4,
 "nbformat_minor": 5
}
