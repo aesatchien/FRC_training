{
 "cells": [
  {
   "cell_type": "markdown",
   "id": "ad8730da-063f-4866-a760-415a25fe9343",
   "metadata": {},
   "source": [
    "### Play with networktables to see how the API is organized  - 20220313 CJH"
   ]
  },
  {
   "cell_type": "code",
   "execution_count": 295,
   "id": "ecf66a96-1bcb-4dd8-8ec0-0dfd62f79cd0",
   "metadata": {},
   "outputs": [],
   "source": [
    "import time\n",
    "import networktables\n"
   ]
  },
  {
   "cell_type": "code",
   "execution_count": 296,
   "id": "a611ab3f-0278-49ed-90d1-56b24630579f",
   "metadata": {
    "tags": []
   },
   "outputs": [],
   "source": [
    "ntinst = networktables.NetworkTablesInstance.getDefault()"
   ]
  },
  {
   "cell_type": "markdown",
   "id": "fd7c01cc-802f-4593-8c00-79fe598af803",
   "metadata": {},
   "source": [
    "#### can give nt multiple servers to try"
   ]
  },
  {
   "cell_type": "code",
   "execution_count": 297,
   "id": "8a0c4325-ebb5-48f0-955d-8905ce3cff26",
   "metadata": {},
   "outputs": [],
   "source": [
    "servers = [\"127.0.0.1\", \"10.24.29.2\"] #, \"roboRIO-2429-FRC.local\"]  # need to add the USB one here\n",
    "ntinst.startClient(servers=servers)"
   ]
  },
  {
   "cell_type": "markdown",
   "id": "960e66e7-440f-4902-95d6-d22925c0592a",
   "metadata": {},
   "source": [
    "#### if it connects you can get the connection info - may have to wait a few seconds though"
   ]
  },
  {
   "cell_type": "code",
   "execution_count": 298,
   "id": "bca2796e-2851-49cd-8464-dae37ae18fb2",
   "metadata": {},
   "outputs": [],
   "source": [
    "connections = ntinst.getConnections()"
   ]
  },
  {
   "cell_type": "code",
   "execution_count": 299,
   "id": "9a8aae3f-63ed-4651-b130-b1515b49d638",
   "metadata": {},
   "outputs": [
    {
     "name": "stdout",
     "output_type": "stream",
     "text": [
      "ID:Robot\tIP:127.0.0.1\n"
     ]
    }
   ],
   "source": [
    "print(f'ID:{connections[0].remote_id}\\tIP:{connections[0].remote_ip}')"
   ]
  },
  {
   "cell_type": "markdown",
   "id": "71518e31-939e-49f2-807e-b5f6a8069deb",
   "metadata": {},
   "source": [
    "#### looks like all entries are given their own subtable"
   ]
  },
  {
   "cell_type": "code",
   "execution_count": 300,
   "id": "cbc0ad52-b692-4188-8183-354a8defa4b6",
   "metadata": {},
   "outputs": [
    {
     "ename": "SyntaxError",
     "evalue": "invalid syntax (1/ipykernel_24920/728264659.py, line 1)",
     "output_type": "error",
     "traceback": [
      "\u001b[1;36m  File \u001b[1;32m\"C:\\Users\\cjhill\\AppData\\Local\\Temp\\1/ipykernel_24920/728264659.py\"\u001b[1;36m, line \u001b[1;32m1\u001b[0m\n\u001b[1;33m    ntinst.\u001b[0m\n\u001b[1;37m           ^\u001b[0m\n\u001b[1;31mSyntaxError\u001b[0m\u001b[1;31m:\u001b[0m invalid syntax\n"
     ]
    }
   ],
   "source": [
    "ntinst."
   ]
  },
  {
   "cell_type": "code",
   "execution_count": 301,
   "id": "ca6d7af5-c990-402d-b954-e03ea12281a6",
   "metadata": {},
   "outputs": [
    {
     "data": {
      "text/plain": [
       "<_pyntcore._ntcore.NetworkTable at 0x177f61f1ef0>"
      ]
     },
     "execution_count": 301,
     "metadata": {},
     "output_type": "execute_result"
    }
   ],
   "source": [
    "table = ntinst.getGlobalTable()  # also NetworkTables.getTable('/')\n",
    "table"
   ]
  },
  {
   "cell_type": "code",
   "execution_count": 302,
   "id": "9dec235a-ea81-466f-916e-870b897b89dc",
   "metadata": {},
   "outputs": [
    {
     "data": {
      "text/plain": [
       "list"
      ]
     },
     "execution_count": 302,
     "metadata": {},
     "output_type": "execute_result"
    }
   ],
   "source": [
    "subtables = table.getSubTables()\n",
    "type(subtables)"
   ]
  },
  {
   "cell_type": "code",
   "execution_count": 303,
   "id": "e3240d26-68ae-4ea9-b92c-e49cfd2e98bb",
   "metadata": {},
   "outputs": [
    {
     "data": {
      "text/plain": [
       "240"
      ]
     },
     "execution_count": 303,
     "metadata": {},
     "output_type": "execute_result"
    }
   ],
   "source": [
    "len(subtables)"
   ]
  },
  {
   "cell_type": "code",
   "execution_count": 304,
   "id": "f856a2ac-2eae-465c-9096-14ed12764f90",
   "metadata": {
    "tags": []
   },
   "outputs": [
    {
     "data": {
      "text/plain": [
       "{'FMSInfo', 'LiveWindow', 'Ramsete', 'Rev', 'SmartDashboard'}"
      ]
     },
     "execution_count": 304,
     "metadata": {},
     "output_type": "execute_result"
    }
   ],
   "source": [
    "set(subtables)"
   ]
  },
  {
   "cell_type": "code",
   "execution_count": 305,
   "id": "dd7b0314-3a58-478f-ad86-8a5bf72614ff",
   "metadata": {},
   "outputs": [],
   "source": [
    "s = table.getSubTable('SmartDashboard')"
   ]
  },
  {
   "cell_type": "code",
   "execution_count": 306,
   "id": "02c8dffc-12b7-4744-8496-43c8d623fe17",
   "metadata": {},
   "outputs": [
    {
     "data": {
      "text/plain": [
       "{'',\n",
       " 'Auto Rotate IMU',\n",
       " 'AutoFetchBall',\n",
       " 'AutoRotateSparkmax',\n",
       " 'Field',\n",
       " 'Tune Sparkmax',\n",
       " 'auto lower group',\n",
       " 'auto pickup',\n",
       " 'auto shoot',\n",
       " 'auto stage two',\n",
       " 'autonomous routines',\n",
       " 'autonomous_ramsete',\n",
       " 'hold to feed',\n",
       " 'intake motor',\n",
       " 'intake piston',\n",
       " 'path velocity',\n",
       " 'ramsete path',\n",
       " 'toggle compressor',\n",
       " 'toggle shooter'}"
      ]
     },
     "execution_count": 306,
     "metadata": {},
     "output_type": "execute_result"
    }
   ],
   "source": [
    "set(s.getSubTables())"
   ]
  },
  {
   "cell_type": "code",
   "execution_count": 307,
   "id": "bf68764b-d012-4711-a983-e1a8df46ad2e",
   "metadata": {},
   "outputs": [
    {
     "ename": "AttributeError",
     "evalue": "'_pyntcore._ntcore.NetworkTable' object has no attribute 'getName'",
     "output_type": "error",
     "traceback": [
      "\u001b[1;31m---------------------------------------------------------------------------\u001b[0m",
      "\u001b[1;31mAttributeError\u001b[0m                            Traceback (most recent call last)",
      "\u001b[1;32m~\\AppData\\Local\\Temp\\1/ipykernel_24920/3901252030.py\u001b[0m in \u001b[0;36m<module>\u001b[1;34m\u001b[0m\n\u001b[0;32m      1\u001b[0m \u001b[1;32mfor\u001b[0m \u001b[0mst\u001b[0m \u001b[1;32min\u001b[0m \u001b[0mset\u001b[0m\u001b[1;33m(\u001b[0m\u001b[0msubtables\u001b[0m\u001b[1;33m)\u001b[0m\u001b[1;33m:\u001b[0m\u001b[1;33m\u001b[0m\u001b[1;33m\u001b[0m\u001b[0m\n\u001b[0;32m      2\u001b[0m     \u001b[0mt\u001b[0m \u001b[1;33m=\u001b[0m \u001b[0mtable\u001b[0m\u001b[1;33m.\u001b[0m\u001b[0mgetSubTable\u001b[0m\u001b[1;33m(\u001b[0m\u001b[0mst\u001b[0m\u001b[1;33m)\u001b[0m\u001b[1;33m\u001b[0m\u001b[1;33m\u001b[0m\u001b[0m\n\u001b[1;32m----> 3\u001b[1;33m     \u001b[0mprint\u001b[0m\u001b[1;33m(\u001b[0m\u001b[0mt\u001b[0m\u001b[1;33m.\u001b[0m\u001b[0mgetName\u001b[0m\u001b[1;33m(\u001b[0m\u001b[1;33m)\u001b[0m\u001b[1;33m)\u001b[0m\u001b[1;33m\u001b[0m\u001b[1;33m\u001b[0m\u001b[0m\n\u001b[0m\u001b[0;32m      4\u001b[0m \u001b[1;33m\u001b[0m\u001b[0m\n",
      "\u001b[1;31mAttributeError\u001b[0m: '_pyntcore._ntcore.NetworkTable' object has no attribute 'getName'"
     ]
    }
   ],
   "source": [
    "for st in set(subtables):\n",
    "    t = table.getSubTable(st)\n",
    "    print(t.getName())\n",
    "    "
   ]
  },
  {
   "cell_type": "code",
   "execution_count": 308,
   "id": "b9023731-8d5a-4e55-8ec4-39e2318f1e19",
   "metadata": {},
   "outputs": [
    {
     "name": "stdout",
     "output_type": "stream",
     "text": [
      "Frequency of items:  {'SmartDashboard': 117, 'LiveWindow': 92, 'Rev': 14, 'FMSInfo': 9, 'Ramsete': 8}\n"
     ]
    }
   ],
   "source": [
    "unique = list(set(subtables))\n",
    "frequency = {}\n",
    "for item in unique:\n",
    "    frequency[item] = subtables.count(item)\n",
    "print(\"Frequency of items: \", frequency)"
   ]
  },
  {
   "cell_type": "code",
   "execution_count": 309,
   "id": "d4e35cd9-52f3-4496-a898-6a468e84d2bb",
   "metadata": {},
   "outputs": [],
   "source": [
    "r = table.getSubTable('Ramsete')"
   ]
  },
  {
   "cell_type": "markdown",
   "id": "4959d9b2-85d6-448a-bf9e-c50037b5ab1d",
   "metadata": {},
   "source": [
    "#### get all entries - not sure if this is the fastest way to do it"
   ]
  },
  {
   "cell_type": "code",
   "execution_count": 310,
   "id": "e0947ec4-23cd-4836-80cb-066d773b0e51",
   "metadata": {},
   "outputs": [],
   "source": [
    "entries = ntinst.getEntries('/', types=0)"
   ]
  },
  {
   "cell_type": "code",
   "execution_count": 352,
   "id": "62bfc1ed-9309-4066-8aec-25d936aaef4f",
   "metadata": {},
   "outputs": [
    {
     "data": {
      "text/plain": [
       "['/FMSInfo/.type',\n",
       " '/FMSInfo/EventName',\n",
       " '/FMSInfo/FMSControlData',\n",
       " '/FMSInfo/GameSpecificMessage',\n",
       " '/FMSInfo/IsRedAlliance',\n",
       " '/FMSInfo/MatchNumber',\n",
       " '/FMSInfo/MatchType',\n",
       " '/FMSInfo/ReplayNumber',\n",
       " '/FMSInfo/StationNumber',\n",
       " '/LiveWindow/.status/LW Enabled',\n",
       " '/LiveWindow/Ungrouped/.type',\n",
       " '/LiveWindow/Ungrouped/AnalogInput[0]/.name',\n",
       " '/LiveWindow/Ungrouped/AnalogInput[0]/.type',\n",
       " '/LiveWindow/Ungrouped/AnalogInput[0]/Value',\n",
       " '/LiveWindow/Ungrouped/Climber/.command',\n",
       " '/LiveWindow/Ungrouped/Climber/.default',\n",
       " '/LiveWindow/Ungrouped/Climber/.hasCommand',\n",
       " '/LiveWindow/Ungrouped/Climber/.hasDefault',\n",
       " '/LiveWindow/Ungrouped/Climber/.name',\n",
       " '/LiveWindow/Ungrouped/Climber/.type',\n",
       " '/LiveWindow/Ungrouped/Compressor[0]/.name',\n",
       " '/LiveWindow/Ungrouped/Compressor[0]/.type',\n",
       " '/LiveWindow/Ungrouped/Compressor[0]/Enabled',\n",
       " '/LiveWindow/Ungrouped/Compressor[0]/Pressure switch',\n",
       " '/LiveWindow/Ungrouped/DifferentialDrive[1]/.actuator',\n",
       " '/LiveWindow/Ungrouped/DifferentialDrive[1]/.name',\n",
       " '/LiveWindow/Ungrouped/DifferentialDrive[1]/.type',\n",
       " '/LiveWindow/Ungrouped/DifferentialDrive[1]/Left Motor Speed',\n",
       " '/LiveWindow/Ungrouped/DifferentialDrive[1]/Right Motor Speed',\n",
       " '/LiveWindow/Ungrouped/Indexer/.command',\n",
       " '/LiveWindow/Ungrouped/Indexer/.default',\n",
       " '/LiveWindow/Ungrouped/Indexer/.hasCommand',\n",
       " '/LiveWindow/Ungrouped/Indexer/.hasDefault',\n",
       " '/LiveWindow/Ungrouped/Indexer/.name',\n",
       " '/LiveWindow/Ungrouped/Indexer/.type',\n",
       " '/LiveWindow/Ungrouped/Intake/.command',\n",
       " '/LiveWindow/Ungrouped/Intake/.default',\n",
       " '/LiveWindow/Ungrouped/Intake/.hasCommand',\n",
       " '/LiveWindow/Ungrouped/Intake/.hasDefault',\n",
       " '/LiveWindow/Ungrouped/Intake/.name',\n",
       " '/LiveWindow/Ungrouped/Intake/.type',\n",
       " '/LiveWindow/Ungrouped/PWMSparkMax[1]/.actuator',\n",
       " '/LiveWindow/Ungrouped/PWMSparkMax[1]/.name',\n",
       " '/LiveWindow/Ungrouped/PWMSparkMax[1]/.type',\n",
       " '/LiveWindow/Ungrouped/PWMSparkMax[1]/Value',\n",
       " '/LiveWindow/Ungrouped/PWMSparkMax[3]/.actuator',\n",
       " '/LiveWindow/Ungrouped/PWMSparkMax[3]/.name',\n",
       " '/LiveWindow/Ungrouped/PWMSparkMax[3]/.type',\n",
       " '/LiveWindow/Ungrouped/PWMSparkMax[3]/Value',\n",
       " '/LiveWindow/Ungrouped/Pneumatics/.command',\n",
       " '/LiveWindow/Ungrouped/Pneumatics/.default',\n",
       " '/LiveWindow/Ungrouped/Pneumatics/.hasCommand',\n",
       " '/LiveWindow/Ungrouped/Pneumatics/.hasDefault',\n",
       " '/LiveWindow/Ungrouped/Pneumatics/.name',\n",
       " '/LiveWindow/Ungrouped/Pneumatics/.type',\n",
       " '/LiveWindow/Ungrouped/Scheduler/.name',\n",
       " '/LiveWindow/Ungrouped/Scheduler/.type',\n",
       " '/LiveWindow/Ungrouped/Scheduler/Cancel',\n",
       " '/LiveWindow/Ungrouped/Scheduler/Ids',\n",
       " '/LiveWindow/Ungrouped/Scheduler/Names',\n",
       " '/LiveWindow/Ungrouped/Shooter/.command',\n",
       " '/LiveWindow/Ungrouped/Shooter/.default',\n",
       " '/LiveWindow/Ungrouped/Shooter/.hasCommand',\n",
       " '/LiveWindow/Ungrouped/Shooter/.hasDefault',\n",
       " '/LiveWindow/Ungrouped/Shooter/.name',\n",
       " '/LiveWindow/Ungrouped/Shooter/.type',\n",
       " '/LiveWindow/Ungrouped/Solenoid[0,0]/.actuator',\n",
       " '/LiveWindow/Ungrouped/Solenoid[0,0]/.name',\n",
       " '/LiveWindow/Ungrouped/Solenoid[0,0]/.type',\n",
       " '/LiveWindow/Ungrouped/Solenoid[0,0]/Value',\n",
       " '/LiveWindow/Ungrouped/Solenoid[0,1]/.actuator',\n",
       " '/LiveWindow/Ungrouped/Solenoid[0,1]/.name',\n",
       " '/LiveWindow/Ungrouped/Solenoid[0,1]/.type',\n",
       " '/LiveWindow/Ungrouped/Solenoid[0,1]/Value',\n",
       " '/LiveWindow/Ungrouped/Solenoid[0,2]/.actuator',\n",
       " '/LiveWindow/Ungrouped/Solenoid[0,2]/.name',\n",
       " '/LiveWindow/Ungrouped/Solenoid[0,2]/.type',\n",
       " '/LiveWindow/Ungrouped/Solenoid[0,2]/Value',\n",
       " '/LiveWindow/Ungrouped/Solenoid[0,3]/.actuator',\n",
       " '/LiveWindow/Ungrouped/Solenoid[0,3]/.name',\n",
       " '/LiveWindow/Ungrouped/Solenoid[0,3]/.type',\n",
       " '/LiveWindow/Ungrouped/Solenoid[0,3]/Value',\n",
       " '/LiveWindow/Ungrouped/Spark[5]/.actuator',\n",
       " '/LiveWindow/Ungrouped/Spark[5]/.name',\n",
       " '/LiveWindow/Ungrouped/Spark[5]/.type',\n",
       " '/LiveWindow/Ungrouped/Spark[5]/Value',\n",
       " '/LiveWindow/Ungrouped/Vision/.command',\n",
       " '/LiveWindow/Ungrouped/Vision/.default',\n",
       " '/LiveWindow/Ungrouped/Vision/.hasCommand',\n",
       " '/LiveWindow/Ungrouped/Vision/.hasDefault',\n",
       " '/LiveWindow/Ungrouped/Vision/.name',\n",
       " '/LiveWindow/Ungrouped/Vision/.type',\n",
       " '/LiveWindow/Ungrouped/class frc2::SubsystemBase/.command',\n",
       " '/LiveWindow/Ungrouped/class frc2::SubsystemBase/.default',\n",
       " '/LiveWindow/Ungrouped/class frc2::SubsystemBase/.hasCommand',\n",
       " '/LiveWindow/Ungrouped/class frc2::SubsystemBase/.hasDefault',\n",
       " '/LiveWindow/Ungrouped/class frc2::SubsystemBase/.name',\n",
       " '/LiveWindow/Ungrouped/class frc2::SubsystemBase/.type',\n",
       " '/LiveWindow/Ungrouped/navX-Sensor[4]/.name',\n",
       " '/LiveWindow/Ungrouped/navX-Sensor[4]/.type',\n",
       " '/LiveWindow/Ungrouped/navX-Sensor[4]/Value',\n",
       " '/Ramsete/ramsete_B',\n",
       " '/Ramsete/ramsete_Z',\n",
       " '/Ramsete/ramsete_kpvel',\n",
       " '/Ramsete/ramsete_write',\n",
       " '/Ramsete/waypoint_heading',\n",
       " '/Ramsete/waypoint_reverse',\n",
       " '/Ramsete/waypoint_x',\n",
       " '/Ramsete/waypoint_y',\n",
       " '/Rev/kD_pos',\n",
       " '/Rev/kD_vel',\n",
       " '/Rev/kFF_pos',\n",
       " '/Rev/kFF_vel',\n",
       " '/Rev/kI_pos',\n",
       " '/Rev/kI_vel',\n",
       " '/Rev/kIz_pos',\n",
       " '/Rev/kIz_vel',\n",
       " '/Rev/kP_pos',\n",
       " '/Rev/kP_vel',\n",
       " '/Rev/pos_max_accel',\n",
       " '/Rev/pos_sp',\n",
       " '/Rev/vel_max_accel',\n",
       " '/Rev/vel_sp',\n",
       " '/SmartDashboard//AutoFetchBall/kd',\n",
       " '/SmartDashboard//AutoFetchBall/kf',\n",
       " '/SmartDashboard//AutoFetchBall/kp',\n",
       " '/SmartDashboard//Imu/kd',\n",
       " '/SmartDashboard//Imu/kf',\n",
       " '/SmartDashboard//Imu/kp',\n",
       " '/SmartDashboard//Vision/ball/distance',\n",
       " '/SmartDashboard//Vision/ball/rotation',\n",
       " '/SmartDashboard//Vision/ball/targets',\n",
       " '/SmartDashboard//sim/field_rot',\n",
       " '/SmartDashboard//sim/field_x',\n",
       " '/SmartDashboard//sim/field_y',\n",
       " '/SmartDashboard/Auto Rotate IMU/.controllable',\n",
       " '/SmartDashboard/Auto Rotate IMU/.name',\n",
       " '/SmartDashboard/Auto Rotate IMU/.type',\n",
       " '/SmartDashboard/Auto Rotate IMU/running',\n",
       " '/SmartDashboard/AutoFetchBall/.controllable',\n",
       " '/SmartDashboard/AutoFetchBall/.name',\n",
       " '/SmartDashboard/AutoFetchBall/.type',\n",
       " '/SmartDashboard/AutoFetchBall/running',\n",
       " '/SmartDashboard/AutoRotateSparkmax/.controllable',\n",
       " '/SmartDashboard/AutoRotateSparkmax/.name',\n",
       " '/SmartDashboard/AutoRotateSparkmax/.type',\n",
       " '/SmartDashboard/AutoRotateSparkmax/running',\n",
       " '/SmartDashboard/Field/.controllable',\n",
       " '/SmartDashboard/Field/.name',\n",
       " '/SmartDashboard/Field/.type',\n",
       " '/SmartDashboard/Field/Robot',\n",
       " '/SmartDashboard/Tune Sparkmax/.controllable',\n",
       " '/SmartDashboard/Tune Sparkmax/.name',\n",
       " '/SmartDashboard/Tune Sparkmax/.type',\n",
       " '/SmartDashboard/Tune Sparkmax/running',\n",
       " '/SmartDashboard/auto lower group/.controllable',\n",
       " '/SmartDashboard/auto lower group/.name',\n",
       " '/SmartDashboard/auto lower group/.type',\n",
       " '/SmartDashboard/auto lower group/running',\n",
       " '/SmartDashboard/auto pickup/.controllable',\n",
       " '/SmartDashboard/auto pickup/.name',\n",
       " '/SmartDashboard/auto pickup/.type',\n",
       " '/SmartDashboard/auto pickup/running',\n",
       " '/SmartDashboard/auto shoot/.controllable',\n",
       " '/SmartDashboard/auto shoot/.name',\n",
       " '/SmartDashboard/auto shoot/.type',\n",
       " '/SmartDashboard/auto shoot/running',\n",
       " '/SmartDashboard/auto stage two/.controllable',\n",
       " '/SmartDashboard/auto stage two/.name',\n",
       " '/SmartDashboard/auto stage two/.type',\n",
       " '/SmartDashboard/auto stage two/running',\n",
       " '/SmartDashboard/autonomous routines/.controllable',\n",
       " '/SmartDashboard/autonomous routines/.instance',\n",
       " '/SmartDashboard/autonomous routines/.name',\n",
       " '/SmartDashboard/autonomous routines/.type',\n",
       " '/SmartDashboard/autonomous routines/active',\n",
       " '/SmartDashboard/autonomous routines/default',\n",
       " '/SmartDashboard/autonomous routines/options',\n",
       " '/SmartDashboard/autonomous_ramsete/.controllable',\n",
       " '/SmartDashboard/autonomous_ramsete/.name',\n",
       " '/SmartDashboard/autonomous_ramsete/.type',\n",
       " '/SmartDashboard/autonomous_ramsete/running',\n",
       " '/SmartDashboard/climber_current',\n",
       " '/SmartDashboard/climber_state',\n",
       " '/SmartDashboard/climber_voltage',\n",
       " '/SmartDashboard/compressor_state',\n",
       " '/SmartDashboard/drive_lpos',\n",
       " '/SmartDashboard/drive_lvel',\n",
       " '/SmartDashboard/drive_pose',\n",
       " '/SmartDashboard/drive_rpos',\n",
       " '/SmartDashboard/drive_rvel',\n",
       " '/SmartDashboard/hold to feed/.controllable',\n",
       " '/SmartDashboard/hold to feed/.name',\n",
       " '/SmartDashboard/hold to feed/.type',\n",
       " '/SmartDashboard/hold to feed/running',\n",
       " '/SmartDashboard/hub_distance',\n",
       " '/SmartDashboard/hub_rotation',\n",
       " '/SmartDashboard/hub_targets',\n",
       " '/SmartDashboard/indexer_ballsensor',\n",
       " '/SmartDashboard/indexer_state',\n",
       " '/SmartDashboard/indexer_v1',\n",
       " '/SmartDashboard/indexer_v2',\n",
       " '/SmartDashboard/intake motor/.controllable',\n",
       " '/SmartDashboard/intake motor/.name',\n",
       " '/SmartDashboard/intake motor/.type',\n",
       " '/SmartDashboard/intake motor/running',\n",
       " '/SmartDashboard/intake piston/.controllable',\n",
       " '/SmartDashboard/intake piston/.name',\n",
       " '/SmartDashboard/intake piston/.type',\n",
       " '/SmartDashboard/intake piston/running',\n",
       " '/SmartDashboard/intake_extended',\n",
       " '/SmartDashboard/intake_motor_pwr',\n",
       " '/SmartDashboard/intake_motor_state',\n",
       " '/SmartDashboard/intake_speed',\n",
       " '/SmartDashboard/intake_state',\n",
       " '/SmartDashboard/path velocity/.controllable',\n",
       " '/SmartDashboard/path velocity/.instance',\n",
       " '/SmartDashboard/path velocity/.name',\n",
       " '/SmartDashboard/path velocity/.type',\n",
       " '/SmartDashboard/path velocity/active',\n",
       " '/SmartDashboard/path velocity/default',\n",
       " '/SmartDashboard/path velocity/options',\n",
       " '/SmartDashboard/ramsete path/.controllable',\n",
       " '/SmartDashboard/ramsete path/.instance',\n",
       " '/SmartDashboard/ramsete path/.name',\n",
       " '/SmartDashboard/ramsete path/.type',\n",
       " '/SmartDashboard/ramsete path/active',\n",
       " '/SmartDashboard/ramsete path/default',\n",
       " '/SmartDashboard/ramsete path/options',\n",
       " '/SmartDashboard/shooter_ready',\n",
       " '/SmartDashboard/shooter_rpm',\n",
       " '/SmartDashboard/shooter_state',\n",
       " '/SmartDashboard/toggle compressor/.controllable',\n",
       " '/SmartDashboard/toggle compressor/.name',\n",
       " '/SmartDashboard/toggle compressor/.type',\n",
       " '/SmartDashboard/toggle compressor/running',\n",
       " '/SmartDashboard/toggle shooter/.controllable',\n",
       " '/SmartDashboard/toggle shooter/.name',\n",
       " '/SmartDashboard/toggle shooter/.type',\n",
       " '/SmartDashboard/toggle shooter/running']"
      ]
     },
     "execution_count": 352,
     "metadata": {},
     "output_type": "execute_result"
    }
   ],
   "source": [
    "sorted_tree = sorted([e.getName() for e in entries])\n",
    "sorted_tree"
   ]
  },
  {
   "cell_type": "markdown",
   "id": "e7152de4-ea60-4766-b00b-68f4930ffd55",
   "metadata": {},
   "source": [
    "#### why do i have to take what was a table and get a flat list?"
   ]
  },
  {
   "cell_type": "code",
   "execution_count": 312,
   "id": "fddc2846-cbec-4afd-a4af-dba37400dbba",
   "metadata": {},
   "outputs": [],
   "source": [
    "nt_dict = {}\n",
    "for subtable in sorted(set(subtables)):\n",
    "    child = [entry[len(subtable)+2:] for entry in sorted_tree if subtable in entry]\n",
    "    nt_dict.update({subtable:child})\n",
    "#nt_dict"
   ]
  },
  {
   "cell_type": "markdown",
   "id": "e141a541-4ff5-4fe2-a126-096b975f253b",
   "metadata": {},
   "source": [
    "#### data dump from networktables"
   ]
  },
  {
   "cell_type": "code",
   "execution_count": 319,
   "id": "e3c98aea-6394-4881-921c-1ec87f5048e7",
   "metadata": {},
   "outputs": [
    {
     "name": "stdout",
     "output_type": "stream",
     "text": [
      "Name: /FMSInfo/.type                                               Value:FMSInfo              \t Age:     18  Type: NetworkTableType.kString  Levels:['FMSInfo', '.type']\n",
      "Name: /FMSInfo/EventName                                           Value:                     \t Age:     18  Type: NetworkTableType.kString  Levels:['FMSInfo', 'EventName']\n",
      "Name: /FMSInfo/FMSControlData                                      Value:32.0                 \t Age:     18  Type: NetworkTableType.kDouble  Levels:['FMSInfo', 'FMSControlData']\n",
      "Name: /FMSInfo/GameSpecificMessage                                 Value:                     \t Age:     18  Type: NetworkTableType.kString  Levels:['FMSInfo', 'GameSpecificMessage']\n",
      "Name: /FMSInfo/IsRedAlliance                                       Value:True                 \t Age:     18  Type: NetworkTableType.kBoolean  Levels:['FMSInfo', 'IsRedAlliance']\n",
      "Name: /FMSInfo/MatchNumber                                         Value:0.0                  \t Age:     18  Type: NetworkTableType.kDouble  Levels:['FMSInfo', 'MatchNumber']\n",
      "Name: /FMSInfo/MatchType                                           Value:0.0                  \t Age:     18  Type: NetworkTableType.kDouble  Levels:['FMSInfo', 'MatchType']\n",
      "Name: /FMSInfo/ReplayNumber                                        Value:0.0                  \t Age:     18  Type: NetworkTableType.kDouble  Levels:['FMSInfo', 'ReplayNumber']\n",
      "Name: /FMSInfo/StationNumber                                       Value:1.0                  \t Age:     18  Type: NetworkTableType.kDouble  Levels:['FMSInfo', 'StationNumber']\n",
      "Name: /LiveWindow/.status/LW Enabled                               Value:False                \t Age:     18  Type: NetworkTableType.kBoolean  Levels:['LiveWindow', '.status', 'LW Enabled']\n",
      "Name: /LiveWindow/Ungrouped/.type                                  Value:LW Subsystem         \t Age:     18  Type: NetworkTableType.kString  Levels:['LiveWindow', 'Ungrouped', '.type']\n",
      "Name: /LiveWindow/Ungrouped/AnalogInput[0]/.name                   Value:AnalogInput[0]       \t Age:     18  Type: NetworkTableType.kString  Levels:['LiveWindow', 'Ungrouped', 'AnalogInput[0]', '.name']\n",
      "Name: /LiveWindow/Ungrouped/AnalogInput[0]/.type                   Value:Analog Input         \t Age:     18  Type: NetworkTableType.kString  Levels:['LiveWindow', 'Ungrouped', 'AnalogInput[0]', '.type']\n",
      "Name: /LiveWindow/Ungrouped/AnalogInput[0]/Value                   Value:0.0                  \t Age:     18  Type: NetworkTableType.kDouble  Levels:['LiveWindow', 'Ungrouped', 'AnalogInput[0]', 'Value']\n",
      "Name: /LiveWindow/Ungrouped/Climber/.command                       Value:none                 \t Age:     18  Type: NetworkTableType.kString  Levels:['LiveWindow', 'Ungrouped', 'Climber', '.command']\n",
      "Name: /LiveWindow/Ungrouped/Climber/.default                       Value:none                 \t Age:     18  Type: NetworkTableType.kString  Levels:['LiveWindow', 'Ungrouped', 'Climber', '.default']\n",
      "Name: /LiveWindow/Ungrouped/Climber/.hasCommand                    Value:False                \t Age:     18  Type: NetworkTableType.kBoolean  Levels:['LiveWindow', 'Ungrouped', 'Climber', '.hasCommand']\n",
      "Name: /LiveWindow/Ungrouped/Climber/.hasDefault                    Value:False                \t Age:     18  Type: NetworkTableType.kBoolean  Levels:['LiveWindow', 'Ungrouped', 'Climber', '.hasDefault']\n",
      "Name: /LiveWindow/Ungrouped/Climber/.name                          Value:Climber              \t Age:     18  Type: NetworkTableType.kString  Levels:['LiveWindow', 'Ungrouped', 'Climber', '.name']\n",
      "Name: /LiveWindow/Ungrouped/Climber/.type                          Value:Subsystem            \t Age:     18  Type: NetworkTableType.kString  Levels:['LiveWindow', 'Ungrouped', 'Climber', '.type']\n",
      "Name: /LiveWindow/Ungrouped/Compressor[0]/.name                    Value:Compressor[0]        \t Age:     18  Type: NetworkTableType.kString  Levels:['LiveWindow', 'Ungrouped', 'Compressor[0]', '.name']\n",
      "Name: /LiveWindow/Ungrouped/Compressor[0]/.type                    Value:Compressor           \t Age:     18  Type: NetworkTableType.kString  Levels:['LiveWindow', 'Ungrouped', 'Compressor[0]', '.type']\n",
      "Name: /LiveWindow/Ungrouped/Compressor[0]/Enabled                  Value:False                \t Age:     18  Type: NetworkTableType.kBoolean  Levels:['LiveWindow', 'Ungrouped', 'Compressor[0]', 'Enabled']\n",
      "Name: /LiveWindow/Ungrouped/Compressor[0]/Pressure switch          Value:False                \t Age:     18  Type: NetworkTableType.kBoolean  Levels:['LiveWindow', 'Ungrouped', 'Compressor[0]', 'Pressure switch']\n",
      "Name: /LiveWindow/Ungrouped/DifferentialDrive[1]/.actuator         Value:True                 \t Age:     18  Type: NetworkTableType.kBoolean  Levels:['LiveWindow', 'Ungrouped', 'DifferentialDrive[1]', '.actuator']\n",
      "Name: /LiveWindow/Ungrouped/DifferentialDrive[1]/.name             Value:DifferentialDrive[1] \t Age:     18  Type: NetworkTableType.kString  Levels:['LiveWindow', 'Ungrouped', 'DifferentialDrive[1]', '.name']\n",
      "Name: /LiveWindow/Ungrouped/DifferentialDrive[1]/.type             Value:DifferentialDrive    \t Age:     18  Type: NetworkTableType.kString  Levels:['LiveWindow', 'Ungrouped', 'DifferentialDrive[1]', '.type']\n",
      "Name: /LiveWindow/Ungrouped/DifferentialDrive[1]/Left Motor Speed  Value:0.0                  \t Age:     18  Type: NetworkTableType.kDouble  Levels:['LiveWindow', 'Ungrouped', 'DifferentialDrive[1]', 'Left Motor Speed']\n",
      "Name: /LiveWindow/Ungrouped/DifferentialDrive[1]/Right Motor Speed Value:-0.0                 \t Age:     18  Type: NetworkTableType.kDouble  Levels:['LiveWindow', 'Ungrouped', 'DifferentialDrive[1]', 'Right Motor Speed']\n",
      "Name: /LiveWindow/Ungrouped/Indexer/.command                       Value:none                 \t Age:     18  Type: NetworkTableType.kString  Levels:['LiveWindow', 'Ungrouped', 'Indexer', '.command']\n",
      "Name: /LiveWindow/Ungrouped/Indexer/.default                       Value:none                 \t Age:     18  Type: NetworkTableType.kString  Levels:['LiveWindow', 'Ungrouped', 'Indexer', '.default']\n",
      "Name: /LiveWindow/Ungrouped/Indexer/.hasCommand                    Value:False                \t Age:     18  Type: NetworkTableType.kBoolean  Levels:['LiveWindow', 'Ungrouped', 'Indexer', '.hasCommand']\n",
      "Name: /LiveWindow/Ungrouped/Indexer/.hasDefault                    Value:False                \t Age:     18  Type: NetworkTableType.kBoolean  Levels:['LiveWindow', 'Ungrouped', 'Indexer', '.hasDefault']\n",
      "Name: /LiveWindow/Ungrouped/Indexer/.name                          Value:Indexer              \t Age:     18  Type: NetworkTableType.kString  Levels:['LiveWindow', 'Ungrouped', 'Indexer', '.name']\n",
      "Name: /LiveWindow/Ungrouped/Indexer/.type                          Value:Subsystem            \t Age:     18  Type: NetworkTableType.kString  Levels:['LiveWindow', 'Ungrouped', 'Indexer', '.type']\n",
      "Name: /LiveWindow/Ungrouped/Intake/.command                        Value:none                 \t Age:     18  Type: NetworkTableType.kString  Levels:['LiveWindow', 'Ungrouped', 'Intake', '.command']\n",
      "Name: /LiveWindow/Ungrouped/Intake/.default                        Value:none                 \t Age:     18  Type: NetworkTableType.kString  Levels:['LiveWindow', 'Ungrouped', 'Intake', '.default']\n",
      "Name: /LiveWindow/Ungrouped/Intake/.hasCommand                     Value:False                \t Age:     18  Type: NetworkTableType.kBoolean  Levels:['LiveWindow', 'Ungrouped', 'Intake', '.hasCommand']\n",
      "Name: /LiveWindow/Ungrouped/Intake/.hasDefault                     Value:False                \t Age:     18  Type: NetworkTableType.kBoolean  Levels:['LiveWindow', 'Ungrouped', 'Intake', '.hasDefault']\n",
      "Name: /LiveWindow/Ungrouped/Intake/.name                           Value:Intake               \t Age:     18  Type: NetworkTableType.kString  Levels:['LiveWindow', 'Ungrouped', 'Intake', '.name']\n",
      "Name: /LiveWindow/Ungrouped/Intake/.type                           Value:Subsystem            \t Age:     18  Type: NetworkTableType.kString  Levels:['LiveWindow', 'Ungrouped', 'Intake', '.type']\n",
      "Name: /LiveWindow/Ungrouped/PWMSparkMax[1]/.actuator               Value:True                 \t Age:     18  Type: NetworkTableType.kBoolean  Levels:['LiveWindow', 'Ungrouped', 'PWMSparkMax[1]', '.actuator']\n",
      "Name: /LiveWindow/Ungrouped/PWMSparkMax[1]/.name                   Value:PWMSparkMax[1]       \t Age:     18  Type: NetworkTableType.kString  Levels:['LiveWindow', 'Ungrouped', 'PWMSparkMax[1]', '.name']\n",
      "Name: /LiveWindow/Ungrouped/PWMSparkMax[1]/.type                   Value:Motor Controller     \t Age:     18  Type: NetworkTableType.kString  Levels:['LiveWindow', 'Ungrouped', 'PWMSparkMax[1]', '.type']\n",
      "Name: /LiveWindow/Ungrouped/PWMSparkMax[1]/Value                   Value:0.0                  \t Age:     18  Type: NetworkTableType.kDouble  Levels:['LiveWindow', 'Ungrouped', 'PWMSparkMax[1]', 'Value']\n",
      "Name: /LiveWindow/Ungrouped/PWMSparkMax[3]/.actuator               Value:True                 \t Age:     18  Type: NetworkTableType.kBoolean  Levels:['LiveWindow', 'Ungrouped', 'PWMSparkMax[3]', '.actuator']\n",
      "Name: /LiveWindow/Ungrouped/PWMSparkMax[3]/.name                   Value:PWMSparkMax[3]       \t Age:     18  Type: NetworkTableType.kString  Levels:['LiveWindow', 'Ungrouped', 'PWMSparkMax[3]', '.name']\n",
      "Name: /LiveWindow/Ungrouped/PWMSparkMax[3]/.type                   Value:Motor Controller     \t Age:     18  Type: NetworkTableType.kString  Levels:['LiveWindow', 'Ungrouped', 'PWMSparkMax[3]', '.type']\n",
      "Name: /LiveWindow/Ungrouped/PWMSparkMax[3]/Value                   Value:0.0                  \t Age:     18  Type: NetworkTableType.kDouble  Levels:['LiveWindow', 'Ungrouped', 'PWMSparkMax[3]', 'Value']\n",
      "Name: /LiveWindow/Ungrouped/Pneumatics/.command                    Value:none                 \t Age:     18  Type: NetworkTableType.kString  Levels:['LiveWindow', 'Ungrouped', 'Pneumatics', '.command']\n",
      "Name: /LiveWindow/Ungrouped/Pneumatics/.default                    Value:none                 \t Age:     18  Type: NetworkTableType.kString  Levels:['LiveWindow', 'Ungrouped', 'Pneumatics', '.default']\n",
      "Name: /LiveWindow/Ungrouped/Pneumatics/.hasCommand                 Value:False                \t Age:     18  Type: NetworkTableType.kBoolean  Levels:['LiveWindow', 'Ungrouped', 'Pneumatics', '.hasCommand']\n",
      "Name: /LiveWindow/Ungrouped/Pneumatics/.hasDefault                 Value:False                \t Age:     18  Type: NetworkTableType.kBoolean  Levels:['LiveWindow', 'Ungrouped', 'Pneumatics', '.hasDefault']\n",
      "Name: /LiveWindow/Ungrouped/Pneumatics/.name                       Value:Pneumatics           \t Age:     18  Type: NetworkTableType.kString  Levels:['LiveWindow', 'Ungrouped', 'Pneumatics', '.name']\n",
      "Name: /LiveWindow/Ungrouped/Pneumatics/.type                       Value:Subsystem            \t Age:     18  Type: NetworkTableType.kString  Levels:['LiveWindow', 'Ungrouped', 'Pneumatics', '.type']\n",
      "Name: /LiveWindow/Ungrouped/Scheduler/.name                        Value:Scheduler            \t Age:     18  Type: NetworkTableType.kString  Levels:['LiveWindow', 'Ungrouped', 'Scheduler', '.name']\n",
      "Name: /LiveWindow/Ungrouped/Scheduler/.type                        Value:Scheduler            \t Age:     18  Type: NetworkTableType.kString  Levels:['LiveWindow', 'Ungrouped', 'Scheduler', '.type']\n",
      "Name: /LiveWindow/Ungrouped/Scheduler/Cancel                       Value:[]                   \t Age:     18  Type: NetworkTableType.kDoubleArray  Levels:['LiveWindow', 'Ungrouped', 'Scheduler', 'Cancel']\n",
      "Name: /LiveWindow/Ungrouped/Scheduler/Ids                          Value:[]                   \t Age:     18  Type: NetworkTableType.kDoubleArray  Levels:['LiveWindow', 'Ungrouped', 'Scheduler', 'Ids']\n",
      "Name: /LiveWindow/Ungrouped/Scheduler/Names                        Value:[]                   \t Age:     18  Type: NetworkTableType.kStringArray  Levels:['LiveWindow', 'Ungrouped', 'Scheduler', 'Names']\n",
      "Name: /LiveWindow/Ungrouped/Shooter/.command                       Value:none                 \t Age:     18  Type: NetworkTableType.kString  Levels:['LiveWindow', 'Ungrouped', 'Shooter', '.command']\n",
      "Name: /LiveWindow/Ungrouped/Shooter/.default                       Value:none                 \t Age:     18  Type: NetworkTableType.kString  Levels:['LiveWindow', 'Ungrouped', 'Shooter', '.default']\n",
      "Name: /LiveWindow/Ungrouped/Shooter/.hasCommand                    Value:False                \t Age:     18  Type: NetworkTableType.kBoolean  Levels:['LiveWindow', 'Ungrouped', 'Shooter', '.hasCommand']\n",
      "Name: /LiveWindow/Ungrouped/Shooter/.hasDefault                    Value:False                \t Age:     18  Type: NetworkTableType.kBoolean  Levels:['LiveWindow', 'Ungrouped', 'Shooter', '.hasDefault']\n",
      "Name: /LiveWindow/Ungrouped/Shooter/.name                          Value:Shooter              \t Age:     18  Type: NetworkTableType.kString  Levels:['LiveWindow', 'Ungrouped', 'Shooter', '.name']\n",
      "Name: /LiveWindow/Ungrouped/Shooter/.type                          Value:Subsystem            \t Age:     18  Type: NetworkTableType.kString  Levels:['LiveWindow', 'Ungrouped', 'Shooter', '.type']\n",
      "Name: /LiveWindow/Ungrouped/Solenoid[0,0]/.actuator                Value:True                 \t Age:     18  Type: NetworkTableType.kBoolean  Levels:['LiveWindow', 'Ungrouped', 'Solenoid[0,0]', '.actuator']\n",
      "Name: /LiveWindow/Ungrouped/Solenoid[0,0]/.name                    Value:Solenoid[0,0]        \t Age:     18  Type: NetworkTableType.kString  Levels:['LiveWindow', 'Ungrouped', 'Solenoid[0,0]', '.name']\n",
      "Name: /LiveWindow/Ungrouped/Solenoid[0,0]/.type                    Value:Solenoid             \t Age:     18  Type: NetworkTableType.kString  Levels:['LiveWindow', 'Ungrouped', 'Solenoid[0,0]', '.type']\n",
      "Name: /LiveWindow/Ungrouped/Solenoid[0,0]/Value                    Value:False                \t Age:     18  Type: NetworkTableType.kBoolean  Levels:['LiveWindow', 'Ungrouped', 'Solenoid[0,0]', 'Value']\n",
      "Name: /LiveWindow/Ungrouped/Solenoid[0,1]/.actuator                Value:True                 \t Age:     18  Type: NetworkTableType.kBoolean  Levels:['LiveWindow', 'Ungrouped', 'Solenoid[0,1]', '.actuator']\n",
      "Name: /LiveWindow/Ungrouped/Solenoid[0,1]/.name                    Value:Solenoid[0,1]        \t Age:     18  Type: NetworkTableType.kString  Levels:['LiveWindow', 'Ungrouped', 'Solenoid[0,1]', '.name']\n",
      "Name: /LiveWindow/Ungrouped/Solenoid[0,1]/.type                    Value:Solenoid             \t Age:     18  Type: NetworkTableType.kString  Levels:['LiveWindow', 'Ungrouped', 'Solenoid[0,1]', '.type']\n",
      "Name: /LiveWindow/Ungrouped/Solenoid[0,1]/Value                    Value:False                \t Age:     18  Type: NetworkTableType.kBoolean  Levels:['LiveWindow', 'Ungrouped', 'Solenoid[0,1]', 'Value']\n",
      "Name: /LiveWindow/Ungrouped/Solenoid[0,2]/.actuator                Value:True                 \t Age:     18  Type: NetworkTableType.kBoolean  Levels:['LiveWindow', 'Ungrouped', 'Solenoid[0,2]', '.actuator']\n",
      "Name: /LiveWindow/Ungrouped/Solenoid[0,2]/.name                    Value:Solenoid[0,2]        \t Age:     18  Type: NetworkTableType.kString  Levels:['LiveWindow', 'Ungrouped', 'Solenoid[0,2]', '.name']\n",
      "Name: /LiveWindow/Ungrouped/Solenoid[0,2]/.type                    Value:Solenoid             \t Age:     18  Type: NetworkTableType.kString  Levels:['LiveWindow', 'Ungrouped', 'Solenoid[0,2]', '.type']\n",
      "Name: /LiveWindow/Ungrouped/Solenoid[0,2]/Value                    Value:False                \t Age:     18  Type: NetworkTableType.kBoolean  Levels:['LiveWindow', 'Ungrouped', 'Solenoid[0,2]', 'Value']\n",
      "Name: /LiveWindow/Ungrouped/Solenoid[0,3]/.actuator                Value:True                 \t Age:     18  Type: NetworkTableType.kBoolean  Levels:['LiveWindow', 'Ungrouped', 'Solenoid[0,3]', '.actuator']\n",
      "Name: /LiveWindow/Ungrouped/Solenoid[0,3]/.name                    Value:Solenoid[0,3]        \t Age:     18  Type: NetworkTableType.kString  Levels:['LiveWindow', 'Ungrouped', 'Solenoid[0,3]', '.name']\n",
      "Name: /LiveWindow/Ungrouped/Solenoid[0,3]/.type                    Value:Solenoid             \t Age:     18  Type: NetworkTableType.kString  Levels:['LiveWindow', 'Ungrouped', 'Solenoid[0,3]', '.type']\n",
      "Name: /LiveWindow/Ungrouped/Solenoid[0,3]/Value                    Value:False                \t Age:     18  Type: NetworkTableType.kBoolean  Levels:['LiveWindow', 'Ungrouped', 'Solenoid[0,3]', 'Value']\n",
      "Name: /LiveWindow/Ungrouped/Spark[5]/.actuator                     Value:True                 \t Age:     18  Type: NetworkTableType.kBoolean  Levels:['LiveWindow', 'Ungrouped', 'Spark[5]', '.actuator']\n",
      "Name: /LiveWindow/Ungrouped/Spark[5]/.name                         Value:Spark[5]             \t Age:     18  Type: NetworkTableType.kString  Levels:['LiveWindow', 'Ungrouped', 'Spark[5]', '.name']\n",
      "Name: /LiveWindow/Ungrouped/Spark[5]/.type                         Value:Motor Controller     \t Age:     18  Type: NetworkTableType.kString  Levels:['LiveWindow', 'Ungrouped', 'Spark[5]', '.type']\n",
      "Name: /LiveWindow/Ungrouped/Spark[5]/Value                         Value:-0.0                 \t Age:     18  Type: NetworkTableType.kDouble  Levels:['LiveWindow', 'Ungrouped', 'Spark[5]', 'Value']\n",
      "Name: /LiveWindow/Ungrouped/Vision/.command                        Value:none                 \t Age:     18  Type: NetworkTableType.kString  Levels:['LiveWindow', 'Ungrouped', 'Vision', '.command']\n",
      "Name: /LiveWindow/Ungrouped/Vision/.default                        Value:none                 \t Age:     18  Type: NetworkTableType.kString  Levels:['LiveWindow', 'Ungrouped', 'Vision', '.default']\n",
      "Name: /LiveWindow/Ungrouped/Vision/.hasCommand                     Value:False                \t Age:     18  Type: NetworkTableType.kBoolean  Levels:['LiveWindow', 'Ungrouped', 'Vision', '.hasCommand']\n",
      "Name: /LiveWindow/Ungrouped/Vision/.hasDefault                     Value:False                \t Age:     18  Type: NetworkTableType.kBoolean  Levels:['LiveWindow', 'Ungrouped', 'Vision', '.hasDefault']\n",
      "Name: /LiveWindow/Ungrouped/Vision/.name                           Value:Vision               \t Age:     18  Type: NetworkTableType.kString  Levels:['LiveWindow', 'Ungrouped', 'Vision', '.name']\n",
      "Name: /LiveWindow/Ungrouped/Vision/.type                           Value:Subsystem            \t Age:     18  Type: NetworkTableType.kString  Levels:['LiveWindow', 'Ungrouped', 'Vision', '.type']\n",
      "Name: /LiveWindow/Ungrouped/class frc2::SubsystemBase/.command     Value:none                 \t Age:     18  Type: NetworkTableType.kString  Levels:['LiveWindow', 'Ungrouped', 'class frc2::SubsystemBase', '.command']\n",
      "Name: /LiveWindow/Ungrouped/class frc2::SubsystemBase/.default     Value:class frc2::CommandBase \t Age:     18  Type: NetworkTableType.kString  Levels:['LiveWindow', 'Ungrouped', 'class frc2::SubsystemBase', '.default']\n",
      "Name: /LiveWindow/Ungrouped/class frc2::SubsystemBase/.hasCommand  Value:False                \t Age:     18  Type: NetworkTableType.kBoolean  Levels:['LiveWindow', 'Ungrouped', 'class frc2::SubsystemBase', '.hasCommand']\n",
      "Name: /LiveWindow/Ungrouped/class frc2::SubsystemBase/.hasDefault  Value:True                 \t Age:     18  Type: NetworkTableType.kBoolean  Levels:['LiveWindow', 'Ungrouped', 'class frc2::SubsystemBase', '.hasDefault']\n",
      "Name: /LiveWindow/Ungrouped/class frc2::SubsystemBase/.name        Value:class frc2::SubsystemBase \t Age:     18  Type: NetworkTableType.kString  Levels:['LiveWindow', 'Ungrouped', 'class frc2::SubsystemBase', '.name']\n",
      "Name: /LiveWindow/Ungrouped/class frc2::SubsystemBase/.type        Value:Subsystem            \t Age:     18  Type: NetworkTableType.kString  Levels:['LiveWindow', 'Ungrouped', 'class frc2::SubsystemBase', '.type']\n",
      "Name: /LiveWindow/Ungrouped/navX-Sensor[4]/.name                   Value:navX-Sensor[4]       \t Age:     18  Type: NetworkTableType.kString  Levels:['LiveWindow', 'Ungrouped', 'navX-Sensor[4]', '.name']\n",
      "Name: /LiveWindow/Ungrouped/navX-Sensor[4]/.type                   Value:Gyro                 \t Age:     18  Type: NetworkTableType.kString  Levels:['LiveWindow', 'Ungrouped', 'navX-Sensor[4]', '.type']\n",
      "Name: /LiveWindow/Ungrouped/navX-Sensor[4]/Value                   Value:90.0                 \t Age:     18  Type: NetworkTableType.kDouble  Levels:['LiveWindow', 'Ungrouped', 'navX-Sensor[4]', 'Value']\n",
      "Name: /Ramsete/ramsete_B                                           Value:2.0                  \t Age:     18  Type: NetworkTableType.kDouble  Levels:['Ramsete', 'ramsete_B']\n",
      "Name: /Ramsete/ramsete_Z                                           Value:0.9                  \t Age:     18  Type: NetworkTableType.kDouble  Levels:['Ramsete', 'ramsete_Z']\n",
      "Name: /Ramsete/ramsete_kpvel                                       Value:0.05                 \t Age:     18  Type: NetworkTableType.kDouble  Levels:['Ramsete', 'ramsete_kpvel']\n",
      "Name: /Ramsete/ramsete_write                                       Value:False                \t Age:     18  Type: NetworkTableType.kBoolean  Levels:['Ramsete', 'ramsete_write']\n",
      "Name: /Ramsete/waypoint_heading                                    Value:0.0                  \t Age:     18  Type: NetworkTableType.kDouble  Levels:['Ramsete', 'waypoint_heading']\n",
      "Name: /Ramsete/waypoint_reverse                                    Value:False                \t Age:     18  Type: NetworkTableType.kBoolean  Levels:['Ramsete', 'waypoint_reverse']\n",
      "Name: /Ramsete/waypoint_x                                          Value:1.0                  \t Age:     18  Type: NetworkTableType.kDouble  Levels:['Ramsete', 'waypoint_x']\n",
      "Name: /Ramsete/waypoint_y                                          Value:0.0                  \t Age:     18  Type: NetworkTableType.kDouble  Levels:['Ramsete', 'waypoint_y']\n",
      "Name: /Rev/kD_pos                                                  Value:400.0                \t Age:     18  Type: NetworkTableType.kDouble  Levels:['Rev', 'kD_pos']\n",
      "Name: /Rev/kD_vel                                                  Value:0.0                  \t Age:     18  Type: NetworkTableType.kDouble  Levels:['Rev', 'kD_vel']\n",
      "Name: /Rev/kFF_pos                                                 Value:2.0                  \t Age:     18  Type: NetworkTableType.kDouble  Levels:['Rev', 'kFF_pos']\n",
      "Name: /Rev/kFF_vel                                                 Value:170.0                \t Age:     18  Type: NetworkTableType.kDouble  Levels:['Rev', 'kFF_vel']\n",
      "Name: /Rev/kI_pos                                                  Value:0.0005               \t Age:     18  Type: NetworkTableType.kDouble  Levels:['Rev', 'kI_pos']\n",
      "Name: /Rev/kI_vel                                                  Value:0.5                  \t Age:     18  Type: NetworkTableType.kDouble  Levels:['Rev', 'kI_vel']\n",
      "Name: /Rev/kIz_pos                                                 Value:0.0                  \t Age:     18  Type: NetworkTableType.kDouble  Levels:['Rev', 'kIz_pos']\n",
      "Name: /Rev/kIz_vel                                                 Value:200.0                \t Age:     18  Type: NetworkTableType.kDouble  Levels:['Rev', 'kIz_vel']\n",
      "Name: /Rev/kP_pos                                                  Value:50.0                 \t Age:     18  Type: NetworkTableType.kDouble  Levels:['Rev', 'kP_pos']\n",
      "Name: /Rev/kP_vel                                                  Value:50.0                 \t Age:     18  Type: NetworkTableType.kDouble  Levels:['Rev', 'kP_vel']\n",
      "Name: /Rev/pos_max_accel                                           Value:6.0                  \t Age:     18  Type: NetworkTableType.kDouble  Levels:['Rev', 'pos_max_accel']\n",
      "Name: /Rev/pos_sp                                                  Value:1.0                  \t Age:     18  Type: NetworkTableType.kDouble  Levels:['Rev', 'pos_sp']\n",
      "Name: /Rev/vel_max_accel                                           Value:6.0                  \t Age:     18  Type: NetworkTableType.kDouble  Levels:['Rev', 'vel_max_accel']\n",
      "Name: /Rev/vel_sp                                                  Value:1.0                  \t Age:     18  Type: NetworkTableType.kDouble  Levels:['Rev', 'vel_sp']\n",
      "Name: /SmartDashboard//AutoFetchBall/kd                            Value:0.0                  \t Age:     18  Type: NetworkTableType.kDouble  Levels:['SmartDashboard', '', 'AutoFetchBall', 'kd']\n",
      "Name: /SmartDashboard//AutoFetchBall/kf                            Value:0.0                  \t Age:     18  Type: NetworkTableType.kDouble  Levels:['SmartDashboard', '', 'AutoFetchBall', 'kf']\n",
      "Name: /SmartDashboard//AutoFetchBall/kp                            Value:0.0                  \t Age:     18  Type: NetworkTableType.kDouble  Levels:['SmartDashboard', '', 'AutoFetchBall', 'kp']\n",
      "Name: /SmartDashboard//Imu/kd                                      Value:0.0                  \t Age:     18  Type: NetworkTableType.kDouble  Levels:['SmartDashboard', '', 'Imu', 'kd']\n",
      "Name: /SmartDashboard//Imu/kf                                      Value:0.0                  \t Age:     18  Type: NetworkTableType.kDouble  Levels:['SmartDashboard', '', 'Imu', 'kf']\n",
      "Name: /SmartDashboard//Imu/kp                                      Value:0.0                  \t Age:     18  Type: NetworkTableType.kDouble  Levels:['SmartDashboard', '', 'Imu', 'kp']\n",
      "Name: /SmartDashboard//Vision/ball/distance                        Value:0.0                  \t Age:     18  Type: NetworkTableType.kDouble  Levels:['SmartDashboard', '', 'Vision', 'ball', 'distance']\n",
      "Name: /SmartDashboard//Vision/ball/rotation                        Value:0.0                  \t Age:     18  Type: NetworkTableType.kDouble  Levels:['SmartDashboard', '', 'Vision', 'ball', 'rotation']\n",
      "Name: /SmartDashboard//Vision/ball/targets                         Value:0.0                  \t Age:     18  Type: NetworkTableType.kDouble  Levels:['SmartDashboard', '', 'Vision', 'ball', 'targets']\n",
      "Name: /SmartDashboard//sim/field_rot                               Value:-90.0                \t Age:     18  Type: NetworkTableType.kDouble  Levels:['SmartDashboard', '', 'sim', 'field_rot']\n",
      "Name: /SmartDashboard//sim/field_x                                 Value:7.7                  \t Age:     18  Type: NetworkTableType.kDouble  Levels:['SmartDashboard', '', 'sim', 'field_x']\n",
      "Name: /SmartDashboard//sim/field_y                                 Value:2.1                  \t Age:     18  Type: NetworkTableType.kDouble  Levels:['SmartDashboard', '', 'sim', 'field_y']\n",
      "Name: /SmartDashboard/Auto Rotate IMU/.controllable                Value:True                 \t Age:     18  Type: NetworkTableType.kBoolean  Levels:['SmartDashboard', 'Auto Rotate IMU', '.controllable']\n",
      "Name: /SmartDashboard/Auto Rotate IMU/.name                        Value:Auto Rotate IMU      \t Age:     18  Type: NetworkTableType.kString  Levels:['SmartDashboard', 'Auto Rotate IMU', '.name']\n",
      "Name: /SmartDashboard/Auto Rotate IMU/.type                        Value:Command              \t Age:     18  Type: NetworkTableType.kString  Levels:['SmartDashboard', 'Auto Rotate IMU', '.type']\n",
      "Name: /SmartDashboard/Auto Rotate IMU/running                      Value:False                \t Age:     18  Type: NetworkTableType.kBoolean  Levels:['SmartDashboard', 'Auto Rotate IMU', 'running']\n",
      "Name: /SmartDashboard/AutoFetchBall/.controllable                  Value:True                 \t Age:     18  Type: NetworkTableType.kBoolean  Levels:['SmartDashboard', 'AutoFetchBall', '.controllable']\n",
      "Name: /SmartDashboard/AutoFetchBall/.name                          Value:AutoFetchBall        \t Age:     18  Type: NetworkTableType.kString  Levels:['SmartDashboard', 'AutoFetchBall', '.name']\n",
      "Name: /SmartDashboard/AutoFetchBall/.type                          Value:Command              \t Age:     18  Type: NetworkTableType.kString  Levels:['SmartDashboard', 'AutoFetchBall', '.type']\n",
      "Name: /SmartDashboard/AutoFetchBall/running                        Value:False                \t Age:     18  Type: NetworkTableType.kBoolean  Levels:['SmartDashboard', 'AutoFetchBall', 'running']\n",
      "Name: /SmartDashboard/AutoRotateSparkmax/.controllable             Value:True                 \t Age:     18  Type: NetworkTableType.kBoolean  Levels:['SmartDashboard', 'AutoRotateSparkmax', '.controllable']\n",
      "Name: /SmartDashboard/AutoRotateSparkmax/.name                     Value:AutoRotateSparkmax   \t Age:     18  Type: NetworkTableType.kString  Levels:['SmartDashboard', 'AutoRotateSparkmax', '.name']\n",
      "Name: /SmartDashboard/AutoRotateSparkmax/.type                     Value:Command              \t Age:     18  Type: NetworkTableType.kString  Levels:['SmartDashboard', 'AutoRotateSparkmax', '.type']\n",
      "Name: /SmartDashboard/AutoRotateSparkmax/running                   Value:False                \t Age:     18  Type: NetworkTableType.kBoolean  Levels:['SmartDashboard', 'AutoRotateSparkmax', 'running']\n",
      "Name: /SmartDashboard/Field/.controllable                          Value:True                 \t Age:     18  Type: NetworkTableType.kBoolean  Levels:['SmartDashboard', 'Field', '.controllable']\n",
      "Name: /SmartDashboard/Field/.name                                  Value:Field                \t Age:     18  Type: NetworkTableType.kString  Levels:['SmartDashboard', 'Field', '.name']\n",
      "Name: /SmartDashboard/Field/.type                                  Value:Field2d              \t Age:     18  Type: NetworkTableType.kString  Levels:['SmartDashboard', 'Field', '.type']\n",
      "Name: /SmartDashboard/Field/Robot                                  Value:[7.7, 2.1, -90.0]    \t Age:     18  Type: NetworkTableType.kDoubleArray  Levels:['SmartDashboard', 'Field', 'Robot']\n",
      "Name: /SmartDashboard/Tune Sparkmax/.controllable                  Value:True                 \t Age:     18  Type: NetworkTableType.kBoolean  Levels:['SmartDashboard', 'Tune Sparkmax', '.controllable']\n",
      "Name: /SmartDashboard/Tune Sparkmax/.name                          Value:Tune Sparkmax        \t Age:     18  Type: NetworkTableType.kString  Levels:['SmartDashboard', 'Tune Sparkmax', '.name']\n",
      "Name: /SmartDashboard/Tune Sparkmax/.type                          Value:Command              \t Age:     18  Type: NetworkTableType.kString  Levels:['SmartDashboard', 'Tune Sparkmax', '.type']\n",
      "Name: /SmartDashboard/Tune Sparkmax/running                        Value:False                \t Age:     18  Type: NetworkTableType.kBoolean  Levels:['SmartDashboard', 'Tune Sparkmax', 'running']\n",
      "Name: /SmartDashboard/auto lower group/.controllable               Value:True                 \t Age:     18  Type: NetworkTableType.kBoolean  Levels:['SmartDashboard', 'auto lower group', '.controllable']\n",
      "Name: /SmartDashboard/auto lower group/.name                       Value:auto lower group     \t Age:     18  Type: NetworkTableType.kString  Levels:['SmartDashboard', 'auto lower group', '.name']\n",
      "Name: /SmartDashboard/auto lower group/.type                       Value:Command              \t Age:     18  Type: NetworkTableType.kString  Levels:['SmartDashboard', 'auto lower group', '.type']\n",
      "Name: /SmartDashboard/auto lower group/running                     Value:False                \t Age:     18  Type: NetworkTableType.kBoolean  Levels:['SmartDashboard', 'auto lower group', 'running']\n",
      "Name: /SmartDashboard/auto pickup/.controllable                    Value:True                 \t Age:     18  Type: NetworkTableType.kBoolean  Levels:['SmartDashboard', 'auto pickup', '.controllable']\n",
      "Name: /SmartDashboard/auto pickup/.name                            Value:auto pickup          \t Age:     18  Type: NetworkTableType.kString  Levels:['SmartDashboard', 'auto pickup', '.name']\n",
      "Name: /SmartDashboard/auto pickup/.type                            Value:Command              \t Age:     18  Type: NetworkTableType.kString  Levels:['SmartDashboard', 'auto pickup', '.type']\n",
      "Name: /SmartDashboard/auto pickup/running                          Value:False                \t Age:     18  Type: NetworkTableType.kBoolean  Levels:['SmartDashboard', 'auto pickup', 'running']\n",
      "Name: /SmartDashboard/auto shoot/.controllable                     Value:True                 \t Age:     18  Type: NetworkTableType.kBoolean  Levels:['SmartDashboard', 'auto shoot', '.controllable']\n",
      "Name: /SmartDashboard/auto shoot/.name                             Value:auto shoot           \t Age:     18  Type: NetworkTableType.kString  Levels:['SmartDashboard', 'auto shoot', '.name']\n",
      "Name: /SmartDashboard/auto shoot/.type                             Value:Command              \t Age:     18  Type: NetworkTableType.kString  Levels:['SmartDashboard', 'auto shoot', '.type']\n",
      "Name: /SmartDashboard/auto shoot/running                           Value:False                \t Age:     18  Type: NetworkTableType.kBoolean  Levels:['SmartDashboard', 'auto shoot', 'running']\n",
      "Name: /SmartDashboard/auto stage two/.controllable                 Value:True                 \t Age:     18  Type: NetworkTableType.kBoolean  Levels:['SmartDashboard', 'auto stage two', '.controllable']\n",
      "Name: /SmartDashboard/auto stage two/.name                         Value:auto stage two       \t Age:     18  Type: NetworkTableType.kString  Levels:['SmartDashboard', 'auto stage two', '.name']\n",
      "Name: /SmartDashboard/auto stage two/.type                         Value:Command              \t Age:     18  Type: NetworkTableType.kString  Levels:['SmartDashboard', 'auto stage two', '.type']\n",
      "Name: /SmartDashboard/auto stage two/running                       Value:False                \t Age:     18  Type: NetworkTableType.kBoolean  Levels:['SmartDashboard', 'auto stage two', 'running']\n",
      "Name: /SmartDashboard/autonomous routines/.controllable            Value:True                 \t Age:     18  Type: NetworkTableType.kBoolean  Levels:['SmartDashboard', 'autonomous routines', '.controllable']\n",
      "Name: /SmartDashboard/autonomous routines/.instance                Value:2.0                  \t Age:     18  Type: NetworkTableType.kDouble  Levels:['SmartDashboard', 'autonomous routines', '.instance']\n",
      "Name: /SmartDashboard/autonomous routines/.name                    Value:autonomous routines  \t Age:     18  Type: NetworkTableType.kString  Levels:['SmartDashboard', 'autonomous routines', '.name']\n",
      "Name: /SmartDashboard/autonomous routines/.type                    Value:String Chooser       \t Age:     18  Type: NetworkTableType.kString  Levels:['SmartDashboard', 'autonomous routines', '.type']\n",
      "Name: /SmartDashboard/autonomous routines/active                   Value:2 ball only          \t Age:     18  Type: NetworkTableType.kString  Levels:['SmartDashboard', 'autonomous routines', 'active']\n",
      "Name: /SmartDashboard/autonomous routines/default                  Value:2 ball only          \t Age:     18  Type: NetworkTableType.kString  Levels:['SmartDashboard', 'autonomous routines', 'default']\n",
      "Name: /SmartDashboard/autonomous routines/options                  Value:['2 ball only', '3 ball lower'] \t Age:     18  Type: NetworkTableType.kStringArray  Levels:['SmartDashboard', 'autonomous routines', 'options']\n",
      "Name: /SmartDashboard/autonomous_ramsete/.controllable             Value:True                 \t Age:     18  Type: NetworkTableType.kBoolean  Levels:['SmartDashboard', 'autonomous_ramsete', '.controllable']\n",
      "Name: /SmartDashboard/autonomous_ramsete/.name                     Value:autonomous_ramsete   \t Age:     18  Type: NetworkTableType.kString  Levels:['SmartDashboard', 'autonomous_ramsete', '.name']\n",
      "Name: /SmartDashboard/autonomous_ramsete/.type                     Value:Command              \t Age:     18  Type: NetworkTableType.kString  Levels:['SmartDashboard', 'autonomous_ramsete', '.type']\n",
      "Name: /SmartDashboard/autonomous_ramsete/running                   Value:False                \t Age:     18  Type: NetworkTableType.kBoolean  Levels:['SmartDashboard', 'autonomous_ramsete', 'running']\n",
      "Name: /SmartDashboard/climber_current                              Value:0.0                  \t Age:     18  Type: NetworkTableType.kDouble  Levels:['SmartDashboard', 'climber_current']\n",
      "Name: /SmartDashboard/climber_state                                Value:False                \t Age:     18  Type: NetworkTableType.kBoolean  Levels:['SmartDashboard', 'climber_state']\n",
      "Name: /SmartDashboard/climber_voltage                              Value:0.0                  \t Age:     18  Type: NetworkTableType.kDouble  Levels:['SmartDashboard', 'climber_voltage']\n",
      "Name: /SmartDashboard/compressor_state                             Value:False                \t Age:     18  Type: NetworkTableType.kBoolean  Levels:['SmartDashboard', 'compressor_state']\n",
      "Name: /SmartDashboard/drive_lpos                                   Value:0.0                  \t Age:     18  Type: NetworkTableType.kDouble  Levels:['SmartDashboard', 'drive_lpos']\n",
      "Name: /SmartDashboard/drive_lvel                                   Value:0.0                  \t Age:     18  Type: NetworkTableType.kDouble  Levels:['SmartDashboard', 'drive_lvel']\n",
      "Name: /SmartDashboard/drive_pose                                   Value:[7.70, 2.10, -90.00] \t Age:     18  Type: NetworkTableType.kString  Levels:['SmartDashboard', 'drive_pose']\n",
      "Name: /SmartDashboard/drive_rpos                                   Value:-0.0                 \t Age:     18  Type: NetworkTableType.kDouble  Levels:['SmartDashboard', 'drive_rpos']\n",
      "Name: /SmartDashboard/drive_rvel                                   Value:-0.0                 \t Age:     18  Type: NetworkTableType.kDouble  Levels:['SmartDashboard', 'drive_rvel']\n",
      "Name: /SmartDashboard/hold to feed/.controllable                   Value:True                 \t Age:     18  Type: NetworkTableType.kBoolean  Levels:['SmartDashboard', 'hold to feed', '.controllable']\n",
      "Name: /SmartDashboard/hold to feed/.name                           Value:hold to feed         \t Age:     18  Type: NetworkTableType.kString  Levels:['SmartDashboard', 'hold to feed', '.name']\n",
      "Name: /SmartDashboard/hold to feed/.type                           Value:Command              \t Age:     18  Type: NetworkTableType.kString  Levels:['SmartDashboard', 'hold to feed', '.type']\n",
      "Name: /SmartDashboard/hold to feed/running                         Value:False                \t Age:     18  Type: NetworkTableType.kBoolean  Levels:['SmartDashboard', 'hold to feed', 'running']\n",
      "Name: /SmartDashboard/hub_distance                                 Value:999.0                \t Age:     18  Type: NetworkTableType.kDouble  Levels:['SmartDashboard', 'hub_distance']\n",
      "Name: /SmartDashboard/hub_rotation                                 Value:999.0                \t Age:     18  Type: NetworkTableType.kDouble  Levels:['SmartDashboard', 'hub_rotation']\n",
      "Name: /SmartDashboard/hub_targets                                  Value:0.0                  \t Age:     18  Type: NetworkTableType.kDouble  Levels:['SmartDashboard', 'hub_targets']\n",
      "Name: /SmartDashboard/indexer_ballsensor                           Value:0.0                  \t Age:     18  Type: NetworkTableType.kDouble  Levels:['SmartDashboard', 'indexer_ballsensor']\n",
      "Name: /SmartDashboard/indexer_state                                Value:False                \t Age:     18  Type: NetworkTableType.kBoolean  Levels:['SmartDashboard', 'indexer_state']\n",
      "Name: /SmartDashboard/indexer_v1                                   Value:0.0                  \t Age:     18  Type: NetworkTableType.kDouble  Levels:['SmartDashboard', 'indexer_v1']\n",
      "Name: /SmartDashboard/indexer_v2                                   Value:0.0                  \t Age:     18  Type: NetworkTableType.kDouble  Levels:['SmartDashboard', 'indexer_v2']\n",
      "Name: /SmartDashboard/intake motor/.controllable                   Value:True                 \t Age:     18  Type: NetworkTableType.kBoolean  Levels:['SmartDashboard', 'intake motor', '.controllable']\n",
      "Name: /SmartDashboard/intake motor/.name                           Value:intake motor         \t Age:     18  Type: NetworkTableType.kString  Levels:['SmartDashboard', 'intake motor', '.name']\n",
      "Name: /SmartDashboard/intake motor/.type                           Value:Command              \t Age:     18  Type: NetworkTableType.kString  Levels:['SmartDashboard', 'intake motor', '.type']\n",
      "Name: /SmartDashboard/intake motor/running                         Value:False                \t Age:     18  Type: NetworkTableType.kBoolean  Levels:['SmartDashboard', 'intake motor', 'running']\n",
      "Name: /SmartDashboard/intake piston/.controllable                  Value:True                 \t Age:     18  Type: NetworkTableType.kBoolean  Levels:['SmartDashboard', 'intake piston', '.controllable']\n",
      "Name: /SmartDashboard/intake piston/.name                          Value:intake piston        \t Age:     18  Type: NetworkTableType.kString  Levels:['SmartDashboard', 'intake piston', '.name']\n",
      "Name: /SmartDashboard/intake piston/.type                          Value:Command              \t Age:     18  Type: NetworkTableType.kString  Levels:['SmartDashboard', 'intake piston', '.type']\n",
      "Name: /SmartDashboard/intake piston/running                        Value:False                \t Age:     18  Type: NetworkTableType.kBoolean  Levels:['SmartDashboard', 'intake piston', 'running']\n",
      "Name: /SmartDashboard/intake_extended                              Value:False                \t Age:     18  Type: NetworkTableType.kBoolean  Levels:['SmartDashboard', 'intake_extended']\n",
      "Name: /SmartDashboard/intake_motor_pwr                             Value:-0.0                 \t Age:     18  Type: NetworkTableType.kDouble  Levels:['SmartDashboard', 'intake_motor_pwr']\n",
      "Name: /SmartDashboard/intake_motor_state                           Value:False                \t Age:     18  Type: NetworkTableType.kBoolean  Levels:['SmartDashboard', 'intake_motor_state']\n",
      "Name: /SmartDashboard/intake_speed                                 Value:0.65                 \t Age:     18  Type: NetworkTableType.kDouble  Levels:['SmartDashboard', 'intake_speed']\n",
      "Name: /SmartDashboard/intake_state                                 Value:False                \t Age:     18  Type: NetworkTableType.kBoolean  Levels:['SmartDashboard', 'intake_state']\n",
      "Name: /SmartDashboard/path velocity/.controllable                  Value:True                 \t Age:     18  Type: NetworkTableType.kBoolean  Levels:['SmartDashboard', 'path velocity', '.controllable']\n",
      "Name: /SmartDashboard/path velocity/.instance                      Value:1.0                  \t Age:     18  Type: NetworkTableType.kDouble  Levels:['SmartDashboard', 'path velocity', '.instance']\n",
      "Name: /SmartDashboard/path velocity/.name                          Value:path velocity        \t Age:     18  Type: NetworkTableType.kString  Levels:['SmartDashboard', 'path velocity', '.name']\n",
      "Name: /SmartDashboard/path velocity/.type                          Value:String Chooser       \t Age:     18  Type: NetworkTableType.kString  Levels:['SmartDashboard', 'path velocity', '.type']\n",
      "Name: /SmartDashboard/path velocity/active                         Value:2.5                  \t Age:     18  Type: NetworkTableType.kString  Levels:['SmartDashboard', 'path velocity', 'active']\n",
      "Name: /SmartDashboard/path velocity/default                        Value:2.5                  \t Age:     18  Type: NetworkTableType.kString  Levels:['SmartDashboard', 'path velocity', 'default']\n",
      "Name: /SmartDashboard/path velocity/options                        Value:['0.5', '1.0', '1.5', '2.0', '2.5', '3.0', '3.5', '4.0', '4.5', '5.0'] \t Age:     18  Type: NetworkTableType.kStringArray  Levels:['SmartDashboard', 'path velocity', 'options']\n",
      "Name: /SmartDashboard/ramsete path/.controllable                   Value:True                 \t Age:     18  Type: NetworkTableType.kBoolean  Levels:['SmartDashboard', 'ramsete path', '.controllable']\n",
      "Name: /SmartDashboard/ramsete path/.instance                       Value:0.0                  \t Age:     18  Type: NetworkTableType.kDouble  Levels:['SmartDashboard', 'ramsete path', '.instance']\n",
      "Name: /SmartDashboard/ramsete path/.name                           Value:ramsete path         \t Age:     18  Type: NetworkTableType.kString  Levels:['SmartDashboard', 'ramsete path', '.name']\n",
      "Name: /SmartDashboard/ramsete path/.type                           Value:String Chooser       \t Age:     18  Type: NetworkTableType.kString  Levels:['SmartDashboard', 'ramsete path', '.type']\n",
      "Name: /SmartDashboard/ramsete path/active                          Value:2_circle             \t Age:     18  Type: NetworkTableType.kString  Levels:['SmartDashboard', 'ramsete path', 'active']\n",
      "Name: /SmartDashboard/ramsete path/default                         Value:2_circle             \t Age:     18  Type: NetworkTableType.kString  Levels:['SmartDashboard', 'ramsete path', 'default']\n",
      "Name: /SmartDashboard/ramsete path/options                         Value:['2_circle', '2_meters', 'Unnamed.path', 'barrel_pw0', 'barrel_pw1', 'bounce_pw0', 'bounce_pw1', 'bounce_pw2', 'bounce_pw3', 'bounce_pw4', 'calibrate', 'calibrate_rev', 'slalom_pw0_square', 'slalom_pw1_mixed', 'slalom_pw4_smooth', 'z_loop', 'z_points', 'z_poses', 'z_test'] \t Age:     18  Type: NetworkTableType.kStringArray  Levels:['SmartDashboard', 'ramsete path', 'options']\n",
      "Name: /SmartDashboard/shooter_ready                                Value:False                \t Age:     18  Type: NetworkTableType.kBoolean  Levels:['SmartDashboard', 'shooter_ready']\n",
      "Name: /SmartDashboard/shooter_rpm                                  Value:0.0                  \t Age:     18  Type: NetworkTableType.kDouble  Levels:['SmartDashboard', 'shooter_rpm']\n",
      "Name: /SmartDashboard/shooter_state                                Value:False                \t Age:     18  Type: NetworkTableType.kBoolean  Levels:['SmartDashboard', 'shooter_state']\n",
      "Name: /SmartDashboard/toggle compressor/.controllable              Value:True                 \t Age:     18  Type: NetworkTableType.kBoolean  Levels:['SmartDashboard', 'toggle compressor', '.controllable']\n",
      "Name: /SmartDashboard/toggle compressor/.name                      Value:toggle compressor    \t Age:     18  Type: NetworkTableType.kString  Levels:['SmartDashboard', 'toggle compressor', '.name']\n",
      "Name: /SmartDashboard/toggle compressor/.type                      Value:Command              \t Age:     18  Type: NetworkTableType.kString  Levels:['SmartDashboard', 'toggle compressor', '.type']\n",
      "Name: /SmartDashboard/toggle compressor/running                    Value:False                \t Age:     18  Type: NetworkTableType.kBoolean  Levels:['SmartDashboard', 'toggle compressor', 'running']\n",
      "Name: /SmartDashboard/toggle shooter/.controllable                 Value:True                 \t Age:     18  Type: NetworkTableType.kBoolean  Levels:['SmartDashboard', 'toggle shooter', '.controllable']\n",
      "Name: /SmartDashboard/toggle shooter/.name                         Value:toggle shooter       \t Age:     18  Type: NetworkTableType.kString  Levels:['SmartDashboard', 'toggle shooter', '.name']\n",
      "Name: /SmartDashboard/toggle shooter/.type                         Value:Command              \t Age:     18  Type: NetworkTableType.kString  Levels:['SmartDashboard', 'toggle shooter', '.type']\n",
      "Name: /SmartDashboard/toggle shooter/running                       Value:False                \t Age:     18  Type: NetworkTableType.kBoolean  Levels:['SmartDashboard', 'toggle shooter', 'running']\n"
     ]
    },
    {
     "name": "stderr",
     "output_type": "stream",
     "text": [
      "could not resolve roboRIO-2429-FRC.local address\n",
      "could not resolve roboRIO-2429-FRC.local address\n",
      "could not resolve roboRIO-2429-FRC.local address\n",
      "could not resolve roboRIO-2429-FRC.local address\n",
      "could not resolve roboRIO-2429-FRC.local address\n"
     ]
    }
   ],
   "source": [
    "for item in sorted_tree:\n",
    "    entry = ntinst.getEntry(item)\n",
    "    entry_val = entry.getValue()\n",
    "    name = entry.getName()\n",
    "    # value = val.getDouble() if val.isDouble() else val.getBoolean() if val.isBoolean else val.getString if val.isString else ''\n",
    "    value = entry_val.value()\n",
    "    print(f'Name: {entry.getName():60s} Value:{str(value):20s} \\t Age: {int(time.time() - entry_val.time()/1E6):6d}  Type: {entry.getType()}  Levels:{name[1:].split(\"/\")}')"
   ]
  },
  {
   "cell_type": "code",
   "execution_count": 353,
   "id": "06c8e188-4d4a-4bfe-8c0d-44b4cad48e4d",
   "metadata": {},
   "outputs": [],
   "source": [
    "t = ntinst.getEntry(sorted_tree[100])"
   ]
  },
  {
   "cell_type": "code",
   "execution_count": 356,
   "id": "96aadbbe-36a5-42b2-9029-9194df9e5e23",
   "metadata": {},
   "outputs": [
    {
     "data": {
      "text/plain": [
       "<_pyntcore._ntcore.NetworkTableEntry at 0x177f630adf0>"
      ]
     },
     "execution_count": 356,
     "metadata": {},
     "output_type": "execute_result"
    }
   ],
   "source": [
    "t= ntinst.getEntry('/SmartDashboard/shooter_rpm')\n",
    "t"
   ]
  },
  {
   "cell_type": "code",
   "execution_count": 322,
   "id": "45e3c5f9-8c58-4d06-819b-9cb3258a5899",
   "metadata": {},
   "outputs": [
    {
     "data": {
      "text/plain": [
       "['Flags',\n",
       " 'addListener',\n",
       " 'clearFlags',\n",
       " 'clearPersistent',\n",
       " 'delete',\n",
       " 'exists',\n",
       " 'forceSetBoolean',\n",
       " 'forceSetBooleanArray',\n",
       " 'forceSetDouble',\n",
       " 'forceSetDoubleArray',\n",
       " 'forceSetRaw',\n",
       " 'forceSetString',\n",
       " 'forceSetStringArray',\n",
       " 'forceSetValue',\n",
       " 'getBoolean',\n",
       " 'getBooleanArray',\n",
       " 'getDouble',\n",
       " 'getDoubleArray',\n",
       " 'getFlags',\n",
       " 'getHandle',\n",
       " 'getInfo',\n",
       " 'getInstance',\n",
       " 'getLastChange',\n",
       " 'getName',\n",
       " 'getRaw',\n",
       " 'getString',\n",
       " 'getStringArray',\n",
       " 'getType',\n",
       " 'getValue',\n",
       " 'isPersistent',\n",
       " 'removeListener',\n",
       " 'setBoolean',\n",
       " 'setBooleanArray',\n",
       " 'setDefaultBoolean',\n",
       " 'setDefaultBooleanArray',\n",
       " 'setDefaultDouble',\n",
       " 'setDefaultDoubleArray',\n",
       " 'setDefaultRaw',\n",
       " 'setDefaultString',\n",
       " 'setDefaultStringArray',\n",
       " 'setDefaultValue',\n",
       " 'setDouble',\n",
       " 'setDoubleArray',\n",
       " 'setFlags',\n",
       " 'setPersistent',\n",
       " 'setRaw',\n",
       " 'setString',\n",
       " 'setStringArray',\n",
       " 'setValue',\n",
       " 'value']"
      ]
     },
     "execution_count": 322,
     "metadata": {},
     "output_type": "execute_result"
    }
   ],
   "source": [
    "[item for item in dir(t) if '_' not in item ]"
   ]
  },
  {
   "cell_type": "code",
   "execution_count": 323,
   "id": "8eb6c398-8aeb-4532-b2a1-5dff1c793a34",
   "metadata": {},
   "outputs": [
    {
     "data": {
      "text/plain": [
       "'/LiveWindow/Ungrouped/navX-Sensor[4]/Value'"
      ]
     },
     "execution_count": 323,
     "metadata": {},
     "output_type": "execute_result"
    }
   ],
   "source": [
    "t.getName()"
   ]
  },
  {
   "cell_type": "code",
   "execution_count": 324,
   "id": "36afd6c3-c04f-48f6-b73a-3312d04ef0f4",
   "metadata": {
    "tags": []
   },
   "outputs": [],
   "source": [
    "info = t.getInfo()"
   ]
  },
  {
   "cell_type": "code",
   "execution_count": 325,
   "id": "e5fda3e1-16b0-4f3c-800c-3059d1669d2e",
   "metadata": {},
   "outputs": [
    {
     "data": {
      "text/plain": [
       "['entry', 'flags', 'name', 'type']"
      ]
     },
     "execution_count": 325,
     "metadata": {},
     "output_type": "execute_result"
    }
   ],
   "source": [
    "[item for item in dir(info) if '_' not in item ]"
   ]
  },
  {
   "cell_type": "code",
   "execution_count": 326,
   "id": "94d7b389-beab-40fb-be94-587661020d1c",
   "metadata": {},
   "outputs": [
    {
     "data": {
      "text/plain": [
       "<NetworkTableType.kDouble: 2>"
      ]
     },
     "execution_count": 326,
     "metadata": {},
     "output_type": "execute_result"
    }
   ],
   "source": [
    "t.getType()"
   ]
  },
  {
   "cell_type": "code",
   "execution_count": 327,
   "id": "c84fc097-9d92-415b-9192-066ae076d407",
   "metadata": {},
   "outputs": [
    {
     "data": {
      "text/plain": [
       "1647237228607517"
      ]
     },
     "execution_count": 327,
     "metadata": {},
     "output_type": "execute_result"
    }
   ],
   "source": [
    "t.getLastChange()"
   ]
  },
  {
   "cell_type": "code",
   "execution_count": 330,
   "id": "e4a39691-0c10-431c-9ecc-49a25edbd8d2",
   "metadata": {},
   "outputs": [
    {
     "ename": "AttributeError",
     "evalue": "'_pyntcore._ntcore.NetworkTableEntry' object has no attribute 'time'",
     "output_type": "error",
     "traceback": [
      "\u001b[1;31m---------------------------------------------------------------------------\u001b[0m",
      "\u001b[1;31mAttributeError\u001b[0m                            Traceback (most recent call last)",
      "\u001b[1;32m~\\AppData\\Local\\Temp\\1/ipykernel_24920/862336004.py\u001b[0m in \u001b[0;36m<module>\u001b[1;34m\u001b[0m\n\u001b[1;32m----> 1\u001b[1;33m \u001b[0mt\u001b[0m\u001b[1;33m.\u001b[0m\u001b[0mtime\u001b[0m\u001b[1;33m(\u001b[0m\u001b[1;33m)\u001b[0m\u001b[1;33m\u001b[0m\u001b[1;33m\u001b[0m\u001b[0m\n\u001b[0m",
      "\u001b[1;31mAttributeError\u001b[0m: '_pyntcore._ntcore.NetworkTableEntry' object has no attribute 'time'"
     ]
    }
   ],
   "source": [
    "t.time()"
   ]
  },
  {
   "cell_type": "code",
   "execution_count": 328,
   "id": "207fcee0-6d69-49c6-8da3-e265e0eea9cd",
   "metadata": {},
   "outputs": [],
   "source": [
    "val = t.getValue()"
   ]
  },
  {
   "cell_type": "code",
   "execution_count": 329,
   "id": "e915a76b-034d-43be-a376-12d7e4612510",
   "metadata": {},
   "outputs": [
    {
     "data": {
      "text/plain": [
       "['getBoolean',\n",
       " 'getBooleanArray',\n",
       " 'getDouble',\n",
       " 'getDoubleArray',\n",
       " 'getFactoryByType',\n",
       " 'getRaw',\n",
       " 'getRpc',\n",
       " 'getString',\n",
       " 'getStringArray',\n",
       " 'isBoolean',\n",
       " 'isBooleanArray',\n",
       " 'isDouble',\n",
       " 'isDoubleArray',\n",
       " 'isRaw',\n",
       " 'isRpc',\n",
       " 'isString',\n",
       " 'isStringArray',\n",
       " 'isValid',\n",
       " 'makeBoolean',\n",
       " 'makeBooleanArray',\n",
       " 'makeDouble',\n",
       " 'makeDoubleArray',\n",
       " 'makeRaw',\n",
       " 'makeRpc',\n",
       " 'makeString',\n",
       " 'makeStringArray',\n",
       " 'makeValue',\n",
       " 'time',\n",
       " 'type',\n",
       " 'value']"
      ]
     },
     "execution_count": 329,
     "metadata": {},
     "output_type": "execute_result"
    }
   ],
   "source": [
    "[item for item in dir(val) if '_' not in item ]"
   ]
  },
  {
   "cell_type": "code",
   "execution_count": 187,
   "id": "af6765e7-318f-4f07-aad8-eddd18369127",
   "metadata": {},
   "outputs": [
    {
     "data": {
      "text/plain": [
       "281.15814208984375"
      ]
     },
     "execution_count": 187,
     "metadata": {},
     "output_type": "execute_result"
    }
   ],
   "source": [
    "val.getDouble()"
   ]
  },
  {
   "cell_type": "code",
   "execution_count": 333,
   "id": "76414e37-fdfa-4636-8cf7-4bf85b2b343c",
   "metadata": {},
   "outputs": [
    {
     "data": {
      "text/plain": [
       "1647237228607517"
      ]
     },
     "execution_count": 333,
     "metadata": {},
     "output_type": "execute_result"
    }
   ],
   "source": [
    "val.last_change()"
   ]
  },
  {
   "cell_type": "code",
   "execution_count": 331,
   "id": "cfb5e3a0-d560-4ed8-945f-5f7ea232272e",
   "metadata": {},
   "outputs": [
    {
     "data": {
      "text/plain": [
       "1647237228607517"
      ]
     },
     "execution_count": 331,
     "metadata": {},
     "output_type": "execute_result"
    }
   ],
   "source": [
    "val.time()"
   ]
  },
  {
   "cell_type": "code",
   "execution_count": 336,
   "id": "0259827a-0da8-47ab-88de-909a37b5bff9",
   "metadata": {},
   "outputs": [
    {
     "data": {
      "text/plain": [
       "\u001b[1;31mDocstring:\u001b[0m\n",
       "time(self: _pyntcore._ntcore.Value) -> int\n",
       "\n",
       "Get the creation time of the value.\n",
       "\n",
       ":returns: The time, in the units returned by nt::Now().\n",
       "\u001b[1;31mType:\u001b[0m      method\n"
      ]
     },
     "metadata": {},
     "output_type": "display_data"
    },
    {
     "name": "stderr",
     "output_type": "stream",
     "text": [
      "could not resolve roboRIO-2429-FRC.local address\n",
      "could not resolve roboRIO-2429-FRC.local address\n",
      "could not resolve roboRIO-2429-FRC.local address\n",
      "could not resolve roboRIO-2429-FRC.local address\n",
      "could not resolve roboRIO-2429-FRC.local address\n",
      "could not resolve roboRIO-2429-FRC.local address\n",
      "could not resolve roboRIO-2429-FRC.local address\n",
      "could not resolve roboRIO-2429-FRC.local address\n",
      "could not resolve roboRIO-2429-FRC.local address\n",
      "could not resolve roboRIO-2429-FRC.local address\n",
      "could not resolve roboRIO-2429-FRC.local address\n",
      "could not resolve roboRIO-2429-FRC.local address\n",
      "could not resolve roboRIO-2429-FRC.local address\n",
      "could not resolve roboRIO-2429-FRC.local address\n",
      "could not resolve roboRIO-2429-FRC.local address\n",
      "could not resolve roboRIO-2429-FRC.local address\n",
      "could not resolve roboRIO-2429-FRC.local address\n",
      "could not resolve roboRIO-2429-FRC.local address\n",
      "could not resolve roboRIO-2429-FRC.local address\n",
      "could not resolve roboRIO-2429-FRC.local address\n",
      "could not resolve roboRIO-2429-FRC.local address\n",
      "could not resolve roboRIO-2429-FRC.local address\n",
      "could not resolve roboRIO-2429-FRC.local address\n",
      "could not resolve roboRIO-2429-FRC.local address\n",
      "could not resolve roboRIO-2429-FRC.local address\n",
      "could not resolve roboRIO-2429-FRC.local address\n",
      "could not resolve roboRIO-2429-FRC.local address\n",
      "could not resolve roboRIO-2429-FRC.local address\n",
      "could not resolve roboRIO-2429-FRC.local address\n",
      "could not resolve roboRIO-2429-FRC.local address\n",
      "could not resolve roboRIO-2429-FRC.local address\n",
      "could not resolve roboRIO-2429-FRC.local address\n",
      "could not resolve roboRIO-2429-FRC.local address\n",
      "could not resolve roboRIO-2429-FRC.local address\n",
      "could not resolve roboRIO-2429-FRC.local address\n",
      "could not resolve roboRIO-2429-FRC.local address\n",
      "could not resolve roboRIO-2429-FRC.local address\n",
      "could not resolve roboRIO-2429-FRC.local address\n",
      "could not resolve roboRIO-2429-FRC.local address\n",
      "could not resolve roboRIO-2429-FRC.local address\n",
      "could not resolve roboRIO-2429-FRC.local address\n",
      "could not resolve roboRIO-2429-FRC.local address\n",
      "could not resolve roboRIO-2429-FRC.local address\n",
      "could not resolve roboRIO-2429-FRC.local address\n",
      "could not resolve roboRIO-2429-FRC.local address\n",
      "could not resolve roboRIO-2429-FRC.local address\n",
      "could not resolve roboRIO-2429-FRC.local address\n",
      "could not resolve roboRIO-2429-FRC.local address\n",
      "could not resolve roboRIO-2429-FRC.local address\n",
      "could not resolve roboRIO-2429-FRC.local address\n",
      "could not resolve roboRIO-2429-FRC.local address\n",
      "could not resolve roboRIO-2429-FRC.local address\n",
      "could not resolve roboRIO-2429-FRC.local address\n",
      "could not resolve roboRIO-2429-FRC.local address\n",
      "could not resolve roboRIO-2429-FRC.local address\n",
      "could not resolve roboRIO-2429-FRC.local address\n",
      "could not resolve roboRIO-2429-FRC.local address\n",
      "could not resolve roboRIO-2429-FRC.local address\n",
      "could not resolve roboRIO-2429-FRC.local address\n",
      "could not resolve roboRIO-2429-FRC.local address\n",
      "could not resolve roboRIO-2429-FRC.local address\n",
      "could not resolve roboRIO-2429-FRC.local address\n",
      "could not resolve roboRIO-2429-FRC.local address\n",
      "could not resolve roboRIO-2429-FRC.local address\n",
      "could not resolve roboRIO-2429-FRC.local address\n",
      "could not resolve roboRIO-2429-FRC.local address\n",
      "could not resolve roboRIO-2429-FRC.local address\n",
      "could not resolve roboRIO-2429-FRC.local address\n",
      "could not resolve roboRIO-2429-FRC.local address\n",
      "could not resolve roboRIO-2429-FRC.local address\n",
      "could not resolve roboRIO-2429-FRC.local address\n",
      "could not resolve roboRIO-2429-FRC.local address\n",
      "could not resolve roboRIO-2429-FRC.local address\n",
      "could not resolve roboRIO-2429-FRC.local address\n",
      "could not resolve roboRIO-2429-FRC.local address\n",
      "could not resolve roboRIO-2429-FRC.local address\n",
      "could not resolve roboRIO-2429-FRC.local address\n",
      "could not resolve roboRIO-2429-FRC.local address\n",
      "could not resolve roboRIO-2429-FRC.local address\n",
      "could not resolve roboRIO-2429-FRC.local address\n",
      "could not resolve roboRIO-2429-FRC.local address\n",
      "could not resolve roboRIO-2429-FRC.local address\n",
      "could not resolve roboRIO-2429-FRC.local address\n",
      "could not resolve roboRIO-2429-FRC.local address\n",
      "could not resolve roboRIO-2429-FRC.local address\n",
      "could not resolve roboRIO-2429-FRC.local address\n",
      "could not resolve roboRIO-2429-FRC.local address\n",
      "could not resolve roboRIO-2429-FRC.local address\n",
      "could not resolve roboRIO-2429-FRC.local address\n",
      "could not resolve roboRIO-2429-FRC.local address\n",
      "could not resolve roboRIO-2429-FRC.local address\n",
      "could not resolve roboRIO-2429-FRC.local address\n",
      "could not resolve roboRIO-2429-FRC.local address\n",
      "could not resolve roboRIO-2429-FRC.local address\n",
      "could not resolve roboRIO-2429-FRC.local address\n",
      "could not resolve roboRIO-2429-FRC.local address\n",
      "could not resolve roboRIO-2429-FRC.local address\n",
      "could not resolve roboRIO-2429-FRC.local address\n",
      "could not resolve roboRIO-2429-FRC.local address\n",
      "could not resolve roboRIO-2429-FRC.local address\n",
      "could not resolve roboRIO-2429-FRC.local address\n",
      "could not resolve roboRIO-2429-FRC.local address\n",
      "could not resolve roboRIO-2429-FRC.local address\n",
      "could not resolve roboRIO-2429-FRC.local address\n",
      "could not resolve roboRIO-2429-FRC.local address\n",
      "could not resolve roboRIO-2429-FRC.local address\n",
      "could not resolve roboRIO-2429-FRC.local address\n",
      "could not resolve roboRIO-2429-FRC.local address\n",
      "could not resolve roboRIO-2429-FRC.local address\n",
      "could not resolve roboRIO-2429-FRC.local address\n",
      "could not resolve roboRIO-2429-FRC.local address\n",
      "could not resolve roboRIO-2429-FRC.local address\n"
     ]
    }
   ],
   "source": [
    "val.time??"
   ]
  },
  {
   "cell_type": "code",
   "execution_count": 202,
   "id": "38f95ef2-20fd-401f-9ee1-fabd5212b285",
   "metadata": {},
   "outputs": [
    {
     "data": {
      "text/plain": [
       "281.15814208984375"
      ]
     },
     "execution_count": 202,
     "metadata": {},
     "output_type": "execute_result"
    }
   ],
   "source": [
    "val.value()"
   ]
  },
  {
   "cell_type": "code",
   "execution_count": 276,
   "id": "062e7aeb-c159-4852-aa6f-0eb252f97a6c",
   "metadata": {},
   "outputs": [],
   "source": [
    "# generate the dictionary\n",
    "d={}\n",
    "levels = [s[1:].split('/') for s in sorted_tree]\n",
    "for path in levels:\n",
    "    current_level = d\n",
    "    for part in path:\n",
    "        if part not in current_level:\n",
    "            current_level[part] = {}\n",
    "        current_level = current_level[part]\n",
    "#d"
   ]
  },
  {
   "cell_type": "code",
   "execution_count": 263,
   "id": "3d3e5ba8-aab1-4d3c-9856-53ec8aa35439",
   "metadata": {},
   "outputs": [
    {
     "data": {
      "text/plain": [
       "['LiveWindow', 'Ungrouped', 'navX-Sensor[4]', 'Value']"
      ]
     },
     "execution_count": 263,
     "metadata": {},
     "output_type": "execute_result"
    }
   ],
   "source": [
    "levels[100]"
   ]
  },
  {
   "cell_type": "code",
   "execution_count": 269,
   "id": "4bcaf98e-71f7-46f4-86f2-74da9610ee24",
   "metadata": {},
   "outputs": [
    {
     "data": {
      "text/plain": [
       "10"
      ]
     },
     "execution_count": 269,
     "metadata": {},
     "output_type": "execute_result"
    }
   ],
   "source": [
    "d['LiveWindow']['Ungrouped']['navX-Sensor[4]']['Value']"
   ]
  },
  {
   "cell_type": "code",
   "execution_count": 283,
   "id": "f355e398-a6d5-4ba6-a499-7ff4b71511b0",
   "metadata": {},
   "outputs": [],
   "source": [
    "for item in sorted_tree:\n",
    "    value = ntinst.getEntry(item).getValue().value()\n",
    "    levels = item[1:].split('/')\n",
    "    if len(levels) == 2:\n",
    "        d[levels[0]][levels[1]] = value\n",
    "    elif len(levels) == 3:\n",
    "        d[levels[0]][levels[1]][levels[2]] = value\n",
    "    elif len(levels) == 4:\n",
    "        d[levels[0]][levels[1]][levels[2]][levels[3]] = value"
   ]
  },
  {
   "cell_type": "code",
   "execution_count": 284,
   "id": "5583d5d1-b708-4925-91cd-320f7097fe23",
   "metadata": {},
   "outputs": [
    {
     "data": {
      "text/plain": [
       "{'FMSInfo': {'.type': 'FMSInfo',\n",
       "  'EventName': '',\n",
       "  'FMSControlData': 33.0,\n",
       "  'GameSpecificMessage': '',\n",
       "  'IsRedAlliance': True,\n",
       "  'MatchNumber': 0.0,\n",
       "  'MatchType': 0.0,\n",
       "  'ReplayNumber': 0.0,\n",
       "  'StationNumber': 1.0},\n",
       " 'LiveWindow': {'.status': {'LW Enabled': False},\n",
       "  'Ungrouped': {'.type': 'LW Subsystem',\n",
       "   'AnalogInput[0]': {'.name': 'AnalogInput[0]',\n",
       "    '.type': 'Analog Input',\n",
       "    'Value': 0.0},\n",
       "   'Climber': {'.command': 'none',\n",
       "    '.default': 'none',\n",
       "    '.hasCommand': False,\n",
       "    '.hasDefault': False,\n",
       "    '.name': 'Climber',\n",
       "    '.type': 'Subsystem'},\n",
       "   'Compressor[0]': {'.name': 'Compressor[0]',\n",
       "    '.type': 'Compressor',\n",
       "    'Enabled': False,\n",
       "    'Pressure switch': False},\n",
       "   'DifferentialDrive[1]': {'.actuator': True,\n",
       "    '.name': 'DifferentialDrive[1]',\n",
       "    '.type': 'DifferentialDrive',\n",
       "    'Left Motor Speed': 0.0,\n",
       "    'Right Motor Speed': 0.0},\n",
       "   'Indexer': {'.command': 'none',\n",
       "    '.default': 'none',\n",
       "    '.hasCommand': False,\n",
       "    '.hasDefault': False,\n",
       "    '.name': 'Indexer',\n",
       "    '.type': 'Subsystem'},\n",
       "   'Intake': {'.command': 'none',\n",
       "    '.default': 'none',\n",
       "    '.hasCommand': False,\n",
       "    '.hasDefault': False,\n",
       "    '.name': 'Intake',\n",
       "    '.type': 'Subsystem'},\n",
       "   'PWMSparkMax[1]': {'.actuator': True,\n",
       "    '.name': 'PWMSparkMax[1]',\n",
       "    '.type': 'Motor Controller',\n",
       "    'Value': 0.0},\n",
       "   'PWMSparkMax[3]': {'.actuator': True,\n",
       "    '.name': 'PWMSparkMax[3]',\n",
       "    '.type': 'Motor Controller',\n",
       "    'Value': -0.0},\n",
       "   'Pneumatics': {'.command': 'none',\n",
       "    '.default': 'none',\n",
       "    '.hasCommand': False,\n",
       "    '.hasDefault': False,\n",
       "    '.name': 'Pneumatics',\n",
       "    '.type': 'Subsystem'},\n",
       "   'Scheduler': {'.name': 'Scheduler',\n",
       "    '.type': 'Scheduler',\n",
       "    'Cancel': [],\n",
       "    'Ids': [2216982232256.0],\n",
       "    'Names': ['class frc2::CommandBase']},\n",
       "   'Shooter': {'.command': 'none',\n",
       "    '.default': 'none',\n",
       "    '.hasCommand': False,\n",
       "    '.hasDefault': False,\n",
       "    '.name': 'Shooter',\n",
       "    '.type': 'Subsystem'},\n",
       "   'Solenoid[0,0]': {'.actuator': True,\n",
       "    '.name': 'Solenoid[0,0]',\n",
       "    '.type': 'Solenoid',\n",
       "    'Value': False},\n",
       "   'Solenoid[0,1]': {'.actuator': True,\n",
       "    '.name': 'Solenoid[0,1]',\n",
       "    '.type': 'Solenoid',\n",
       "    'Value': False},\n",
       "   'Solenoid[0,2]': {'.actuator': True,\n",
       "    '.name': 'Solenoid[0,2]',\n",
       "    '.type': 'Solenoid',\n",
       "    'Value': False},\n",
       "   'Solenoid[0,3]': {'.actuator': True,\n",
       "    '.name': 'Solenoid[0,3]',\n",
       "    '.type': 'Solenoid',\n",
       "    'Value': False},\n",
       "   'Spark[5]': {'.actuator': True,\n",
       "    '.name': 'Spark[5]',\n",
       "    '.type': 'Motor Controller',\n",
       "    'Value': -0.0},\n",
       "   'Vision': {'.command': 'none',\n",
       "    '.default': 'none',\n",
       "    '.hasCommand': False,\n",
       "    '.hasDefault': False,\n",
       "    '.name': 'Vision',\n",
       "    '.type': 'Subsystem'},\n",
       "   'class frc2::SubsystemBase': {'.command': 'class frc2::CommandBase',\n",
       "    '.default': 'class frc2::CommandBase',\n",
       "    '.hasCommand': True,\n",
       "    '.hasDefault': True,\n",
       "    '.name': 'class frc2::SubsystemBase',\n",
       "    '.type': 'Subsystem'},\n",
       "   'navX-Sensor[4]': {'.name': 'navX-Sensor[4]',\n",
       "    '.type': 'Gyro',\n",
       "    'Value': 281.15814208984375}}},\n",
       " 'Ramsete': {'ramsete_B': 2.0,\n",
       "  'ramsete_Z': 0.9,\n",
       "  'ramsete_kpvel': 0.05,\n",
       "  'ramsete_write': False,\n",
       "  'waypoint_heading': 0.0,\n",
       "  'waypoint_reverse': False,\n",
       "  'waypoint_x': 1.0,\n",
       "  'waypoint_y': 0.0},\n",
       " 'Rev': {'kD_pos': 400.0,\n",
       "  'kD_vel': 0.0,\n",
       "  'kFF_pos': 2.0,\n",
       "  'kFF_vel': 170.0,\n",
       "  'kI_pos': 0.0005,\n",
       "  'kI_vel': 0.5,\n",
       "  'kIz_pos': 0.0,\n",
       "  'kIz_vel': 200.0,\n",
       "  'kP_pos': 50.0,\n",
       "  'kP_vel': 50.0,\n",
       "  'pos_max_accel': 6.0,\n",
       "  'pos_sp': 1.0,\n",
       "  'vel_max_accel': 6.0,\n",
       "  'vel_sp': 1.0},\n",
       " 'SmartDashboard': {'': {'AutoFetchBall': {'kd': 0.0, 'kf': 0.0, 'kp': 0.0},\n",
       "   'Imu': {'kd': 0.0, 'kf': 0.0, 'kp': 0.0},\n",
       "   'Vision': {'ball': {'distance': {}, 'rotation': {}, 'targets': {}}},\n",
       "   'drive': {'left_volts': 0.0, 'right_volts': 0.0},\n",
       "   'sim': {'field_rot': -641.16, 'field_x': 8.17, 'field_y': 2.89}},\n",
       "  'Auto Rotate IMU': {'.controllable': True,\n",
       "   '.name': 'Auto Rotate IMU',\n",
       "   '.type': 'Command',\n",
       "   'running': False},\n",
       "  'AutoFetchBall': {'.controllable': True,\n",
       "   '.name': 'AutoFetchBall',\n",
       "   '.type': 'Command',\n",
       "   'running': False},\n",
       "  'AutoRotateSparkmax': {'.controllable': True,\n",
       "   '.name': 'AutoRotateSparkmax',\n",
       "   '.type': 'Command',\n",
       "   'running': False},\n",
       "  'Field': {'.controllable': True,\n",
       "   '.name': 'Field',\n",
       "   '.type': 'Field2d',\n",
       "   'Robot': [8.17361528175933, 2.8889510945746797, 78.84186110070706]},\n",
       "  'Tune Sparkmax': {'.controllable': True,\n",
       "   '.name': 'Tune Sparkmax',\n",
       "   '.type': 'Command',\n",
       "   'running': False},\n",
       "  'alert': '** Ended Auto Rotate IMU at 30.8 s after 0.6 s **',\n",
       "  'auto lower group': {'.controllable': True,\n",
       "   '.name': 'auto lower group',\n",
       "   '.type': 'Command',\n",
       "   'running': False},\n",
       "  'auto pickup': {'.controllable': True,\n",
       "   '.name': 'auto pickup',\n",
       "   '.type': 'Command',\n",
       "   'running': False},\n",
       "  'auto shoot': {'.controllable': True,\n",
       "   '.name': 'auto shoot',\n",
       "   '.type': 'Command',\n",
       "   'running': False},\n",
       "  'auto stage two': {'.controllable': True,\n",
       "   '.name': 'auto stage two',\n",
       "   '.type': 'Command',\n",
       "   'running': False},\n",
       "  'autonomous routines': {'.controllable': True,\n",
       "   '.instance': 2.0,\n",
       "   '.name': 'autonomous routines',\n",
       "   '.type': 'String Chooser',\n",
       "   'active': '2 ball only',\n",
       "   'default': '2 ball only',\n",
       "   'options': ['2 ball only', '3 ball lower']},\n",
       "  'autonomous_ramsete': {'.controllable': True,\n",
       "   '.name': 'autonomous_ramsete',\n",
       "   '.type': 'Command',\n",
       "   'running': False},\n",
       "  'climber_current': 0.0,\n",
       "  'climber_state': False,\n",
       "  'climber_voltage': 0.0,\n",
       "  'compressor_state': False,\n",
       "  'drive_lpos': 6.99161958694458,\n",
       "  'drive_lvel': -0.0,\n",
       "  'drive_pose': '[8.17, 2.89, 78.84]',\n",
       "  'drive_rpos': -1.127557396888733,\n",
       "  'drive_rvel': 0.0,\n",
       "  'hold to feed': {'.controllable': True,\n",
       "   '.name': 'hold to feed',\n",
       "   '.type': 'Command',\n",
       "   'running': False},\n",
       "  'hub_distance': 999.0,\n",
       "  'hub_rotation': 999.0,\n",
       "  'hub_targets': 0.0,\n",
       "  'indexer_ballsensor': 0.0,\n",
       "  'indexer_state': False,\n",
       "  'indexer_v1': 0.0,\n",
       "  'indexer_v2': 0.0,\n",
       "  'intake motor': {'.controllable': True,\n",
       "   '.name': 'intake motor',\n",
       "   '.type': 'Command',\n",
       "   'running': False},\n",
       "  'intake piston': {'.controllable': True,\n",
       "   '.name': 'intake piston',\n",
       "   '.type': 'Command',\n",
       "   'running': False},\n",
       "  'intake_extended': False,\n",
       "  'intake_motor_pwr': -0.0,\n",
       "  'intake_motor_state': False,\n",
       "  'intake_speed': 0.65,\n",
       "  'intake_state': False,\n",
       "  'path velocity': {'.controllable': True,\n",
       "   '.instance': 1.0,\n",
       "   '.name': 'path velocity',\n",
       "   '.type': 'String Chooser',\n",
       "   'active': '2.5',\n",
       "   'default': '2.5',\n",
       "   'options': ['0.5',\n",
       "    '1.0',\n",
       "    '1.5',\n",
       "    '2.0',\n",
       "    '2.5',\n",
       "    '3.0',\n",
       "    '3.5',\n",
       "    '4.0',\n",
       "    '4.5',\n",
       "    '5.0']},\n",
       "  'ramsete path': {'.controllable': True,\n",
       "   '.instance': 0.0,\n",
       "   '.name': 'ramsete path',\n",
       "   '.type': 'String Chooser',\n",
       "   'active': '2_circle',\n",
       "   'default': '2_circle',\n",
       "   'options': ['2_circle',\n",
       "    '2_meters',\n",
       "    'Unnamed.path',\n",
       "    'barrel_pw0',\n",
       "    'barrel_pw1',\n",
       "    'bounce_pw0',\n",
       "    'bounce_pw1',\n",
       "    'bounce_pw2',\n",
       "    'bounce_pw3',\n",
       "    'bounce_pw4',\n",
       "    'calibrate',\n",
       "    'calibrate_rev',\n",
       "    'slalom_pw0_square',\n",
       "    'slalom_pw1_mixed',\n",
       "    'slalom_pw4_smooth',\n",
       "    'z_loop',\n",
       "    'z_points',\n",
       "    'z_poses',\n",
       "    'z_test']},\n",
       "  'shooter_ready': False,\n",
       "  'shooter_rpm': 0.0,\n",
       "  'shooter_state': False,\n",
       "  'toggle compressor': {'.controllable': True,\n",
       "   '.name': 'toggle compressor',\n",
       "   '.type': 'Command',\n",
       "   'running': False},\n",
       "  'toggle shooter': {'.controllable': True,\n",
       "   '.name': 'toggle shooter',\n",
       "   '.type': 'Command',\n",
       "   'running': False}}}"
      ]
     },
     "execution_count": 284,
     "metadata": {},
     "output_type": "execute_result"
    },
    {
     "name": "stderr",
     "output_type": "stream",
     "text": [
      "could not resolve roboRIO-2429-FRC.local address\n",
      "could not resolve roboRIO-2429-FRC.local address\n",
      "could not resolve roboRIO-2429-FRC.local address\n",
      "could not resolve roboRIO-2429-FRC.local address\n",
      "could not resolve roboRIO-2429-FRC.local address\n",
      "could not resolve roboRIO-2429-FRC.local address\n",
      "could not resolve roboRIO-2429-FRC.local address\n",
      "could not resolve roboRIO-2429-FRC.local address\n"
     ]
    }
   ],
   "source": [
    "d"
   ]
  },
  {
   "cell_type": "code",
   "execution_count": 285,
   "id": "6ed20025-ba9c-44a1-b441-497610166ed3",
   "metadata": {},
   "outputs": [],
   "source": [
    "def depth(d):\n",
    "    if isinstance(d, dict):\n",
    "        return 1 + (max(map(depth, d.values())) if d else 0)\n",
    "    return 0"
   ]
  },
  {
   "cell_type": "code",
   "execution_count": 286,
   "id": "6cbc2acc-456e-4782-811a-3a208deea6b1",
   "metadata": {},
   "outputs": [
    {
     "data": {
      "text/plain": [
       "6"
      ]
     },
     "execution_count": 286,
     "metadata": {},
     "output_type": "execute_result"
    }
   ],
   "source": [
    "depth(d)"
   ]
  },
  {
   "cell_type": "code",
   "execution_count": 291,
   "id": "d2ca95b4-e233-4b87-b37a-30b81b3e219b",
   "metadata": {},
   "outputs": [
    {
     "data": {
      "text/plain": [
       "1"
      ]
     },
     "execution_count": 291,
     "metadata": {},
     "output_type": "execute_result"
    }
   ],
   "source": [
    "depth(d['SmartDashboard']['intake piston'])"
   ]
  },
  {
   "cell_type": "code",
   "execution_count": 345,
   "id": "f7cb6744-95f4-46df-a78f-c0db42b9e278",
   "metadata": {},
   "outputs": [],
   "source": [
    "widget_dict = {'qlabel_camera_view': {'widget':'self.qlabel_camera_view', 'table':''},\n",
    "        'qlabel_climber_indicator':{'widget':'self.qlabel_climber_indicator', 'table':''},\n",
    "        }"
   ]
  },
  {
   "cell_type": "code",
   "execution_count": 351,
   "id": "3ba9f9aa-eef0-4c4d-a0ae-746fe06af6f5",
   "metadata": {},
   "outputs": [
    {
     "name": "stdout",
     "output_type": "stream",
     "text": [
      "qlabel_camera_view {'widget': 'self.qlabel_camera_view', 'table': ''}\n",
      "qlabel_climber_indicator {'widget': 'self.qlabel_climber_indicator', 'table': ''}\n"
     ]
    }
   ],
   "source": [
    "for key, value in widget_dict.items():\n",
    "    print(key, value)"
   ]
  },
  {
   "cell_type": "code",
   "execution_count": null,
   "id": "8176a5c8-2d31-4b19-877d-1b7907a4bf3c",
   "metadata": {},
   "outputs": [],
   "source": []
  }
 ],
 "metadata": {
  "kernelspec": {
   "display_name": "Python [conda env:robo2022]",
   "language": "python",
   "name": "conda-env-robo2022-py"
  },
  "language_info": {
   "codemirror_mode": {
    "name": "ipython",
    "version": 3
   },
   "file_extension": ".py",
   "mimetype": "text/x-python",
   "name": "python",
   "nbconvert_exporter": "python",
   "pygments_lexer": "ipython3",
   "version": "3.9.7"
  }
 },
 "nbformat": 4,
 "nbformat_minor": 5
}
