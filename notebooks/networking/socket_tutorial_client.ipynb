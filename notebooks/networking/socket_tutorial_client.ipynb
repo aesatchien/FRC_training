{
 "cells": [
  {
   "cell_type": "markdown",
   "id": "f53ef5e7-ac26-4d7e-91f8-bcdb1f1ece37",
   "metadata": {},
   "source": [
    "#### The client side\n",
    "* for us, this could be in a subsystem on the robot and we just get the info several times per second\n",
    "* for the demo, i added the ability to look at the localhost"
   ]
  },
  {
   "cell_type": "code",
   "execution_count": 2,
   "id": "24f930be-b065-4d47-850e-331d2a8ad044",
   "metadata": {
    "tags": []
   },
   "outputs": [
    {
     "name": "stdout",
     "output_type": "stream",
     "text": [
      "{'TIME': 1642620407.932298, 'TARGETS_BLUE': 11, 'TARGETS_RED': 2}\n"
     ]
    }
   ],
   "source": [
    "# Import socket module\n",
    "import socket\n",
    "import json\n",
    " \n",
    "# Create a socket object\n",
    "s = socket.socket()        \n",
    " \n",
    "# Define the port on which you want to connect\n",
    "port = 12345               \n",
    " \n",
    "# connect to the server on local computer\n",
    "robot = False\n",
    "if robot:\n",
    "    ip = '192.168.1.50'\n",
    "else:\n",
    "    ip = '127.0.0.1'\n",
    "s.connect((ip, port))\n",
    " \n",
    "# receive data from the server and decoding to get the string\n",
    "#print (s.recv(1024).decode())\n",
    "data_received = s.recv(1024).decode()  # may have to be careful if we send more data\n",
    "data = json.loads(data_received) # data loaded from a json format into a python dictionary\n",
    "# close the connection\n",
    "s.close()\n",
    "print(data)"
   ]
  },
  {
   "cell_type": "markdown",
   "id": "524a10f3-150e-41ce-a127-7f365ea5f449",
   "metadata": {},
   "source": [
    "#### now we have a dictionary we can check"
   ]
  },
  {
   "cell_type": "code",
   "execution_count": 4,
   "id": "431368fc-720d-495b-a515-19f4c3014a05",
   "metadata": {},
   "outputs": [
    {
     "data": {
      "text/plain": [
       "1642620407.932298"
      ]
     },
     "execution_count": 4,
     "metadata": {},
     "output_type": "execute_result"
    }
   ],
   "source": [
    "data['TIME']"
   ]
  },
  {
   "cell_type": "code",
   "execution_count": 5,
   "id": "23e048f9-1668-4f56-aa97-acaf841a53f1",
   "metadata": {},
   "outputs": [
    {
     "data": {
      "text/plain": [
       "11"
      ]
     },
     "execution_count": 5,
     "metadata": {},
     "output_type": "execute_result"
    }
   ],
   "source": [
    "data['TARGETS_BLUE']"
   ]
  },
  {
   "cell_type": "code",
   "execution_count": null,
   "id": "2b432d39-2a75-402d-906c-6b9f677297ea",
   "metadata": {},
   "outputs": [],
   "source": []
  }
 ],
 "metadata": {
  "kernelspec": {
   "display_name": "Python 3 (ipykernel)",
   "language": "python",
   "name": "python3"
  },
  "language_info": {
   "codemirror_mode": {
    "name": "ipython",
    "version": 3
   },
   "file_extension": ".py",
   "mimetype": "text/x-python",
   "name": "python",
   "nbconvert_exporter": "python",
   "pygments_lexer": "ipython3",
   "version": "3.9.5"
  }
 },
 "nbformat": 4,
 "nbformat_minor": 5
}
