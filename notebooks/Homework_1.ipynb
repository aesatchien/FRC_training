{
 "cells": [
  {
   "cell_type": "markdown",
   "id": "parliamentary-scheme",
   "metadata": {},
   "source": [
    "### Hints for homework with the commands2 library - 2021 1231 CJH\n",
    "---"
   ]
  },
  {
   "cell_type": "markdown",
   "id": "advised-weather",
   "metadata": {},
   "source": [
    "### What is already in the template\n",
    "* The robotpy example (hatch) has a working drivetrain (drivesusbsystem.py) and a drivetrain sim\n",
    "* It has a robotcontainer.py that can show you how to \n",
    "  * import and instantiate subsystems\n",
    "  * bind commands to joystick buttons\n",
    "* The template already has several commands written in the comands folder\n",
    "  * look through them and understand what they do\n",
    "  * use these as templates to help you make your own"
   ]
  },
  {
   "cell_type": "markdown",
   "id": "concerned-bahamas",
   "metadata": {},
   "source": [
    "### #1: Driving for a set amount of time"
   ]
  },
  {
   "cell_type": "markdown",
   "id": "reflected-liquid",
   "metadata": {},
   "source": [
    "General hints:\n",
    "* make a new command.  the easiest way is to copy one of the simple ones and rename it\n",
    "* you can use the command drivedistance.py for help\n",
    "  * that one drives a distance, so it is checking the encoder to see if it should end\n",
    "  * if you just want to drive for a time, you can set the command timeout and check for timed out in the isFinished() part of the command\n",
    "  * they took away the isTimedOut and setTimeOut functions in commands2\n",
    "  * so you should get the time when you initialize and see if the difference is greater than the time you wanted to drive\n",
    " "
   ]
  },
  {
   "cell_type": "code",
   "execution_count": 7,
   "id": "worse-colors",
   "metadata": {},
   "outputs": [],
   "source": [
    "import wpilib\n",
    "import commands2"
   ]
  },
  {
   "cell_type": "code",
   "execution_count": 8,
   "id": "martial-noise",
   "metadata": {},
   "outputs": [
    {
     "ename": "SyntaxError",
     "evalue": "'return' outside function (<ipython-input-8-5e98692f212e>, line 7)",
     "output_type": "error",
     "traceback": [
      "\u001b[1;36m  File \u001b[1;32m\"<ipython-input-8-5e98692f212e>\"\u001b[1;36m, line \u001b[1;32m7\u001b[0m\n\u001b[1;33m    return True\u001b[0m\n\u001b[1;37m    ^\u001b[0m\n\u001b[1;31mSyntaxError\u001b[0m\u001b[1;31m:\u001b[0m 'return' outside function\n"
     ]
    }
   ],
   "source": [
    "drive_time = 2 # for instance, assign to self.drive time in init\n",
    "# in initialize stage of command\n",
    "start_time = wpilib.Timer.getMatchTime()\n",
    "# in the isFinished stage of the command\n",
    "elapsed_time = wpilib.Timer.getMatchTime() - start_time\n",
    "if elapsed_time > drive_time:\n",
    "    return True\n",
    "else:\n",
    "    return False"
   ]
  },
  {
   "cell_type": "code",
   "execution_count": 6,
   "id": "engaged-consistency",
   "metadata": {},
   "outputs": [
    {
     "data": {
      "text/plain": [
       "0.0"
      ]
     },
     "execution_count": 6,
     "metadata": {},
     "output_type": "execute_result"
    }
   ],
   "source": [
    "start_time"
   ]
  },
  {
   "cell_type": "code",
   "execution_count": null,
   "id": "psychological-manitoba",
   "metadata": {},
   "outputs": [],
   "source": []
  }
 ],
 "metadata": {
  "kernelspec": {
   "display_name": "Python 3",
   "language": "python",
   "name": "python3"
  },
  "language_info": {
   "codemirror_mode": {
    "name": "ipython",
    "version": 3
   },
   "file_extension": ".py",
   "mimetype": "text/x-python",
   "name": "python",
   "nbconvert_exporter": "python",
   "pygments_lexer": "ipython3",
   "version": "3.8.5"
  }
 },
 "nbformat": 4,
 "nbformat_minor": 5
}
