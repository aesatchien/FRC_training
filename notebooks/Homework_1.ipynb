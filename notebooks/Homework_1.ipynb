{
 "cells": [
  {
   "cell_type": "markdown",
   "id": "initial-plymouth",
   "metadata": {},
   "source": [
    "### Hints for homework with the commands2 library - 2021 1231 CJH\n",
    "---"
   ]
  },
  {
   "cell_type": "markdown",
   "id": "simplified-minnesota",
   "metadata": {
    "jp-MarkdownHeadingCollapsed": true,
    "tags": []
   },
   "source": [
    "### What is already in the template\n",
    "* The robotpy example (hatch) has a working drivetrain (drivesusbsystem.py) and a drivetrain sim\n",
    "* It has a robotcontainer.py that can show you how to \n",
    "  * import and instantiate subsystems\n",
    "  * bind commands to joystick buttons\n",
    "* The template already has several commands written in the comands folder\n",
    "  * look through them and understand what they do\n",
    "  * use these as templates to help you make your own\n",
    "* Common mistakes\n",
    "  * not getting an intial value or resetting the encoder / gyro before the action if you are tracking\n",
    "  * not knowing what the encoders are reporting as it moves - use the sim to see what is changing as you move\n",
    "  * look at other examples for ideas (the ramsete example has the right setup for encoder units)\n",
    "  "
   ]
  },
  {
   "cell_type": "markdown",
   "id": "nonprofit-blocking",
   "metadata": {
    "tags": []
   },
   "source": [
    "---\n",
    "### #1: Driving for a set amount of time"
   ]
  },
  {
   "cell_type": "markdown",
   "id": "embedded-immigration",
   "metadata": {},
   "source": [
    "General hints:\n",
    "* make a new command.  the easiest way is to copy one of the simple ones and rename it\n",
    "* you can use the command drivedistance.py for help\n",
    "  * that one drives a distance, so it is checking the encoder to see if it should end\n",
    "  * if you just want to drive for a time, you can set the command timeout and check for timed out in the isFinished() part of the command\n",
    "  * they took away the isTimedOut and setTimeOut functions in commands2\n",
    "  * so you should get the time when you initialize and see if the difference is greater than the time you wanted to drive\n",
    " "
   ]
  },
  {
   "cell_type": "code",
   "execution_count": 1,
   "id": "imposed-brooklyn",
   "metadata": {},
   "outputs": [],
   "source": [
    "import wpilib\n",
    "import commands2"
   ]
  },
  {
   "cell_type": "code",
   "execution_count": 2,
   "id": "logical-intent",
   "metadata": {},
   "outputs": [],
   "source": [
    "drive_time = 2 # for instance, assign to self.drive_time in init\n",
    "\n",
    "# in initialize stage of command\n",
    "start_time = wpilib.Timer.getMatchTime()\n",
    "\n",
    "# in the isFinished stage of the command\n",
    "def isFinished():\n",
    "    elapsed_time = wpilib.Timer.getMatchTime() - start_time\n",
    "    if elapsed_time > drive_time:\n",
    "        return True\n",
    "    else:\n",
    "        return False"
   ]
  },
  {
   "cell_type": "markdown",
   "id": "rising-ceremony",
   "metadata": {},
   "source": [
    "---\n",
    "### #2: Driving for a set distance with a PID"
   ]
  },
  {
   "cell_type": "markdown",
   "id": "necessary-burns",
   "metadata": {},
   "source": [
    "General hints:\n",
    "* make a new command.  the easiest way is to copy one of the simple ones and rename it\n",
    "* you can use the command drivedistance.py for help\n",
    "  * that one drives a distance, so it is checking the encoder to see if it should end\n",
    "  *  let's not do that.  just let it run until the button is let go so you can see it **overshoot** and recover\n",
    "  * but instead of just running a fixed speed to `self.robot.drivetrain.arcade_drive(1,0)`, you need to use a PID.  You could write a custom one, like in the 2021 autonomous_drive_pid, or use the wpilib's built in one \n",
    "  * you probably want to **clamp**  the output between -1 and 1 - although the max output of the drive will do that for you - it's still good practice"
   ]
  },
  {
   "cell_type": "code",
   "execution_count": 29,
   "id": "nervous-conversation",
   "metadata": {},
   "outputs": [],
   "source": [
    "from wpilib.controller import PIDController"
   ]
  },
  {
   "cell_type": "code",
   "execution_count": 30,
   "id": "compact-february",
   "metadata": {},
   "outputs": [],
   "source": [
    "# in initialize\n",
    "setpoint = 2 # or whatever, pass to init and assign to self.setpoint\n",
    "kp = 0.5  # instead of setting, can get from dashboard\n",
    "ki = 0.0\n",
    "kd = 0.0\n",
    "test_controller = PIDController(Kp=kp, Ki=ki, Kd=kd)\n",
    "test_controller.setSetpoint(setpoint)\n",
    "\n",
    "# in execute now you calculate the PID value\n",
    "measured_distance = 0.5 # self.drive.getAverageEncoderDistance()\n",
    "output = test_controller.calculate(measured_distance)\n",
    "#self.drive.arcadeDrive(output, 0)  # drives straight\n",
    "\n",
    "# in isFinished() you probably just want to return False if you called it with a whileHeld() on the button"
   ]
  },
  {
   "cell_type": "markdown",
   "id": "durable-coach",
   "metadata": {},
   "source": [
    "---\n",
    "### #3: Rotating for a set angle with a PID"
   ]
  },
  {
   "cell_type": "markdown",
   "id": "efficient-aquarium",
   "metadata": {},
   "source": [
    "* it's the same as #2 for the most part\n",
    "* you now need to use the gyro instead of the wheel encoder\n",
    "* but there is no gyro in the template_auto project\n",
    "  * look in the ramsete project for how to add a gyro and a get_heading() function \n",
    "  \n"
   ]
  },
  {
   "cell_type": "markdown",
   "id": "7e71b329-d5ea-4ada-b533-5a4c10c2dcc6",
   "metadata": {},
   "source": [
    "---\n",
    "### Well-written commands - components\n",
    "* \\_\\_init__() - the constructor, called exactly once per command instance (although you could instantiate the same command multiple times - like binding two different buttons to the same command)\n",
    "  * this is where you set up class variables that you need in the other member functions\n",
    "* initialize() - not the same as \\_\\_init__.  This is called every time the command is run, not just when it is instantiated \n",
    "    * this is where you print out start times - friendly debugging messages, etc\n",
    "    * also where you update a command that may need input from sensors or the dashboard\n",
    "* execute() - run every time the robot goes through the main loop\n",
    "  * here is where you do calculations, make measurements, send power to motors, etc\n",
    "* isFinished() - return True if you want the command to end, False if not\n",
    "  * often we check a button still pressed, or if a sensor has reached a position\n",
    "  * for instant commands (fire once and forget) you just `return False`\n",
    "* end() - what to do when the command ends - either killed by scheduler or isFinished() returns True\n",
    "  * if you had a start message, you can put your finish message here\n",
    "  * if motors, etc need to go to a final state, do that here\n",
    "* interrupted () - was the same as end() in old versions, now end() is passed a parameter called interrupted\n",
    "  * so in end() check to see if interrupted==True: if so, the command was interrupted (another command took control, or the scheduler killed it for another reason), otherwise it ended by isFinished() returning True.  "
   ]
  },
  {
   "cell_type": "markdown",
   "id": "eb4c177a-2bb4-4722-91cf-31a4fa9b367e",
   "metadata": {},
   "source": [
    "#### tips - the DriveDistance from the hatch example\n",
    "(I had to comment out a few lines for things that can't load from Jupyter)"
   ]
  },
  {
   "cell_type": "code",
   "execution_count": 4,
   "id": "faa23058-3e9a-4dc2-a638-201ff1054ee3",
   "metadata": {},
   "outputs": [],
   "source": [
    "# command as provided - i had to commend a few things out to get it to run\n",
    "import commands2\n",
    "#from subsystems.drivesubsystem import DriveSubsystem\n",
    "\n",
    "\n",
    "class DriveDistance(commands2.CommandBase):\n",
    "    def __init__(self, inches: float, speed: float, drive) -> None:\n",
    "        super().__init__()\n",
    "        self.distance = inches\n",
    "        self.speed = speed\n",
    "        self.drive = drive\n",
    "        self.addRequirements(drive)\n",
    "\n",
    "    def initialize(self) -> None:\n",
    "        self.drive.resetEncoders()\n",
    "        self.drive.arcadeDrive(self.speed, 0)\n",
    "\n",
    "    def execute(self) -> None:\n",
    "        self.drive.arcadeDrive(self.speed, 0)\n",
    "\n",
    "    def end(self, interrupted: bool) -> None:\n",
    "        self.drive.arcadeDrive(0, 0)\n",
    "\n",
    "    def isFinished(self) -> bool:\n",
    "        return abs(self.drive.getAverageEncoderDistance()) >= self.distance\n"
   ]
  },
  {
   "cell_type": "markdown",
   "id": "807cd54c-0ba9-47dc-a66b-ab33c33e4f78",
   "metadata": {},
   "source": [
    "##### setting match time\n",
    "* Timer.getMatchTime() is no good, since it is supposed to be a countdown\n",
    "* Timer.getFPGATimestamp is basically just like time.time(), so either is fine as long as we are consistent\n",
    "* robot_container should have a .start_time member, and a get and set function for it.\\\n",
    "  * then the robot autonomousInit() and teleopInit() should call the set function in robot container"
   ]
  },
  {
   "cell_type": "code",
   "execution_count": 16,
   "id": "89fab1cf-6fa1-4291-b44c-8386f0dcf672",
   "metadata": {
    "tags": []
   },
   "outputs": [
    {
     "data": {
      "text/plain": [
       "1641056685.7789464"
      ]
     },
     "execution_count": 16,
     "metadata": {},
     "output_type": "execute_result"
    }
   ],
   "source": [
    "from wpilib import Timer\n",
    "Timer.getFPGATimestamp()\n",
    "import time\n",
    "time.time()"
   ]
  },
  {
   "cell_type": "markdown",
   "id": "9c326e56-fc42-46ef-8c68-54cc167bf2b4",
   "metadata": {},
   "source": [
    "##### things for robot container - set up an start_time so we can track when we were enabled "
   ]
  },
  {
   "cell_type": "code",
   "execution_count": 19,
   "id": "7053b183-5288-4f58-9fe2-03f093981235",
   "metadata": {},
   "outputs": [],
   "source": [
    "import time\n",
    "\n",
    "#self.start_time = time.time()  # goes in init\n",
    "\n",
    "def set_start_time(self):  # call in teleopInit and autonomousInit in the robot\n",
    "    self.start_time = time.time()\n",
    "def get_start_time(self):  # call when we want to know the start/elapsed time for status and debug messages \n",
    "    return self.start_time"
   ]
  },
  {
   "cell_type": "markdown",
   "id": "a8e85254-2073-4e48-91cb-b1947fc777fb",
   "metadata": {
    "tags": []
   },
   "source": [
    "##### things for \\_\\_init__() only called once per button assignment\n",
    "* use self.setName() so we have a name we can call later\n",
    "  * e.g `self.setName('halve_drive_speed')`\n",
    "  * alternately, could also use `self.__class__.__name__` in those name calls if you'd like to skip the above\n",
    "* pass a robot container so you can reference the rest of the robot's systems if you need to\n"
   ]
  },
  {
   "cell_type": "code",
   "execution_count": 27,
   "id": "089c0fa3-b552-4ef8-a193-54eaf0fe8912",
   "metadata": {},
   "outputs": [],
   "source": [
    "class SomeRandomCommand(commands2.CommandBase):\n",
    "    def __init__(self, container) -> None:\n",
    "        super().__init__()\n",
    "        self.setName('some_random_command')  # what is returned by self.getName() - used to be able to pass this to super's init but not in v2\n",
    "        self.robot_container = container"
   ]
  },
  {
   "cell_type": "markdown",
   "id": "44341275-87eb-4e4e-a7fe-9f74c8d0119a",
   "metadata": {},
   "source": [
    "##### things for initialize() in commands - called every time the command is run"
   ]
  },
  {
   "cell_type": "code",
   "execution_count": null,
   "id": "e293d2d7-4702-4a19-8276-5d8ab807cc4f",
   "metadata": {},
   "outputs": [],
   "source": [
    "# how we used to do it - we started a timer when the robot was enabled\n",
    "# have to figure out how to make this avaialable since we use robotcontainer now\n",
    "\"\"\"Called just before this Command runs the first time.\"\"\"\n",
    "import time  # belongs at the top of the file with the rest of the imports\n",
    "\n",
    "self.start_time = round(time.time() - self.robot_container.get_start_time(), 1)\n",
    "print(\"\\n\" + f\"** Started {self.getName()} at {self.start_time} s **\", flush=True)\n",
    "SmartDashboard.putString(\"alert\", f\"** Started {self.getName()} at {self.start_time:2.2f} s **\")"
   ]
  },
  {
   "cell_type": "markdown",
   "id": "1f6d1945-36a2-4a8b-95c6-38119db71a21",
   "metadata": {},
   "source": [
    "##### things for end() in commands"
   ]
  },
  {
   "cell_type": "code",
   "execution_count": null,
   "id": "8e77e51c-5f8c-480e-b978-c5c6312c60dd",
   "metadata": {},
   "outputs": [],
   "source": [
    "\"\"\"Called once after isFinished returns True or command is interrupted\"\"\"\n",
    "end_time = round(time.time() - self.robot_container.get_start_time(), 1)\n",
    "message = 'Interrupted' if interrupted else 'Ended'\n",
    "print(f\"** {message} {self.getName()} at {end_time} s after {round(end_time-self.start_time,1)} s **\")\n",
    "SmartDashboard.putString(\"alert\", f\"** {message} {self.getName()} at {end_time} s after {round(end_time-self.start_time,1)} s **\")"
   ]
  },
  {
   "cell_type": "code",
   "execution_count": null,
   "id": "ee2de6cf-34cc-45cf-bffe-b6f22b89fdb9",
   "metadata": {},
   "outputs": [],
   "source": []
  }
 ],
 "metadata": {
  "kernelspec": {
   "display_name": "Python 3",
   "language": "python",
   "name": "python3"
  },
  "language_info": {
   "codemirror_mode": {
    "name": "ipython",
    "version": 3
   },
   "file_extension": ".py",
   "mimetype": "text/x-python",
   "name": "python",
   "nbconvert_exporter": "python",
   "pygments_lexer": "ipython3",
   "version": "3.8.5"
  }
 },
 "nbformat": 4,
 "nbformat_minor": 5
}
