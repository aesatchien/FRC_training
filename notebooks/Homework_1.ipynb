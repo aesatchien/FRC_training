{
 "cells": [
  {
   "cell_type": "markdown",
   "id": "initial-plymouth",
   "metadata": {},
   "source": [
    "### Hints for homework with the commands2 library - 2021 1231 CJH\n",
    "---"
   ]
  },
  {
   "cell_type": "markdown",
   "id": "simplified-minnesota",
   "metadata": {},
   "source": [
    "### What is already in the template\n",
    "* The robotpy example (hatch) has a working drivetrain (drivesusbsystem.py) and a drivetrain sim\n",
    "* It has a robotcontainer.py that can show you how to \n",
    "  * import and instantiate subsystems\n",
    "  * bind commands to joystick buttons\n",
    "* The template already has several commands written in the comands folder\n",
    "  * look through them and understand what they do\n",
    "  * use these as templates to help you make your own\n",
    "* Common mistakes\n",
    "  * not getting an intial value or resetting the encoder / gyro before the action if you are tracking\n",
    "  * not knowing what the encoders are reporting as it moves - use the sim to see what is changing as you move\n",
    "  * look at other examples for ideas (the ramsete example has the right setup for encoder units)\n",
    "  "
   ]
  },
  {
   "cell_type": "markdown",
   "id": "nonprofit-blocking",
   "metadata": {},
   "source": [
    "---\n",
    "### #1: Driving for a set amount of time"
   ]
  },
  {
   "cell_type": "markdown",
   "id": "embedded-immigration",
   "metadata": {},
   "source": [
    "General hints:\n",
    "* make a new command.  the easiest way is to copy one of the simple ones and rename it\n",
    "* you can use the command drivedistance.py for help\n",
    "  * that one drives a distance, so it is checking the encoder to see if it should end\n",
    "  * if you just want to drive for a time, you can set the command timeout and check for timed out in the isFinished() part of the command\n",
    "  * they took away the isTimedOut and setTimeOut functions in commands2\n",
    "  * so you should get the time when you initialize and see if the difference is greater than the time you wanted to drive\n",
    " "
   ]
  },
  {
   "cell_type": "code",
   "execution_count": 20,
   "id": "imposed-brooklyn",
   "metadata": {},
   "outputs": [],
   "source": [
    "import wpilib\n",
    "import commands2"
   ]
  },
  {
   "cell_type": "code",
   "execution_count": 21,
   "id": "logical-intent",
   "metadata": {},
   "outputs": [],
   "source": [
    "drive_time = 2 # for instance, assign to self.drive time in init\n",
    "\n",
    "# in initialize stage of command\n",
    "start_time = wpilib.Timer.getMatchTime()\n",
    "\n",
    "# in the isFinished stage of the command\n",
    "elapsed_time = wpilib.Timer.getMatchTime() - start_time\n",
    "def isFinished():\n",
    "    if elapsed_time > drive_time:\n",
    "        return True\n",
    "    else:\n",
    "        return False"
   ]
  },
  {
   "cell_type": "markdown",
   "id": "rising-ceremony",
   "metadata": {},
   "source": [
    "---\n",
    "### #2: Driving for a set distance with a PID"
   ]
  },
  {
   "cell_type": "markdown",
   "id": "necessary-burns",
   "metadata": {},
   "source": [
    "General hints:\n",
    "* make a new command.  the easiest way is to copy one of the simple ones and rename it\n",
    "* you can use the command drivedistance.py for help\n",
    "  * that one drives a distance, so it is checking the encoder to see if it should end\n",
    "  *  let's not do that.  just let it run until the button is let go so you can see it **overshoot** and recover\n",
    "  * but instead of just running a fixed speed to `self.robot.drivetrain.arcade_drive(1,0)`, you need to use a PID.  You could write a custom one, like in the 2021 autonomous_drive_pid, or use the wpilib's built in one \n",
    "  * you probably want to **clamp**  the output between -1 and 1 - although the max output of the drive will do that for you - it's still good practice"
   ]
  },
  {
   "cell_type": "code",
   "execution_count": 22,
   "id": "nervous-conversation",
   "metadata": {},
   "outputs": [],
   "source": [
    "from wpilib.controller import PIDController"
   ]
  },
  {
   "cell_type": "code",
   "execution_count": 23,
   "id": "compact-february",
   "metadata": {},
   "outputs": [],
   "source": [
    "# in initialize\n",
    "setpoint = 2 # or whatever, pass to init and assign to self.setpoint\n",
    "kp = 0.5\n",
    "ki = 0.0\n",
    "kd = 0.0\n",
    "test_controller = PIDController(Kp=kp, Ki=ki, Kd=kd)\n",
    "test_controller.setSetpoint(setpoint)\n",
    "\n",
    "# in execute now you calculate the PID value\n",
    "measured_distance = 0.5 # self.drive.getAverageEncoderDistance()\n",
    "output = test_controller.calculate(measured_distance)\n",
    "#self.drive.arcadeDrive(output, 0)  # drives straight\n",
    "\n",
    "# in isFinished() you probably just want to "
   ]
  },
  {
   "cell_type": "markdown",
   "id": "durable-coach",
   "metadata": {},
   "source": [
    "---\n",
    "### #3: Rotating for a set angle with a PID"
   ]
  },
  {
   "cell_type": "markdown",
   "id": "efficient-aquarium",
   "metadata": {},
   "source": [
    "* it's the same as #2 for the most part\n",
    "* you now need to use the gyro instead of the wheel encoder\n",
    "* but there is no gyro in the template_auto project\n",
    "  * look in the ramsete project for how to add a gyro and a get_heading() function \n",
    "  \n"
   ]
  },
  {
   "cell_type": "code",
   "execution_count": null,
   "id": "handed-requirement",
   "metadata": {},
   "outputs": [],
   "source": []
  }
 ],
 "metadata": {
  "kernelspec": {
   "display_name": "Python 3",
   "language": "python",
   "name": "python3"
  },
  "language_info": {
   "codemirror_mode": {
    "name": "ipython",
    "version": 3
   },
   "file_extension": ".py",
   "mimetype": "text/x-python",
   "name": "python",
   "nbconvert_exporter": "python",
   "pygments_lexer": "ipython3",
   "version": "3.8.5"
  }
 },
 "nbformat": 4,
 "nbformat_minor": 5
}
