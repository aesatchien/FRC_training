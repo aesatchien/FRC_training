{
 "cells": [
  {
   "cell_type": "markdown",
   "id": "1101fe65",
   "metadata": {},
   "source": [
    "## Quick Python tutorial - 20211215 CJH\n",
    "---"
   ]
  },
  {
   "cell_type": "markdown",
   "id": "e8626f4e",
   "metadata": {
    "tags": []
   },
   "source": [
    "### Jupyter notebook cells allow three kinds of input: code, markdown, and raw text\n",
    "* the following cell has examples of markdown format in a *raw text* cell"
   ]
  },
  {
   "cell_type": "raw",
   "id": "5bf9f7e4",
   "metadata": {
    "tags": []
   },
   "source": [
    "### This is Header 3\n",
    "#### This is Header 4\n",
    "\n",
    "Three dashes (---) gives you a horizontal line\n",
    "---\n",
    "* This starts a *bulletedlist* and **double asterisks** put text in bold\n",
    "  * You can also call out text as `code`"
   ]
  },
  {
   "cell_type": "markdown",
   "id": "a938b31d-55a6-46f7-a708-91ef7f6f2fef",
   "metadata": {
    "tags": []
   },
   "source": [
    "### This is Header 3\n",
    "#### This is Header 4\n",
    "---\n",
    "Three dashes (---) gives you a horizontal line\n",
    "\n",
    "* This starts a *bulletedlist* and **double asterisks** put text in bold\n",
    "  * You can also call out text as `code`"
   ]
  },
  {
   "cell_type": "code",
   "execution_count": 1,
   "id": "4b2b6529",
   "metadata": {},
   "outputs": [
    {
     "name": "stdout",
     "output_type": "stream",
     "text": [
      "Hello World\n"
     ]
    }
   ],
   "source": [
    "print('Hello World')"
   ]
  },
  {
   "cell_type": "markdown",
   "id": "a5718d7c",
   "metadata": {
    "tags": []
   },
   "source": [
    "### Comments\n",
    "* single line comments start with a #\n",
    "* you an put a # anywhere in a line and the rest of the line is a comment\n",
    "* multi-line comments aren't a thing but python ignores string literals that are not assigned to a variable so you can effectively start and end with three quotes \"\"\" or '''\n",
    "* \"\"\" is used for **doscstrings** and ''' is used for multi-line comments"
   ]
  },
  {
   "cell_type": "code",
   "execution_count": 2,
   "id": "06eff167",
   "metadata": {},
   "outputs": [
    {
     "data": {
      "text/plain": [
       "'\\nso is this, but you could actually assign it to a variable\\n'"
      ]
     },
     "execution_count": 2,
     "metadata": {},
     "output_type": "execute_result"
    }
   ],
   "source": [
    "# this is a comment\n",
    "x = 3  # now I'm going to mention why I set x equal to 3\n",
    "\n",
    "'''\n",
    "so is this, but you could actually assign it to a variable\n",
    "'''"
   ]
  },
  {
   "cell_type": "markdown",
   "id": "27fa362b",
   "metadata": {},
   "source": [
    "### Numbers\n",
    "* python has integers (3), floating point (3.1234) numbers and complex numbers (3 + 4j)\n",
    "* and booleans (True and False)\n",
    "* and **None**, which doesn't really have a good category"
   ]
  },
  {
   "cell_type": "code",
   "execution_count": 3,
   "id": "ef4c26f4",
   "metadata": {},
   "outputs": [
    {
     "data": {
      "text/plain": [
       "11.5"
      ]
     },
     "execution_count": 3,
     "metadata": {},
     "output_type": "execute_result"
    }
   ],
   "source": [
    "x = 4  # int\n",
    "y = 7.5  # float\n",
    "x + y  # python figures out what type the answer should be"
   ]
  },
  {
   "cell_type": "code",
   "execution_count": 4,
   "id": "6f556f72",
   "metadata": {},
   "outputs": [
    {
     "name": "stdout",
     "output_type": "stream",
     "text": [
      "Format string approach: x is <class 'int'>, y is <class 'float'>, x+y is <class 'float'>\n"
     ]
    }
   ],
   "source": [
    "# format strings are new in python 3.7 and are far better than the old ways of formatting\n",
    "print(f'Format string approach: x is {type(x)}, y is {type(y)}, x+y is {type(x+y)}')"
   ]
  },
  {
   "cell_type": "code",
   "execution_count": 5,
   "id": "7ba1634d",
   "metadata": {},
   "outputs": [
    {
     "data": {
      "text/plain": [
       "(3+4j)"
      ]
     },
     "execution_count": 5,
     "metadata": {},
     "output_type": "execute_result"
    }
   ],
   "source": [
    "3+4j"
   ]
  },
  {
   "cell_type": "markdown",
   "id": "6ba05f64",
   "metadata": {},
   "source": [
    "### Strings\n",
    "A string in python is enclosed in single ' or double \" quotes"
   ]
  },
  {
   "cell_type": "code",
   "execution_count": 6,
   "id": "a566c081",
   "metadata": {},
   "outputs": [
    {
     "data": {
      "text/plain": [
       "'hello world'"
      ]
     },
     "execution_count": 6,
     "metadata": {},
     "output_type": "execute_result"
    }
   ],
   "source": [
    "string_1 = 'hello'\n",
    "string_2 = \"world\"\n",
    "string_1 + ' ' + string_2"
   ]
  },
  {
   "cell_type": "code",
   "execution_count": 7,
   "id": "0f15eca2",
   "metadata": {},
   "outputs": [
    {
     "data": {
      "text/plain": [
       "'HELLO'"
      ]
     },
     "execution_count": 7,
     "metadata": {},
     "output_type": "execute_result"
    }
   ],
   "source": [
    "string_1.upper()"
   ]
  },
  {
   "cell_type": "code",
   "execution_count": 8,
   "id": "264ba5ad",
   "metadata": {},
   "outputs": [
    {
     "data": {
      "text/plain": [
       "\u001b[1;31mDocstring:\u001b[0m\n",
       "S.startswith(prefix[, start[, end]]) -> bool\n",
       "\n",
       "Return True if S starts with the specified prefix, False otherwise.\n",
       "With optional start, test S beginning at that position.\n",
       "With optional end, stop comparing S at that position.\n",
       "prefix can also be a tuple of strings to try.\n",
       "\u001b[1;31mType:\u001b[0m      builtin_function_or_method\n"
      ]
     },
     "metadata": {},
     "output_type": "display_data"
    }
   ],
   "source": [
    "# strings have a lot of built in functions.  add a . at the end of the name and hit tab to see them all\n",
    "# don't know what a function does?  put a question mark at the end instead of () and python will return the docstring\n",
    "string_1.startswith?"
   ]
  },
  {
   "cell_type": "code",
   "execution_count": 9,
   "id": "f9d316b0",
   "metadata": {},
   "outputs": [
    {
     "data": {
      "text/plain": [
       "True"
      ]
     },
     "execution_count": 9,
     "metadata": {},
     "output_type": "execute_result"
    }
   ],
   "source": [
    "string_1.startswith('h', 0)"
   ]
  },
  {
   "cell_type": "markdown",
   "id": "38505b84",
   "metadata": {},
   "source": [
    "### Lists\n",
    "* a collection of objects comma-seperarted inside []\n",
    "* one of the most useful and 'pythonic' aspects of the language\n",
    "* you can collect anything you want in a list\n",
    "* for loops are simpler in python than other languages because you can iterate over a list\n",
    "* you reference the ith elements with mylist[i] (starts at zero)"
   ]
  },
  {
   "cell_type": "code",
   "execution_count": 10,
   "id": "5d457884-27cc-492b-8f3a-02b11c189af3",
   "metadata": {},
   "outputs": [],
   "source": [
    "my_numeric_list = [1,2,3,4]\n",
    "my_string_list = ['a', 'b', 'c']"
   ]
  },
  {
   "cell_type": "code",
   "execution_count": 74,
   "id": "9d5f91d8-b3ea-4d51-a825-7bc72e0abc73",
   "metadata": {},
   "outputs": [
    {
     "data": {
      "text/plain": [
       "1"
      ]
     },
     "execution_count": 74,
     "metadata": {},
     "output_type": "execute_result"
    }
   ],
   "source": [
    "# lists are zero-indexed, and you can get single elements or ranges\n",
    "my_numeric_list[0]"
   ]
  },
  {
   "cell_type": "code",
   "execution_count": 76,
   "id": "66f9225a-4da8-42ff-9d60-4433b1cc26e7",
   "metadata": {},
   "outputs": [
    {
     "data": {
      "text/plain": [
       "[2, 3]"
      ]
     },
     "execution_count": 76,
     "metadata": {},
     "output_type": "execute_result"
    }
   ],
   "source": [
    "my_numeric_list[1:3]"
   ]
  },
  {
   "cell_type": "code",
   "execution_count": 11,
   "id": "a57efc55",
   "metadata": {},
   "outputs": [
    {
     "data": {
      "text/plain": [
       "[1, 2, 3, 4, 'a', 'b', 'c']"
      ]
     },
     "execution_count": 11,
     "metadata": {},
     "output_type": "execute_result"
    }
   ],
   "source": [
    "my_numeric_list + my_string_list"
   ]
  },
  {
   "cell_type": "code",
   "execution_count": 12,
   "id": "74d35d0b",
   "metadata": {},
   "outputs": [
    {
     "data": {
      "text/plain": [
       "4"
      ]
     },
     "execution_count": 12,
     "metadata": {},
     "output_type": "execute_result"
    }
   ],
   "source": [
    "# you often need to know the length of lists.  use len()\n",
    "len(my_numeric_list)"
   ]
  },
  {
   "cell_type": "markdown",
   "id": "3179126e",
   "metadata": {},
   "source": [
    "### Dictionaries\n",
    "* a key/value pair similar to a list but each value has a unique name\n",
    "* {key_1:value_1, key_2:value_2, ...}\n",
    "* like a list you can put whatever you want in the values and you can easily iterate over the keys or values\n",
    "* you access a value with the dict_name[key] format"
   ]
  },
  {
   "cell_type": "code",
   "execution_count": 13,
   "id": "c62a4384",
   "metadata": {},
   "outputs": [
    {
     "data": {
      "text/plain": [
       "'Cory'"
      ]
     },
     "execution_count": 13,
     "metadata": {},
     "output_type": "execute_result"
    }
   ],
   "source": [
    "# never name your dictionary 'dict'! you will get very strange behaviour\n",
    "my_dict = {'FIRST_NAME':'Cory', 'LAST_NAME':'Hill', 6:'The number six'}\n",
    "my_dict['FIRST_NAME']"
   ]
  },
  {
   "cell_type": "code",
   "execution_count": 14,
   "id": "407f812d",
   "metadata": {},
   "outputs": [
    {
     "data": {
      "text/plain": [
       "'The number six'"
      ]
     },
     "execution_count": 14,
     "metadata": {},
     "output_type": "execute_result"
    }
   ],
   "source": [
    "my_dict[6]"
   ]
  },
  {
   "cell_type": "code",
   "execution_count": 15,
   "id": "0cb31da4",
   "metadata": {},
   "outputs": [
    {
     "data": {
      "text/plain": [
       "dict_keys(['FIRST_NAME', 'LAST_NAME', 6])"
      ]
     },
     "execution_count": 15,
     "metadata": {},
     "output_type": "execute_result"
    }
   ],
   "source": [
    "my_dict.keys()  # returns a list of the keys"
   ]
  },
  {
   "cell_type": "code",
   "execution_count": 16,
   "id": "785f267c",
   "metadata": {},
   "outputs": [
    {
     "data": {
      "text/plain": [
       "dict_values(['Cory', 'Hill', 'The number six'])"
      ]
     },
     "execution_count": 16,
     "metadata": {},
     "output_type": "execute_result"
    }
   ],
   "source": [
    "my_dict.values()  # returns a list of the values"
   ]
  },
  {
   "cell_type": "code",
   "execution_count": 57,
   "id": "bfe7a7d2-802c-411b-9d91-5ee9823321b2",
   "metadata": {},
   "outputs": [
    {
     "data": {
      "text/plain": [
       "'jim@mail.com'"
      ]
     },
     "execution_count": 57,
     "metadata": {},
     "output_type": "execute_result"
    }
   ],
   "source": [
    "# nesting dictionaries is one of the best ways to make a quick database - and it's basically just like JSON\n",
    "address_list = {\n",
    "'user_1':{'email':'cjh123@yahoo.com', 'first_name':'Cory', 'last_name':'Hill'},\n",
    "'user_2':{'email':'jim@mail.com', 'first_name':'Jim', 'last_name':'Doe'},    \n",
    "}\n",
    "\n",
    "address_list['user_2']['email']"
   ]
  },
  {
   "cell_type": "markdown",
   "id": "24318bc4-8178-4127-b684-2f525492f159",
   "metadata": {},
   "source": [
    "### Functions\n",
    "* You indent four spaces (or one tab) to show you are in a block of code\n",
    "* Functions have return values you can assign to variables (defaults to \"None\")\n"
   ]
  },
  {
   "cell_type": "code",
   "execution_count": 87,
   "id": "7cacb8e3",
   "metadata": {},
   "outputs": [],
   "source": [
    "def myfunc(x, y):\n",
    "    return x + y\n",
    "\n",
    "def myfunc2(x=1, y=0):  # giving the function default values\n",
    "    return x + y\n",
    "\n",
    "def greet_us(name1, name2):\n",
    "    print(f'Hello {name1} and {name2}!')"
   ]
  },
  {
   "cell_type": "code",
   "execution_count": 88,
   "id": "76e5b677",
   "metadata": {},
   "outputs": [
    {
     "data": {
      "text/plain": [
       "14.9"
      ]
     },
     "execution_count": 88,
     "metadata": {},
     "output_type": "execute_result"
    }
   ],
   "source": [
    "myfunc(5, 9.9)"
   ]
  },
  {
   "cell_type": "code",
   "execution_count": 91,
   "id": "9013fa71-83eb-4141-bca5-571395442221",
   "metadata": {},
   "outputs": [
    {
     "ename": "TypeError",
     "evalue": "myfunc() missing 2 required positional arguments: 'x' and 'y'",
     "output_type": "error",
     "traceback": [
      "\u001b[1;31m---------------------------------------------------------------------------\u001b[0m",
      "\u001b[1;31mTypeError\u001b[0m                                 Traceback (most recent call last)",
      "\u001b[1;32m~\\AppData\\Local\\Temp\\1/ipykernel_8436/1200136947.py\u001b[0m in \u001b[0;36m<module>\u001b[1;34m\u001b[0m\n\u001b[1;32m----> 1\u001b[1;33m \u001b[0mmyfunc\u001b[0m\u001b[1;33m(\u001b[0m\u001b[1;33m)\u001b[0m\u001b[1;33m\u001b[0m\u001b[1;33m\u001b[0m\u001b[0m\n\u001b[0m",
      "\u001b[1;31mTypeError\u001b[0m: myfunc() missing 2 required positional arguments: 'x' and 'y'"
     ]
    }
   ],
   "source": [
    "myfunc()"
   ]
  },
  {
   "cell_type": "code",
   "execution_count": 90,
   "id": "ef0a5aa6-349e-4c4a-b682-513111b02ccc",
   "metadata": {},
   "outputs": [
    {
     "data": {
      "text/plain": [
       "1"
      ]
     },
     "execution_count": 90,
     "metadata": {},
     "output_type": "execute_result"
    }
   ],
   "source": [
    "myfunc2()"
   ]
  },
  {
   "cell_type": "code",
   "execution_count": 73,
   "id": "8cf8d054-fefe-4277-bb7f-2a48792f3ed9",
   "metadata": {},
   "outputs": [
    {
     "name": "stdout",
     "output_type": "stream",
     "text": [
      "Hello John Doe and Superman!\n"
     ]
    }
   ],
   "source": [
    "greet_us('John Doe', 'Superman')"
   ]
  },
  {
   "cell_type": "markdown",
   "id": "a96cf6f1",
   "metadata": {},
   "source": [
    "### Importing - using external libraries (benefit from the hard work of others)\n",
    "* pretend there is a module named foo that has a function called bar\n",
    "  * **import foo** - allows you to reference foo.bar()\n",
    "  * **import foo as f**  - allows you to reference f.bar() if you are too lazy to type / already have a / foo \n",
    "  * **from foo import bar** - allows you to just use bar()\n",
    "  * from foo import * - gets everything in foo, allows you to use bar() but may add things you don't want\n",
    "\n"
   ]
  },
  {
   "cell_type": "code",
   "execution_count": 49,
   "id": "647ca681",
   "metadata": {},
   "outputs": [
    {
     "data": {
      "text/plain": [
       "1.4142135623730951"
      ]
     },
     "execution_count": 49,
     "metadata": {},
     "output_type": "execute_result"
    }
   ],
   "source": [
    "# we use numpy a lot - it works quickly on arrays and has many built in math functions\n",
    "import numpy\n",
    "numpy.sqrt(2)"
   ]
  },
  {
   "cell_type": "code",
   "execution_count": 18,
   "id": "b1a160e9",
   "metadata": {},
   "outputs": [
    {
     "data": {
      "text/plain": [
       "1.4142135623730951"
      ]
     },
     "execution_count": 18,
     "metadata": {},
     "output_type": "execute_result"
    }
   ],
   "source": [
    "import numpy as np\n",
    "np.sqrt(2)"
   ]
  },
  {
   "cell_type": "code",
   "execution_count": 19,
   "id": "1183ae9a",
   "metadata": {},
   "outputs": [
    {
     "data": {
      "text/plain": [
       "1.4142135623730951"
      ]
     },
     "execution_count": 19,
     "metadata": {},
     "output_type": "execute_result"
    }
   ],
   "source": [
    "from numpy import sqrt\n",
    "sqrt(2)"
   ]
  },
  {
   "cell_type": "code",
   "execution_count": 20,
   "id": "f0abef2f",
   "metadata": {},
   "outputs": [
    {
     "data": {
      "text/plain": [
       "1.4142135623730951"
      ]
     },
     "execution_count": 20,
     "metadata": {},
     "output_type": "execute_result"
    }
   ],
   "source": [
    "from numpy import *\n",
    "sqrt(2)"
   ]
  },
  {
   "cell_type": "code",
   "execution_count": 21,
   "id": "414ba4cd",
   "metadata": {},
   "outputs": [],
   "source": [
    "# this is an example of an ipython \"magic\" command\n",
    "# %reset"
   ]
  },
  {
   "cell_type": "code",
   "execution_count": 22,
   "id": "34b0478f",
   "metadata": {},
   "outputs": [
    {
     "data": {
      "text/plain": [
       "1.4142135623730951"
      ]
     },
     "execution_count": 22,
     "metadata": {},
     "output_type": "execute_result"
    }
   ],
   "source": [
    "sqrt(2)"
   ]
  },
  {
   "cell_type": "markdown",
   "id": "fe4b3fcc",
   "metadata": {},
   "source": [
    "### Dates and times\n",
    "* time module (measures seconds since the epoch, pauses execution, formats and converts times) \n",
    "* datetime module (formats dates as well as date arithmetic)"
   ]
  },
  {
   "cell_type": "code",
   "execution_count": 41,
   "id": "b01eb339-b31a-418f-abae-43099655707f",
   "metadata": {},
   "outputs": [],
   "source": [
    "import time\n",
    "time.sleep(0.25)  # pause execution for 0.25 s"
   ]
  },
  {
   "cell_type": "code",
   "execution_count": 42,
   "id": "25053472-b476-45a5-b10a-4be893b289f5",
   "metadata": {},
   "outputs": [
    {
     "name": "stdout",
     "output_type": "stream",
     "text": [
      "1639676449.6652029\n",
      "time.struct_time(tm_year=2021, tm_mon=12, tm_mday=16, tm_hour=9, tm_min=40, tm_sec=49, tm_wday=3, tm_yday=350, tm_isdst=0)\n",
      "Thu Dec 16 09:40:49 2021\n"
     ]
    }
   ],
   "source": [
    "now = time.time()  # calculate seconds since epoch\n",
    "print(now)  \n",
    "print(time.localtime(now))\n",
    "print(time.asctime(time.localtime(now)))"
   ]
  },
  {
   "cell_type": "code",
   "execution_count": 43,
   "id": "e432b82a",
   "metadata": {},
   "outputs": [
    {
     "name": "stdout",
     "output_type": "stream",
     "text": [
      "Now: 1.639676e+09\n"
     ]
    }
   ],
   "source": [
    "print(f'Now: {now:2e}')"
   ]
  },
  {
   "cell_type": "code",
   "execution_count": 130,
   "id": "da594241",
   "metadata": {},
   "outputs": [
    {
     "name": "stdout",
     "output_type": "stream",
     "text": [
      "Cory is 17422 days old.\n"
     ]
    }
   ],
   "source": [
    "import datetime  # you usually do from datetime import date or from datetime import datetime\n",
    "today = datetime.date.today()\n",
    "cory_birthday = datetime.date(1974, 4, 6)\n",
    "delta = today - cory_birthday\n",
    "print(f'Cory is {delta.days} days old.')"
   ]
  },
  {
   "cell_type": "code",
   "execution_count": 139,
   "id": "1d92c1d4-4ff7-4a6d-9f6c-9fd401c96505",
   "metadata": {},
   "outputs": [
    {
     "name": "stdout",
     "output_type": "stream",
     "text": [
      "students are more like 6194 days old\n"
     ]
    }
   ],
   "source": [
    "student_birthday = datetime.date(2005, 1, 1)\n",
    "days=(today-student_birthday).days\n",
    "print(f'students are more like {days} days old')"
   ]
  },
  {
   "cell_type": "code",
   "execution_count": 155,
   "id": "86528690-31ec-489c-acdf-18970a5960fc",
   "metadata": {},
   "outputs": [
    {
     "name": "stdout",
     "output_type": "stream",
     "text": [
      "and they probobaly only remember about 2100 of them\n"
     ]
    }
   ],
   "source": [
    "def roundup(x):\n",
    "    return int(x) if x % 100 == 0 else int(x + 100 - x % 100)\n",
    "print(f'and they probobaly only remember about {roundup(days/3)} of them')"
   ]
  },
  {
   "cell_type": "code",
   "execution_count": 45,
   "id": "a7a15588",
   "metadata": {},
   "outputs": [
    {
     "data": {
      "text/plain": [
       "datetime.datetime(2021, 12, 16, 9, 41, 26, 665415)"
      ]
     },
     "execution_count": 45,
     "metadata": {},
     "output_type": "execute_result"
    }
   ],
   "source": [
    "datetime.datetime.now()"
   ]
  },
  {
   "cell_type": "code",
   "execution_count": 46,
   "id": "85259dea",
   "metadata": {},
   "outputs": [
    {
     "data": {
      "text/plain": [
       "'2021-12-16 09:41:27'"
      ]
     },
     "execution_count": 46,
     "metadata": {},
     "output_type": "execute_result"
    }
   ],
   "source": [
    "datetime.datetime.now().strftime(\"%Y-%m-%d %H:%M:%S\")"
   ]
  },
  {
   "cell_type": "markdown",
   "id": "9d15cf7c",
   "metadata": {},
   "source": [
    "### Numpy - one stop shop for all array math"
   ]
  },
  {
   "cell_type": "code",
   "execution_count": 28,
   "id": "9fc2984c",
   "metadata": {},
   "outputs": [],
   "source": [
    "import numpy as np"
   ]
  },
  {
   "cell_type": "code",
   "execution_count": 29,
   "id": "2c7b3bda",
   "metadata": {},
   "outputs": [
    {
     "data": {
      "text/plain": [
       "array([0.        , 0.62831853, 1.25663706, 1.88495559, 2.51327412,\n",
       "       3.14159265, 3.76991118, 4.39822972, 5.02654825, 5.65486678,\n",
       "       6.28318531])"
      ]
     },
     "execution_count": 29,
     "metadata": {},
     "output_type": "execute_result"
    }
   ],
   "source": [
    "x = np.linspace(0, 2*np.pi, 11)\n",
    "x"
   ]
  },
  {
   "cell_type": "code",
   "execution_count": 30,
   "id": "b753b640",
   "metadata": {},
   "outputs": [
    {
     "data": {
      "text/plain": [
       "1.0"
      ]
     },
     "execution_count": 30,
     "metadata": {},
     "output_type": "execute_result"
    }
   ],
   "source": [
    "np.sin(np.pi/2)"
   ]
  },
  {
   "cell_type": "code",
   "execution_count": 31,
   "id": "1325812e",
   "metadata": {},
   "outputs": [
    {
     "data": {
      "text/plain": [
       "array([ 0.00000000e+00,  5.87785252e-01,  9.51056516e-01,  9.51056516e-01,\n",
       "        5.87785252e-01,  1.22464680e-16, -5.87785252e-01, -9.51056516e-01,\n",
       "       -9.51056516e-01, -5.87785252e-01, -2.44929360e-16])"
      ]
     },
     "execution_count": 31,
     "metadata": {},
     "output_type": "execute_result"
    }
   ],
   "source": [
    "y = np.sin(x)\n",
    "y"
   ]
  },
  {
   "cell_type": "markdown",
   "id": "f8ddebe9",
   "metadata": {},
   "source": [
    "### matplotlib - you will see this in every python program that generates plots\n",
    "It can plot anything - check out https://matplotlib.org/gallery.html"
   ]
  },
  {
   "cell_type": "code",
   "execution_count": 32,
   "id": "903760fd",
   "metadata": {},
   "outputs": [],
   "source": [
    "import matplotlib.pyplot as plt  # "
   ]
  },
  {
   "cell_type": "code",
   "execution_count": 185,
   "id": "2ee8d6b1",
   "metadata": {},
   "outputs": [],
   "source": [
    "x = np.linspace(0, 6.28, 100)\n",
    "y = np.sin(x)"
   ]
  },
  {
   "cell_type": "code",
   "execution_count": 194,
   "id": "6dd7d74d-3f82-4d40-9354-6324422ba4e2",
   "metadata": {},
   "outputs": [
    {
     "data": {
      "text/plain": [
       "array([0.        , 0.63434343, 1.26868687, 1.9030303 , 2.53737374,\n",
       "       3.17171717, 3.80606061, 4.44040404, 5.07474747, 5.70909091])"
      ]
     },
     "execution_count": 194,
     "metadata": {},
     "output_type": "execute_result"
    }
   ],
   "source": [
    "x[0:100:10]"
   ]
  },
  {
   "cell_type": "code",
   "execution_count": 191,
   "id": "77bf3f35-4221-45c5-9837-9709f79d4287",
   "metadata": {},
   "outputs": [
    {
     "data": {
      "text/plain": [
       "array([ 0.        ,  0.5926488 ,  0.95471098,  0.94531608,  0.56811946,\n",
       "       -0.03011996, -0.61664037, -0.96323955, -0.93506338, -0.54307459])"
      ]
     },
     "execution_count": 191,
     "metadata": {},
     "output_type": "execute_result"
    }
   ],
   "source": [
    "y[0:100:10]"
   ]
  },
  {
   "cell_type": "code",
   "execution_count": 195,
   "id": "125ac8fc",
   "metadata": {},
   "outputs": [
    {
     "data": {
      "image/png": "[encoded data removed]",
      "text/plain": [
       "<Figure size 432x288 with 1 Axes>"
      ]
     },
     "metadata": {
      "needs_background": "light"
     },
     "output_type": "display_data"
    }
   ],
   "source": [
    "# we'll never actually do it this way, because there is a more robust syntax in matplotlib \n",
    "plt.plot(x,y, label='sin(x)')\n",
    "plt.title('Super quick intro to numpy and pyplot'); plt.xlabel('x'); plt.ylabel('sin(x)');\n",
    "plt.legend()\n",
    "plt.show()"
   ]
  },
  {
   "cell_type": "markdown",
   "id": "5741e6c4-34b3-4030-864d-50b7a5c7622a",
   "metadata": {},
   "source": [
    "####  Comparison `==, !=, >, <, >=, <=`"
   ]
  },
  {
   "cell_type": "code",
   "execution_count": 64,
   "id": "91f8c446-9b61-4336-9239-afd44b81b28b",
   "metadata": {
    "tags": []
   },
   "outputs": [
    {
     "name": "stdout",
     "output_type": "stream",
     "text": [
      "1 == 0: False\n",
      "1 != 0: True\n",
      "1 > 1: False\n",
      "1 < 0: False\n",
      "1 < 1: False\n",
      "1 >= 0: True\n",
      "1 >= 1: True\n",
      "1 <= 0: False\n",
      "1 <= 1: True\n"
     ]
    }
   ],
   "source": [
    "print(f'1 == 0: {1 == 0}')\n",
    "print(f'1 != 0: {1 != 0}')\n",
    "print(f'1 > 1: {1 > 1}')\n",
    "print(f'1 < 0: {1 < 0}')\n",
    "print(f'1 < 1: {1 < 1}')\n",
    "print(f'1 >= 0: {1 >= 0}')\n",
    "print(f'1 >= 1: {1 >= 1}')\n",
    "print(f'1 <= 0: {1 <= 0}')\n",
    "print(f'1 <= 1: {1 <= 1}')"
   ]
  },
  {
   "cell_type": "markdown",
   "id": "0c2fcf51-03ad-4ca0-98a7-eb96dcea0ac9",
   "metadata": {},
   "source": [
    "#### Logical operators: and or not"
   ]
  },
  {
   "cell_type": "code",
   "execution_count": 65,
   "id": "23d9053b-4b6c-44a9-9013-56aa2ae1c194",
   "metadata": {},
   "outputs": [
    {
     "name": "stdout",
     "output_type": "stream",
     "text": [
      "x and y is False\n",
      "x or y is True\n",
      "not x is False\n"
     ]
    }
   ],
   "source": [
    "x = True\n",
    "y = False\n",
    "\n",
    "print('x and y is', x and y)\n",
    "print('x or y is', x or y)\n",
    "print('not x is', not x)"
   ]
  },
  {
   "cell_type": "markdown",
   "id": "034d51b4-12b2-48a7-9ca5-9250e4f4a9fd",
   "metadata": {
    "tags": []
   },
   "source": [
    "### Conditional statements\n",
    "* format is `if test expression:`\n",
    "* can have an optional `elif` (as many as you want)\n",
    "* can have an optional `else` (the catch-all at the end)\n",
    "* note - it only does the first one that matches and then ends\n",
    "* You indent four spaces (or one tab) to show you are in a block of code"
   ]
  },
  {
   "cell_type": "code",
   "execution_count": 66,
   "id": "8b1211af-5bc5-4bfb-9c80-85c6195e8bef",
   "metadata": {},
   "outputs": [
    {
     "name": "stdout",
     "output_type": "stream",
     "text": [
      "4 is greater than 2\n"
     ]
    }
   ],
   "source": [
    "x = 4\n",
    "if x == 2:\n",
    "    print(f'{x} is exactly 2')\n",
    "elif x < 2:\n",
    "    print(f'{x} is less than 2')\n",
    "elif x > 2:\n",
    "    print(f'{x} is greater than 2')\n",
    "else: \n",
    "    print(f'{x} does not compare to 2')"
   ]
  },
  {
   "cell_type": "markdown",
   "id": "31160be7-2832-4e39-bbc0-2287c8100333",
   "metadata": {},
   "source": [
    "### For loops"
   ]
  },
  {
   "cell_type": "markdown",
   "id": "c249aca1-0c58-410c-989d-12c0e9087d7d",
   "metadata": {},
   "source": [
    "* unlike other languages, in python you inherenetly need an iterator to loop over\n",
    "* alternately you can use enumerate \n",
    "* options are break, continue in each step\n",
    "* indent again to tell python what is in the loop"
   ]
  },
  {
   "cell_type": "code",
   "execution_count": 160,
   "id": "dc597bee-aa27-4fe4-a68d-46920f7285dd",
   "metadata": {},
   "outputs": [
    {
     "name": "stdout",
     "output_type": "stream",
     "text": [
      "The count is 0\n",
      "The count is 1\n",
      "The count is 2\n",
      "The count is 3\n",
      "The count is 4\n",
      "All done.  By the way, i is still 4\n"
     ]
    }
   ],
   "source": [
    "for i in range(5):\n",
    "    print(f'The count is {i}')\n",
    "print(f'All done.  By the way, i is still {i}')"
   ]
  },
  {
   "cell_type": "code",
   "execution_count": 164,
   "id": "d3c1fad7-9cef-491f-bfd2-957e29136d5c",
   "metadata": {},
   "outputs": [
    {
     "name": "stdout",
     "output_type": "stream",
     "text": [
      "element 0 of the list is element one, and it is a <class 'str'>\n",
      "element 1 of the list is 2, and it is a <class 'int'>\n",
      "element 2 of the list is 3.0, and it is a <class 'float'>\n"
     ]
    }
   ],
   "source": [
    "some_list = ['element one', 2, 3.0]\n",
    "for ix, value in enumerate(some_list):\n",
    "    print(f'element {ix} of the list is {value}, and it is a {type(value)}')"
   ]
  },
  {
   "cell_type": "markdown",
   "id": "57bea3a8-83a7-40d0-8aa5-cb460fa9c31b",
   "metadata": {},
   "source": [
    "### While loops\n",
    "* python has them too\n",
    "* but like when using the table saw, you need special permission from a mentor to put one in the robot"
   ]
  },
  {
   "cell_type": "markdown",
   "id": "4d46e2ef-cf00-4954-9617-48436a34bd3c",
   "metadata": {},
   "source": [
    "### List comprehension\n",
    "* the most \"pythonic\" of the cool things you do with python\n",
    "* it's a one-line for statement that can give you a list of computations\n",
    "* looks like this: \n",
    "  * [f(x) for x in sequence]\n",
    "  * [f(x) for x in sequence if condition]\n",
    "  * [f(x) if condition else g(x) for x in sequence]"
   ]
  },
  {
   "cell_type": "code",
   "execution_count": 177,
   "id": "65108e4d-4b22-4202-a230-f3f5f4bbc48a",
   "metadata": {},
   "outputs": [
    {
     "data": {
      "text/plain": [
       "[0, 1, 4, 9, 16, 25, 36, 49, 64, 81]"
      ]
     },
     "execution_count": 177,
     "metadata": {},
     "output_type": "execute_result"
    }
   ],
   "source": [
    "squares = [i**2 for i in range(10)]\n",
    "squares"
   ]
  },
  {
   "cell_type": "code",
   "execution_count": 178,
   "id": "a0853e97-6c75-42c0-8309-4b0653d77504",
   "metadata": {
    "tags": []
   },
   "outputs": [
    {
     "data": {
      "text/plain": [
       "[0, 2, 4, 6, 8, 10, 12, 14, 16, 18]"
      ]
     },
     "execution_count": 178,
     "metadata": {},
     "output_type": "execute_result"
    }
   ],
   "source": [
    "even_numbers = [i for i in range(20) if i%2==0]\n",
    "even_numbers"
   ]
  },
  {
   "cell_type": "code",
   "execution_count": 179,
   "id": "64ad1986-9f85-46a6-a215-0ad4dc43b95a",
   "metadata": {},
   "outputs": [
    {
     "data": {
      "text/plain": [
       "[0, 7, 2, 7, 4, 7, 6, 7, 8, 7, 10, 7, 12, 7, 14, 7, 16, 7, 18, 7]"
      ]
     },
     "execution_count": 179,
     "metadata": {},
     "output_type": "execute_result"
    }
   ],
   "source": [
    "# maybe I only consider one odd number acceptable\n",
    "special_numbers = [i if i%2==0 else 7 for i in range(20)]\n",
    "special_numbers"
   ]
  },
  {
   "cell_type": "code",
   "execution_count": 182,
   "id": "4d63cdf7-316a-4113-bf42-8ccd2db10936",
   "metadata": {},
   "outputs": [
    {
     "name": "stdout",
     "output_type": "stream",
     "text": [
      "hello hello hello hello "
     ]
    },
    {
     "data": {
      "text/plain": [
       "[None, None, None, None]"
      ]
     },
     "execution_count": 182,
     "metadata": {},
     "output_type": "execute_result"
    }
   ],
   "source": [
    "# this is a bit annoying\n",
    "[print('hello', end=\" \") for i in range(4)]"
   ]
  },
  {
   "cell_type": "code",
   "execution_count": 183,
   "id": "1b10d26f-2e6f-498d-bb3a-dcbc86f2c0dc",
   "metadata": {},
   "outputs": [
    {
     "name": "stdout",
     "output_type": "stream",
     "text": [
      "hello hello hello hello "
     ]
    }
   ],
   "source": [
    "# by convention an underscore (alone) is a dummy variable\n",
    "_ = [print('hello', end=\" \") for i in range(4)]"
   ]
  },
  {
   "cell_type": "markdown",
   "id": "8ed5ee5b-21e9-4e9b-8fd0-89139e41e13b",
   "metadata": {},
   "source": [
    "### Try-except\n",
    "* Catch errors so the code does not die\n",
    "* optionally can end with a `finally` clause"
   ]
  },
  {
   "cell_type": "code",
   "execution_count": 116,
   "id": "f1edbb23-6fc4-43a7-a287-e22274d4aeab",
   "metadata": {},
   "outputs": [
    {
     "ename": "ZeroDivisionError",
     "evalue": "division by zero",
     "output_type": "error",
     "traceback": [
      "\u001b[1;31m---------------------------------------------------------------------------\u001b[0m",
      "\u001b[1;31mZeroDivisionError\u001b[0m                         Traceback (most recent call last)",
      "\u001b[1;32m~\\AppData\\Local\\Temp\\1/ipykernel_8436/3573414940.py\u001b[0m in \u001b[0;36m<module>\u001b[1;34m\u001b[0m\n\u001b[1;32m----> 1\u001b[1;33m \u001b[0mx\u001b[0m \u001b[1;33m/\u001b[0m \u001b[1;36m0\u001b[0m\u001b[1;33m\u001b[0m\u001b[1;33m\u001b[0m\u001b[0m\n\u001b[0m",
      "\u001b[1;31mZeroDivisionError\u001b[0m: division by zero"
     ]
    }
   ],
   "source": [
    " x / 0"
   ]
  },
  {
   "cell_type": "code",
   "execution_count": 128,
   "id": "1aced4fc-bd52-4490-ac79-5b8db1c84f7b",
   "metadata": {},
   "outputs": [
    {
     "name": "stdout",
     "output_type": "stream",
     "text": [
      " Unable to execute that command: <class 'ZeroDivisionError'>: division by zero\n"
     ]
    }
   ],
   "source": [
    "try:\n",
    "    x / 0\n",
    "except Exception as e:  # generic exception, catches them all\n",
    "    print(f' Unable to execute that command: {type(e)}: {e}')\n",
    "    "
   ]
  },
  {
   "cell_type": "code",
   "execution_count": 129,
   "id": "6764cf19-0b9a-4191-aeb4-48f6940f0c22",
   "metadata": {},
   "outputs": [
    {
     "name": "stdout",
     "output_type": "stream",
     "text": [
      "Unable to execute that command: division by zero\n"
     ]
    }
   ],
   "source": [
    "try:\n",
    "    x / 0\n",
    "except ZeroDivisionError as e:  # specific only specific exception\n",
    "    print(f'Unable to execute that command: {e}')\n",
    "    "
   ]
  },
  {
   "cell_type": "markdown",
   "id": "83f4f424-7daa-44d8-a04f-783d22f5c56d",
   "metadata": {},
   "source": [
    "### Classes\n",
    "* Classes are a collection of functions and variables bundled together for convenience\n",
    "  * Functions in classes are (often) called members\n",
    "  * Variables are often called attributes\n",
    "* This is one of the only times we use capital letters in Python  - (because they are important)\n",
    "* You can build new classes from old ones, and that makes them very good as reusable templates\n",
    "* **You address members and attributes with the dot \".\" operator**  (Oh, so strings are classes too?)\n",
    "* There is a LOT to learn about classes.  This is the most basic intro.\n",
    "* _ _init_ _ is necessary if we want to construct with variables passed in and setting up unique attributes"
   ]
  },
  {
   "cell_type": "code",
   "execution_count": 97,
   "id": "c928a8a1-8c7a-443c-bea9-23e23b5d4f2e",
   "metadata": {},
   "outputs": [],
   "source": [
    "class MyFirstClass:\n",
    "    def __init__(self, name):  \n",
    "        self.name = name\n",
    "\n",
    "    def greet(self):\n",
    "        print(f'Hello {self.name}!')"
   ]
  },
  {
   "cell_type": "code",
   "execution_count": 98,
   "id": "d26c8031-9e2d-43e7-9993-b5c725a770a2",
   "metadata": {},
   "outputs": [
    {
     "name": "stdout",
     "output_type": "stream",
     "text": [
      "Hello Alice!\n"
     ]
    }
   ],
   "source": [
    "alice = MyFirstClass(name='Alice')\n",
    "alice.greet()"
   ]
  },
  {
   "cell_type": "code",
   "execution_count": 99,
   "id": "372869c1-56f0-43f3-8fac-c2edf12aa4f9",
   "metadata": {},
   "outputs": [],
   "source": [
    "class Circle:\n",
    "    def __init__(self, radius):\n",
    "        self.pi = 3.14159\n",
    "        self.radius = radius\n",
    "\n",
    "    def area(self):\n",
    "        return self.pi * self.radius**2\n",
    "\n",
    "    def circumference(self):\n",
    "        return 2*self.pi * self.radius"
   ]
  },
  {
   "cell_type": "code",
   "execution_count": 103,
   "id": "95093440-002f-40ef-860b-e42df9134101",
   "metadata": {},
   "outputs": [],
   "source": [
    "my_circle = Circle(2)"
   ]
  },
  {
   "cell_type": "code",
   "execution_count": 104,
   "id": "ddeaa810-2297-4006-9826-b3d41c1eaa76",
   "metadata": {},
   "outputs": [
    {
     "data": {
      "text/plain": [
       "3.14159"
      ]
     },
     "execution_count": 104,
     "metadata": {},
     "output_type": "execute_result"
    }
   ],
   "source": [
    "my_circle.pi"
   ]
  },
  {
   "cell_type": "code",
   "execution_count": 105,
   "id": "b6b7a58d-067b-41a4-b0d6-67d1e7be7aca",
   "metadata": {},
   "outputs": [
    {
     "data": {
      "text/plain": [
       "12.56636"
      ]
     },
     "execution_count": 105,
     "metadata": {},
     "output_type": "execute_result"
    }
   ],
   "source": [
    "my_circle.area()"
   ]
  },
  {
   "cell_type": "markdown",
   "id": "a98f14b0-0dba-4df5-802b-1b5e49ed1721",
   "metadata": {},
   "source": [
    "### Class inheritance\n",
    "* You will see this all the time in the robot code\n",
    "* We take a template and extend it with custom functions\n",
    "* The new class is the child and the class it came from is the parent\n",
    "* There is a bit of arcane syntax that initializes the parent and from the child (not covered here)"
   ]
  },
  {
   "cell_type": "code",
   "execution_count": 114,
   "id": "89aa2746-d6b3-437b-a869-805da6c89f16",
   "metadata": {},
   "outputs": [],
   "source": [
    "class Animal:\n",
    "    def greet(self):\n",
    "        print('Hello, I am an animal')\n",
    "\n",
    "    def favorite_food(self):\n",
    "        return 'beef'\n",
    "\n",
    "\n",
    "class Dog(Animal):\n",
    "    def greet(self):\n",
    "        print('wof wof')\n",
    "\n",
    "\n",
    "class Cat(Animal):\n",
    "    def favorite_food(self):\n",
    "        return 'fish'"
   ]
  },
  {
   "cell_type": "code",
   "execution_count": 156,
   "id": "4235ff4f-0889-4cb0-b3fd-36fa518d5464",
   "metadata": {},
   "outputs": [
    {
     "name": "stdout",
     "output_type": "stream",
     "text": [
      "Dog stuff:\n",
      "wof wof\n",
      "Dog's favorite food is beef\n",
      "\n",
      "Cat stuff:\n",
      "Hello, I am an animal\n",
      "Cat's favorite food is fish\n"
     ]
    }
   ],
   "source": [
    "print('Dog stuff:')\n",
    "dog = Dog()\n",
    "dog.greet()\n",
    "print(f\"Dog's favorite food is {dog.favorite_food()}\")\n",
    "\n",
    "print('\\nCat stuff:')\n",
    "cat = Cat()\n",
    "cat.greet()\n",
    "print(f\"Cat's favorite food is {cat.favorite_food()}\")"
   ]
  },
  {
   "cell_type": "markdown",
   "id": "2f3be06b-cbd4-4dbf-9523-563435d3c450",
   "metadata": {},
   "source": [
    "### Next ... robot examples!"
   ]
  },
  {
   "cell_type": "code",
   "execution_count": 198,
   "id": "3c636c14-fe67-43ba-b8fe-8bb6b015649b",
   "metadata": {},
   "outputs": [],
   "source": [
    "import pandas as pd"
   ]
  },
  {
   "cell_type": "code",
   "execution_count": 199,
   "id": "bfdf6886-0fda-4d15-91b2-2088a07ff0ba",
   "metadata": {},
   "outputs": [],
   "source": [
    "url = 'https://en.wikipedia.org/wiki/List_of_U.S._states_and_territories_by_population'"
   ]
  },
  {
   "cell_type": "code",
   "execution_count": 200,
   "id": "ed72bbaa-5c7f-478d-b1a3-119e82e6bae4",
   "metadata": {},
   "outputs": [],
   "source": [
    "pop_tables = pd.read_html(url)\n",
    "pop_table = pop_tables[0]"
   ]
  },
  {
   "cell_type": "code",
   "execution_count": 201,
   "id": "d831421d-68ea-434f-a5e0-3a01a35b51b6",
   "metadata": {},
   "outputs": [
    {
     "data": {
      "text/html": [
       "<div>\n",
       "<style scoped>\n",
       "    .dataframe tbody tr th:only-of-type {\n",
       "        vertical-align: middle;\n",
       "    }\n",
       "\n",
       "    .dataframe tbody tr th {\n",
       "        vertical-align: top;\n",
       "    }\n",
       "\n",
       "    .dataframe thead tr th {\n",
       "        text-align: left;\n",
       "    }\n",
       "</style>\n",
       "<table border=\"1\" class=\"dataframe\">\n",
       "  <thead>\n",
       "    <tr>\n",
       "      <th></th>\n",
       "      <th colspan=\"2\" halign=\"left\">Rank</th>\n",
       "      <th>State or territory</th>\n",
       "      <th colspan=\"2\" halign=\"left\">Census population[7][a]</th>\n",
       "      <th colspan=\"2\" halign=\"left\">Change,2010–2020[7][a]</th>\n",
       "      <th colspan=\"2\" halign=\"left\">House of Reps.[b]</th>\n",
       "      <th>Pop. per elec. vote, 2020[c]</th>\n",
       "      <th colspan=\"2\" halign=\"left\">Census pop. per seat</th>\n",
       "      <th colspan=\"3\" halign=\"left\">% of the total U.S. pop.[d]</th>\n",
       "      <th>% of Elec. Coll.</th>\n",
       "    </tr>\n",
       "    <tr>\n",
       "      <th></th>\n",
       "      <th>'20</th>\n",
       "      <th>'10</th>\n",
       "      <th>State or territory</th>\n",
       "      <th>April 1, 2020</th>\n",
       "      <th>April 1, 2010</th>\n",
       "      <th>%</th>\n",
       "      <th>Abs.</th>\n",
       "      <th>S.</th>\n",
       "      <th>%</th>\n",
       "      <th>Pop. per elec. vote, 2020[c]</th>\n",
       "      <th>'20</th>\n",
       "      <th>'10</th>\n",
       "      <th>Est. 2020</th>\n",
       "      <th>2010</th>\n",
       "      <th>Ch.2010–2020</th>\n",
       "      <th>% of Elec. Coll.</th>\n",
       "    </tr>\n",
       "  </thead>\n",
       "  <tbody>\n",
       "    <tr>\n",
       "      <th>0</th>\n",
       "      <td>1.0</td>\n",
       "      <td>1.0</td>\n",
       "      <td>California</td>\n",
       "      <td>39538223</td>\n",
       "      <td>37253956</td>\n",
       "      <td>6.1%</td>\n",
       "      <td>2284267</td>\n",
       "      <td>52</td>\n",
       "      <td>11.95%</td>\n",
       "      <td>715783</td>\n",
       "      <td>761091</td>\n",
       "      <td>702905</td>\n",
       "      <td>11.80%</td>\n",
       "      <td>11.91%</td>\n",
       "      <td>–0.11%</td>\n",
       "      <td>10.04%</td>\n",
       "    </tr>\n",
       "    <tr>\n",
       "      <th>1</th>\n",
       "      <td>2.0</td>\n",
       "      <td>2.0</td>\n",
       "      <td>Texas</td>\n",
       "      <td>29145505</td>\n",
       "      <td>25145561</td>\n",
       "      <td>15.9%</td>\n",
       "      <td>3999944</td>\n",
       "      <td>38</td>\n",
       "      <td>8.74%</td>\n",
       "      <td>772652</td>\n",
       "      <td>767981</td>\n",
       "      <td>698488</td>\n",
       "      <td>8.70%</td>\n",
       "      <td>8.04%</td>\n",
       "      <td>0.66%</td>\n",
       "      <td>7.43%</td>\n",
       "    </tr>\n",
       "    <tr>\n",
       "      <th>2</th>\n",
       "      <td>3.0</td>\n",
       "      <td>4.0</td>\n",
       "      <td>Florida</td>\n",
       "      <td>21538187</td>\n",
       "      <td>18801310</td>\n",
       "      <td>14.6%</td>\n",
       "      <td>2736877</td>\n",
       "      <td>28</td>\n",
       "      <td>6.44%</td>\n",
       "      <td>749425</td>\n",
       "      <td>770376</td>\n",
       "      <td>696345</td>\n",
       "      <td>6.43%</td>\n",
       "      <td>6.01%</td>\n",
       "      <td>0.42%</td>\n",
       "      <td>5.58%</td>\n",
       "    </tr>\n",
       "    <tr>\n",
       "      <th>3</th>\n",
       "      <td>4.0</td>\n",
       "      <td>3.0</td>\n",
       "      <td>New York</td>\n",
       "      <td>20201249</td>\n",
       "      <td>19378102</td>\n",
       "      <td>4.2%</td>\n",
       "      <td>823147</td>\n",
       "      <td>26</td>\n",
       "      <td>5.98%</td>\n",
       "      <td>666785</td>\n",
       "      <td>777529</td>\n",
       "      <td>717707</td>\n",
       "      <td>6.03%</td>\n",
       "      <td>6.19%</td>\n",
       "      <td>–0.17%</td>\n",
       "      <td>5.20%</td>\n",
       "    </tr>\n",
       "    <tr>\n",
       "      <th>4</th>\n",
       "      <td>5.0</td>\n",
       "      <td>6.0</td>\n",
       "      <td>Pennsylvania</td>\n",
       "      <td>13002700</td>\n",
       "      <td>12702379</td>\n",
       "      <td>2.4%</td>\n",
       "      <td>300321</td>\n",
       "      <td>17</td>\n",
       "      <td>3.91%</td>\n",
       "      <td>639163</td>\n",
       "      <td>765403</td>\n",
       "      <td>705688</td>\n",
       "      <td>3.88%</td>\n",
       "      <td>4.06%</td>\n",
       "      <td>–0.18%</td>\n",
       "      <td>3.53%</td>\n",
       "    </tr>\n",
       "    <tr>\n",
       "      <th>5</th>\n",
       "      <td>6.0</td>\n",
       "      <td>5.0</td>\n",
       "      <td>Illinois</td>\n",
       "      <td>12812508</td>\n",
       "      <td>12830632</td>\n",
       "      <td>–0.1%</td>\n",
       "      <td>–18,124</td>\n",
       "      <td>17</td>\n",
       "      <td>3.91%</td>\n",
       "      <td>629377</td>\n",
       "      <td>754279</td>\n",
       "      <td>712813</td>\n",
       "      <td>3.82%</td>\n",
       "      <td>4.10%</td>\n",
       "      <td>–0.28%</td>\n",
       "      <td>3.53%</td>\n",
       "    </tr>\n",
       "    <tr>\n",
       "      <th>6</th>\n",
       "      <td>7.0</td>\n",
       "      <td>7.0</td>\n",
       "      <td>Ohio</td>\n",
       "      <td>11799448</td>\n",
       "      <td>11536504</td>\n",
       "      <td>2.3%</td>\n",
       "      <td>262944</td>\n",
       "      <td>15</td>\n",
       "      <td>3.45%</td>\n",
       "      <td>649623</td>\n",
       "      <td>787257</td>\n",
       "      <td>721032</td>\n",
       "      <td>3.52%</td>\n",
       "      <td>3.69%</td>\n",
       "      <td>–0.17%</td>\n",
       "      <td>3.16%</td>\n",
       "    </tr>\n",
       "    <tr>\n",
       "      <th>7</th>\n",
       "      <td>8.0</td>\n",
       "      <td>9.0</td>\n",
       "      <td>Georgia</td>\n",
       "      <td>10711908</td>\n",
       "      <td>9687653</td>\n",
       "      <td>10.6%</td>\n",
       "      <td>1024255</td>\n",
       "      <td>14</td>\n",
       "      <td>3.22%</td>\n",
       "      <td>669376</td>\n",
       "      <td>766091</td>\n",
       "      <td>691975</td>\n",
       "      <td>3.20%</td>\n",
       "      <td>3.10%</td>\n",
       "      <td>0.10%</td>\n",
       "      <td>2.97%</td>\n",
       "    </tr>\n",
       "    <tr>\n",
       "      <th>8</th>\n",
       "      <td>9.0</td>\n",
       "      <td>10.0</td>\n",
       "      <td>North Carolina</td>\n",
       "      <td>10439388</td>\n",
       "      <td>9535483</td>\n",
       "      <td>9.5%</td>\n",
       "      <td>903905</td>\n",
       "      <td>14</td>\n",
       "      <td>3.22%</td>\n",
       "      <td>706722</td>\n",
       "      <td>746711</td>\n",
       "      <td>733499</td>\n",
       "      <td>3.12%</td>\n",
       "      <td>3.05%</td>\n",
       "      <td>0.07%</td>\n",
       "      <td>2.97%</td>\n",
       "    </tr>\n",
       "    <tr>\n",
       "      <th>9</th>\n",
       "      <td>10.0</td>\n",
       "      <td>8.0</td>\n",
       "      <td>Michigan</td>\n",
       "      <td>10077331</td>\n",
       "      <td>9883640</td>\n",
       "      <td>2.0%</td>\n",
       "      <td>193691</td>\n",
       "      <td>13</td>\n",
       "      <td>2.99%</td>\n",
       "      <td>622910</td>\n",
       "      <td>775726</td>\n",
       "      <td>705974</td>\n",
       "      <td>3.01%</td>\n",
       "      <td>3.16%</td>\n",
       "      <td>–0.15%</td>\n",
       "      <td>2.79%</td>\n",
       "    </tr>\n",
       "    <tr>\n",
       "      <th>10</th>\n",
       "      <td>11.0</td>\n",
       "      <td>11.0</td>\n",
       "      <td>New Jersey</td>\n",
       "      <td>9288994</td>\n",
       "      <td>8791894</td>\n",
       "      <td>5.7%</td>\n",
       "      <td>497100</td>\n",
       "      <td>12</td>\n",
       "      <td>2.76%</td>\n",
       "      <td>634455</td>\n",
       "      <td>774541</td>\n",
       "      <td>732658</td>\n",
       "      <td>2.77%</td>\n",
       "      <td>2.81%</td>\n",
       "      <td>–0.04%</td>\n",
       "      <td>2.60%</td>\n",
       "    </tr>\n",
       "    <tr>\n",
       "      <th>11</th>\n",
       "      <td>12.0</td>\n",
       "      <td>12.0</td>\n",
       "      <td>Virginia</td>\n",
       "      <td>8631393</td>\n",
       "      <td>8001024</td>\n",
       "      <td>7.9%</td>\n",
       "      <td>630369</td>\n",
       "      <td>11</td>\n",
       "      <td>2.53%</td>\n",
       "      <td>660813</td>\n",
       "      <td>786777</td>\n",
       "      <td>727366</td>\n",
       "      <td>2.58%</td>\n",
       "      <td>2.56%</td>\n",
       "      <td>0.02%</td>\n",
       "      <td>2.42%</td>\n",
       "    </tr>\n",
       "    <tr>\n",
       "      <th>12</th>\n",
       "      <td>13.0</td>\n",
       "      <td>13.0</td>\n",
       "      <td>Washington</td>\n",
       "      <td>7705281</td>\n",
       "      <td>6724540</td>\n",
       "      <td>14.6%</td>\n",
       "      <td>980741</td>\n",
       "      <td>10</td>\n",
       "      <td>2.30%</td>\n",
       "      <td>641134</td>\n",
       "      <td>771595</td>\n",
       "      <td>672454</td>\n",
       "      <td>2.30%</td>\n",
       "      <td>2.15%</td>\n",
       "      <td>0.15%</td>\n",
       "      <td>2.23%</td>\n",
       "    </tr>\n",
       "    <tr>\n",
       "      <th>13</th>\n",
       "      <td>14.0</td>\n",
       "      <td>16.0</td>\n",
       "      <td>Arizona</td>\n",
       "      <td>7151502</td>\n",
       "      <td>6392017</td>\n",
       "      <td>11.9%</td>\n",
       "      <td>759485</td>\n",
       "      <td>9</td>\n",
       "      <td>2.07%</td>\n",
       "      <td>674673</td>\n",
       "      <td>795436</td>\n",
       "      <td>710224</td>\n",
       "      <td>2.13%</td>\n",
       "      <td>2.04%</td>\n",
       "      <td>0.09%</td>\n",
       "      <td>2.04%</td>\n",
       "    </tr>\n",
       "    <tr>\n",
       "      <th>14</th>\n",
       "      <td>15.0</td>\n",
       "      <td>14.0</td>\n",
       "      <td>Massachusetts</td>\n",
       "      <td>7029917</td>\n",
       "      <td>6547629</td>\n",
       "      <td>7.4%</td>\n",
       "      <td>482288</td>\n",
       "      <td>9</td>\n",
       "      <td>2.07%</td>\n",
       "      <td>626689</td>\n",
       "      <td>781497</td>\n",
       "      <td>727514</td>\n",
       "      <td>2.10%</td>\n",
       "      <td>2.09%</td>\n",
       "      <td>0.00%</td>\n",
       "      <td>2.04%</td>\n",
       "    </tr>\n",
       "    <tr>\n",
       "      <th>15</th>\n",
       "      <td>16.0</td>\n",
       "      <td>17.0</td>\n",
       "      <td>Tennessee</td>\n",
       "      <td>6910840</td>\n",
       "      <td>6346105</td>\n",
       "      <td>8.9%</td>\n",
       "      <td>564735</td>\n",
       "      <td>9</td>\n",
       "      <td>2.07%</td>\n",
       "      <td>626076</td>\n",
       "      <td>768544</td>\n",
       "      <td>705123</td>\n",
       "      <td>2.06%</td>\n",
       "      <td>2.03%</td>\n",
       "      <td>0.03%</td>\n",
       "      <td>2.04%</td>\n",
       "    </tr>\n",
       "    <tr>\n",
       "      <th>16</th>\n",
       "      <td>17.0</td>\n",
       "      <td>15.0</td>\n",
       "      <td>Indiana</td>\n",
       "      <td>6785528</td>\n",
       "      <td>6483802</td>\n",
       "      <td>4.7%</td>\n",
       "      <td>301726</td>\n",
       "      <td>9</td>\n",
       "      <td>2.07%</td>\n",
       "      <td>614087</td>\n",
       "      <td>754476</td>\n",
       "      <td>720422</td>\n",
       "      <td>2.02%</td>\n",
       "      <td>2.07%</td>\n",
       "      <td>–0.05%</td>\n",
       "      <td>2.04%</td>\n",
       "    </tr>\n",
       "    <tr>\n",
       "      <th>17</th>\n",
       "      <td>18.0</td>\n",
       "      <td>19.0</td>\n",
       "      <td>Maryland</td>\n",
       "      <td>6177224</td>\n",
       "      <td>5773552</td>\n",
       "      <td>7.0%</td>\n",
       "      <td>403672</td>\n",
       "      <td>8</td>\n",
       "      <td>1.84%</td>\n",
       "      <td>615155</td>\n",
       "      <td>773160</td>\n",
       "      <td>748616</td>\n",
       "      <td>1.84%</td>\n",
       "      <td>1.85%</td>\n",
       "      <td>–0.00%</td>\n",
       "      <td>1.86%</td>\n",
       "    </tr>\n",
       "    <tr>\n",
       "      <th>18</th>\n",
       "      <td>19.0</td>\n",
       "      <td>18.0</td>\n",
       "      <td>Missouri</td>\n",
       "      <td>6154913</td>\n",
       "      <td>5988927</td>\n",
       "      <td>2.8%</td>\n",
       "      <td>165986</td>\n",
       "      <td>8</td>\n",
       "      <td>1.84%</td>\n",
       "      <td>605580</td>\n",
       "      <td>770035</td>\n",
       "      <td>721694</td>\n",
       "      <td>1.84%</td>\n",
       "      <td>1.91%</td>\n",
       "      <td>–0.08%</td>\n",
       "      <td>1.86%</td>\n",
       "    </tr>\n",
       "    <tr>\n",
       "      <th>19</th>\n",
       "      <td>20.0</td>\n",
       "      <td>20.0</td>\n",
       "      <td>Wisconsin</td>\n",
       "      <td>5893718</td>\n",
       "      <td>5686986</td>\n",
       "      <td>3.6%</td>\n",
       "      <td>206732</td>\n",
       "      <td>8</td>\n",
       "      <td>1.84%</td>\n",
       "      <td>583266</td>\n",
       "      <td>737184</td>\n",
       "      <td>710873</td>\n",
       "      <td>1.76%</td>\n",
       "      <td>1.82%</td>\n",
       "      <td>–0.06%</td>\n",
       "      <td>1.86%</td>\n",
       "    </tr>\n",
       "    <tr>\n",
       "      <th>20</th>\n",
       "      <td>21.0</td>\n",
       "      <td>22.0</td>\n",
       "      <td>Colorado</td>\n",
       "      <td>5773714</td>\n",
       "      <td>5029196</td>\n",
       "      <td>14.8%</td>\n",
       "      <td>744518</td>\n",
       "      <td>8</td>\n",
       "      <td>1.84%</td>\n",
       "      <td>645302</td>\n",
       "      <td>722771</td>\n",
       "      <td>718457</td>\n",
       "      <td>1.72%</td>\n",
       "      <td>1.61%</td>\n",
       "      <td>0.12%</td>\n",
       "      <td>1.86%</td>\n",
       "    </tr>\n",
       "    <tr>\n",
       "      <th>21</th>\n",
       "      <td>22.0</td>\n",
       "      <td>21.0</td>\n",
       "      <td>Minnesota</td>\n",
       "      <td>5706494</td>\n",
       "      <td>5303925</td>\n",
       "      <td>7.6%</td>\n",
       "      <td>402569</td>\n",
       "      <td>8</td>\n",
       "      <td>1.84%</td>\n",
       "      <td>565734</td>\n",
       "      <td>713719</td>\n",
       "      <td>662991</td>\n",
       "      <td>1.70%</td>\n",
       "      <td>1.70%</td>\n",
       "      <td>0.01%</td>\n",
       "      <td>1.86%</td>\n",
       "    </tr>\n",
       "    <tr>\n",
       "      <th>22</th>\n",
       "      <td>23.0</td>\n",
       "      <td>24.0</td>\n",
       "      <td>South Carolina</td>\n",
       "      <td>5118425</td>\n",
       "      <td>4625364</td>\n",
       "      <td>10.7%</td>\n",
       "      <td>493061</td>\n",
       "      <td>7</td>\n",
       "      <td>1.61%</td>\n",
       "      <td>579782</td>\n",
       "      <td>732102</td>\n",
       "      <td>660766</td>\n",
       "      <td>1.53%</td>\n",
       "      <td>1.48%</td>\n",
       "      <td>0.05%</td>\n",
       "      <td>1.67%</td>\n",
       "    </tr>\n",
       "    <tr>\n",
       "      <th>23</th>\n",
       "      <td>24.0</td>\n",
       "      <td>23.0</td>\n",
       "      <td>Alabama</td>\n",
       "      <td>5024279</td>\n",
       "      <td>4779736</td>\n",
       "      <td>5.1%</td>\n",
       "      <td>244543</td>\n",
       "      <td>7</td>\n",
       "      <td>1.61%</td>\n",
       "      <td>546837</td>\n",
       "      <td>718579</td>\n",
       "      <td>682819</td>\n",
       "      <td>1.50%</td>\n",
       "      <td>1.53%</td>\n",
       "      <td>–0.03%</td>\n",
       "      <td>1.67%</td>\n",
       "    </tr>\n",
       "    <tr>\n",
       "      <th>24</th>\n",
       "      <td>25.0</td>\n",
       "      <td>25.0</td>\n",
       "      <td>Louisiana</td>\n",
       "      <td>4657757</td>\n",
       "      <td>4533372</td>\n",
       "      <td>2.7%</td>\n",
       "      <td>124385</td>\n",
       "      <td>6</td>\n",
       "      <td>1.38%</td>\n",
       "      <td>580665</td>\n",
       "      <td>776911</td>\n",
       "      <td>755562</td>\n",
       "      <td>1.39%</td>\n",
       "      <td>1.45%</td>\n",
       "      <td>–0.06%</td>\n",
       "      <td>1.49%</td>\n",
       "    </tr>\n",
       "    <tr>\n",
       "      <th>25</th>\n",
       "      <td>26.0</td>\n",
       "      <td>26.0</td>\n",
       "      <td>Kentucky</td>\n",
       "      <td>4505836</td>\n",
       "      <td>4339367</td>\n",
       "      <td>3.8%</td>\n",
       "      <td>166469</td>\n",
       "      <td>6</td>\n",
       "      <td>1.38%</td>\n",
       "      <td>559656</td>\n",
       "      <td>751557</td>\n",
       "      <td>723228</td>\n",
       "      <td>1.35%</td>\n",
       "      <td>1.39%</td>\n",
       "      <td>–0.04%</td>\n",
       "      <td>1.49%</td>\n",
       "    </tr>\n",
       "    <tr>\n",
       "      <th>26</th>\n",
       "      <td>27.0</td>\n",
       "      <td>27.0</td>\n",
       "      <td>Oregon</td>\n",
       "      <td>4237256</td>\n",
       "      <td>3831074</td>\n",
       "      <td>10.6%</td>\n",
       "      <td>406182</td>\n",
       "      <td>6</td>\n",
       "      <td>1.38%</td>\n",
       "      <td>605930</td>\n",
       "      <td>706917</td>\n",
       "      <td>766215</td>\n",
       "      <td>1.26%</td>\n",
       "      <td>1.22%</td>\n",
       "      <td>0.04%</td>\n",
       "      <td>1.49%</td>\n",
       "    </tr>\n",
       "    <tr>\n",
       "      <th>27</th>\n",
       "      <td>28.0</td>\n",
       "      <td>28.0</td>\n",
       "      <td>Oklahoma</td>\n",
       "      <td>3959353</td>\n",
       "      <td>3751351</td>\n",
       "      <td>5.5%</td>\n",
       "      <td>208002</td>\n",
       "      <td>5</td>\n",
       "      <td>1.15%</td>\n",
       "      <td>568683</td>\n",
       "      <td>792703</td>\n",
       "      <td>750270</td>\n",
       "      <td>1.18%</td>\n",
       "      <td>1.20%</td>\n",
       "      <td>–0.02%</td>\n",
       "      <td>1.30%</td>\n",
       "    </tr>\n",
       "    <tr>\n",
       "      <th>28</th>\n",
       "      <td>29.0</td>\n",
       "      <td>30.0</td>\n",
       "      <td>Connecticut</td>\n",
       "      <td>3605944</td>\n",
       "      <td>3574097</td>\n",
       "      <td>0.9%</td>\n",
       "      <td>31847</td>\n",
       "      <td>5</td>\n",
       "      <td>1.15%</td>\n",
       "      <td>508144</td>\n",
       "      <td>721660</td>\n",
       "      <td>714819</td>\n",
       "      <td>1.08%</td>\n",
       "      <td>1.14%</td>\n",
       "      <td>–0.07%</td>\n",
       "      <td>1.30%</td>\n",
       "    </tr>\n",
       "    <tr>\n",
       "      <th>29</th>\n",
       "      <td>30.0</td>\n",
       "      <td>29.0</td>\n",
       "      <td>Puerto Rico</td>\n",
       "      <td>3285874</td>\n",
       "      <td>3725789</td>\n",
       "      <td>–‍11.8%</td>\n",
       "      <td>–439,915</td>\n",
       "      <td>1*</td>\n",
       "      <td>—</td>\n",
       "      <td>—</td>\n",
       "      <td>—</td>\n",
       "      <td>—</td>\n",
       "      <td>0.98%</td>\n",
       "      <td>1.19%</td>\n",
       "      <td>–0.21%</td>\n",
       "      <td>—</td>\n",
       "    </tr>\n",
       "    <tr>\n",
       "      <th>30</th>\n",
       "      <td>31.0</td>\n",
       "      <td>35.0</td>\n",
       "      <td>Utah</td>\n",
       "      <td>3271616</td>\n",
       "      <td>2763885</td>\n",
       "      <td>18.4%</td>\n",
       "      <td>507731</td>\n",
       "      <td>4</td>\n",
       "      <td>0.92%</td>\n",
       "      <td>541647</td>\n",
       "      <td>818813</td>\n",
       "      <td>690971</td>\n",
       "      <td>0.98%</td>\n",
       "      <td>0.88%</td>\n",
       "      <td>0.09%</td>\n",
       "      <td>1.12%</td>\n",
       "    </tr>\n",
       "    <tr>\n",
       "      <th>31</th>\n",
       "      <td>32.0</td>\n",
       "      <td>31.0</td>\n",
       "      <td>Iowa</td>\n",
       "      <td>3190369</td>\n",
       "      <td>3046355</td>\n",
       "      <td>4.7%</td>\n",
       "      <td>144014</td>\n",
       "      <td>4</td>\n",
       "      <td>0.92%</td>\n",
       "      <td>527260</td>\n",
       "      <td>798102</td>\n",
       "      <td>761589</td>\n",
       "      <td>0.95%</td>\n",
       "      <td>0.97%</td>\n",
       "      <td>–0.02%</td>\n",
       "      <td>1.12%</td>\n",
       "    </tr>\n",
       "    <tr>\n",
       "      <th>32</th>\n",
       "      <td>33.0</td>\n",
       "      <td>36.0</td>\n",
       "      <td>Nevada</td>\n",
       "      <td>3104614</td>\n",
       "      <td>2700551</td>\n",
       "      <td>15.0%</td>\n",
       "      <td>404063</td>\n",
       "      <td>4</td>\n",
       "      <td>0.92%</td>\n",
       "      <td>523043</td>\n",
       "      <td>777116</td>\n",
       "      <td>675138</td>\n",
       "      <td>0.93%</td>\n",
       "      <td>0.86%</td>\n",
       "      <td>0.06%</td>\n",
       "      <td>1.12%</td>\n",
       "    </tr>\n",
       "    <tr>\n",
       "      <th>33</th>\n",
       "      <td>34.0</td>\n",
       "      <td>33.0</td>\n",
       "      <td>Arkansas</td>\n",
       "      <td>3011524</td>\n",
       "      <td>2915918</td>\n",
       "      <td>3.3%</td>\n",
       "      <td>95606</td>\n",
       "      <td>4</td>\n",
       "      <td>0.92%</td>\n",
       "      <td>505087</td>\n",
       "      <td>753439</td>\n",
       "      <td>728980</td>\n",
       "      <td>0.90%</td>\n",
       "      <td>0.93%</td>\n",
       "      <td>–0.03%</td>\n",
       "      <td>1.12%</td>\n",
       "    </tr>\n",
       "    <tr>\n",
       "      <th>34</th>\n",
       "      <td>35.0</td>\n",
       "      <td>32.0</td>\n",
       "      <td>Mississippi</td>\n",
       "      <td>2961279</td>\n",
       "      <td>2967297</td>\n",
       "      <td>–0.2%</td>\n",
       "      <td>–6,018</td>\n",
       "      <td>4</td>\n",
       "      <td>0.92%</td>\n",
       "      <td>494464</td>\n",
       "      <td>740979</td>\n",
       "      <td>741824</td>\n",
       "      <td>0.88%</td>\n",
       "      <td>0.95%</td>\n",
       "      <td>–0.06%</td>\n",
       "      <td>1.12%</td>\n",
       "    </tr>\n",
       "    <tr>\n",
       "      <th>35</th>\n",
       "      <td>36.0</td>\n",
       "      <td>34.0</td>\n",
       "      <td>Kansas</td>\n",
       "      <td>2937880</td>\n",
       "      <td>2853118</td>\n",
       "      <td>3.0%</td>\n",
       "      <td>84762</td>\n",
       "      <td>4</td>\n",
       "      <td>0.92%</td>\n",
       "      <td>485634</td>\n",
       "      <td>735216</td>\n",
       "      <td>713280</td>\n",
       "      <td>0.88%</td>\n",
       "      <td>0.91%</td>\n",
       "      <td>–0.04%</td>\n",
       "      <td>1.12%</td>\n",
       "    </tr>\n",
       "    <tr>\n",
       "      <th>36</th>\n",
       "      <td>37.0</td>\n",
       "      <td>37.0</td>\n",
       "      <td>New Mexico</td>\n",
       "      <td>2117522</td>\n",
       "      <td>2059179</td>\n",
       "      <td>2.8%</td>\n",
       "      <td>58343</td>\n",
       "      <td>3</td>\n",
       "      <td>0.69%</td>\n",
       "      <td>421264</td>\n",
       "      <td>706740</td>\n",
       "      <td>686393</td>\n",
       "      <td>0.63%</td>\n",
       "      <td>0.66%</td>\n",
       "      <td>–0.03%</td>\n",
       "      <td>0.93%</td>\n",
       "    </tr>\n",
       "    <tr>\n",
       "      <th>37</th>\n",
       "      <td>38.0</td>\n",
       "      <td>39.0</td>\n",
       "      <td>Nebraska</td>\n",
       "      <td>1961504</td>\n",
       "      <td>1826341</td>\n",
       "      <td>7.4%</td>\n",
       "      <td>135163</td>\n",
       "      <td>3</td>\n",
       "      <td>0.69%</td>\n",
       "      <td>387510</td>\n",
       "      <td>654444</td>\n",
       "      <td>608780</td>\n",
       "      <td>0.59%</td>\n",
       "      <td>0.58%</td>\n",
       "      <td>0.00%</td>\n",
       "      <td>0.93%</td>\n",
       "    </tr>\n",
       "    <tr>\n",
       "      <th>38</th>\n",
       "      <td>39.0</td>\n",
       "      <td>40.0</td>\n",
       "      <td>Idaho</td>\n",
       "      <td>1839106</td>\n",
       "      <td>1567582</td>\n",
       "      <td>17.3%</td>\n",
       "      <td>271524</td>\n",
       "      <td>2</td>\n",
       "      <td>0.46%</td>\n",
       "      <td>456728</td>\n",
       "      <td>920689</td>\n",
       "      <td>783791</td>\n",
       "      <td>0.55%</td>\n",
       "      <td>0.50%</td>\n",
       "      <td>0.05%</td>\n",
       "      <td>0.74%</td>\n",
       "    </tr>\n",
       "    <tr>\n",
       "      <th>39</th>\n",
       "      <td>40.0</td>\n",
       "      <td>38.0</td>\n",
       "      <td>West Virginia</td>\n",
       "      <td>1793716</td>\n",
       "      <td>1852994</td>\n",
       "      <td>–3.2%</td>\n",
       "      <td>–59,278</td>\n",
       "      <td>2</td>\n",
       "      <td>0.46%</td>\n",
       "      <td>356957</td>\n",
       "      <td>897523</td>\n",
       "      <td>617665</td>\n",
       "      <td>0.54%</td>\n",
       "      <td>0.59%</td>\n",
       "      <td>–0.06%</td>\n",
       "      <td>0.74%</td>\n",
       "    </tr>\n",
       "    <tr>\n",
       "      <th>40</th>\n",
       "      <td>41.0</td>\n",
       "      <td>41.0</td>\n",
       "      <td>Hawaii</td>\n",
       "      <td>1455271</td>\n",
       "      <td>1360301</td>\n",
       "      <td>7.0%</td>\n",
       "      <td>94970</td>\n",
       "      <td>2</td>\n",
       "      <td>0.46%</td>\n",
       "      <td>351752</td>\n",
       "      <td>730069</td>\n",
       "      <td>680151</td>\n",
       "      <td>0.44%</td>\n",
       "      <td>0.43%</td>\n",
       "      <td>0.00%</td>\n",
       "      <td>0.74%</td>\n",
       "    </tr>\n",
       "    <tr>\n",
       "      <th>41</th>\n",
       "      <td>42.0</td>\n",
       "      <td>43.0</td>\n",
       "      <td>New Hampshire</td>\n",
       "      <td>1377529</td>\n",
       "      <td>1316470</td>\n",
       "      <td>4.6%</td>\n",
       "      <td>61059</td>\n",
       "      <td>2</td>\n",
       "      <td>0.46%</td>\n",
       "      <td>341569</td>\n",
       "      <td>689545</td>\n",
       "      <td>658235</td>\n",
       "      <td>0.41%</td>\n",
       "      <td>0.42%</td>\n",
       "      <td>–0.01%</td>\n",
       "      <td>0.74%</td>\n",
       "    </tr>\n",
       "    <tr>\n",
       "      <th>42</th>\n",
       "      <td>43.0</td>\n",
       "      <td>42.0</td>\n",
       "      <td>Maine</td>\n",
       "      <td>1362359</td>\n",
       "      <td>1328361</td>\n",
       "      <td>2.6%</td>\n",
       "      <td>33998</td>\n",
       "      <td>2</td>\n",
       "      <td>0.46%</td>\n",
       "      <td>337535</td>\n",
       "      <td>681791</td>\n",
       "      <td>664181</td>\n",
       "      <td>0.41%</td>\n",
       "      <td>0.42%</td>\n",
       "      <td>–0.02%</td>\n",
       "      <td>0.74%</td>\n",
       "    </tr>\n",
       "    <tr>\n",
       "      <th>43</th>\n",
       "      <td>44.0</td>\n",
       "      <td>44.0</td>\n",
       "      <td>Rhode Island</td>\n",
       "      <td>1097379</td>\n",
       "      <td>1052567</td>\n",
       "      <td>4.3%</td>\n",
       "      <td>44812</td>\n",
       "      <td>2</td>\n",
       "      <td>0.46%</td>\n",
       "      <td>264281</td>\n",
       "      <td>549082</td>\n",
       "      <td>526284</td>\n",
       "      <td>0.33%</td>\n",
       "      <td>0.34%</td>\n",
       "      <td>–0.01%</td>\n",
       "      <td>0.74%</td>\n",
       "    </tr>\n",
       "    <tr>\n",
       "      <th>44</th>\n",
       "      <td>45.0</td>\n",
       "      <td>45.0</td>\n",
       "      <td>Montana</td>\n",
       "      <td>1084225</td>\n",
       "      <td>989415</td>\n",
       "      <td>9.6%</td>\n",
       "      <td>94810</td>\n",
       "      <td>2</td>\n",
       "      <td>0.46%</td>\n",
       "      <td>360192</td>\n",
       "      <td>542704</td>\n",
       "      <td>989415</td>\n",
       "      <td>0.32%</td>\n",
       "      <td>0.32%</td>\n",
       "      <td>0.01%</td>\n",
       "      <td>0.74%</td>\n",
       "    </tr>\n",
       "    <tr>\n",
       "      <th>45</th>\n",
       "      <td>46.0</td>\n",
       "      <td>46.0</td>\n",
       "      <td>Delaware</td>\n",
       "      <td>989948</td>\n",
       "      <td>897934</td>\n",
       "      <td>10.2%</td>\n",
       "      <td>92014</td>\n",
       "      <td>1</td>\n",
       "      <td>0.23%</td>\n",
       "      <td>328936</td>\n",
       "      <td>990837</td>\n",
       "      <td>897934</td>\n",
       "      <td>0.30%</td>\n",
       "      <td>0.29%</td>\n",
       "      <td>0.01%</td>\n",
       "      <td>0.56%</td>\n",
       "    </tr>\n",
       "    <tr>\n",
       "      <th>46</th>\n",
       "      <td>47.0</td>\n",
       "      <td>47.0</td>\n",
       "      <td>South Dakota</td>\n",
       "      <td>886667</td>\n",
       "      <td>814180</td>\n",
       "      <td>8.9%</td>\n",
       "      <td>72487</td>\n",
       "      <td>1</td>\n",
       "      <td>0.23%</td>\n",
       "      <td>297572</td>\n",
       "      <td>887770</td>\n",
       "      <td>814180</td>\n",
       "      <td>0.26%</td>\n",
       "      <td>0.26%</td>\n",
       "      <td>0.00%</td>\n",
       "      <td>0.56%</td>\n",
       "    </tr>\n",
       "    <tr>\n",
       "      <th>47</th>\n",
       "      <td>48.0</td>\n",
       "      <td>49.0</td>\n",
       "      <td>North Dakota</td>\n",
       "      <td>779094</td>\n",
       "      <td>672591</td>\n",
       "      <td>15.8%</td>\n",
       "      <td>106503</td>\n",
       "      <td>1</td>\n",
       "      <td>0.23%</td>\n",
       "      <td>255103</td>\n",
       "      <td>779702</td>\n",
       "      <td>672591</td>\n",
       "      <td>0.23%</td>\n",
       "      <td>0.21%</td>\n",
       "      <td>0.02%</td>\n",
       "      <td>0.56%</td>\n",
       "    </tr>\n",
       "    <tr>\n",
       "      <th>48</th>\n",
       "      <td>49.0</td>\n",
       "      <td>48.0</td>\n",
       "      <td>Alaska</td>\n",
       "      <td>733391</td>\n",
       "      <td>710231</td>\n",
       "      <td>3.3%</td>\n",
       "      <td>23160</td>\n",
       "      <td>1</td>\n",
       "      <td>0.23%</td>\n",
       "      <td>243719</td>\n",
       "      <td>736081</td>\n",
       "      <td>710231</td>\n",
       "      <td>0.22%</td>\n",
       "      <td>0.23%</td>\n",
       "      <td>–0.01%</td>\n",
       "      <td>0.56%</td>\n",
       "    </tr>\n",
       "    <tr>\n",
       "      <th>49</th>\n",
       "      <td>50.0</td>\n",
       "      <td>51.0</td>\n",
       "      <td>District of Columbia</td>\n",
       "      <td>689545</td>\n",
       "      <td>601723</td>\n",
       "      <td>14.6%</td>\n",
       "      <td>87822</td>\n",
       "      <td>1*</td>\n",
       "      <td>—</td>\n",
       "      <td>237605</td>\n",
       "      <td>—</td>\n",
       "      <td>—</td>\n",
       "      <td>0.21%</td>\n",
       "      <td>0.19%</td>\n",
       "      <td>0.01%</td>\n",
       "      <td>0.56%</td>\n",
       "    </tr>\n",
       "    <tr>\n",
       "      <th>50</th>\n",
       "      <td>51.0</td>\n",
       "      <td>50.0</td>\n",
       "      <td>Vermont</td>\n",
       "      <td>643077</td>\n",
       "      <td>625741</td>\n",
       "      <td>2.8%</td>\n",
       "      <td>17336</td>\n",
       "      <td>1</td>\n",
       "      <td>0.23%</td>\n",
       "      <td>207782</td>\n",
       "      <td>643503</td>\n",
       "      <td>625741</td>\n",
       "      <td>0.19%</td>\n",
       "      <td>0.20%</td>\n",
       "      <td>–0.01%</td>\n",
       "      <td>0.56%</td>\n",
       "    </tr>\n",
       "    <tr>\n",
       "      <th>51</th>\n",
       "      <td>52.0</td>\n",
       "      <td>52.0</td>\n",
       "      <td>Wyoming</td>\n",
       "      <td>576851</td>\n",
       "      <td>563626</td>\n",
       "      <td>2.3%</td>\n",
       "      <td>13225</td>\n",
       "      <td>1</td>\n",
       "      <td>0.23%</td>\n",
       "      <td>194109</td>\n",
       "      <td>577719</td>\n",
       "      <td>563626</td>\n",
       "      <td>0.17%</td>\n",
       "      <td>0.18%</td>\n",
       "      <td>–0.01%</td>\n",
       "      <td>0.56%</td>\n",
       "    </tr>\n",
       "    <tr>\n",
       "      <th>52</th>\n",
       "      <td>53.0</td>\n",
       "      <td>53.0</td>\n",
       "      <td>Guam[8]</td>\n",
       "      <td>153836</td>\n",
       "      <td>159358</td>\n",
       "      <td>–3.5%</td>\n",
       "      <td>–5,522</td>\n",
       "      <td>1*</td>\n",
       "      <td>—</td>\n",
       "      <td>—</td>\n",
       "      <td>—</td>\n",
       "      <td>—</td>\n",
       "      <td>0.05%</td>\n",
       "      <td>0.05%</td>\n",
       "      <td>–0.00%</td>\n",
       "      <td>—</td>\n",
       "    </tr>\n",
       "    <tr>\n",
       "      <th>53</th>\n",
       "      <td>54.0</td>\n",
       "      <td>54.0</td>\n",
       "      <td>U.S. Virgin Islands[9]</td>\n",
       "      <td>87146</td>\n",
       "      <td>106405</td>\n",
       "      <td>–18.1%</td>\n",
       "      <td>–19,259</td>\n",
       "      <td>1*</td>\n",
       "      <td>—</td>\n",
       "      <td>—</td>\n",
       "      <td>—</td>\n",
       "      <td>—</td>\n",
       "      <td>0.03%</td>\n",
       "      <td>0.03%</td>\n",
       "      <td>–0.00%</td>\n",
       "      <td>—</td>\n",
       "    </tr>\n",
       "    <tr>\n",
       "      <th>54</th>\n",
       "      <td>55.0</td>\n",
       "      <td>55.0</td>\n",
       "      <td>American Samoa[10]</td>\n",
       "      <td>49710</td>\n",
       "      <td>55519</td>\n",
       "      <td>–10.5%</td>\n",
       "      <td>–5,809</td>\n",
       "      <td>1*</td>\n",
       "      <td>—</td>\n",
       "      <td>—</td>\n",
       "      <td>—</td>\n",
       "      <td>—</td>\n",
       "      <td>0.01%</td>\n",
       "      <td>0.02%</td>\n",
       "      <td>–0.00%</td>\n",
       "      <td>—</td>\n",
       "    </tr>\n",
       "    <tr>\n",
       "      <th>55</th>\n",
       "      <td>56.0</td>\n",
       "      <td>56.0</td>\n",
       "      <td>Northern Mariana Islands[11]</td>\n",
       "      <td>47329</td>\n",
       "      <td>53883</td>\n",
       "      <td>–12.2%</td>\n",
       "      <td>–6,554</td>\n",
       "      <td>1*</td>\n",
       "      <td>—</td>\n",
       "      <td>—</td>\n",
       "      <td>—</td>\n",
       "      <td>—</td>\n",
       "      <td>0.01%</td>\n",
       "      <td>0.02%</td>\n",
       "      <td>–0.00%</td>\n",
       "      <td>—</td>\n",
       "    </tr>\n",
       "    <tr>\n",
       "      <th>56</th>\n",
       "      <td>NaN</td>\n",
       "      <td>NaN</td>\n",
       "      <td>Contiguous United States</td>\n",
       "      <td>329260619</td>\n",
       "      <td>306675006</td>\n",
       "      <td>7.4%</td>\n",
       "      <td>+22585613</td>\n",
       "      <td>432(+1*)</td>\n",
       "      <td>99.31%</td>\n",
       "      <td>616471</td>\n",
       "      <td>757745</td>\n",
       "      <td>709896</td>\n",
       "      <td>98.27%</td>\n",
       "      <td>98.03%</td>\n",
       "      <td>0.24%</td>\n",
       "      <td>98.70%</td>\n",
       "    </tr>\n",
       "    <tr>\n",
       "      <th>57</th>\n",
       "      <td>NaN</td>\n",
       "      <td>NaN</td>\n",
       "      <td>The 50 states</td>\n",
       "      <td>330759736</td>\n",
       "      <td>308143815</td>\n",
       "      <td>7.3%</td>\n",
       "      <td>+22615921</td>\n",
       "      <td>435</td>\n",
       "      <td>100%</td>\n",
       "      <td>614526</td>\n",
       "      <td>755796</td>\n",
       "      <td>708377</td>\n",
       "      <td>98.71%</td>\n",
       "      <td>98.50%</td>\n",
       "      <td>0.22%</td>\n",
       "      <td>99.44%</td>\n",
       "    </tr>\n",
       "    <tr>\n",
       "      <th>58</th>\n",
       "      <td>NaN</td>\n",
       "      <td>NaN</td>\n",
       "      <td>The 50 states and D.C.</td>\n",
       "      <td>331449281</td>\n",
       "      <td>308745538</td>\n",
       "      <td>7.4%</td>\n",
       "      <td>+22703743</td>\n",
       "      <td>435(+1*)</td>\n",
       "      <td>100%</td>\n",
       "      <td>612424</td>\n",
       "      <td>—</td>\n",
       "      <td>—</td>\n",
       "      <td>98.92%</td>\n",
       "      <td>98.69%</td>\n",
       "      <td>0.23%</td>\n",
       "      <td>100%</td>\n",
       "    </tr>\n",
       "    <tr>\n",
       "      <th>59</th>\n",
       "      <td>NaN</td>\n",
       "      <td>NaN</td>\n",
       "      <td>Total United States</td>\n",
       "      <td>335073176</td>\n",
       "      <td>312846492</td>\n",
       "      <td>7.1%</td>\n",
       "      <td>+22226684</td>\n",
       "      <td>435(+6*)</td>\n",
       "      <td>100%</td>\n",
       "      <td>—</td>\n",
       "      <td>—</td>\n",
       "      <td>—</td>\n",
       "      <td>100%</td>\n",
       "      <td>100%</td>\n",
       "      <td>—</td>\n",
       "      <td>—</td>\n",
       "    </tr>\n",
       "  </tbody>\n",
       "</table>\n",
       "</div>"
      ],
      "text/plain": [
       "    Rank                  State or territory Census population[7][a]  \\\n",
       "     '20   '10            State or territory           April 1, 2020   \n",
       "0    1.0   1.0                    California                39538223   \n",
       "1    2.0   2.0                         Texas                29145505   \n",
       "2    3.0   4.0                       Florida                21538187   \n",
       "3    4.0   3.0                      New York                20201249   \n",
       "4    5.0   6.0                  Pennsylvania                13002700   \n",
       "5    6.0   5.0                      Illinois                12812508   \n",
       "6    7.0   7.0                          Ohio                11799448   \n",
       "7    8.0   9.0                       Georgia                10711908   \n",
       "8    9.0  10.0                North Carolina                10439388   \n",
       "9   10.0   8.0                      Michigan                10077331   \n",
       "10  11.0  11.0                    New Jersey                 9288994   \n",
       "11  12.0  12.0                      Virginia                 8631393   \n",
       "12  13.0  13.0                    Washington                 7705281   \n",
       "13  14.0  16.0                       Arizona                 7151502   \n",
       "14  15.0  14.0                 Massachusetts                 7029917   \n",
       "15  16.0  17.0                     Tennessee                 6910840   \n",
       "16  17.0  15.0                       Indiana                 6785528   \n",
       "17  18.0  19.0                      Maryland                 6177224   \n",
       "18  19.0  18.0                      Missouri                 6154913   \n",
       "19  20.0  20.0                     Wisconsin                 5893718   \n",
       "20  21.0  22.0                      Colorado                 5773714   \n",
       "21  22.0  21.0                     Minnesota                 5706494   \n",
       "22  23.0  24.0                South Carolina                 5118425   \n",
       "23  24.0  23.0                       Alabama                 5024279   \n",
       "24  25.0  25.0                     Louisiana                 4657757   \n",
       "25  26.0  26.0                      Kentucky                 4505836   \n",
       "26  27.0  27.0                        Oregon                 4237256   \n",
       "27  28.0  28.0                      Oklahoma                 3959353   \n",
       "28  29.0  30.0                   Connecticut                 3605944   \n",
       "29  30.0  29.0                   Puerto Rico                 3285874   \n",
       "30  31.0  35.0                          Utah                 3271616   \n",
       "31  32.0  31.0                          Iowa                 3190369   \n",
       "32  33.0  36.0                        Nevada                 3104614   \n",
       "33  34.0  33.0                      Arkansas                 3011524   \n",
       "34  35.0  32.0                   Mississippi                 2961279   \n",
       "35  36.0  34.0                        Kansas                 2937880   \n",
       "36  37.0  37.0                    New Mexico                 2117522   \n",
       "37  38.0  39.0                      Nebraska                 1961504   \n",
       "38  39.0  40.0                         Idaho                 1839106   \n",
       "39  40.0  38.0                 West Virginia                 1793716   \n",
       "40  41.0  41.0                        Hawaii                 1455271   \n",
       "41  42.0  43.0                 New Hampshire                 1377529   \n",
       "42  43.0  42.0                         Maine                 1362359   \n",
       "43  44.0  44.0                  Rhode Island                 1097379   \n",
       "44  45.0  45.0                       Montana                 1084225   \n",
       "45  46.0  46.0                      Delaware                  989948   \n",
       "46  47.0  47.0                  South Dakota                  886667   \n",
       "47  48.0  49.0                  North Dakota                  779094   \n",
       "48  49.0  48.0                        Alaska                  733391   \n",
       "49  50.0  51.0          District of Columbia                  689545   \n",
       "50  51.0  50.0                       Vermont                  643077   \n",
       "51  52.0  52.0                       Wyoming                  576851   \n",
       "52  53.0  53.0                       Guam[8]                  153836   \n",
       "53  54.0  54.0        U.S. Virgin Islands[9]                   87146   \n",
       "54  55.0  55.0            American Samoa[10]                   49710   \n",
       "55  56.0  56.0  Northern Mariana Islands[11]                   47329   \n",
       "56   NaN   NaN      Contiguous United States               329260619   \n",
       "57   NaN   NaN                 The 50 states               330759736   \n",
       "58   NaN   NaN        The 50 states and D.C.               331449281   \n",
       "59   NaN   NaN           Total United States               335073176   \n",
       "\n",
       "                 Change,2010–2020[7][a]            House of Reps.[b]          \\\n",
       "   April 1, 2010                      %       Abs.                S.       %   \n",
       "0       37253956                   6.1%    2284267                52  11.95%   \n",
       "1       25145561                  15.9%    3999944                38   8.74%   \n",
       "2       18801310                  14.6%    2736877                28   6.44%   \n",
       "3       19378102                   4.2%     823147                26   5.98%   \n",
       "4       12702379                   2.4%     300321                17   3.91%   \n",
       "5       12830632                  –0.1%    –18,124                17   3.91%   \n",
       "6       11536504                   2.3%     262944                15   3.45%   \n",
       "7        9687653                  10.6%    1024255                14   3.22%   \n",
       "8        9535483                   9.5%     903905                14   3.22%   \n",
       "9        9883640                   2.0%     193691                13   2.99%   \n",
       "10       8791894                   5.7%     497100                12   2.76%   \n",
       "11       8001024                   7.9%     630369                11   2.53%   \n",
       "12       6724540                  14.6%     980741                10   2.30%   \n",
       "13       6392017                  11.9%     759485                 9   2.07%   \n",
       "14       6547629                   7.4%     482288                 9   2.07%   \n",
       "15       6346105                   8.9%     564735                 9   2.07%   \n",
       "16       6483802                   4.7%     301726                 9   2.07%   \n",
       "17       5773552                   7.0%     403672                 8   1.84%   \n",
       "18       5988927                   2.8%     165986                 8   1.84%   \n",
       "19       5686986                   3.6%     206732                 8   1.84%   \n",
       "20       5029196                  14.8%     744518                 8   1.84%   \n",
       "21       5303925                   7.6%     402569                 8   1.84%   \n",
       "22       4625364                  10.7%     493061                 7   1.61%   \n",
       "23       4779736                   5.1%     244543                 7   1.61%   \n",
       "24       4533372                   2.7%     124385                 6   1.38%   \n",
       "25       4339367                   3.8%     166469                 6   1.38%   \n",
       "26       3831074                  10.6%     406182                 6   1.38%   \n",
       "27       3751351                   5.5%     208002                 5   1.15%   \n",
       "28       3574097                   0.9%      31847                 5   1.15%   \n",
       "29       3725789                –‍11.8%   –439,915                1*       —   \n",
       "30       2763885                  18.4%     507731                 4   0.92%   \n",
       "31       3046355                   4.7%     144014                 4   0.92%   \n",
       "32       2700551                  15.0%     404063                 4   0.92%   \n",
       "33       2915918                   3.3%      95606                 4   0.92%   \n",
       "34       2967297                  –0.2%     –6,018                 4   0.92%   \n",
       "35       2853118                   3.0%      84762                 4   0.92%   \n",
       "36       2059179                   2.8%      58343                 3   0.69%   \n",
       "37       1826341                   7.4%     135163                 3   0.69%   \n",
       "38       1567582                  17.3%     271524                 2   0.46%   \n",
       "39       1852994                  –3.2%    –59,278                 2   0.46%   \n",
       "40       1360301                   7.0%      94970                 2   0.46%   \n",
       "41       1316470                   4.6%      61059                 2   0.46%   \n",
       "42       1328361                   2.6%      33998                 2   0.46%   \n",
       "43       1052567                   4.3%      44812                 2   0.46%   \n",
       "44        989415                   9.6%      94810                 2   0.46%   \n",
       "45        897934                  10.2%      92014                 1   0.23%   \n",
       "46        814180                   8.9%      72487                 1   0.23%   \n",
       "47        672591                  15.8%     106503                 1   0.23%   \n",
       "48        710231                   3.3%      23160                 1   0.23%   \n",
       "49        601723                  14.6%      87822                1*       —   \n",
       "50        625741                   2.8%      17336                 1   0.23%   \n",
       "51        563626                   2.3%      13225                 1   0.23%   \n",
       "52        159358                  –3.5%     –5,522                1*       —   \n",
       "53        106405                 –18.1%    –19,259                1*       —   \n",
       "54         55519                 –10.5%     –5,809                1*       —   \n",
       "55         53883                 –12.2%     –6,554                1*       —   \n",
       "56     306675006                   7.4%  +22585613          432(+1*)  99.31%   \n",
       "57     308143815                   7.3%  +22615921               435    100%   \n",
       "58     308745538                   7.4%  +22703743          435(+1*)    100%   \n",
       "59     312846492                   7.1%  +22226684          435(+6*)    100%   \n",
       "\n",
       "   Pop. per elec. vote, 2020[c] Census pop. per seat          \\\n",
       "   Pop. per elec. vote, 2020[c]                  '20     '10   \n",
       "0                        715783               761091  702905   \n",
       "1                        772652               767981  698488   \n",
       "2                        749425               770376  696345   \n",
       "3                        666785               777529  717707   \n",
       "4                        639163               765403  705688   \n",
       "5                        629377               754279  712813   \n",
       "6                        649623               787257  721032   \n",
       "7                        669376               766091  691975   \n",
       "8                        706722               746711  733499   \n",
       "9                        622910               775726  705974   \n",
       "10                       634455               774541  732658   \n",
       "11                       660813               786777  727366   \n",
       "12                       641134               771595  672454   \n",
       "13                       674673               795436  710224   \n",
       "14                       626689               781497  727514   \n",
       "15                       626076               768544  705123   \n",
       "16                       614087               754476  720422   \n",
       "17                       615155               773160  748616   \n",
       "18                       605580               770035  721694   \n",
       "19                       583266               737184  710873   \n",
       "20                       645302               722771  718457   \n",
       "21                       565734               713719  662991   \n",
       "22                       579782               732102  660766   \n",
       "23                       546837               718579  682819   \n",
       "24                       580665               776911  755562   \n",
       "25                       559656               751557  723228   \n",
       "26                       605930               706917  766215   \n",
       "27                       568683               792703  750270   \n",
       "28                       508144               721660  714819   \n",
       "29                            —                    —       —   \n",
       "30                       541647               818813  690971   \n",
       "31                       527260               798102  761589   \n",
       "32                       523043               777116  675138   \n",
       "33                       505087               753439  728980   \n",
       "34                       494464               740979  741824   \n",
       "35                       485634               735216  713280   \n",
       "36                       421264               706740  686393   \n",
       "37                       387510               654444  608780   \n",
       "38                       456728               920689  783791   \n",
       "39                       356957               897523  617665   \n",
       "40                       351752               730069  680151   \n",
       "41                       341569               689545  658235   \n",
       "42                       337535               681791  664181   \n",
       "43                       264281               549082  526284   \n",
       "44                       360192               542704  989415   \n",
       "45                       328936               990837  897934   \n",
       "46                       297572               887770  814180   \n",
       "47                       255103               779702  672591   \n",
       "48                       243719               736081  710231   \n",
       "49                       237605                    —       —   \n",
       "50                       207782               643503  625741   \n",
       "51                       194109               577719  563626   \n",
       "52                            —                    —       —   \n",
       "53                            —                    —       —   \n",
       "54                            —                    —       —   \n",
       "55                            —                    —       —   \n",
       "56                       616471               757745  709896   \n",
       "57                       614526               755796  708377   \n",
       "58                       612424                    —       —   \n",
       "59                            —                    —       —   \n",
       "\n",
       "   % of the total U.S. pop.[d]                      % of Elec. Coll.  \n",
       "                     Est. 2020    2010 Ch.2010–2020 % of Elec. Coll.  \n",
       "0                       11.80%  11.91%       –0.11%           10.04%  \n",
       "1                        8.70%   8.04%        0.66%            7.43%  \n",
       "2                        6.43%   6.01%        0.42%            5.58%  \n",
       "3                        6.03%   6.19%       –0.17%            5.20%  \n",
       "4                        3.88%   4.06%       –0.18%            3.53%  \n",
       "5                        3.82%   4.10%       –0.28%            3.53%  \n",
       "6                        3.52%   3.69%       –0.17%            3.16%  \n",
       "7                        3.20%   3.10%        0.10%            2.97%  \n",
       "8                        3.12%   3.05%        0.07%            2.97%  \n",
       "9                        3.01%   3.16%       –0.15%            2.79%  \n",
       "10                       2.77%   2.81%       –0.04%            2.60%  \n",
       "11                       2.58%   2.56%        0.02%            2.42%  \n",
       "12                       2.30%   2.15%        0.15%            2.23%  \n",
       "13                       2.13%   2.04%        0.09%            2.04%  \n",
       "14                       2.10%   2.09%        0.00%            2.04%  \n",
       "15                       2.06%   2.03%        0.03%            2.04%  \n",
       "16                       2.02%   2.07%       –0.05%            2.04%  \n",
       "17                       1.84%   1.85%       –0.00%            1.86%  \n",
       "18                       1.84%   1.91%       –0.08%            1.86%  \n",
       "19                       1.76%   1.82%       –0.06%            1.86%  \n",
       "20                       1.72%   1.61%        0.12%            1.86%  \n",
       "21                       1.70%   1.70%        0.01%            1.86%  \n",
       "22                       1.53%   1.48%        0.05%            1.67%  \n",
       "23                       1.50%   1.53%       –0.03%            1.67%  \n",
       "24                       1.39%   1.45%       –0.06%            1.49%  \n",
       "25                       1.35%   1.39%       –0.04%            1.49%  \n",
       "26                       1.26%   1.22%        0.04%            1.49%  \n",
       "27                       1.18%   1.20%       –0.02%            1.30%  \n",
       "28                       1.08%   1.14%       –0.07%            1.30%  \n",
       "29                       0.98%   1.19%       –0.21%                —  \n",
       "30                       0.98%   0.88%        0.09%            1.12%  \n",
       "31                       0.95%   0.97%       –0.02%            1.12%  \n",
       "32                       0.93%   0.86%        0.06%            1.12%  \n",
       "33                       0.90%   0.93%       –0.03%            1.12%  \n",
       "34                       0.88%   0.95%       –0.06%            1.12%  \n",
       "35                       0.88%   0.91%       –0.04%            1.12%  \n",
       "36                       0.63%   0.66%       –0.03%            0.93%  \n",
       "37                       0.59%   0.58%        0.00%            0.93%  \n",
       "38                       0.55%   0.50%        0.05%            0.74%  \n",
       "39                       0.54%   0.59%       –0.06%            0.74%  \n",
       "40                       0.44%   0.43%        0.00%            0.74%  \n",
       "41                       0.41%   0.42%       –0.01%            0.74%  \n",
       "42                       0.41%   0.42%       –0.02%            0.74%  \n",
       "43                       0.33%   0.34%       –0.01%            0.74%  \n",
       "44                       0.32%   0.32%        0.01%            0.74%  \n",
       "45                       0.30%   0.29%        0.01%            0.56%  \n",
       "46                       0.26%   0.26%        0.00%            0.56%  \n",
       "47                       0.23%   0.21%        0.02%            0.56%  \n",
       "48                       0.22%   0.23%       –0.01%            0.56%  \n",
       "49                       0.21%   0.19%        0.01%            0.56%  \n",
       "50                       0.19%   0.20%       –0.01%            0.56%  \n",
       "51                       0.17%   0.18%       –0.01%            0.56%  \n",
       "52                       0.05%   0.05%       –0.00%                —  \n",
       "53                       0.03%   0.03%       –0.00%                —  \n",
       "54                       0.01%   0.02%       –0.00%                —  \n",
       "55                       0.01%   0.02%       –0.00%                —  \n",
       "56                      98.27%  98.03%        0.24%           98.70%  \n",
       "57                      98.71%  98.50%        0.22%           99.44%  \n",
       "58                      98.92%  98.69%        0.23%             100%  \n",
       "59                        100%    100%            —                —  "
      ]
     },
     "execution_count": 201,
     "metadata": {},
     "output_type": "execute_result"
    }
   ],
   "source": [
    "pop_table"
   ]
  },
  {
   "cell_type": "code",
   "execution_count": null,
   "id": "73f70de7-3acd-4334-82ef-423dbe73cc8d",
   "metadata": {},
   "outputs": [],
   "source": []
  }
 ],
 "metadata": {
  "kernelspec": {
   "display_name": "Python 3 (ipykernel)",
   "language": "python",
   "name": "python3"
  },
  "language_info": {
   "codemirror_mode": {
    "name": "ipython",
    "version": 3
   },
   "file_extension": ".py",
   "mimetype": "text/x-python",
   "name": "python",
   "nbconvert_exporter": "python",
   "pygments_lexer": "ipython3",
   "version": "3.9.5"
  }
 },
 "nbformat": 4,
 "nbformat_minor": 5
}
