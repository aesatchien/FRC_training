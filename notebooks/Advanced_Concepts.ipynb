{
 "cells": [
  {
   "cell_type": "markdown",
   "id": "f8f0a203-48cf-4fa6-8d9d-9ea49137876c",
   "metadata": {},
   "source": [
    "### Python Advanced concepts  2021 12/30 CJH\n",
    "---"
   ]
  },
  {
   "cell_type": "markdown",
   "id": "38836e75-2009-4f33-8a84-9fc591013886",
   "metadata": {},
   "source": [
    "### args and kwargs\n",
    "* Python has an unpacking operators `(*)` and `(**)`\n",
    "* you can use them in function defintions and when you call functions\n",
    "* examples from https://realpython.com/python-kwargs-and-args/"
   ]
  },
  {
   "cell_type": "code",
   "execution_count": 5,
   "id": "63a4291e-4a5c-41cb-8375-aa54dfbe676e",
   "metadata": {},
   "outputs": [
    {
     "name": "stdout",
     "output_type": "stream",
     "text": [
      "6\n"
     ]
    }
   ],
   "source": [
    "# sum_integers_list.py\n",
    "def my_sum(my_integers):\n",
    "    result = 0\n",
    "    for x in my_integers:\n",
    "        result += x\n",
    "    return result\n",
    "\n",
    "list_of_integers = [1, 2, 3]\n",
    "print(my_sum(list_of_integers))"
   ]
  },
  {
   "cell_type": "markdown",
   "id": "dab756e1-d43f-482b-8abd-fac6c0321ac6",
   "metadata": {},
   "source": [
    "### instead, you could have your function look at every *unnamed* argument passed to it with the * operator\n",
    "* for example, define it with `*args` and your function now has an iterator `args` you can loop over"
   ]
  },
  {
   "cell_type": "code",
   "execution_count": 6,
   "id": "63ee4822-13d2-443b-90e8-1fe1bfc7fe42",
   "metadata": {},
   "outputs": [
    {
     "name": "stdout",
     "output_type": "stream",
     "text": [
      "6\n"
     ]
    }
   ],
   "source": [
    "# sum_integers_args.py\n",
    "def my_sum(*args):\n",
    "    result = 0\n",
    "    # Iterating over the Python args tuple\n",
    "    for x in args:\n",
    "        result += x\n",
    "    return result\n",
    "\n",
    "print(my_sum(1, 2, 3))"
   ]
  },
  {
   "cell_type": "markdown",
   "id": "47589e50-cb4c-4fc2-9a0a-80201009dce7",
   "metadata": {},
   "source": [
    "### instead, you could have your function look at every *named* argument passed to it with the ** operator\n",
    "* for example, define it with `**kwargs` and your function now has an dictionary `kwargs` you can iterate over\n",
    "* note, however, when you iterate over a dictionary you get the keys, so use kwargs.values() or kwargs.keys() when you loop"
   ]
  },
  {
   "cell_type": "code",
   "execution_count": 7,
   "id": "1ce1cb5a-7b23-4055-a76b-3b1dfc8de489",
   "metadata": {},
   "outputs": [
    {
     "name": "stdout",
     "output_type": "stream",
     "text": [
      "RealPythonIsGreat!\n"
     ]
    }
   ],
   "source": [
    "# concatenate.py\n",
    "def concatenate(**kwargs):\n",
    "    result = \"\"\n",
    "    # Iterating over the Python kwargs dictionary\n",
    "    for arg in kwargs.values():\n",
    "        result += arg\n",
    "    return result\n",
    "\n",
    "print(concatenate(a=\"Real\", b=\"Python\", c=\"Is\", d=\"Great\", e=\"!\"))"
   ]
  },
  {
   "cell_type": "code",
   "execution_count": null,
   "id": "9aad0860-27b6-41e5-a920-9e56fc338fb7",
   "metadata": {},
   "outputs": [],
   "source": []
  },
  {
   "cell_type": "markdown",
   "id": "8d82cbbd-447c-4ded-992f-78691e94462f",
   "metadata": {},
   "source": [
    "### putting them all together has a specific order"
   ]
  },
  {
   "cell_type": "code",
   "execution_count": 8,
   "id": "b78b8e76-5c7c-45eb-bc1b-f3692dd1aa86",
   "metadata": {},
   "outputs": [],
   "source": [
    "# correct_function_definition.py\n",
    "def my_function(a, b, *args, **kwargs):\n",
    "    pass"
   ]
  },
  {
   "cell_type": "code",
   "execution_count": null,
   "id": "2d92336e-6370-4a09-b38f-6a882245aceb",
   "metadata": {},
   "outputs": [],
   "source": []
  }
 ],
 "metadata": {
  "kernelspec": {
   "display_name": "Python 3 (ipykernel)",
   "language": "python",
   "name": "python3"
  },
  "language_info": {
   "codemirror_mode": {
    "name": "ipython",
    "version": 3
   },
   "file_extension": ".py",
   "mimetype": "text/x-python",
   "name": "python",
   "nbconvert_exporter": "python",
   "pygments_lexer": "ipython3",
   "version": "3.9.5"
  }
 },
 "nbformat": 4,
 "nbformat_minor": 5
}
