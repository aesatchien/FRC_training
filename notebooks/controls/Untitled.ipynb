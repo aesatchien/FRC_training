{
 "cells": [
  {
   "cell_type": "code",
   "execution_count": null,
   "id": "73b79e45-6dcd-4538-890f-99fbc462d7b5",
   "metadata": {},
   "outputs": [],
   "source": []
  }
 ],
 "metadata": {
  "kernelspec": {
   "display_name": "Python [conda env:robo2023]",
   "language": "python",
   "name": "conda-env-robo2023-py"
  },
  "language_info": {
   "name": ""
  }
 },
 "nbformat": 4,
 "nbformat_minor": 5
}
