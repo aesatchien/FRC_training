{
 "cells": [
  {
   "cell_type": "markdown",
   "id": "1b6c98a0-674d-4af1-a269-228afac619c2",
   "metadata": {},
   "source": [
    "## Trajectory tutorial  - 2022 0127 CJH\n",
    "* We need to generate a list of characteristics for the robot to track, bundled into a trajectory.  \n",
    "* Trajectories give you:\n",
    "  * A list of states with t, velocity, acceleration, pose=Pose2d(Translation2d(x, y), Rotation2d(rad)), curvature)\n",
    "  * A sample() method to get the state at any time\n",
    "  * A totalTime member\n",
    "  * a transformBy so we can change the starting point\n",
    "  \n",
    "* We need input to the trajectory - the points it must follow\n",
    "  * pathweaver **paths** (not to be confused with python *Paths* or operating systems directories) do this\n",
    "  * we can do it with lists of points as well\n",
    "\n",
    "\n",
    "---"
   ]
  },
  {
   "cell_type": "markdown",
   "id": "58771a02-cafc-4337-ba90-82b0e363bf4a",
   "metadata": {},
   "source": [
    "#### Auto generating trajecotories to follow using wpilib\n"
   ]
  },
  {
   "cell_type": "code",
   "execution_count": 1,
   "id": "1f85eb86-05bc-4c07-a48a-c972b4ef59f5",
   "metadata": {},
   "outputs": [
    {
     "ename": "ModuleNotFoundError",
     "evalue": "No module named 'wpilib.controller'",
     "output_type": "error",
     "traceback": [
      "\u001b[1;31m---------------------------------------------------------------------------\u001b[0m",
      "\u001b[1;31mModuleNotFoundError\u001b[0m                       Traceback (most recent call last)",
      "\u001b[1;32m~\\AppData\\Local\\Temp\\1/ipykernel_15828/13080848.py\u001b[0m in \u001b[0;36m<module>\u001b[1;34m\u001b[0m\n\u001b[0;32m      6\u001b[0m \u001b[1;32mfrom\u001b[0m \u001b[0mwpimath\u001b[0m\u001b[1;33m.\u001b[0m\u001b[0mkinematics\u001b[0m \u001b[1;32mimport\u001b[0m \u001b[0mDifferentialDriveKinematics\u001b[0m\u001b[1;33m\u001b[0m\u001b[1;33m\u001b[0m\u001b[0m\n\u001b[0;32m      7\u001b[0m \u001b[1;32mfrom\u001b[0m \u001b[0mwpimath\u001b[0m\u001b[1;33m.\u001b[0m\u001b[0mtrajectory\u001b[0m\u001b[1;33m.\u001b[0m\u001b[0mconstraint\u001b[0m \u001b[1;32mimport\u001b[0m \u001b[0mDifferentialDriveVoltageConstraint\u001b[0m\u001b[1;33m,\u001b[0m \u001b[0mCentripetalAccelerationConstraint\u001b[0m\u001b[1;33m\u001b[0m\u001b[1;33m\u001b[0m\u001b[0m\n\u001b[1;32m----> 8\u001b[1;33m \u001b[1;32mimport\u001b[0m \u001b[0mwpilib\u001b[0m\u001b[1;33m.\u001b[0m\u001b[0mcontroller\u001b[0m\u001b[1;33m\u001b[0m\u001b[1;33m\u001b[0m\u001b[0m\n\u001b[0m",
      "\u001b[1;31mModuleNotFoundError\u001b[0m: No module named 'wpilib.controller'"
     ]
    }
   ],
   "source": [
    "import glob\n",
    "from pathlib import Path\n",
    "\n",
    "from wpimath.geometry import Pose2d, Rotation2d, Translation2d, Transform2d, Twist2d\n",
    "import wpimath.trajectory\n",
    "from wpimath.kinematics import DifferentialDriveKinematics\n",
    "from wpimath.trajectory.constraint import DifferentialDriveVoltageConstraint, CentripetalAccelerationConstraint\n",
    "import wpilib.controller"
   ]
  },
  {
   "cell_type": "markdown",
   "id": "b212ab5c-f4ab-490d-b1cd-7160cdfdd0cb",
   "metadata": {},
   "source": [
    "#### unfortunately, trajectories need to know a lot about the robot"
   ]
  },
  {
   "cell_type": "code",
   "execution_count": null,
   "id": "5cb7b1c7-c097-4348-9c69-689816254cad",
   "metadata": {},
   "outputs": [],
   "source": [
    "# All the characterization constants and drive attributes we need to generate a trajectory\n",
    "ks_volts = 0.446\n",
    "kv_volt_seconds_per_meter = 1.55\n",
    "ka_volt_seconds_squared_per_meter = 0.40\n",
    "k_track_width_meters = 24 * 0.0254\n",
    "k_max_voltage = 6\n",
    "k_max_centripetal_acceleration_meters_per_second_squared = 2.75\n",
    "k_max_acceleration_meters_per_second_squared = 2.75\n",
    "k_drive_kinematics = DifferentialDriveKinematics(k_track_width_meters)\n",
    "k_feed_forward = wpilib.controller.SimpleMotorFeedforwardMeters(ks_volts, kv_volt_seconds_per_meter, ka_volt_seconds_squared_per_meter)\n",
    "k_autonomous_voltage_constraint = DifferentialDriveVoltageConstraint(k_feed_forward, k_drive_kinematics, k_max_voltage)"
   ]
  },
  {
   "cell_type": "markdown",
   "id": "14268d4f-e041-417b-a46f-6cd2011ea0ee",
   "metadata": {},
   "source": [
    "#### the most basic trajectory - connect two poses"
   ]
  },
  {
   "cell_type": "code",
   "execution_count": null,
   "id": "949867fb-801e-4dd2-b5c8-6189b7324f9c",
   "metadata": {
    "tags": []
   },
   "outputs": [],
   "source": [
    "start_pose = Pose2d(Translation2d(x=0, y=0), Rotation2d(0.000000))\n",
    "end_pose = Pose2d(Translation2d(x=1, y=0), Rotation2d(0))\n",
    "velocity = 1\n",
    "config = wpimath.trajectory.TrajectoryConfig(velocity, k_max_acceleration_meters_per_second_squared)\n",
    "traj = wpimath.trajectory.TrajectoryGenerator.generateTrajectory(waypoints=[start_pose, end_pose], config=config)\n",
    "traj.states()"
   ]
  },
  {
   "cell_type": "markdown",
   "id": "745f99a7-4c2a-4246-8934-fe9be8573b1f",
   "metadata": {
    "tags": []
   },
   "source": [
    "#### the next way of making trajectories"
   ]
  },
  {
   "cell_type": "code",
   "execution_count": null,
   "id": "c5bdb367-901c-4d8e-8073-c1da3441daf9",
   "metadata": {},
   "outputs": [],
   "source": [
    "len(traj.states())"
   ]
  },
  {
   "cell_type": "code",
   "execution_count": null,
   "id": "75cd7115-f11e-43a9-9e7a-76e2f59174fb",
   "metadata": {},
   "outputs": [],
   "source": [
    "traj_2 = wpimath.trajectory.TrajectoryGenerator.generateTrajectory?"
   ]
  },
  {
   "cell_type": "code",
   "execution_count": null,
   "id": "b59aa3c5-e4f1-4c84-877a-8525bdc66520",
   "metadata": {},
   "outputs": [],
   "source": [
    "traj_2 = wpimath.trajectory.TrajectoryGenerator.generateTrajectory"
   ]
  },
  {
   "cell_type": "code",
   "execution_count": null,
   "id": "d17908e7-a215-438b-a6d4-a0233f942692",
   "metadata": {},
   "outputs": [],
   "source": [
    "traj_2 = wpimath.trajectory.TrajectoryGenerator.generateTrajectory"
   ]
  },
  {
   "cell_type": "markdown",
   "id": "92e468bf-9ba6-44d9-bb32-f4035ac7b395",
   "metadata": {
    "tags": []
   },
   "source": [
    "#### the full on, on-the fly version of generating trajectories on the robot"
   ]
  },
  {
   "cell_type": "code",
   "execution_count": null,
   "id": "7a8b11fd-de49-4963-84a2-ca2b985a95c8",
   "metadata": {},
   "outputs": [],
   "source": [
    "pwd"
   ]
  },
  {
   "cell_type": "code",
   "execution_count": null,
   "id": "431f834b-2b55-411d-b294-45728ec8ab7c",
   "metadata": {},
   "outputs": [],
   "source": [
    "path_location = r'..\\..\\..\\2022\\robot\\pathweaver\\paths\\\\'\n",
    "# find all of the pathweaver paths available to the robot - use to populate a drop-down sendable chooser in the UI\n",
    "def get_pathweaver_paths():  # use this to fill the drop down for file selection\n",
    "    # instead of passing robot simulation, check for directory exists on the robot\n",
    "    path_files = glob.glob(path_location + '*', recursive=True)\n",
    "    #print(f'** Pathweaver files: {path_files} **')\n",
    "    path_names = [Path(file).name for file in path_files]\n",
    "    return path_names"
   ]
  },
  {
   "cell_type": "code",
   "execution_count": null,
   "id": "ae61e104-63e8-4e67-89c9-20e17f3690be",
   "metadata": {},
   "outputs": [],
   "source": [
    "paths = get_pathweaver_paths()\n",
    "paths"
   ]
  },
  {
   "cell_type": "code",
   "execution_count": null,
   "id": "ecaf64b8-283b-435a-b329-28fad9b58e34",
   "metadata": {},
   "outputs": [],
   "source": [
    "Path(path_location) / paths[0]"
   ]
  },
  {
   "cell_type": "code",
   "execution_count": null,
   "id": "9c3d3b59-9be8-413f-9946-d171f8ea480b",
   "metadata": {
    "tags": []
   },
   "outputs": [],
   "source": [
    "def generate_trajectory(path_name:str, velocity=2, display=True, save=True) -> wpimath.trajectory:\n",
    "    \"\"\"\n",
    "    Generate a wpilib trajectory from a pathweaver path.  Accepts regular and reversed paths.\n",
    "\n",
    "    :param path_name: name of pathweaver file to be imported\n",
    "    :param velocity: Maximum robot velocity for the generated trajectory\n",
    "    :param save: Option to save generated trajectory to disk as 'test.json'\n",
    "    :param display: Option to print to console\n",
    "    :return: generated trajectory\n",
    "    \"\"\"\n",
    "\n",
    "    pathweaver_y_offfset = 4.572\n",
    "    p = Path(path_location + path_name)\n",
    "    if p.is_file():\n",
    "        lines = []\n",
    "        with open(p, \"r\") as f:\n",
    "            for line in f:\n",
    "                currentline = line.split(\",\")\n",
    "                lines.append(currentline)\n",
    "        cvector_list = [wpimath.spline.Spline5.ControlVector((float(row[0]), float(row[2]), 0), (float(row[1]) + pathweaver_y_offfset, float(row[3]), 0))\n",
    "                        for ix, row in enumerate(lines[1:])]\n",
    "\n",
    "        config = wpimath.trajectory.TrajectoryConfig(velocity, k_max_acceleration_meters_per_second_squared)\n",
    "        config.setKinematics(k_drive_kinematics)\n",
    "        config.addConstraint(k_autonomous_voltage_constraint)\n",
    "        config.addConstraint(CentripetalAccelerationConstraint(k_max_centripetal_acceleration_meters_per_second_squared))\n",
    "        # check to see if the path is to be reversed it is marked in the th column of the pathweaver file\n",
    "        reverse_array = [row[5] for row in lines[1:]]\n",
    "        if any(entry == 'true' for entry in reverse_array):\n",
    "            config.setReversed(True)\n",
    "        pw_trajectory = wpimath.trajectory.TrajectoryGenerator.generateTrajectory(cvector_list, config)\n",
    "        if save:\n",
    "            wpimath.trajectory.TrajectoryUtil.toPathweaverJson(pw_trajectory, 'pathweaver\\\\test.json')\n",
    "    else:\n",
    "        pw_trajectory = None  # do something else? generate an empty trajectory?\n",
    "        print(f'Trajectory: {p} not found', flush=True)\n",
    "    if display:\n",
    "        print(pw_trajectory)\n",
    "    return pw_trajectory"
   ]
  },
  {
   "cell_type": "code",
   "execution_count": null,
   "id": "10d41fa1-eb3d-48d1-94e9-6edcbe364074",
   "metadata": {},
   "outputs": [],
   "source": [
    "traj = generate_trajectory(path_name=paths[1], velocity=2, display=True, save=False)"
   ]
  },
  {
   "cell_type": "code",
   "execution_count": null,
   "id": "23810499-94c2-4a9e-819f-7db48750bdad",
   "metadata": {},
   "outputs": [],
   "source": [
    "traj_attribs = [attrib for attrib in dir(traj) if '__' not in attrib]\n",
    "_ = [print(attrib, end=', ') if (ix+1)%8!=0 else print(attrib, end='\\n') for ix, attrib in enumerate(traj_attribs) ]"
   ]
  },
  {
   "cell_type": "code",
   "execution_count": null,
   "id": "2b78509b-7654-4518-a45c-c99df3ce164f",
   "metadata": {},
   "outputs": [],
   "source": [
    "traj.initialPose()"
   ]
  },
  {
   "cell_type": "code",
   "execution_count": null,
   "id": "d52367f2-6355-43a0-b43e-784f082773ab",
   "metadata": {},
   "outputs": [],
   "source": [
    "traj.sample(t=1.5)"
   ]
  },
  {
   "cell_type": "code",
   "execution_count": null,
   "id": "ef5ea40b-be90-44e8-8cf7-37e14de4ee70",
   "metadata": {},
   "outputs": [],
   "source": [
    "# show all of the states of the trajectory\n",
    "traj.states()"
   ]
  },
  {
   "cell_type": "code",
   "execution_count": null,
   "id": "5b5e94da-f3be-4d8c-9b76-7bcc06c4ec17",
   "metadata": {},
   "outputs": [],
   "source": [
    "traj.states()[-1].pose"
   ]
  },
  {
   "cell_type": "markdown",
   "id": "07ac4389-bad2-4f20-950d-cd6dacd7e758",
   "metadata": {},
   "source": [
    "#### let's move the trajectory"
   ]
  },
  {
   "cell_type": "code",
   "execution_count": null,
   "id": "ec16ca75-4181-4eba-aec1-f3fe59639d5d",
   "metadata": {},
   "outputs": [],
   "source": [
    "traj.transformBy?"
   ]
  },
  {
   "cell_type": "code",
   "execution_count": null,
   "id": "cbce6eea-1907-40a7-9315-cfa463e21e57",
   "metadata": {},
   "outputs": [],
   "source": [
    "new_start_pose = Pose2d(Translation2d(0, 0), Rotation2d(0)) "
   ]
  },
  {
   "cell_type": "code",
   "execution_count": null,
   "id": "fc123af0-d9ea-482d-a441-e6cececd4867",
   "metadata": {},
   "outputs": [],
   "source": [
    "# can just do it directly\n",
    "transform = Transform2d(Translation2d(x=-1, y=-0.572), Rotation2d(0))\n",
    "transform"
   ]
  },
  {
   "cell_type": "code",
   "execution_count": null,
   "id": "3a1e3f21-5bb1-43f0-9d66-d6c843a36c41",
   "metadata": {},
   "outputs": [],
   "source": [
    "# or can use the initial and final poses\n",
    "Transform2d(traj.initialPose(), new_start_pose)"
   ]
  },
  {
   "cell_type": "code",
   "execution_count": null,
   "id": "1d2c16f9-f489-418a-82f4-be2162f150d3",
   "metadata": {},
   "outputs": [],
   "source": [
    "new_traj = traj.transformBy(transform)"
   ]
  },
  {
   "cell_type": "code",
   "execution_count": null,
   "id": "18728c89-c4e9-484c-a8a4-3e8fcea32443",
   "metadata": {},
   "outputs": [],
   "source": [
    "new_traj.states()  # now we start at zero"
   ]
  },
  {
   "cell_type": "code",
   "execution_count": null,
   "id": "a3a6c70a-f48d-4c51-a9e2-c5504ee0323c",
   "metadata": {},
   "outputs": [],
   "source": []
  },
  {
   "cell_type": "code",
   "execution_count": null,
   "id": "503b21e4-c086-4a88-871d-78781da774ba",
   "metadata": {},
   "outputs": [],
   "source": []
  }
 ],
 "metadata": {
  "kernelspec": {
   "display_name": "Python [conda env:miniconda3-robo2021]",
   "language": "python",
   "name": "conda-env-miniconda3-robo2021-py"
  },
  "language_info": {
   "codemirror_mode": {
    "name": "ipython",
    "version": 3
   },
   "file_extension": ".py",
   "mimetype": "text/x-python",
   "name": "python",
   "nbconvert_exporter": "python",
   "pygments_lexer": "ipython3",
   "version": "3.8.12"
  }
 },
 "nbformat": 4,
 "nbformat_minor": 5
}
