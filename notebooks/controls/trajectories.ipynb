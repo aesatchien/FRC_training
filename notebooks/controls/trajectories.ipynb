{
 "cells": [
  {
   "cell_type": "markdown",
   "id": "1b6c98a0-674d-4af1-a269-228afac619c2",
   "metadata": {},
   "source": [
    "## Trajectory tutorial  - 2022 0127 CJH\n",
    "* We need to generate a list of characteristics for the robot to track, bundled into a trajectory.  \n",
    "* Trajectories give you:\n",
    "  * A list of states with t, velocity, acceleration, pose=Pose2d(Translation2d(x, y), Rotation2d(rad)), curvature)\n",
    "  * A sample() method to get the state at any time\n",
    "  * A totalTime member\n",
    "  * a transformBy so we can change the starting point\n",
    "  \n",
    "* We need input to the trajectory - the points it must follow\n",
    "  * pathweaver **paths** (not to be confused with python *Paths* or operating systems directories) do this\n",
    "  * we can do it with lists of points as well\n",
    "\n",
    "\n",
    "---"
   ]
  },
  {
   "cell_type": "markdown",
   "id": "58771a02-cafc-4337-ba90-82b0e363bf4a",
   "metadata": {},
   "source": [
    "#### Auto generating trajecotories to follow using wpilib\n"
   ]
  },
  {
   "cell_type": "code",
   "execution_count": 1,
   "id": "1f85eb86-05bc-4c07-a48a-c972b4ef59f5",
   "metadata": {},
   "outputs": [],
   "source": [
    "import glob\n",
    "from pathlib import Path\n",
    "\n",
    "from wpimath.geometry import Pose2d, Rotation2d, Translation2d, Transform2d, Twist2d\n",
    "import wpimath.trajectory\n",
    "from wpimath.kinematics import DifferentialDriveKinematics\n",
    "from wpimath.trajectory.constraint import DifferentialDriveVoltageConstraint, CentripetalAccelerationConstraint\n",
    "import wpilib.controller"
   ]
  },
  {
   "cell_type": "markdown",
   "id": "b212ab5c-f4ab-490d-b1cd-7160cdfdd0cb",
   "metadata": {},
   "source": [
    "#### unfortunately, trajectories need to know a lot about the robot"
   ]
  },
  {
   "cell_type": "code",
   "execution_count": 7,
   "id": "5cb7b1c7-c097-4348-9c69-689816254cad",
   "metadata": {},
   "outputs": [],
   "source": [
    "# All the characterization constants and drive attributes we need to generate a trajectory\n",
    "ks_volts = 0.446\n",
    "kv_volt_seconds_per_meter = 1.55\n",
    "ka_volt_seconds_squared_per_meter = 0.40\n",
    "k_track_width_meters = 24 * 0.0254\n",
    "k_max_voltage = 6\n",
    "k_max_centripetal_acceleration_meters_per_second_squared = 2.75\n",
    "k_max_acceleration_meters_per_second_squared = 2.75\n",
    "k_drive_kinematics = DifferentialDriveKinematics(k_track_width_meters)\n",
    "k_feed_forward = wpilib.controller.SimpleMotorFeedforwardMeters(ks_volts, kv_volt_seconds_per_meter, ka_volt_seconds_squared_per_meter)\n",
    "k_autonomous_voltage_constraint = DifferentialDriveVoltageConstraint(k_feed_forward, k_drive_kinematics, k_max_voltage)"
   ]
  },
  {
   "cell_type": "markdown",
   "id": "14268d4f-e041-417b-a46f-6cd2011ea0ee",
   "metadata": {},
   "source": [
    "#### the most basic trajectory - connect two poses"
   ]
  },
  {
   "cell_type": "code",
   "execution_count": 64,
   "id": "949867fb-801e-4dd2-b5c8-6189b7324f9c",
   "metadata": {},
   "outputs": [
    {
     "data": {
      "text/plain": [
       "[Trajectory.State(t=0.000000, velocity=0.000000, acceleration=2.750000, pose=Pose2d(Translation2d(x=0.000000, y=0.000000), Rotation2d(0.000000)), curvature=0.000000),\n",
       " Trajectory.State(t=0.232858, velocity=0.640359, acceleration=2.750000, pose=Pose2d(Translation2d(x=0.074556, y=0.000000), Rotation2d(0.000000)), curvature=0.000000),\n",
       " Trajectory.State(t=0.326735, velocity=0.898522, acceleration=1.407149, pose=Pose2d(Translation2d(x=0.146790, y=0.000000), Rotation2d(0.000000)), curvature=0.000000),\n",
       " Trajectory.State(t=0.398851, velocity=1.000000, acceleration=0.000000, pose=Pose2d(Translation2d(x=0.215246, y=0.000000), Rotation2d(0.000000)), curvature=0.000000),\n",
       " Trajectory.State(t=0.462902, velocity=1.000000, acceleration=0.000000, pose=Pose2d(Translation2d(x=0.279297, y=0.000000), Rotation2d(0.000000)), curvature=0.000000),\n",
       " Trajectory.State(t=0.578563, velocity=1.000000, acceleration=0.000000, pose=Pose2d(Translation2d(x=0.394958, y=0.000000), Rotation2d(0.000000)), curvature=0.000000),\n",
       " Trajectory.State(t=0.683605, velocity=1.000000, acceleration=0.000000, pose=Pose2d(Translation2d(x=0.500000, y=0.000000), Rotation2d(0.000000)), curvature=0.000000),\n",
       " Trajectory.State(t=0.788646, velocity=1.000000, acceleration=0.000000, pose=Pose2d(Translation2d(x=0.605042, y=0.000000), Rotation2d(0.000000)), curvature=0.000000),\n",
       " Trajectory.State(t=0.904308, velocity=1.000000, acceleration=0.000000, pose=Pose2d(Translation2d(x=0.720703, y=0.000000), Rotation2d(0.000000)), curvature=0.000000),\n",
       " Trajectory.State(t=0.968359, velocity=1.000000, acceleration=-1.407149, pose=Pose2d(Translation2d(x=0.784754, y=0.000000), Rotation2d(0.000000)), curvature=0.000000),\n",
       " Trajectory.State(t=1.040474, velocity=0.898522, acceleration=-2.750000, pose=Pose2d(Translation2d(x=0.853210, y=0.000000), Rotation2d(0.000000)), curvature=0.000000),\n",
       " Trajectory.State(t=1.134352, velocity=0.640359, acceleration=-2.750000, pose=Pose2d(Translation2d(x=0.925444, y=0.000000), Rotation2d(0.000000)), curvature=0.000000),\n",
       " Trajectory.State(t=1.367210, velocity=0.000000, acceleration=-2.750000, pose=Pose2d(Translation2d(x=1.000000, y=0.000000), Rotation2d(0.000000)), curvature=0.000000)]"
      ]
     },
     "execution_count": 64,
     "metadata": {},
     "output_type": "execute_result"
    }
   ],
   "source": [
    "start_pose = Pose2d(Translation2d(x=0, y=0), Rotation2d(0.000000))\n",
    "end_pose = Pose2d(Translation2d(x=1, y=0), Rotation2d(0))\n",
    "velocity = 1\n",
    "config = wpimath.trajectory.TrajectoryConfig(velocity, k_max_acceleration_meters_per_second_squared)\n",
    "traj = wpimath.trajectory.TrajectoryGenerator.generateTrajectory(waypoints=[start_pose, end_pose], config=config)\n",
    "traj.states()"
   ]
  },
  {
   "cell_type": "markdown",
   "id": "92e468bf-9ba6-44d9-bb32-f4035ac7b395",
   "metadata": {
    "tags": []
   },
   "source": [
    "#### the full on, on-the fly version of generating trajectories on the robot"
   ]
  },
  {
   "cell_type": "code",
   "execution_count": 2,
   "id": "7a8b11fd-de49-4963-84a2-ca2b985a95c8",
   "metadata": {},
   "outputs": [
    {
     "data": {
      "text/plain": [
       "'C:\\\\Cory\\\\CJH Shared\\\\Python\\\\FRC\\\\FRC_training\\\\notebooks\\\\controls'"
      ]
     },
     "execution_count": 2,
     "metadata": {},
     "output_type": "execute_result"
    }
   ],
   "source": [
    "pwd"
   ]
  },
  {
   "cell_type": "code",
   "execution_count": 3,
   "id": "431f834b-2b55-411d-b294-45728ec8ab7c",
   "metadata": {},
   "outputs": [],
   "source": [
    "path_location = r'..\\..\\..\\2022\\robot\\pathweaver\\paths\\\\'\n",
    "# find all of the pathweaver paths available to the robot - use to populate a drop-down sendable chooser in the UI\n",
    "def get_pathweaver_paths():  # use this to fill the drop down for file selection\n",
    "    # instead of passing robot simulation, check for directory exists on the robot\n",
    "    path_files = glob.glob(path_location + '*', recursive=True)\n",
    "    #print(f'** Pathweaver files: {path_files} **')\n",
    "    path_names = [Path(file).name for file in path_files]\n",
    "    return path_names"
   ]
  },
  {
   "cell_type": "code",
   "execution_count": 4,
   "id": "ae61e104-63e8-4e67-89c9-20e17f3690be",
   "metadata": {},
   "outputs": [
    {
     "data": {
      "text/plain": [
       "['2_circle',\n",
       " '2_meters',\n",
       " 'barrel_pw0',\n",
       " 'barrel_pw1',\n",
       " 'bounce_pw0',\n",
       " 'bounce_pw1',\n",
       " 'bounce_pw2',\n",
       " 'bounce_pw3',\n",
       " 'bounce_pw4',\n",
       " 'calibrate',\n",
       " 'calibrate_rev',\n",
       " 'slalom_pw0_square',\n",
       " 'slalom_pw1_mixed',\n",
       " 'slalom_pw4_smooth']"
      ]
     },
     "execution_count": 4,
     "metadata": {},
     "output_type": "execute_result"
    }
   ],
   "source": [
    "paths = get_pathweaver_paths()\n",
    "paths"
   ]
  },
  {
   "cell_type": "code",
   "execution_count": 5,
   "id": "ecaf64b8-283b-435a-b329-28fad9b58e34",
   "metadata": {},
   "outputs": [
    {
     "data": {
      "text/plain": [
       "WindowsPath('../../../2022/robot/pathweaver/paths/2_circle')"
      ]
     },
     "execution_count": 5,
     "metadata": {},
     "output_type": "execute_result"
    }
   ],
   "source": [
    "Path(path_location) / paths[0]"
   ]
  },
  {
   "cell_type": "code",
   "execution_count": 6,
   "id": "9c3d3b59-9be8-413f-9946-d171f8ea480b",
   "metadata": {
    "tags": []
   },
   "outputs": [],
   "source": [
    "def generate_trajectory(path_name:str, velocity=2, display=True, save=True) -> wpimath.trajectory:\n",
    "    \"\"\"\n",
    "    Generate a wpilib trajectory from a pathweaver path.  Accepts regular and reversed paths.\n",
    "\n",
    "    :param path_name: name of pathweaver file to be imported\n",
    "    :param velocity: Maximum robot velocity for the generated trajectory\n",
    "    :param save: Option to save generated trajectory to disk as 'test.json'\n",
    "    :param display: Option to print to console\n",
    "    :return: generated trajectory\n",
    "    \"\"\"\n",
    "\n",
    "    pathweaver_y_offfset = 4.572\n",
    "    p = Path(path_location + path_name)\n",
    "    if p.is_file():\n",
    "        lines = []\n",
    "        with open(p, \"r\") as f:\n",
    "            for line in f:\n",
    "                currentline = line.split(\",\")\n",
    "                lines.append(currentline)\n",
    "        cvector_list = [wpimath.spline.Spline5.ControlVector((float(row[0]), float(row[2]), 0), (float(row[1]) + pathweaver_y_offfset, float(row[3]), 0))\n",
    "                        for ix, row in enumerate(lines[1:])]\n",
    "\n",
    "        config = wpimath.trajectory.TrajectoryConfig(velocity, k_max_acceleration_meters_per_second_squared)\n",
    "        config.setKinematics(k_drive_kinematics)\n",
    "        config.addConstraint(k_autonomous_voltage_constraint)\n",
    "        config.addConstraint(CentripetalAccelerationConstraint(k_max_centripetal_acceleration_meters_per_second_squared))\n",
    "        # check to see if the path is to be reversed it is marked in the th column of the pathweaver file\n",
    "        reverse_array = [row[5] for row in lines[1:]]\n",
    "        if any(entry == 'true' for entry in reverse_array):\n",
    "            config.setReversed(True)\n",
    "        pw_trajectory = wpimath.trajectory.TrajectoryGenerator.generateTrajectory(cvector_list, config)\n",
    "        if save:\n",
    "            wpimath.trajectory.TrajectoryUtil.toPathweaverJson(pw_trajectory, 'pathweaver\\\\test.json')\n",
    "    else:\n",
    "        pw_trajectory = None  # do something else? generate an empty trajectory?\n",
    "        print(f'Trajectory: {p} not found', flush=True)\n",
    "    if display:\n",
    "        print(pw_trajectory)\n",
    "    return pw_trajectory"
   ]
  },
  {
   "cell_type": "code",
   "execution_count": 8,
   "id": "10d41fa1-eb3d-48d1-94e9-6edcbe364074",
   "metadata": {},
   "outputs": [
    {
     "name": "stdout",
     "output_type": "stream",
     "text": [
      "<wpimath.trajectory._trajectory.Trajectory object at 0x000002AEA6126130>\n"
     ]
    }
   ],
   "source": [
    "traj = generate_trajectory(path_name=paths[1], velocity=2, display=True, save=False)"
   ]
  },
  {
   "cell_type": "code",
   "execution_count": 9,
   "id": "23810499-94c2-4a9e-819f-7db48750bdad",
   "metadata": {},
   "outputs": [
    {
     "name": "stdout",
     "output_type": "stream",
     "text": [
      "State, initialPose, relativeTo, sample, states, totalTime, transformBy, "
     ]
    }
   ],
   "source": [
    "traj_attribs = [attrib for attrib in dir(traj) if '__' not in attrib]\n",
    "_ = [print(attrib, end=', ') if (ix+1)%8!=0 else print(attrib, end='\\n') for ix, attrib in enumerate(traj_attribs) ]"
   ]
  },
  {
   "cell_type": "code",
   "execution_count": 16,
   "id": "2b78509b-7654-4518-a45c-c99df3ce164f",
   "metadata": {},
   "outputs": [
    {
     "data": {
      "text/plain": [
       "Pose2d(Translation2d(x=1.000000, y=0.572000), Rotation2d(0.000000))"
      ]
     },
     "execution_count": 16,
     "metadata": {},
     "output_type": "execute_result"
    }
   ],
   "source": [
    "traj.initialPose()"
   ]
  },
  {
   "cell_type": "code",
   "execution_count": 10,
   "id": "d52367f2-6355-43a0-b43e-784f082773ab",
   "metadata": {},
   "outputs": [
    {
     "data": {
      "text/plain": [
       "Trajectory.State(t=1.500000, velocity=0.625782, acceleration=-2.750000, pose=Pose2d(Translation2d(x=2.928799, y=0.572000), Rotation2d(0.000000)), curvature=0.000000)"
      ]
     },
     "execution_count": 10,
     "metadata": {},
     "output_type": "execute_result"
    }
   ],
   "source": [
    "traj.sample(t=1.5)"
   ]
  },
  {
   "cell_type": "code",
   "execution_count": 11,
   "id": "ef5ea40b-be90-44e8-8cf7-37e14de4ee70",
   "metadata": {},
   "outputs": [
    {
     "data": {
      "text/plain": [
       "[Trajectory.State(t=0.000000, velocity=0.000000, acceleration=2.750000, pose=Pose2d(Translation2d(x=1.000000, y=0.572000), Rotation2d(0.000000)), curvature=0.000000),\n",
       " Trajectory.State(t=0.254496, velocity=0.699864, acceleration=2.750000, pose=Pose2d(Translation2d(x=1.089056, y=0.572000), Rotation2d(0.000000)), curvature=0.000000),\n",
       " Trajectory.State(t=0.356006, velocity=0.979016, acceleration=2.750000, pose=Pose2d(Translation2d(x=1.174268, y=0.572000), Rotation2d(0.000000)), curvature=0.000000),\n",
       " Trajectory.State(t=0.463589, velocity=1.274870, acceleration=2.750000, pose=Pose2d(Translation2d(x=1.295508, y=0.572000), Rotation2d(0.000000)), curvature=0.000000),\n",
       " Trajectory.State(t=0.518443, velocity=1.425718, acceleration=2.750000, pose=Pose2d(Translation2d(x=1.369577, y=0.572000), Rotation2d(0.000000)), curvature=0.000000),\n",
       " Trajectory.State(t=0.573322, velocity=1.576637, acceleration=2.750000, pose=Pose2d(Translation2d(x=1.451961, y=0.572000), Rotation2d(0.000000)), curvature=0.000000),\n",
       " Trajectory.State(t=0.627751, velocity=1.726315, acceleration=2.750000, pose=Pose2d(Translation2d(x=1.541848, y=0.572000), Rotation2d(0.000000)), curvature=0.000000),\n",
       " Trajectory.State(t=0.681290, velocity=1.873547, acceleration=2.409561, pose=Pose2d(Translation2d(x=1.638214, y=0.572000), Rotation2d(0.000000)), curvature=0.000000),\n",
       " Trajectory.State(t=0.733770, velocity=2.000000, acceleration=0.000000, pose=Pose2d(Translation2d(x=1.739856, y=0.572000), Rotation2d(0.000000)), curvature=0.000000),\n",
       " Trajectory.State(t=0.786556, velocity=2.000000, acceleration=0.000000, pose=Pose2d(Translation2d(x=1.845428, y=0.572000), Rotation2d(0.000000)), curvature=0.000000),\n",
       " Trajectory.State(t=0.840583, velocity=2.000000, acceleration=0.000000, pose=Pose2d(Translation2d(x=1.953482, y=0.572000), Rotation2d(0.000000)), curvature=0.000000),\n",
       " Trajectory.State(t=0.895092, velocity=2.000000, acceleration=0.000000, pose=Pose2d(Translation2d(x=2.062500, y=0.572000), Rotation2d(0.000000)), curvature=0.000000),\n",
       " Trajectory.State(t=0.949308, velocity=2.000000, acceleration=-0.116600, pose=Pose2d(Translation2d(x=2.170933, y=0.572000), Rotation2d(0.000000)), curvature=0.000000),\n",
       " Trajectory.State(t=1.002542, velocity=1.993793, acceleration=-2.750000, pose=Pose2d(Translation2d(x=2.277234, y=0.572000), Rotation2d(0.000000)), curvature=0.000000),\n",
       " Trajectory.State(t=1.056006, velocity=1.846765, acceleration=-2.750000, pose=Pose2d(Translation2d(x=2.379902, y=0.572000), Rotation2d(0.000000)), curvature=0.000000),\n",
       " Trajectory.State(t=1.111121, velocity=1.695200, acceleration=-2.750000, pose=Pose2d(Translation2d(x=2.477509, y=0.572000), Rotation2d(0.000000)), curvature=0.000000),\n",
       " Trajectory.State(t=1.167519, velocity=1.540104, acceleration=-2.750000, pose=Pose2d(Translation2d(x=2.568742, y=0.572000), Rotation2d(0.000000)), curvature=0.000000),\n",
       " Trajectory.State(t=1.224794, velocity=1.382599, acceleration=-2.750000, pose=Pose2d(Translation2d(x=2.652440, y=0.572000), Rotation2d(0.000000)), curvature=0.000000),\n",
       " Trajectory.State(t=1.282486, velocity=1.223947, acceleration=-2.750000, pose=Pose2d(Translation2d(x=2.727628, y=0.572000), Rotation2d(0.000000)), curvature=0.000000),\n",
       " Trajectory.State(t=1.340076, velocity=1.065575, acceleration=-2.750000, pose=Pose2d(Translation2d(x=2.793555, y=0.572000), Rotation2d(0.000000)), curvature=0.000000),\n",
       " Trajectory.State(t=1.452475, velocity=0.756477, acceleration=-2.750000, pose=Pose2d(Translation2d(x=2.895953, y=0.572000), Rotation2d(0.000000)), curvature=0.000000),\n",
       " Trajectory.State(t=1.555889, velocity=0.472088, acceleration=-2.750000, pose=Pose2d(Translation2d(x=2.959479, y=0.572000), Rotation2d(0.000000)), curvature=0.000000),\n",
       " Trajectory.State(t=1.727557, velocity=0.000000, acceleration=-2.750000, pose=Pose2d(Translation2d(x=3.000000, y=0.572000), Rotation2d(0.000000)), curvature=0.000000)]"
      ]
     },
     "execution_count": 11,
     "metadata": {},
     "output_type": "execute_result"
    }
   ],
   "source": [
    "# show all of the states of the trajectory\n",
    "traj.states()"
   ]
  },
  {
   "cell_type": "code",
   "execution_count": 43,
   "id": "5b5e94da-f3be-4d8c-9b76-7bcc06c4ec17",
   "metadata": {},
   "outputs": [
    {
     "data": {
      "text/plain": [
       "Pose2d(Translation2d(x=3.000000, y=0.572000), Rotation2d(0.000000))"
      ]
     },
     "execution_count": 43,
     "metadata": {},
     "output_type": "execute_result"
    }
   ],
   "source": [
    "traj.states()[-1].pose"
   ]
  },
  {
   "cell_type": "markdown",
   "id": "07ac4389-bad2-4f20-950d-cd6dacd7e758",
   "metadata": {},
   "source": [
    "#### let's move the trajectory"
   ]
  },
  {
   "cell_type": "code",
   "execution_count": 35,
   "id": "ec16ca75-4181-4eba-aec1-f3fe59639d5d",
   "metadata": {},
   "outputs": [
    {
     "data": {
      "text/plain": [
       "\u001b[1;31mDocstring:\u001b[0m\n",
       "transformBy(self: wpimath.trajectory._trajectory.Trajectory, transform: wpimath.geometry._geometry.Transform2d) -> wpimath.trajectory._trajectory.Trajectory\n",
       "\n",
       "Transforms all poses in the trajectory by the given transform. This is\n",
       "useful for converting a robot-relative trajectory into a field-relative\n",
       "trajectory. This works with respect to the first pose in the trajectory.\n",
       "\n",
       ":param transform: The transform to transform the trajectory by.\n",
       "\n",
       ":returns: The transformed trajectory.\n",
       "\u001b[1;31mType:\u001b[0m      method\n"
      ]
     },
     "metadata": {},
     "output_type": "display_data"
    }
   ],
   "source": [
    "traj.transformBy?"
   ]
  },
  {
   "cell_type": "code",
   "execution_count": 36,
   "id": "cbce6eea-1907-40a7-9315-cfa463e21e57",
   "metadata": {},
   "outputs": [],
   "source": [
    "new_start_pose = Pose2d(Translation2d(0, 0), Rotation2d(0)) "
   ]
  },
  {
   "cell_type": "code",
   "execution_count": 37,
   "id": "fc123af0-d9ea-482d-a441-e6cececd4867",
   "metadata": {},
   "outputs": [
    {
     "data": {
      "text/plain": [
       "Transform2d(Translation2d(x=-1.000000, y=-0.572000), Rotation2d(0.000000))"
      ]
     },
     "execution_count": 37,
     "metadata": {},
     "output_type": "execute_result"
    }
   ],
   "source": [
    "# can just do it directly\n",
    "transform = Transform2d(Translation2d(x=-1, y=-0.572), Rotation2d(0))\n",
    "transform"
   ]
  },
  {
   "cell_type": "code",
   "execution_count": 38,
   "id": "3a1e3f21-5bb1-43f0-9d66-d6c843a36c41",
   "metadata": {},
   "outputs": [
    {
     "data": {
      "text/plain": [
       "Transform2d(Translation2d(x=-1.000000, y=-0.572000), Rotation2d(0.000000))"
      ]
     },
     "execution_count": 38,
     "metadata": {},
     "output_type": "execute_result"
    }
   ],
   "source": [
    "# or can use the initial and final poses\n",
    "Transform2d(traj.initialPose(), new_start_pose)"
   ]
  },
  {
   "cell_type": "code",
   "execution_count": 40,
   "id": "1d2c16f9-f489-418a-82f4-be2162f150d3",
   "metadata": {},
   "outputs": [],
   "source": [
    "new_traj = traj.transformBy(transform)"
   ]
  },
  {
   "cell_type": "code",
   "execution_count": 41,
   "id": "18728c89-c4e9-484c-a8a4-3e8fcea32443",
   "metadata": {},
   "outputs": [
    {
     "data": {
      "text/plain": [
       "[Trajectory.State(t=0.000000, velocity=0.000000, acceleration=2.750000, pose=Pose2d(Translation2d(x=0.000000, y=0.000000), Rotation2d(0.000000)), curvature=0.000000),\n",
       " Trajectory.State(t=0.254496, velocity=0.699864, acceleration=2.750000, pose=Pose2d(Translation2d(x=0.089056, y=0.000000), Rotation2d(0.000000)), curvature=0.000000),\n",
       " Trajectory.State(t=0.356006, velocity=0.979016, acceleration=2.750000, pose=Pose2d(Translation2d(x=0.174268, y=0.000000), Rotation2d(0.000000)), curvature=0.000000),\n",
       " Trajectory.State(t=0.463589, velocity=1.274870, acceleration=2.750000, pose=Pose2d(Translation2d(x=0.295508, y=0.000000), Rotation2d(0.000000)), curvature=0.000000),\n",
       " Trajectory.State(t=0.518443, velocity=1.425718, acceleration=2.750000, pose=Pose2d(Translation2d(x=0.369577, y=0.000000), Rotation2d(0.000000)), curvature=0.000000),\n",
       " Trajectory.State(t=0.573322, velocity=1.576637, acceleration=2.750000, pose=Pose2d(Translation2d(x=0.451961, y=0.000000), Rotation2d(0.000000)), curvature=0.000000),\n",
       " Trajectory.State(t=0.627751, velocity=1.726315, acceleration=2.750000, pose=Pose2d(Translation2d(x=0.541848, y=0.000000), Rotation2d(0.000000)), curvature=0.000000),\n",
       " Trajectory.State(t=0.681290, velocity=1.873547, acceleration=2.409561, pose=Pose2d(Translation2d(x=0.638214, y=0.000000), Rotation2d(0.000000)), curvature=0.000000),\n",
       " Trajectory.State(t=0.733770, velocity=2.000000, acceleration=0.000000, pose=Pose2d(Translation2d(x=0.739856, y=0.000000), Rotation2d(0.000000)), curvature=0.000000),\n",
       " Trajectory.State(t=0.786556, velocity=2.000000, acceleration=0.000000, pose=Pose2d(Translation2d(x=0.845428, y=0.000000), Rotation2d(0.000000)), curvature=0.000000),\n",
       " Trajectory.State(t=0.840583, velocity=2.000000, acceleration=0.000000, pose=Pose2d(Translation2d(x=0.953482, y=0.000000), Rotation2d(0.000000)), curvature=0.000000),\n",
       " Trajectory.State(t=0.895092, velocity=2.000000, acceleration=0.000000, pose=Pose2d(Translation2d(x=1.062500, y=0.000000), Rotation2d(0.000000)), curvature=0.000000),\n",
       " Trajectory.State(t=0.949308, velocity=2.000000, acceleration=-0.116600, pose=Pose2d(Translation2d(x=1.170933, y=0.000000), Rotation2d(0.000000)), curvature=0.000000),\n",
       " Trajectory.State(t=1.002542, velocity=1.993793, acceleration=-2.750000, pose=Pose2d(Translation2d(x=1.277234, y=0.000000), Rotation2d(0.000000)), curvature=0.000000),\n",
       " Trajectory.State(t=1.056006, velocity=1.846765, acceleration=-2.750000, pose=Pose2d(Translation2d(x=1.379902, y=0.000000), Rotation2d(0.000000)), curvature=0.000000),\n",
       " Trajectory.State(t=1.111121, velocity=1.695200, acceleration=-2.750000, pose=Pose2d(Translation2d(x=1.477509, y=0.000000), Rotation2d(0.000000)), curvature=0.000000),\n",
       " Trajectory.State(t=1.167519, velocity=1.540104, acceleration=-2.750000, pose=Pose2d(Translation2d(x=1.568742, y=0.000000), Rotation2d(0.000000)), curvature=0.000000),\n",
       " Trajectory.State(t=1.224794, velocity=1.382599, acceleration=-2.750000, pose=Pose2d(Translation2d(x=1.652440, y=0.000000), Rotation2d(0.000000)), curvature=0.000000),\n",
       " Trajectory.State(t=1.282486, velocity=1.223947, acceleration=-2.750000, pose=Pose2d(Translation2d(x=1.727628, y=0.000000), Rotation2d(0.000000)), curvature=0.000000),\n",
       " Trajectory.State(t=1.340076, velocity=1.065575, acceleration=-2.750000, pose=Pose2d(Translation2d(x=1.793555, y=0.000000), Rotation2d(0.000000)), curvature=0.000000),\n",
       " Trajectory.State(t=1.452475, velocity=0.756477, acceleration=-2.750000, pose=Pose2d(Translation2d(x=1.895953, y=0.000000), Rotation2d(0.000000)), curvature=0.000000),\n",
       " Trajectory.State(t=1.555889, velocity=0.472088, acceleration=-2.750000, pose=Pose2d(Translation2d(x=1.959479, y=0.000000), Rotation2d(0.000000)), curvature=0.000000),\n",
       " Trajectory.State(t=1.727557, velocity=0.000000, acceleration=-2.750000, pose=Pose2d(Translation2d(x=2.000000, y=0.000000), Rotation2d(0.000000)), curvature=0.000000)]"
      ]
     },
     "execution_count": 41,
     "metadata": {},
     "output_type": "execute_result"
    }
   ],
   "source": [
    "new_traj.states()  # now we start at zero"
   ]
  },
  {
   "cell_type": "code",
   "execution_count": null,
   "id": "a3a6c70a-f48d-4c51-a9e2-c5504ee0323c",
   "metadata": {},
   "outputs": [],
   "source": []
  },
  {
   "cell_type": "code",
   "execution_count": null,
   "id": "503b21e4-c086-4a88-871d-78781da774ba",
   "metadata": {},
   "outputs": [],
   "source": []
  }
 ],
 "metadata": {
  "kernelspec": {
   "display_name": "Python [conda env:robo2021]",
   "language": "python",
   "name": "conda-env-robo2021-py"
  },
  "language_info": {
   "codemirror_mode": {
    "name": "ipython",
    "version": 3
   },
   "file_extension": ".py",
   "mimetype": "text/x-python",
   "name": "python",
   "nbconvert_exporter": "python",
   "pygments_lexer": "ipython3",
   "version": "3.8.12"
  }
 },
 "nbformat": 4,
 "nbformat_minor": 5
}
