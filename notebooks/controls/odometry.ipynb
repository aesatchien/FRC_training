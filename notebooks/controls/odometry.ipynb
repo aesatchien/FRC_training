{
 "cells": [
  {
   "cell_type": "markdown",
   "id": "c9bb5ddd-8b43-490d-9f2f-230804ce1078",
   "metadata": {},
   "source": [
    "## Odometry tutorial  - 2021 1227 CJH\n",
    "---"
   ]
  },
  {
   "cell_type": "markdown",
   "id": "03b39ab3-85ad-4d4e-a02a-5b880f5a9b8e",
   "metadata": {},
   "source": [
    "#### We have to keep track of where the robot is on the field if we want to have it follow paths\n",
    "* We do this with odometry  (Greek: hodos, journey + metron, measure)\n",
    "* wpilib gives us several tools (classes) to keep track of the robot\n",
    "  * https://docs.wpilib.org/en/stable/docs/software/advanced-controls/geometry/pose.html\n",
    "  * wpimath.geometry.**Translation2d** has an x (float) and a y (float)\n",
    "  * wpimath.geometry.**Rotation2d** has a value in radians that can be expressed many ways\n",
    "  * wpimath.geometry.**Pose2D** has an Translation2d and a Rotation2d\n",
    "* A Pose2d tells you exactly where you are and which way you are pointed\n",
    "  \n"
   ]
  },
  {
   "cell_type": "code",
   "execution_count": 1,
   "id": "385bd140-7cb3-414b-9cf0-03f73a7fe40d",
   "metadata": {},
   "outputs": [],
   "source": [
    "from wpimath.geometry import Pose2d, Rotation2d, Translation2d, Transform2d, Twist2d"
   ]
  },
  {
   "cell_type": "markdown",
   "id": "dcd1da04-b777-41b9-aea1-1f256fc497c7",
   "metadata": {},
   "source": [
    "#### some manipulation of poses, translations and rotations"
   ]
  },
  {
   "cell_type": "code",
   "execution_count": 2,
   "id": "1df51358-f55a-4996-b07a-3195c0d05c6c",
   "metadata": {},
   "outputs": [
    {
     "data": {
      "text/plain": [
       "Pose2d(Translation2d(x=0.000000, y=0.000000), Rotation2d(0.000000))"
      ]
     },
     "execution_count": 2,
     "metadata": {},
     "output_type": "execute_result"
    }
   ],
   "source": [
    "# initialize a dummy \n",
    "pose_0 = Pose2d()\n",
    "pose_0"
   ]
  },
  {
   "cell_type": "code",
   "execution_count": 3,
   "id": "6bb46fe1-d471-46ce-849b-d54a7f7bf494",
   "metadata": {},
   "outputs": [],
   "source": [
    "pose_1 = Pose2d(Translation2d(x=3.33, y=2.22), Rotation2d(3.14149/4))\n",
    "pose_2 = Pose2d(Translation2d(x=7, y=10), Rotation2d(3.14149/3))"
   ]
  },
  {
   "cell_type": "code",
   "execution_count": 4,
   "id": "912c2ddf-5d75-4ba1-b28f-fd09c57edb7b",
   "metadata": {},
   "outputs": [
    {
     "data": {
      "text/plain": [
       "44.998529595638246"
      ]
     },
     "execution_count": 4,
     "metadata": {},
     "output_type": "execute_result"
    }
   ],
   "source": [
    "pose_1.rotation().degrees()  # default units for rotations are radians (as nature intended)"
   ]
  },
  {
   "cell_type": "code",
   "execution_count": 5,
   "id": "7f269aa1-fa81-4675-ba38-d9d89790f12e",
   "metadata": {},
   "outputs": [
    {
     "data": {
      "text/plain": [
       "Transform2d(Translation2d(x=8.096298, y=2.906417), Rotation2d(0.261791))"
      ]
     },
     "execution_count": 5,
     "metadata": {},
     "output_type": "execute_result"
    }
   ],
   "source": [
    "pose_2 - pose_1  # you can find differences in poses, but it does not return a pose"
   ]
  },
  {
   "cell_type": "code",
   "execution_count": 6,
   "id": "78a7780c-b1d8-4887-9180-19119f3d3377",
   "metadata": {},
   "outputs": [
    {
     "data": {
      "text/plain": [
       "Pose2d(Translation2d(x=7.000000, y=10.000000), Rotation2d(1.047164))"
      ]
     },
     "execution_count": 6,
     "metadata": {},
     "output_type": "execute_result"
    }
   ],
   "source": [
    "pose_1 + (Transform2d(Translation2d(x=8.096298, y=2.906417), Rotation2d(0.261791))) # takes you back to pose 2\n",
    "# see https://docs.wpilib.org/en/stable/docs/software/advanced-controls/geometry/transformations.html?highlight=transform2d#transform2d-and-twist2d"
   ]
  },
  {
   "cell_type": "code",
   "execution_count": 7,
   "id": "a1833a98-a17c-43ad-9a45-61922ce143b9",
   "metadata": {},
   "outputs": [
    {
     "data": {
      "text/plain": [
       "Translation2d(x=3.670000, y=7.780000)"
      ]
     },
     "execution_count": 7,
     "metadata": {},
     "output_type": "execute_result"
    }
   ],
   "source": [
    "Translation2d(x=7, y=10) - Translation2d(x=3.33, y=2.22)  # this makes more sense"
   ]
  },
  {
   "cell_type": "code",
   "execution_count": null,
   "id": "1409dac0-a778-4a61-9d15-dafe3591127c",
   "metadata": {
    "tags": []
   },
   "outputs": [],
   "source": []
  },
  {
   "cell_type": "code",
   "execution_count": 8,
   "id": "fd4db715-3884-45e1-9878-6eaf8be6de2e",
   "metadata": {},
   "outputs": [
    {
     "data": {
      "text/plain": [
       "0.7853725"
      ]
     },
     "execution_count": 8,
     "metadata": {},
     "output_type": "execute_result"
    }
   ],
   "source": [
    "pose_1.rotation().radians()"
   ]
  },
  {
   "cell_type": "code",
   "execution_count": 9,
   "id": "eb68cac2-e354-4e02-9e46-b04d17674f13",
   "metadata": {},
   "outputs": [
    {
     "ename": "NameError",
     "evalue": "name 'tr' is not defined",
     "output_type": "error",
     "traceback": [
      "\u001b[1;31m---------------------------------------------------------------------------\u001b[0m",
      "\u001b[1;31mNameError\u001b[0m                                 Traceback (most recent call last)",
      "\u001b[1;32m~\\AppData\\Local\\Temp\\1/ipykernel_2260/3119338271.py\u001b[0m in \u001b[0;36m<module>\u001b[1;34m\u001b[0m\n\u001b[1;32m----> 1\u001b[1;33m \u001b[0mtr\u001b[0m\u001b[1;33m\u001b[0m\u001b[1;33m\u001b[0m\u001b[0m\n\u001b[0m",
      "\u001b[1;31mNameError\u001b[0m: name 'tr' is not defined"
     ]
    }
   ],
   "source": [
    "tr"
   ]
  }
 ],
 "metadata": {
  "kernelspec": {
   "display_name": "Python [conda env:miniconda3-robo2021]",
   "language": "python",
   "name": "conda-env-miniconda3-robo2021-py"
  },
  "language_info": {
   "codemirror_mode": {
    "name": "ipython",
    "version": 3
   },
   "file_extension": ".py",
   "mimetype": "text/x-python",
   "name": "python",
   "nbconvert_exporter": "python",
   "pygments_lexer": "ipython3",
   "version": "3.8.12"
  }
 },
 "nbformat": 4,
 "nbformat_minor": 5
}
