{
 "cells": [
  {
   "cell_type": "markdown",
   "id": "96c6abd7-f768-44a9-8ed8-25a2d5fb8189",
   "metadata": {},
   "source": [
    "#### testing rotation of chassis - 2022 0228 CJH"
   ]
  },
  {
   "cell_type": "markdown",
   "id": "cfd3ac2a-19b6-4b0f-ae2b-82d4953fa713",
   "metadata": {},
   "source": [
    "##### 2021 chassis"
   ]
  },
  {
   "cell_type": "code",
   "execution_count": 1,
   "id": "397b9591-ea78-49fc-85ed-c090122db167",
   "metadata": {},
   "outputs": [],
   "source": [
    "degrees = 360\n",
    "left, right = 2.586, 2.07  # hmm, chassis does not turn at the same rate"
   ]
  },
  {
   "cell_type": "code",
   "execution_count": 4,
   "id": "ef0a106b-213b-4e09-8b40-af77c38ba6b0",
   "metadata": {},
   "outputs": [
    {
     "data": {
      "text/plain": [
       "(0.007183333333333333,)"
      ]
     },
     "execution_count": 4,
     "metadata": {},
     "output_type": "execute_result"
    }
   ],
   "source": [
    "meters_per_degree = left/degrees, \n",
    "meters_per_degree"
   ]
  },
  {
   "cell_type": "code",
   "execution_count": null,
   "id": "d026cfd5-cdb3-4887-bdb8-6ac11922cf74",
   "metadata": {},
   "outputs": [],
   "source": []
  }
 ],
 "metadata": {
  "kernelspec": {
   "display_name": "Python 3 (ipykernel)",
   "language": "python",
   "name": "python3"
  },
  "language_info": {
   "codemirror_mode": {
    "name": "ipython",
    "version": 3
   },
   "file_extension": ".py",
   "mimetype": "text/x-python",
   "name": "python",
   "nbconvert_exporter": "python",
   "pygments_lexer": "ipython3",
   "version": "3.9.5"
  }
 },
 "nbformat": 4,
 "nbformat_minor": 5
}
