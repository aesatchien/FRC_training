{
 "cells": [
  {
   "cell_type": "markdown",
   "id": "ddc0b4f6-ff10-4f5d-9878-1990faeca255",
   "metadata": {},
   "source": [
    "## Odometry tutorial  - 2021 1227 CJH\n",
    "---"
   ]
  },
  {
   "cell_type": "markdown",
   "id": "819bced9-6bf6-4147-ad9a-d8fa82c99bcb",
   "metadata": {},
   "source": [
    "#### We have to keep track of where the robot is on the field if we want to have it follow paths\n",
    "* We do this with odometry  (Greek: hodos, journey + metron, measure)\n",
    "* wpilib gives us several tools (classes) to keep track of the robot\n",
    "  * https://docs.wpilib.org/en/stable/docs/software/advanced-controls/geometry/pose.html\n",
    "  * wpimath.geometry.**Translation2d** has an x (float) and a y (float)\n",
    "  * wpimath.geometry.**Rotation2d** has a value in radians that can be expressed many ways\n",
    "  * wpimath.geometry.**Pose2D** has an Translation2d and a Rotation2d\n",
    "* A Pose2d tells you exactly where you are and which way you are pointed\n",
    "  \n"
   ]
  },
  {
   "cell_type": "code",
   "execution_count": 33,
   "id": "385bd140-7cb3-414b-9cf0-03f73a7fe40d",
   "metadata": {},
   "outputs": [],
   "source": [
    "from wpimath.geometry import Pose2d, Rotation2d, Translation2d, Transform2d, Twist2d"
   ]
  },
  {
   "cell_type": "markdown",
   "id": "fd6e4ad6-5131-49d3-9383-2c4a380e6411",
   "metadata": {},
   "source": [
    "#### some manipulation of poses, translations and rotations"
   ]
  },
  {
   "cell_type": "code",
   "execution_count": 18,
   "id": "1df51358-f55a-4996-b07a-3195c0d05c6c",
   "metadata": {},
   "outputs": [
    {
     "data": {
      "text/plain": [
       "Pose2d(Translation2d(x=0.000000, y=0.000000), Rotation2d(0.000000))"
      ]
     },
     "execution_count": 18,
     "metadata": {},
     "output_type": "execute_result"
    }
   ],
   "source": [
    "# initialize a dummy \n",
    "pose_0 = Pose2d()\n",
    "pose_0"
   ]
  },
  {
   "cell_type": "code",
   "execution_count": 34,
   "id": "6bb46fe1-d471-46ce-849b-d54a7f7bf494",
   "metadata": {},
   "outputs": [],
   "source": [
    "pose_1 = Pose2d(Translation2d(x=3.33, y=2.22), Rotation2d(3.14149/4))\n",
    "pose_2 = Pose2d(Translation2d(x=7, y=10), Rotation2d(3.14149/3))"
   ]
  },
  {
   "cell_type": "code",
   "execution_count": 42,
   "id": "912c2ddf-5d75-4ba1-b28f-fd09c57edb7b",
   "metadata": {},
   "outputs": [
    {
     "data": {
      "text/plain": [
       "44.998529595638246"
      ]
     },
     "execution_count": 42,
     "metadata": {},
     "output_type": "execute_result"
    }
   ],
   "source": [
    "pose_1.rotation().degrees()  # default units for rotations are radians (as nature intended)"
   ]
  },
  {
   "cell_type": "code",
   "execution_count": 32,
   "id": "7f269aa1-fa81-4675-ba38-d9d89790f12e",
   "metadata": {},
   "outputs": [
    {
     "data": {
      "text/plain": [
       "Transform2d(Translation2d(x=8.096298, y=2.906417), Rotation2d(0.261791))"
      ]
     },
     "execution_count": 32,
     "metadata": {},
     "output_type": "execute_result"
    }
   ],
   "source": [
    "pose_2 - pose_1  # you can find differences in poses, but it does not return a pose"
   ]
  },
  {
   "cell_type": "code",
   "execution_count": 41,
   "id": "78a7780c-b1d8-4887-9180-19119f3d3377",
   "metadata": {},
   "outputs": [
    {
     "data": {
      "text/plain": [
       "Pose2d(Translation2d(x=7.000000, y=10.000000), Rotation2d(1.047164))"
      ]
     },
     "execution_count": 41,
     "metadata": {},
     "output_type": "execute_result"
    }
   ],
   "source": [
    "pose_1 + (Transform2d(Translation2d(x=8.096298, y=2.906417), Rotation2d(0.261791))) # takes you back to pose 2\n",
    "# see https://docs.wpilib.org/en/stable/docs/software/advanced-controls/geometry/transformations.html?highlight=transform2d#transform2d-and-twist2d"
   ]
  },
  {
   "cell_type": "code",
   "execution_count": 35,
   "id": "a1833a98-a17c-43ad-9a45-61922ce143b9",
   "metadata": {},
   "outputs": [
    {
     "data": {
      "text/plain": [
       "Translation2d(x=3.670000, y=7.780000)"
      ]
     },
     "execution_count": 35,
     "metadata": {},
     "output_type": "execute_result"
    }
   ],
   "source": [
    "Translation2d(x=7, y=10) - Translation2d(x=3.33, y=2.22)  # this makes more sense"
   ]
  },
  {
   "cell_type": "code",
   "execution_count": null,
   "id": "1409dac0-a778-4a61-9d15-dafe3591127c",
   "metadata": {},
   "outputs": [],
   "source": []
  }
 ],
 "metadata": {
  "kernelspec": {
   "display_name": "Python [conda env:robo2021]",
   "language": "python",
   "name": "conda-env-robo2021-py"
  },
  "language_info": {
   "codemirror_mode": {
    "name": "ipython",
    "version": 3
   },
   "file_extension": ".py",
   "mimetype": "text/x-python",
   "name": "python",
   "nbconvert_exporter": "python",
   "pygments_lexer": "ipython3",
   "version": "3.8.12"
  }
 },
 "nbformat": 4,
 "nbformat_minor": 5
}
