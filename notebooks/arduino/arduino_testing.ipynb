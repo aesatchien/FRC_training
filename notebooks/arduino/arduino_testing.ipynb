{
 "cells": [
  {
   "cell_type": "markdown",
   "id": "3ccc07e6-fbc8-490b-a51c-a3b31554c225",
   "metadata": {},
   "source": [
    "#### Testing the arduino code with python  2022 0225 CJH\n",
    "* use https://realpython.com/arduino-python/ - follow the tutorial\n",
    "* https://www.arduino.cc/en/software has the arduino IDE, download and install fo your OS, set the board (uno) and the port\n",
    "* `pip install pyfirmata` if you don't have it\n"
   ]
  },
  {
   "cell_type": "code",
   "execution_count": 1,
   "id": "b7576cfe-9ca6-451f-b9df-99d2b9735d7f",
   "metadata": {},
   "outputs": [],
   "source": [
    "# LED blinking "
   ]
  },
  {
   "cell_type": "code",
   "execution_count": null,
   "id": "e7ffccf8-9db9-460b-951e-7fbfff10d072",
   "metadata": {},
   "outputs": [
    {
     "name": "stdout",
     "output_type": "stream",
     "text": [
      "Accessing Uno...\n"
     ]
    }
   ],
   "source": [
    "import pyfirmata\n",
    "import serial\n",
    "import time\n",
    "\n",
    "board = pyfirmata.Arduino('COM3')\n",
    "\n",
    "on_time = 0.1\n",
    "off_time = 0.1\n",
    "\n",
    "try:\n",
    "    print(f'Accessing Uno...')\n",
    "    while True:\n",
    "        board.digital[13].write(1)\n",
    "        time.sleep(on_time)\n",
    "        board.digital[13].write(0)\n",
    "        time.sleep(off_time)\n",
    "except KeyboardInterrupt:\n",
    "    board.exit()  # stop the arduino\n",
    "    print(f'Releasing Uno...')"
   ]
  },
  {
   "cell_type": "markdown",
   "id": "7d4105e3-37fd-4679-b248-c119cfad258e",
   "metadata": {},
   "source": [
    "#### find your device, if you didn't know"
   ]
  },
  {
   "cell_type": "code",
   "execution_count": 17,
   "id": "e0fd84ed-e273-4732-b0e1-f9b91df12977",
   "metadata": {},
   "outputs": [
    {
     "name": "stdout",
     "output_type": "stream",
     "text": [
      "COM1: Communications Port (COM1) [ACPI\\PNP0501\\0]\n",
      "COM3: Arduino Uno (COM3) [USB VID:PID=2341:0043 SER=85138313633351C092B1 LOCATION=1-4.4]\n"
     ]
    }
   ],
   "source": [
    "import serial.tools.list_ports\n",
    "ports = serial.tools.list_ports.comports()\n",
    "for port, desc, hwid in sorted(ports):\n",
    "        print(\"{}: {} [{}]\".format(port, desc, hwid))"
   ]
  },
  {
   "cell_type": "code",
   "execution_count": null,
   "id": "74e922ce-f80f-4f43-b8d6-0a8e1ad916de",
   "metadata": {},
   "outputs": [],
   "source": []
  }
 ],
 "metadata": {
  "kernelspec": {
   "display_name": "Python 3 (ipykernel)",
   "language": "python",
   "name": "python3"
  },
  "language_info": {
   "codemirror_mode": {
    "name": "ipython",
    "version": 3
   },
   "file_extension": ".py",
   "mimetype": "text/x-python",
   "name": "python",
   "nbconvert_exporter": "python",
   "pygments_lexer": "ipython3",
   "version": "3.9.5"
  }
 },
 "nbformat": 4,
 "nbformat_minor": 5
}
