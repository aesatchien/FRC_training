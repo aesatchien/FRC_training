{
 "cells": [
  {
   "cell_type": "markdown",
   "id": "867f5ede-3cdf-4991-b52e-52523e05ae34",
   "metadata": {},
   "source": [
    "## Shift a bearing file from center (0, 0) to new center  - 20220211 CJH\n",
    "* Takes a good solidworks CAM file (user does not need to change) as input and shifts the X, Y\n",
    "* Just enter the x_shift, y_shift and code writes a new nc file"
   ]
  },
  {
   "cell_type": "markdown",
   "id": "bc4753ca-48b3-4335-9e8d-102134174852",
   "metadata": {},
   "source": [
    "### define the shifts - new center is at (x_shift, y_shift)"
   ]
  },
  {
   "cell_type": "code",
   "execution_count": 62,
   "id": "6012716c-24bb-483d-9971-c41712fd6c87",
   "metadata": {},
   "outputs": [],
   "source": [
    "x_shift = 1\n",
    "y_shift = -1"
   ]
  },
  {
   "cell_type": "code",
   "execution_count": 63,
   "id": "c57d34a5-49af-4f46-a7ec-89a0a1e21b40",
   "metadata": {},
   "outputs": [],
   "source": [
    "# function to shift any X or Y value\n",
    "def shift_val(line, key, increment):\n",
    "    for chunk in line.split():\n",
    "        if key in chunk:\n",
    "            new_value = float(chunk[1:]) + increment\n",
    "            line = line.replace(chunk, chunk[0] + str(new_value))\n",
    "    return line"
   ]
  },
  {
   "cell_type": "code",
   "execution_count": 64,
   "id": "29b7ffe8-1050-4376-9995-8e5853fa31c7",
   "metadata": {},
   "outputs": [],
   "source": [
    "# read the golden NC file\n",
    "infile = 'benchmill_bearing_x0_y0.nc'\n",
    "with open(infile, 'r') as f:\n",
    "    file_text = f.readlines()"
   ]
  },
  {
   "cell_type": "code",
   "execution_count": 65,
   "id": "30612172-0317-40da-b3fe-5682a4898da1",
   "metadata": {},
   "outputs": [],
   "source": [
    "# modify all lines with new X and Y values\n",
    "for ix, line in enumerate(file_text):\n",
    "    line = shift_val(line, 'X', x_shift)\n",
    "    line = shift_val(line, 'Y', y_shift)\n",
    "    file_text[ix] = line"
   ]
  },
  {
   "cell_type": "code",
   "execution_count": 66,
   "id": "f00cf813-51f3-421f-925f-a0af9890bd72",
   "metadata": {},
   "outputs": [],
   "source": [
    "# write the new file with an appropriate file name\n",
    "x_shift_text = str(x_shift).replace('-', 'm').replace('.', 'p')\n",
    "y_shift_text = str(y_shift).replace('-', 'm').replace('.', 'p')\n",
    "outfile = f'benchmill_bearing_X{x_shift_text}_Y{y_shift_text}.nc'\n",
    "\n",
    "with open(outfile, 'w') as f:\n",
    "    f.write(f'(benchmill 1.125\" bearing rough/contour/contour centered at X={x_shift} Y={x_shift})\\n')\n",
    "    for line in file_text:\n",
    "        f.write(line)"
   ]
  }
 ],
 "metadata": {
  "kernelspec": {
   "display_name": "Python 3 (ipykernel)",
   "language": "python",
   "name": "python3"
  },
  "language_info": {
   "codemirror_mode": {
    "name": "ipython",
    "version": 3
   },
   "file_extension": ".py",
   "mimetype": "text/x-python",
   "name": "python",
   "nbconvert_exporter": "python",
   "pygments_lexer": "ipython3",
   "version": "3.9.5"
  }
 },
 "nbformat": 4,
 "nbformat_minor": 5
}
