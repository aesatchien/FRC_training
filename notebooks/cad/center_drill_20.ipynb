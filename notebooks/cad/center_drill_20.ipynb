{
 "cells": [
  {
   "cell_type": "markdown",
   "id": "0bae9ba2-a87f-4af5-81be-d854b51e7565",
   "metadata": {},
   "source": [
    "## Starting to make a more generic G-Code library for 2429 tools 2022 2010 CJH\n",
    "* made a library called simplegcode\n",
    "* has functions \n",
    "  * generate_gcode() to get the gcode and\n",
    "  * plot_points() to get a plot of the points\n",
    "* user just generates the points and tells the code which machine they want"
   ]
  },
  {
   "cell_type": "code",
   "execution_count": 261,
   "id": "74c0808c-49c4-4503-a810-b6313fb1b87e",
   "metadata": {},
   "outputs": [],
   "source": [
    "import simplegcode as sg\n",
    "from importlib import reload"
   ]
  },
  {
   "cell_type": "code",
   "execution_count": 279,
   "id": "8f765455-390d-4aa5-913b-e163fdf0c64d",
   "metadata": {
    "tags": []
   },
   "outputs": [
    {
     "name": "stdout",
     "output_type": "stream",
     "text": [
      "x range: (0.5,9.0)  y range: (-1.5,-0.5)\n",
      "pointlist: [(0.5, -0.5), (0.5, -1.0), (0.5, -1.5), (1.0, -0.5), (1.0, -1.0), (1.0, -1.5), (1.5, -0.5), (1.5, -1.0), (1.5, -1.5), (2.0, -0.5), (2.0, -1.0), (2.0, -1.5), (2.5, -0.5), (2.5, -1.0), (2.5, -1.5), (3.0, -0.5), (3.0, -1.0), (3.0, -1.5), (3.5, -0.5), (3.5, -1.0), (3.5, -1.5), (4.0, -0.5), (4.0, -1.0), (4.0, -1.5), (4.5, -0.5), (4.5, -1.0), (4.5, -1.5), (5.0, -0.5), (5.0, -1.0), (5.0, -1.5), (5.5, -0.5), (5.5, -1.0), (5.5, -1.5), (6.0, -0.5), (6.0, -1.0), (6.0, -1.5), (6.5, -0.5), (6.5, -1.0), (6.5, -1.5), (7.0, -0.5), (7.0, -1.0), (7.0, -1.5), (7.5, -0.5), (7.5, -1.0), (7.5, -1.5), (8.0, -0.5), (8.0, -1.0), (8.0, -1.5), (8.5, -0.5), (8.5, -1.0), (8.5, -1.5), (9.0, -0.5), (9.0, -1.0), (9.0, -1.5)]\n"
     ]
    }
   ],
   "source": [
    "# simple way to generate a grid\n",
    "x_start, x_spacing = 0.5, 0.5\n",
    "y_start, y_spacing = -0.5, -0.5\n",
    "x_repeats = 18  # minimum 1\n",
    "y_repeats = 3  # minimum 1\n",
    "\n",
    "x = [x_start + x_spacing * _ for _ in range(x_repeats)]\n",
    "y = [y_start + y_spacing * _ for _ in range(y_repeats)]\n",
    "point_list = [(x_, y_) for x_ in x for y_ in y]\n",
    "print(f'x range: ({min(x)},{max(x)})  y range: ({min(y)},{max(y)})\\npointlist: {point_list}')"
   ]
  },
  {
   "cell_type": "code",
   "execution_count": 280,
   "id": "e28d0022-f173-4dea-b511-3914a4064037",
   "metadata": {},
   "outputs": [
    {
     "name": "stdout",
     "output_type": "stream",
     "text": [
      "Using the following settings: {'DRILL_DEPTH': -0.267, 'RETRACT_HEIGHT': 0.5, 'ENGAGE_HEIGHT': 0.1, 'LINEAR_FEED': 30, 'DRILL_FEED': 3, 'RETRACT_FEED': 20, 'TOOL': 4}\n",
      "\n"
     ]
    }
   ],
   "source": [
    "machine = 'benchmill'  # shapeoko or benchmill\n",
    "overrides = None # dictionary of what to change from default\n",
    "reload(sg)\n",
    "code = sg.generate_gcode(point_list, machine=machine, overrides={'DRILL_DEPTH':-0.267}, save_file=True)\n",
    "#print(code)"
   ]
  },
  {
   "cell_type": "code",
   "execution_count": 282,
   "id": "4ba63f39-fff1-4db0-9b3a-d89c1f37b1f5",
   "metadata": {},
   "outputs": [
    {
     "data": {
      "image/png": "[encoded data removed]",
      "text/plain": [
       "<Figure size 576x288 with 1 Axes>"
      ]
     },
     "metadata": {
      "needs_background": "light"
     },
     "output_type": "display_data"
    }
   ],
   "source": [
    "sg.plot_points(point_list, annotate=False, show_order=True)"
   ]
  },
  {
   "cell_type": "code",
   "execution_count": null,
   "id": "4a296479-ce93-46ec-9195-915b5e1101b8",
   "metadata": {},
   "outputs": [],
   "source": []
  }
 ],
 "metadata": {
  "kernelspec": {
   "display_name": "Python 3 (ipykernel)",
   "language": "python",
   "name": "python3"
  },
  "language_info": {
   "codemirror_mode": {
    "name": "ipython",
    "version": 3
   },
   "file_extension": ".py",
   "mimetype": "text/x-python",
   "name": "python",
   "nbconvert_exporter": "python",
   "pygments_lexer": "ipython3",
   "version": "3.9.5"
  }
 },
 "nbformat": 4,
 "nbformat_minor": 5
}
