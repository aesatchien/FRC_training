{
 "cells": [
  {
   "cell_type": "markdown",
   "id": "0bae9ba2-a87f-4af5-81be-d854b51e7565",
   "metadata": {},
   "source": [
    "## Starting to make a more generic G-Code library for 2429 tools 2022 2010 CJH\n",
    "* made a library called simplegcode\n",
    "* user just generates the points and tells the code which machine they want\n",
    "  * shapeoko brute force plunges all drilling\n",
    "  * benchmill uses a G82 (spot drill) or G83 (peck drill) cycle\n",
    "* has functions \n",
    "  * generate_gcode() to get the gcode and\n",
    "  * plot_points() to get a plot of the points\n"
   ]
  },
  {
   "cell_type": "code",
   "execution_count": 1,
   "id": "74c0808c-49c4-4503-a810-b6313fb1b87e",
   "metadata": {},
   "outputs": [],
   "source": [
    "import simplegcode as sg\n",
    "import pandas as pd\n",
    "from importlib import reload"
   ]
  },
  {
   "cell_type": "markdown",
   "id": "762335e3-7433-4193-a13f-39c4f3cddb69",
   "metadata": {},
   "source": [
    "#### simple way to generate a grid - you can override and put in arbitrary points"
   ]
  },
  {
   "cell_type": "code",
   "execution_count": 33,
   "id": "8f765455-390d-4aa5-913b-e163fdf0c64d",
   "metadata": {
    "tags": []
   },
   "outputs": [
    {
     "name": "stdout",
     "output_type": "stream",
     "text": [
      "x range: (0,3)  y range: (0,3)\n",
      "pointlist: [[0.15, 2.7], [2.15, 2.7], [0.68, 2.17], [2.68, 2.17], [0, 0], [2, 0], [1, 0], [3, 0], [0, 3], [2, 3], [1, 3], [3, 3]]\n"
     ]
    }
   ],
   "source": [
    "# simple way to generate a grid\n",
    "x_start, x_spacing = 0.5, 0.5\n",
    "y_start, y_spacing = -0.5, -1\n",
    "x_repeats = 3  # minimum 1\n",
    "y_repeats = 2  # minimum 1\n",
    "x = [x_start + x_spacing * _ for _ in range(x_repeats)]\n",
    "y = [y_start + y_spacing * _ for _ in range(y_repeats)]\n",
    "point_list = [(x_, y_) for x_ in x for y_ in y]\n",
    "\n",
    "# center gussset\n",
    "initial_list = [[1,0.25],[1,3.75],[1,1.063],[0.188,1.531],\n",
    " [1.812,1.531], [ 0.188, 2.469], [1.812, 2.469],\n",
    " [1, 2.938,], [0,0], [2, 0], [0,4], [2,4]\n",
    "]\n",
    "\n",
    "# piston mount\n",
    "initial_list = [[0.25, 0.50],[0.25,1.50],[1.25,0.5],[1.25,1.5],\n",
    " [0.85,3.125], [0,0], [1.5, 0], [0,3.6], [1.5,3.6]\n",
    "]\n",
    "\n",
    "# andymark gusset 90-deg\n",
    "point_list = [[0.5, 0.5], [1.5,0.5], [2.5,0.5], [0.5, 1.5], [0.5, 2.5], [0,0], [3,3], [0,3], [3,0]]\n",
    "\n",
    "# ratchet pawl v1\n",
    "initial_list = [\n",
    "    [0.15, 2.70], [0.680, 2.170], [0, 0], [1, 0], [0, 3], [1, 3]\n",
    "]\n",
    "\n",
    "# andymark gusset 90-deg\n",
    "initial_list = [[0.5, 0.5], [1.5,0.5], [2.5,0.5], [0.5, 1.5], [0.5, 2.5], [0,0], [3,3], [0,3], [3,0]]\n",
    "\n",
    "# ratchet pawl v2 - actually the same w.r.t the sketch\n",
    "initial_list = [\n",
    "    [0.15, 2.70], [0.680, 2.170], [0, 0], [1, 0], [0, 3], [1, 3]\n",
    "]\n",
    "\n",
    "x_spacing = 1 # the period of the item being machined - bounding box x range\n",
    "x_padding = 1 # 1 inch padding\n",
    "duplicates = 2 # how many do I want\n",
    "point_list = []\n",
    "[point_list.append([p[0]+(x_spacing+ x_padding)*offset, p[1]]) for p in initial_list for offset in range(duplicates)]\n",
    "\n",
    "# print out and see if we have what we need\n",
    "x = [point[0] for point in point_list]\n",
    "y = [point[1] for point in point_list]\n",
    "print(f'x range: ({min(x)},{max(x)})  y range: ({min(y)},{max(y)})\\npointlist: {point_list}')"
   ]
  },
  {
   "cell_type": "code",
   "execution_count": 27,
   "id": "d0d6abe9-3e1d-4ca9-b9e5-dca5e99ac04d",
   "metadata": {},
   "outputs": [
    {
     "data": {
      "text/plain": [
       "[(0.375, 11.0),\n",
       " (0.375, 12.0),\n",
       " (0.5, 0.543),\n",
       " (0.5, 1.793),\n",
       " (0.5, 3.043),\n",
       " (1.5, 0.543),\n",
       " (1.5, 1.793),\n",
       " (1.5, 3.043),\n",
       " (11.5, 4.418),\n",
       " (11.5, 5.418),\n",
       " (11.5, 6.418),\n",
       " (11.5, 7.418),\n",
       " (11.5, 8.418),\n",
       " (11.5, 9.418),\n",
       " (11.5, 10.418),\n",
       " (11.5, 11.418),\n",
       " (11.5, 12.418),\n",
       " (15.325, 17.0),\n",
       " (15.325, 18.0),\n",
       " (0.543, 13.684),\n",
       " (0.543, 15.098),\n",
       " (1.957, 13.684),\n",
       " (1.957, 15.098),\n",
       " (13.418, 12.293),\n",
       " (13.418, 13.707),\n",
       " (14.832, 12.293),\n",
       " (14.832, 13.707),\n",
       " (1.25, 14.391),\n",
       " (2.0, 17.5),\n",
       " (14.125, 13.0),\n",
       " (2.25, 13.0),\n",
       " (3.75, 7.466),\n",
       " (9.7, 2.444),\n",
       " (12.419, 20.0),\n",
       " (12.5, 16.1),\n",
       " [0, 0],\n",
       " [0, 21.6],\n",
       " [15.7, 0],\n",
       " [15.7, 21.6]]"
      ]
     },
     "execution_count": 27,
     "metadata": {},
     "output_type": "execute_result"
    }
   ],
   "source": [
    "file = 'stage1sideplate.csv'\n",
    "df = pd.read_csv(file)\n",
    "point_list = [ (df['XLOC'][i], df['YLOC'][i]) for i in range(len(df))]\n",
    "[point_list.append(x) for x in [[0, 0], [0, 21.6], [15.7, 0], [15.7, 21.6]] ]\n",
    "point_list"
   ]
  },
  {
   "cell_type": "markdown",
   "id": "ac035bfa-c9f5-448d-9b07-94934c3c9378",
   "metadata": {},
   "source": [
    "#### default options you can override by passing a dict to generate_gcode()"
   ]
  },
  {
   "cell_type": "code",
   "execution_count": 28,
   "id": "579210d0-1476-4ca0-bb80-828cd500e9b1",
   "metadata": {},
   "outputs": [
    {
     "name": "stdout",
     "output_type": "stream",
     "text": [
      "shapeoko: {'DRILL_DEPTH': -0.1, 'RETRACT_HEIGHT': 0.5, 'ENGAGE_HEIGHT': 0.05, 'LINEAR_FEED': 100, 'DRILL_FEED': 2, 'RETRACT_FEED': 30}\n",
      "benchmill: {'DRILL_DEPTH': -0.2, 'RETRACT_HEIGHT': 0.5, 'ENGAGE_HEIGHT': 0.1, 'LINEAR_FEED': 30, 'DRILL_FEED': 3, 'RETRACT_FEED': 20, 'TOOL': 4, 'PECK_TOOL': 5, 'PECK_STEP': 0.05}\n"
     ]
    }
   ],
   "source": [
    "# options you can override\n",
    "_ = [print(f'{d}: {sg.settings_dict[d]}') for d in sg.settings_dict]"
   ]
  },
  {
   "cell_type": "markdown",
   "id": "ebc3034a-acad-4549-90ca-3ffd8d2d33e4",
   "metadata": {},
   "source": [
    "#### example call "
   ]
  },
  {
   "cell_type": "code",
   "execution_count": 36,
   "id": "e28d0022-f173-4dea-b511-3914a4064037",
   "metadata": {},
   "outputs": [
    {
     "name": "stdout",
     "output_type": "stream",
     "text": [
      "Using the following settings: {'DRILL_DEPTH': -0.1, 'RETRACT_HEIGHT': 0.5, 'ENGAGE_HEIGHT': 0.05, 'LINEAR_FEED': 100, 'DRILL_FEED': 2, 'RETRACT_FEED': 30}\n",
      "\n"
     ]
    }
   ],
   "source": [
    "machine = 'shapeoko'  # shapeoko or benchmill\n",
    "overrides = {'DRILL_FEED':2,'DRILL_DEPTH':-0.1, 'RETRACT_HEIGHT': 0.5, 'ENGAGE_HEIGHT': 0.05} # dictionary of what to change from default\n",
    "reload(sg)\n",
    "code = sg.generate_gcode(point_list, machine=machine, peck=True, overrides=overrides, \n",
    "                         save_file=True, file_description='pawlv2_2x')\n",
    "#print(code)"
   ]
  },
  {
   "cell_type": "code",
   "execution_count": 37,
   "id": "4ba63f39-fff1-4db0-9b3a-d89c1f37b1f5",
   "metadata": {
    "tags": []
   },
   "outputs": [
    {
     "data": {
      "image/png": "[encoded data removed]",
      "text/plain": [
       "<Figure size 576x576 with 1 Axes>"
      ]
     },
     "metadata": {
      "needs_background": "light"
     },
     "output_type": "display_data"
    }
   ],
   "source": [
    "sg.plot_points(point_list, annotate=False, show_order=True)"
   ]
  },
  {
   "cell_type": "code",
   "execution_count": null,
   "id": "e3b09450-3dfc-461b-a2a0-e8fea2a88bcd",
   "metadata": {},
   "outputs": [],
   "source": []
  }
 ],
 "metadata": {
  "kernelspec": {
   "display_name": "Python 3 (ipykernel)",
   "language": "python",
   "name": "python3"
  },
  "language_info": {
   "codemirror_mode": {
    "name": "ipython",
    "version": 3
   },
   "file_extension": ".py",
   "mimetype": "text/x-python",
   "name": "python",
   "nbconvert_exporter": "python",
   "pygments_lexer": "ipython3",
   "version": "3.9.5"
  }
 },
 "nbformat": 4,
 "nbformat_minor": 5
}
