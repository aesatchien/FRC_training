{
 "cells": [
  {
   "cell_type": "markdown",
   "id": "0bae9ba2-a87f-4af5-81be-d854b51e7565",
   "metadata": {},
   "source": [
    "## Starting to make a more generic G-Code library for 2429 tools 2022 2010 CJH\n",
    "* made a library called simplegcode\n",
    "* user just generates the points and tells the code which machine they want\n",
    "  * shapeoko brute force plunges all drilling\n",
    "  * benchmill uses a G82 (spot drill) or G83 (peck drill) cycle\n",
    "* has functions \n",
    "  * generate_gcode() to get the gcode and\n",
    "  * plot_points() to get a plot of the points\n"
   ]
  },
  {
   "cell_type": "code",
   "execution_count": 154,
   "id": "74c0808c-49c4-4503-a810-b6313fb1b87e",
   "metadata": {},
   "outputs": [],
   "source": [
    "import simplegcode as sg\n",
    "import pandas as pd\n",
    "import numpy as np\n",
    "from importlib import reload"
   ]
  },
  {
   "cell_type": "markdown",
   "id": "762335e3-7433-4193-a13f-39c4f3cddb69",
   "metadata": {},
   "source": [
    "#### simple way to generate a grid or perimeter - you can also override and put in arbitrary points"
   ]
  },
  {
   "cell_type": "code",
   "execution_count": 206,
   "id": "8f765455-390d-4aa5-913b-e163fdf0c64d",
   "metadata": {
    "tags": []
   },
   "outputs": [
    {
     "name": "stdout",
     "output_type": "stream",
     "text": [
      "x has 3 points in range: (0.5,2.5)\n",
      "y has 5 points in range: (0.5,4.5)\n",
      "point_list has 12 points\n"
     ]
    }
   ],
   "source": [
    "# simple way to generate a grid\n",
    "perimeter_only = True\n",
    "x_start, x_final, x_spacing  = 0.5, 2.5, 1.0\n",
    "y_start, y_final, y_spacing  = 0.5, 4.5, 1.0    \n",
    "\n",
    "if perimeter_only:  # simple way to generate a perimeter - or any legs of a perimeter\n",
    "    point_list = [(x_, y_) for x_ in np.arange(x_start, x_final+x_spacing, x_spacing) for y_ in [y_start]]  # bottom row\n",
    "    point_list += [(x_, y_) for x_ in [x_final] for y_ in np.arange(y_start+y_spacing, y_final+y_spacing, y_spacing) ]  # right col\n",
    "    point_list += [(x_, y_) for x_ in np.arange(x_final-x_spacing, x_start-x_spacing, -x_spacing) for y_ in [y_final]]  # top row\n",
    "    point_list += [(x_, y_) for x_ in [x_start] for y_ in np.arange(y_final-y_spacing, y_start, -y_spacing) ]  # left col\n",
    "else:  # generate a grid\n",
    "    x = [x_ for x_ in np.arange(x_start, x_final + x_spacing, x_spacing)]\n",
    "    y = [y_ for y_ in  np.arange(y_start, y_final + y_spacing, y_spacing)]\n",
    "    point_list = [(x_, y_) for x_ in x for y_ in y]\n",
    "\n",
    "# some preset point lists\n",
    "preset = False\n",
    "if preset:\n",
    "    # center gussset\n",
    "    initial_list = [[1,0.25],[1,3.75],[1,1.063],[0.188,1.531],\n",
    "     [1.812,1.531], [ 0.188, 2.469], [1.812, 2.469],\n",
    "     [1, 2.938,], [0,0], [2, 0], [0,4], [2,4]\n",
    "    ]\n",
    "    # andymark gusset 90-deg\n",
    "    point_list = [[0.5, 0.5], [1.5,0.5], [2.5,0.5], [0.5, 1.5], [0.5, 2.5], [0,0], [3,3], [0,3], [3,0]]\n",
    "    \n",
    "    x_spacing = 1 # the period of the item being machined - bounding box x range\n",
    "    x_padding = 0.5 # 1 inch padding\n",
    "    duplicates = 1 # how many do I want\n",
    "    point_list = []\n",
    "    [point_list.append([p[0]+(x_spacing+ x_padding)*offset, p[1]]) for p in initial_list for offset in range(duplicates)]\n",
    "    \n",
    "# print out and see if we have what we need\n",
    "x = [point[0] for point in point_list]\n",
    "y = [point[1] for point in point_list]\n",
    "    \n",
    "try: \n",
    "    x_count = (x_final - x_start) / x_spacing + 1\n",
    "    y_count = (y_final - y_start) / y_spacing + 1\n",
    "    print(f'x has {x_count:.0f} points in range: ({min(x)},{max(x)})\\ny has {y_count:.0f} points in range: ({min(y)},{max(y)})')\n",
    "    if len(point_list) < 10:\n",
    "        print(f'point_list: {point_list}')\n",
    "    else:\n",
    "        print(f'point_list has {len(point_list)} points')\n",
    "except ValueError as e:\n",
    "    pass"
   ]
  },
  {
   "cell_type": "markdown",
   "id": "973fd5f4-a929-45c9-85e1-73a6434edb12",
   "metadata": {
    "tags": []
   },
   "source": [
    "#### if you'd rather read in a list of points from solidworks CSV"
   ]
  },
  {
   "cell_type": "code",
   "execution_count": 174,
   "id": "a4b23ef1-5082-417b-a056-ffc85d0e0125",
   "metadata": {},
   "outputs": [],
   "source": [
    "read_file = False\n",
    "if read_file:\n",
    "    file = 'csv/shooter_sideplate_v2.csv'\n",
    "    df = pd.read_csv(file)\n",
    "    initial_list = [ (df['XLOC'][i], df['YLOC'][i]) for i in range(len(df))]\n",
    "    [initial_list.append(x) for x in [[0, 0], [0, 24], [15.7, 0], [15.7, 24]] ]\n",
    "    \n",
    "    x_spacing = 4 # the period of the item being machined - bounding box x range\n",
    "    x_padding = 1 # 1 inch padding\n",
    "    duplicates = 1 # how many do I want\n",
    "    point_list = []\n",
    "    [point_list.append([p[0]+(x_spacing+ x_padding)*offset, p[1]]) for p in initial_list for offset in range(duplicates)]\n",
    "    \n",
    "    # print out and see if we have what we need\n",
    "    x = [point[0] for point in point_list]\n",
    "    y = [point[1] for point in point_list]\n",
    "    print(f'x range: ({min(x)},{max(x)})  y range: ({min(y)},{max(y)})\\npointlist: {point_list}')\n",
    "    \n",
    "    point_list"
   ]
  },
  {
   "cell_type": "markdown",
   "id": "ac035bfa-c9f5-448d-9b07-94934c3c9378",
   "metadata": {},
   "source": [
    "#### default options you can override by passing a dict to generate_gcode()"
   ]
  },
  {
   "cell_type": "code",
   "execution_count": 175,
   "id": "579210d0-1476-4ca0-bb80-828cd500e9b1",
   "metadata": {},
   "outputs": [
    {
     "name": "stdout",
     "output_type": "stream",
     "text": [
      "shapeoko: {'DRILL_DEPTH': -0.26, 'RETRACT_HEIGHT': 0.5, 'ENGAGE_HEIGHT': 0.05, 'LINEAR_FEED': 100, 'DRILL_FEED': 2, 'RETRACT_FEED': 30, 'MILL_STEP': 0.04, 'PART_DEPTH': 0.4, 'TOOL_DIAMETER': 0.25, 'CUT_FEED': 20, 'MILL_CIRCLES': True, 'HOLE_DIAMETER': 0.25}\n",
      "benchmill: {'DRILL_DEPTH': -0.2, 'RETRACT_HEIGHT': 0.5, 'ENGAGE_HEIGHT': 0.1, 'LINEAR_FEED': 30, 'DRILL_FEED': 3, 'RETRACT_FEED': 20, 'TOOL': 4, 'PECK_TOOL': 5, 'PECK_STEP': 0.05, 'MILL_CIRCLES': False, 'HOLE_DIAMETER': 0.07600000000000001}\n"
     ]
    }
   ],
   "source": [
    "# options you can override\n",
    "_ = [print(f'{d}: {sg.settings_dict[d]}') for d in sg.settings_dict]"
   ]
  },
  {
   "cell_type": "markdown",
   "id": "ebc3034a-acad-4549-90ca-3ffd8d2d33e4",
   "metadata": {},
   "source": [
    "#### example call "
   ]
  },
  {
   "cell_type": "code",
   "execution_count": 187,
   "id": "e28d0022-f173-4dea-b511-3914a4064037",
   "metadata": {},
   "outputs": [
    {
     "name": "stdout",
     "output_type": "stream",
     "text": [
      "Using the following settings: {'DRILL_DEPTH': -0.26, 'RETRACT_HEIGHT': 0.5, 'ENGAGE_HEIGHT': 0.05, 'LINEAR_FEED': 100, 'DRILL_FEED': 2, 'RETRACT_FEED': 30, 'MILL_STEP': 0.04, 'PART_DEPTH': 0.4, 'TOOL_DIAMETER': 0.25, 'CUT_FEED': 20, 'MILL_CIRCLES': True, 'HOLE_DIAMETER': 0.25, 'SWEEPS': 2}\n",
      "\n",
      "\n"
     ]
    }
   ],
   "source": [
    "machine = 'shapeoko'  # shapeoko or benchmill\n",
    "overrides = {'DRILL_FEED':2,'DRILL_DEPTH':-0.26, 'RETRACT_HEIGHT': 0.5, 'ENGAGE_HEIGHT': 0.05,\n",
    "            'MILL_CIRCLES':True, 'HOLE_DIAMETER':(0.25)} # dictionary of what to change from default\n",
    "reload(sg)\n",
    "code = sg.generate_gcode(point_list, machine=machine, peck=False, overrides=overrides, \n",
    "                         save_file=True, file_description='_test_circles', time_stamp=False)\n",
    "print('')"
   ]
  },
  {
   "cell_type": "code",
   "execution_count": 207,
   "id": "4ba63f39-fff1-4db0-9b3a-d89c1f37b1f5",
   "metadata": {
    "tags": []
   },
   "outputs": [
    {
     "data": {
      "image/png": "[encoded data removed]",
      "text/plain": [
       "<Figure size 400x800 with 1 Axes>"
      ]
     },
     "metadata": {},
     "output_type": "display_data"
    }
   ],
   "source": [
    "sg.plot_points(point_list, annotate=False, show_order=True)"
   ]
  },
  {
   "cell_type": "code",
   "execution_count": null,
   "id": "f28bf2c5-9b43-4d1e-8491-d89c147b67cc",
   "metadata": {},
   "outputs": [],
   "source": []
  },
  {
   "cell_type": "code",
   "execution_count": null,
   "id": "7bb0d692-2fe6-4cd6-ba84-690ef0d61d9e",
   "metadata": {},
   "outputs": [],
   "source": []
  }
 ],
 "metadata": {
  "kernelspec": {
   "display_name": "Python [conda env:science]",
   "language": "python",
   "name": "conda-env-science-py"
  },
  "language_info": {
   "codemirror_mode": {
    "name": "ipython",
    "version": 3
   },
   "file_extension": ".py",
   "mimetype": "text/x-python",
   "name": "python",
   "nbconvert_exporter": "python",
   "pygments_lexer": "ipython3",
   "version": "3.10.13"
  }
 },
 "nbformat": 4,
 "nbformat_minor": 5
}
