{
 "cells": [
  {
   "cell_type": "code",
   "execution_count": 25,
   "id": "e85764b5-845c-4687-80b0-7931b17517e4",
   "metadata": {},
   "outputs": [],
   "source": [
    "import pickle\n",
    "import pandas as pd"
   ]
  },
  {
   "cell_type": "code",
   "execution_count": 28,
   "id": "6f4088ca-0690-4073-a826-6058843b5653",
   "metadata": {},
   "outputs": [],
   "source": [
    "file = 'console.pkl'\n",
    "#file = 'dummy.pkl'"
   ]
  },
  {
   "cell_type": "code",
   "execution_count": 29,
   "id": "d0d03526-8688-4ca0-8489-d777b01392fc",
   "metadata": {},
   "outputs": [
    {
     "name": "stdout",
     "output_type": "stream",
     "text": [
      "C:\\CJH\\Python\\LCTRFA\\float_git\\lcf_float\\python\n"
     ]
    }
   ],
   "source": [
    "cd C:\\CJH\\Python\\LCTRFA\\float_git\\lcf_float\\python"
   ]
  },
  {
   "cell_type": "code",
   "execution_count": 32,
   "id": "1a89e991-2a66-4d02-bf53-d225c56db4fe",
   "metadata": {},
   "outputs": [],
   "source": [
    "with open('console.pkl', 'rb') as f:\n",
    "    console_df = pickle.load(f)\n",
    "with open('dummy.pkl', 'rb') as f:\n",
    "    dummy_df = pickle.load(f)\n"
   ]
  },
  {
   "cell_type": "code",
   "execution_count": 39,
   "id": "56d9af62-fc09-4f66-9833-f0cb39859ab8",
   "metadata": {},
   "outputs": [
    {
     "data": {
      "text/html": [
       "<div>\n",
       "<style scoped>\n",
       "    .dataframe tbody tr th:only-of-type {\n",
       "        vertical-align: middle;\n",
       "    }\n",
       "\n",
       "    .dataframe tbody tr th {\n",
       "        vertical-align: top;\n",
       "    }\n",
       "\n",
       "    .dataframe thead th {\n",
       "        text-align: right;\n",
       "    }\n",
       "</style>\n",
       "<table border=\"1\" class=\"dataframe\">\n",
       "  <thead>\n",
       "    <tr style=\"text-align: right;\">\n",
       "      <th></th>\n",
       "      <th>axis</th>\n",
       "      <th>td dec</th>\n",
       "      <th>td 256</th>\n",
       "      <th>sp dec</th>\n",
       "      <th>sp 256</th>\n",
       "      <th>P gain</th>\n",
       "      <th>I gain</th>\n",
       "      <th>D gain</th>\n",
       "      <th>rev</th>\n",
       "      <th>td min</th>\n",
       "      <th>td max</th>\n",
       "    </tr>\n",
       "  </thead>\n",
       "  <tbody>\n",
       "    <tr>\n",
       "      <th>0</th>\n",
       "      <td>B0</td>\n",
       "      <td>0.526</td>\n",
       "      <td>134</td>\n",
       "      <td>0.137</td>\n",
       "      <td>35</td>\n",
       "      <td>2.5</td>\n",
       "      <td>0.1</td>\n",
       "      <td>0</td>\n",
       "      <td>False</td>\n",
       "      <td>35</td>\n",
       "      <td>200</td>\n",
       "    </tr>\n",
       "    <tr>\n",
       "      <th>1</th>\n",
       "      <td>B1</td>\n",
       "      <td>0.004</td>\n",
       "      <td>1</td>\n",
       "      <td>0.079</td>\n",
       "      <td>20</td>\n",
       "      <td>2.0</td>\n",
       "      <td>0.2</td>\n",
       "      <td>0</td>\n",
       "      <td>False</td>\n",
       "      <td>20</td>\n",
       "      <td>245</td>\n",
       "    </tr>\n",
       "    <tr>\n",
       "      <th>2</th>\n",
       "      <td>B2</td>\n",
       "      <td>0.004</td>\n",
       "      <td>0</td>\n",
       "      <td>0.125</td>\n",
       "      <td>32</td>\n",
       "      <td>2.0</td>\n",
       "      <td>0.1</td>\n",
       "      <td>0</td>\n",
       "      <td>False</td>\n",
       "      <td>32</td>\n",
       "      <td>230</td>\n",
       "    </tr>\n",
       "    <tr>\n",
       "      <th>3</th>\n",
       "      <td>B3</td>\n",
       "      <td>0.004</td>\n",
       "      <td>1</td>\n",
       "      <td>0.071</td>\n",
       "      <td>18</td>\n",
       "      <td>3.5</td>\n",
       "      <td>0.0</td>\n",
       "      <td>0</td>\n",
       "      <td>False</td>\n",
       "      <td>18</td>\n",
       "      <td>244</td>\n",
       "    </tr>\n",
       "    <tr>\n",
       "      <th>0</th>\n",
       "      <td>A0</td>\n",
       "      <td>----</td>\n",
       "      <td>----</td>\n",
       "      <td>----</td>\n",
       "      <td>----</td>\n",
       "      <td>----</td>\n",
       "      <td>----</td>\n",
       "      <td>----</td>\n",
       "      <td>----</td>\n",
       "      <td>----</td>\n",
       "      <td>----</td>\n",
       "    </tr>\n",
       "    <tr>\n",
       "      <th>1</th>\n",
       "      <td>A1</td>\n",
       "      <td>----</td>\n",
       "      <td>----</td>\n",
       "      <td>----</td>\n",
       "      <td>----</td>\n",
       "      <td>----</td>\n",
       "      <td>----</td>\n",
       "      <td>----</td>\n",
       "      <td>----</td>\n",
       "      <td>----</td>\n",
       "      <td>----</td>\n",
       "    </tr>\n",
       "    <tr>\n",
       "      <th>2</th>\n",
       "      <td>A2</td>\n",
       "      <td>----</td>\n",
       "      <td>----</td>\n",
       "      <td>----</td>\n",
       "      <td>----</td>\n",
       "      <td>----</td>\n",
       "      <td>----</td>\n",
       "      <td>----</td>\n",
       "      <td>----</td>\n",
       "      <td>----</td>\n",
       "      <td>----</td>\n",
       "    </tr>\n",
       "    <tr>\n",
       "      <th>3</th>\n",
       "      <td>A3</td>\n",
       "      <td>----</td>\n",
       "      <td>----</td>\n",
       "      <td>----</td>\n",
       "      <td>----</td>\n",
       "      <td>----</td>\n",
       "      <td>----</td>\n",
       "      <td>----</td>\n",
       "      <td>----</td>\n",
       "      <td>----</td>\n",
       "      <td>----</td>\n",
       "    </tr>\n",
       "  </tbody>\n",
       "</table>\n",
       "</div>"
      ],
      "text/plain": [
       "  axis td dec td 256 sp dec sp 256 P gain I gain D gain    rev td min td max\n",
       "0   B0  0.526    134  0.137     35    2.5    0.1      0  False     35    200\n",
       "1   B1  0.004      1  0.079     20    2.0    0.2      0  False     20    245\n",
       "2   B2  0.004      0  0.125     32    2.0    0.1      0  False     32    230\n",
       "3   B3  0.004      1  0.071     18    3.5    0.0      0  False     18    244\n",
       "0   A0   ----   ----   ----   ----   ----   ----   ----   ----   ----   ----\n",
       "1   A1   ----   ----   ----   ----   ----   ----   ----   ----   ----   ----\n",
       "2   A2   ----   ----   ----   ----   ----   ----   ----   ----   ----   ----\n",
       "3   A3   ----   ----   ----   ----   ----   ----   ----   ----   ----   ----"
      ]
     },
     "execution_count": 39,
     "metadata": {},
     "output_type": "execute_result"
    }
   ],
   "source": [
    "t = pd.concat([console_df.iloc[4:], dummy_df.iloc[0:4]])\n",
    "t.columns = ['axis', 'td dec', 'td 256', 'sp dec', 'sp 256', 'P gain', 'I gain', 'D gain', 'rev', 'td min',\n",
    "                          'td max']\n",
    "t"
   ]
  },
  {
   "cell_type": "code",
   "execution_count": 30,
   "id": "15363300-8a1f-4cf2-848c-12e9394c967f",
   "metadata": {},
   "outputs": [],
   "source": [
    "test = None\n",
    "# let me use this df to test a console app\n",
    "with open(file, 'rb') as f:\n",
    "    test = pickle.load(f)"
   ]
  },
  {
   "cell_type": "code",
   "execution_count": 28,
   "id": "eeb216e3-0268-4093-bd7b-cd3dec09a492",
   "metadata": {},
   "outputs": [],
   "source": [
    "test = test.reset_index(drop=True)"
   ]
  },
  {
   "cell_type": "code",
   "execution_count": 11,
   "id": "70ce5570-a354-41af-8dd2-342611e16a20",
   "metadata": {},
   "outputs": [],
   "source": [
    "outfile = 'dummy2.pkl'\n",
    "with open(outfile, 'wb') as f:\n",
    "    pickle.dump(test, f, protocol=3)"
   ]
  },
  {
   "cell_type": "code",
   "execution_count": 31,
   "id": "ba156094-f732-4479-a7ba-fc1891e4c400",
   "metadata": {},
   "outputs": [
    {
     "data": {
      "text/plain": [
       "{'axis': {0: 'B0', 1: 'B1', 2: 'B2', 3: 'B3'},\n",
       " 'td dec': {0: 0.526, 1: 0.004, 2: 0.004, 3: 0.004},\n",
       " 'td 256': {0: 134, 1: 1, 2: 0, 3: 1},\n",
       " 'sp dec': {0: 0.137, 1: 0.079, 2: 0.125, 3: 0.071},\n",
       " 'sp 256': {0: 35, 1: 20, 2: 32, 3: 18},\n",
       " 'P gain': {0: 2.5, 1: 2.0, 2: 2.0, 3: 3.5},\n",
       " 'I gain': {0: 0.1, 1: 0.2, 2: 0.1, 3: 0.0},\n",
       " 'D gain': {0: 0, 1: 0, 2: 0, 3: 0},\n",
       " 'rev': {0: False, 1: False, 2: False, 3: False},\n",
       " 'td min': {0: 35, 1: 20, 2: 32, 3: 18},\n",
       " 'td max': {0: 200, 1: 245, 2: 230, 3: 244}}"
      ]
     },
     "execution_count": 31,
     "metadata": {},
     "output_type": "execute_result"
    }
   ],
   "source": [
    "test.to_dict()"
   ]
  },
  {
   "cell_type": "code",
   "execution_count": 18,
   "id": "57602186-583f-40e0-9d17-32d3fe93a9b6",
   "metadata": {},
   "outputs": [
    {
     "data": {
      "text/html": [
       "<div>\n",
       "<style scoped>\n",
       "    .dataframe tbody tr th:only-of-type {\n",
       "        vertical-align: middle;\n",
       "    }\n",
       "\n",
       "    .dataframe tbody tr th {\n",
       "        vertical-align: top;\n",
       "    }\n",
       "\n",
       "    .dataframe thead th {\n",
       "        text-align: right;\n",
       "    }\n",
       "</style>\n",
       "<table border=\"1\" class=\"dataframe\">\n",
       "  <thead>\n",
       "    <tr style=\"text-align: right;\">\n",
       "      <th></th>\n",
       "      <th>axis</th>\n",
       "      <th>td dec</th>\n",
       "      <th>td 256</th>\n",
       "      <th>sp dec</th>\n",
       "      <th>sp 256</th>\n",
       "      <th>P gain</th>\n",
       "      <th>I gain</th>\n",
       "      <th>D gain</th>\n",
       "      <th>rev</th>\n",
       "      <th>td min</th>\n",
       "      <th>td max</th>\n",
       "    </tr>\n",
       "  </thead>\n",
       "  <tbody>\n",
       "    <tr>\n",
       "      <th>0</th>\n",
       "      <td>B0</td>\n",
       "      <td>----</td>\n",
       "      <td>----</td>\n",
       "      <td>----</td>\n",
       "      <td>----</td>\n",
       "      <td>----</td>\n",
       "      <td>----</td>\n",
       "      <td>----</td>\n",
       "      <td>----</td>\n",
       "      <td>----</td>\n",
       "      <td>----</td>\n",
       "    </tr>\n",
       "    <tr>\n",
       "      <th>1</th>\n",
       "      <td>B1</td>\n",
       "      <td>----</td>\n",
       "      <td>----</td>\n",
       "      <td>----</td>\n",
       "      <td>----</td>\n",
       "      <td>----</td>\n",
       "      <td>----</td>\n",
       "      <td>----</td>\n",
       "      <td>----</td>\n",
       "      <td>----</td>\n",
       "      <td>----</td>\n",
       "    </tr>\n",
       "    <tr>\n",
       "      <th>2</th>\n",
       "      <td>B2</td>\n",
       "      <td>----</td>\n",
       "      <td>----</td>\n",
       "      <td>----</td>\n",
       "      <td>----</td>\n",
       "      <td>----</td>\n",
       "      <td>----</td>\n",
       "      <td>----</td>\n",
       "      <td>----</td>\n",
       "      <td>----</td>\n",
       "      <td>----</td>\n",
       "    </tr>\n",
       "    <tr>\n",
       "      <th>3</th>\n",
       "      <td>B3</td>\n",
       "      <td>----</td>\n",
       "      <td>----</td>\n",
       "      <td>----</td>\n",
       "      <td>----</td>\n",
       "      <td>----</td>\n",
       "      <td>----</td>\n",
       "      <td>----</td>\n",
       "      <td>----</td>\n",
       "      <td>----</td>\n",
       "      <td>----</td>\n",
       "    </tr>\n",
       "  </tbody>\n",
       "</table>\n",
       "</div>"
      ],
      "text/plain": [
       "  axis td dec td 256 sp dec sp 256 P gain I gain D gain   rev td min td max\n",
       "0   B0   ----   ----   ----   ----   ----   ----   ----  ----   ----   ----\n",
       "1   B1   ----   ----   ----   ----   ----   ----   ----  ----   ----   ----\n",
       "2   B2   ----   ----   ----   ----   ----   ----   ----  ----   ----   ----\n",
       "3   B3   ----   ----   ----   ----   ----   ----   ----  ----   ----   ----"
      ]
     },
     "execution_count": 18,
     "metadata": {},
     "output_type": "execute_result"
    }
   ],
   "source": [
    "pd.DataFrame(d)"
   ]
  },
  {
   "cell_type": "code",
   "execution_count": 13,
   "id": "4a09dadc-fca2-40dc-87cb-de98ea0e5de3",
   "metadata": {},
   "outputs": [],
   "source": [
    "import sys, subprocess, os\n",
    "from pathlib import Path"
   ]
  },
  {
   "cell_type": "code",
   "execution_count": 7,
   "id": "b3dafc0c-aeb2-4d68-8122-e51f1578711a",
   "metadata": {},
   "outputs": [
    {
     "name": "stdout",
     "output_type": "stream",
     "text": [
      "C:\\CJH\\Python\\LCTRFA\\float_git\\lcf_float\\python\n"
     ]
    }
   ],
   "source": [
    "cd LCTRFA/float_git/lcf_float/python/"
   ]
  },
  {
   "cell_type": "code",
   "execution_count": 15,
   "id": "f3081b63-3395-44ea-890a-6da545522ca9",
   "metadata": {},
   "outputs": [],
   "source": [
    "p = Path('pngs/20221126_1718_bank_b.png').absolute()"
   ]
  },
  {
   "cell_type": "code",
   "execution_count": 16,
   "id": "09de4b66-5314-4987-9eb7-3fbcd716376a",
   "metadata": {},
   "outputs": [
    {
     "data": {
      "text/plain": [
       "0"
      ]
     },
     "execution_count": 16,
     "metadata": {},
     "output_type": "execute_result"
    }
   ],
   "source": [
    "os.system(f'mspaint.exe {p} + &')"
   ]
  },
  {
   "cell_type": "code",
   "execution_count": 17,
   "id": "b80e3878-c03b-41e6-99a3-1b4c7dda40d8",
   "metadata": {},
   "outputs": [
    {
     "data": {
      "text/plain": [
       "'win32'"
      ]
     },
     "execution_count": 17,
     "metadata": {},
     "output_type": "execute_result"
    }
   ],
   "source": [
    "sys.platform"
   ]
  },
  {
   "cell_type": "code",
   "execution_count": 21,
   "id": "c40b0088-82c3-4cad-89d1-1797172e2111",
   "metadata": {},
   "outputs": [
    {
     "data": {
      "text/plain": [
       "True"
      ]
     },
     "execution_count": 21,
     "metadata": {},
     "output_type": "execute_result"
    }
   ],
   "source": [
    "p2 = Path('pngs') / '20221126_1718_bank_b.png'\n",
    "p2.is_file()"
   ]
  },
  {
   "cell_type": "code",
   "execution_count": 22,
   "id": "9b73fc7e-b819-4963-877e-599debda190b",
   "metadata": {},
   "outputs": [],
   "source": [
    "fname = '20221126_1718_bank_b.png'\n",
    "if sys.platform == \"win32\":\n",
    "    p = Path('pngs') / fname\n",
    "    os.system(f'mspaint.exe {p.absolute()} + &')"
   ]
  },
  {
   "cell_type": "code",
   "execution_count": 24,
   "id": "08ff7704-4964-4379-b8ea-2356aaff55d5",
   "metadata": {},
   "outputs": [
    {
     "data": {
      "text/plain": [
       "0"
      ]
     },
     "execution_count": 24,
     "metadata": {},
     "output_type": "execute_result"
    }
   ],
   "source": [
    "os.system('mspaint.exe {0} + &'.format(p.absolute()))"
   ]
  },
  {
   "cell_type": "code",
   "execution_count": 40,
   "id": "da1fcda1-2789-40ec-a885-5f2f529f6c4b",
   "metadata": {},
   "outputs": [
    {
     "data": {
      "text/plain": [
       "'C:\\\\CJH\\\\Python\\\\LCTRFA\\\\float_git\\\\lcf_float\\\\python'"
      ]
     },
     "execution_count": 40,
     "metadata": {},
     "output_type": "execute_result"
    }
   ],
   "source": [
    "pwd\n"
   ]
  },
  {
   "cell_type": "code",
   "execution_count": null,
   "id": "8c0272ee-bff8-4989-8197-440a0caf2102",
   "metadata": {},
   "outputs": [],
   "source": []
  }
 ],
 "metadata": {
  "kernelspec": {
   "display_name": "Python 3 (ipykernel)",
   "language": "python",
   "name": "python3"
  },
  "language_info": {
   "codemirror_mode": {
    "name": "ipython",
    "version": 3
   },
   "file_extension": ".py",
   "mimetype": "text/x-python",
   "name": "python",
   "nbconvert_exporter": "python",
   "pygments_lexer": "ipython3",
   "version": "3.9.5"
  }
 },
 "nbformat": 4,
 "nbformat_minor": 5
}
