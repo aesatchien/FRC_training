{
 "cells": [
  {
   "cell_type": "markdown",
   "id": "93acd0ae-9661-4bf1-90b6-920fb0d94f9e",
   "metadata": {},
   "source": [
    "## Romi examples - 2022 0131 CJH\n",
    "---\n",
    "* https://docs.wpilib.org/en/stable/docs/romi-robot/getting-to-know-romi.html\n",
    "* The romi is different in the way it runs\n",
    "  * Unlike the robot, it does not run on the roborio (usually 10.0.0.2)\n",
    "  * The devs trick it to run on the driver station with the --ws-client flag makes the sim look for the romi \n",
    "    * your laptop has one address, typically 10.0.0.100 - 10.0.0.200)\n",
    "    * the pi is 10.0.0.2, which is backwards from what is on the robot\n",
    "* coprocessing on the romi is a bit different\n",
    "  * you still run vision, etc on the pi but now network tables is served by the driver station, **not** the robot\n",
    "* because everything is happening in the sim, it is not a good idea to draw the romi in the sim window"
   ]
  },
  {
   "cell_type": "markdown",
   "id": "6ae3e633-67dd-4399-8e93-b409094b4c06",
   "metadata": {},
   "source": [
    "#### LEDs and Buttons on the romi\n",
    "The romi webpage (10.0.0.2) lets you configure these, but by default\n",
    "* DIO 0 is set to input, and it is the Button A on the romi\n",
    "* DIO 3 is set to output, and it is the yellow LED on the romi\n",
    "* DIO 1 can be configured to input (Button B) or output (green LED) - it's the first parameter of OnBoardIO's constructor\n",
    "* DIO 2 can be configured to input (Button C) or output (red LED) - it's the second parameter of OnBoardIO's constructor"
   ]
  },
  {
   "cell_type": "code",
   "execution_count": 12,
   "id": "91f0d3a7-bc2e-41b1-bd87-311516a69bcb",
   "metadata": {},
   "outputs": [],
   "source": [
    "# excerpt from onboard io\n",
    "import enum, typing\n",
    "import commands2\n",
    "import wpilib\n",
    "\n",
    "\n",
    "class ChannelMode(enum.Enum):\n",
    "    INPUT = 1\n",
    "    OUTPUT = 2\n",
    "\n",
    "\n",
    "class OnBoardIO(commands2.SubsystemBase):\n",
    "    \"\"\"This class represents the onboard IO of the Romi reference robot. This includes the pushbuttons\n",
    "    and LEDs.\n",
    "    DIO 0 - Button A (input only) DIO 1 - Button B (input) or Green LED (output) DIO 2 - Button C\n",
    "    (input) or Red LED (output) DIO 3 - Yellow LED (output only)\n",
    "    \"\"\"\n",
    "\n",
    "    MESSAGE_INTERVAL = 1.0\n",
    "\n",
    "    def __init__(self, dio1: ChannelMode, dio2: ChannelMode) -> None:\n",
    "        \"\"\"Constructor.\n",
    "        :param dio1: Mode for DIO 1 (input = Button B, output = green LED)\n",
    "        :param dio2: Mode for DIO 2 (input = Button C, output = red LED)\n",
    "        \"\"\"\n",
    "        super().__init__()\n",
    "\n",
    "        self.nextMessageTime = 0\n",
    "\n",
    "        self.buttonA = wpilib.DigitalInput(0)\n",
    "        self.buttonB: typing.Optional[wpilib.DigitalInput] = None\n",
    "        self.buttonC: typing.Optional[wpilib.DigitalInput] = None\n",
    "\n",
    "        self.yellowLed = wpilib.DigitalOutput(3)\n",
    "        self.greenLed: typing.Optional[wpilib.DigitalOutput] = None\n",
    "        self.redLed: typing.Optional[wpilib.DigitalOutput] = None\n",
    "        \n",
    "    def getButtonAPressed(self) -> bool:\n",
    "        \"\"\"Gets if the A button is pressed.\"\"\"\n",
    "        return self.buttonA.get()\n",
    "    \n",
    "    def setYellowLed(self, value: bool) -> None:\n",
    "        \"\"\"Sets the yellow LED.\"\"\"\n",
    "        self.yellowLed.set(value)"
   ]
  },
  {
   "cell_type": "code",
   "execution_count": 11,
   "id": "3dccb89e-0022-4104-a903-3a98a9f08038",
   "metadata": {},
   "outputs": [
    {
     "data": {
      "text/plain": [
       "<commands2._impl.Trigger at 0x1d814e3e2b0>"
      ]
     },
     "execution_count": 11,
     "metadata": {},
     "output_type": "execute_result"
    }
   ],
   "source": [
    "# Example of how to use the onboard IO to sense a button press - somthing similar goes in robotcontainer\n",
    "# I took out the selfs\n",
    "import commands2.button\n",
    "onboardIO = OnBoardIO(ChannelMode.INPUT, ChannelMode.OUTPUT)\n",
    "\n",
    "onboardButtonA = commands2.button.Button(onboardIO.getButtonAPressed)\n",
    "onboardButtonA.whenActive(\n",
    "    commands2.PrintCommand(\"Button A Pressed\")\n",
    ").whenInactive(commands2.PrintCommand(\"Button A Released\"))"
   ]
  },
  {
   "cell_type": "code",
   "execution_count": null,
   "id": "447e6e62-c6f2-4f37-9acc-e01a584a4871",
   "metadata": {},
   "outputs": [],
   "source": []
  }
 ],
 "metadata": {
  "kernelspec": {
   "display_name": "Python [conda env:robo2021]",
   "language": "python",
   "name": "conda-env-robo2021-py"
  },
  "language_info": {
   "codemirror_mode": {
    "name": "ipython",
    "version": 3
   },
   "file_extension": ".py",
   "mimetype": "text/x-python",
   "name": "python",
   "nbconvert_exporter": "python",
   "pygments_lexer": "ipython3",
   "version": "3.8.12"
  }
 },
 "nbformat": 4,
 "nbformat_minor": 5
}
