{
 "cells": [
  {
   "cell_type": "markdown",
   "id": "dcf48b2d-19f1-458c-9902-211383e6db14",
   "metadata": {
    "tags": []
   },
   "source": [
    "### More indexing and slicing ... 2022 0624 CJH\n",
    "https://stackoverflow.com/questions/509211/understanding-slicing"
   ]
  },
  {
   "cell_type": "markdown",
   "id": "97c5a060-8eb9-4bd6-b20d-9210c6ffc630",
   "metadata": {},
   "source": [
    "#### check out the ASCII art below for indexing vs slicing insights\n",
    "* think of indexing as pulling out an element in that positions\n",
    "* think of slicing as returning the sub-list between corners"
   ]
  },
  {
   "cell_type": "raw",
   "id": "bb6aa9ac-c549-4318-8999-b53bd4de6dc0",
   "metadata": {},
   "source": [
    "                +---+---+---+---+---+---+\n",
    "                | P | y | t | h | o | n |\n",
    "                +---+---+---+---+---+---+\n",
    "Slice position: 0   1   2   3   4   5   6\n",
    "Index position:   0   1   2   3   4   5"
   ]
  },
  {
   "cell_type": "code",
   "execution_count": null,
   "id": "649ef539-f52a-4061-9f3f-7c283d8c90ae",
   "metadata": {},
   "outputs": [],
   "source": [
    "p = ['P','y','t','h','o','n']\n",
    "# Why the two sets of numbers:\n",
    "# indexing gives items, not lists\n",
    "print(f'p[0] is {p[0]}')\n",
    "print(f'p[5] is {p[5]}')\n",
    "\n",
    "# Slicing gives lists\n",
    "print(f'p[0:1] is {p[0:1]}')\n",
    "print(f'p[0:2] is {p[0:2]}')"
   ]
  },
  {
   "cell_type": "markdown",
   "id": "d07cb34d-6274-4de2-98fc-0fd7c1b50c8d",
   "metadata": {},
   "source": [
    "#### list out all the shortcuts for x[low:high:stride] "
   ]
  },
  {
   "cell_type": "code",
   "execution_count": null,
   "id": "e98b5269-0493-4e9e-935a-7145c7b63435",
   "metadata": {},
   "outputs": [],
   "source": [
    "x = [chr(i) for i in range(97, 110)]  # 97-123 are all the letters\n",
    "x"
   ]
  },
  {
   "cell_type": "raw",
   "id": "7875c514-3437-4d1a-a880-69f75062fe3e",
   "metadata": {},
   "source": [
    "x[:]                # [x[0],   x[1],          ..., x[-1]    ]\n",
    "x[low:]             # [x[low], x[low+1],      ..., x[-1]    ]\n",
    "x[:high]            # [x[0],   x[1],          ..., x[high-1]]\n",
    "x[low:high]         # [x[low], x[low+1],      ..., x[high-1]]\n",
    "x[::stride]         # [x[0],   x[stride],     ..., x[-1]    ]\n",
    "x[low::stride]      # [x[low], x[low+stride], ..., x[-1]    ]\n",
    "x[:high:stride]     # [x[0],   x[stride],     ..., x[high-1]]\n",
    "x[low:high:stride]  # [x[low], x[low+stride], ..., x[high-1]]"
   ]
  },
  {
   "cell_type": "markdown",
   "id": "d7126584-5ad1-4e9a-9e56-ff72f74c6bc9",
   "metadata": {},
   "source": [
    "#### striding backwards changes things a bit\n",
    "* easy way to reverse a list on the fly"
   ]
  },
  {
   "cell_type": "raw",
   "id": "636eeb69-faa2-4a0c-b9dd-0202a76d49c0",
   "metadata": {},
   "source": [
    "x[::-stride]        # [x[-1],   x[-1-stride],   ..., x[0]    ]\n",
    "x[high::-stride]    # [x[high], x[high-stride], ..., x[0]    ]\n",
    "x[:low:-stride]     # [x[-1],   x[-1-stride],   ..., x[low+1]]\n",
    "x[high:low:-stride] # [x[high], x[high-stride], ..., x[low+1]]"
   ]
  },
  {
   "cell_type": "markdown",
   "id": "a6d1c9c4-bce4-4356-be8c-8556415fe841",
   "metadata": {},
   "source": [
    "---\n",
    "How did this change with numpy?"
   ]
  },
  {
   "cell_type": "code",
   "execution_count": null,
   "id": "7641b288-1c85-467b-891c-38184d2426b2",
   "metadata": {},
   "outputs": [],
   "source": [
    "import numpy as np"
   ]
  }
 ],
 "metadata": {
  "kernelspec": {
   "display_name": "Python 3 (ipykernel)",
   "language": "python",
   "name": "python3"
  },
  "language_info": {
   "codemirror_mode": {
    "name": "ipython",
    "version": 3
   },
   "file_extension": ".py",
   "mimetype": "text/x-python",
   "name": "python",
   "nbconvert_exporter": "python",
   "pygments_lexer": "ipython3",
   "version": "3.9.5"
  }
 },
 "nbformat": 4,
 "nbformat_minor": 5
}
