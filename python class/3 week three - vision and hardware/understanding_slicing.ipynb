{
 "cells": [
  {
   "cell_type": "markdown",
   "id": "dcf48b2d-19f1-458c-9902-211383e6db14",
   "metadata": {
    "tags": []
   },
   "source": [
    "### More indexing and slicing ... 2022 0624 CJH\n",
    "https://stackoverflow.com/questions/509211/understanding-slicing"
   ]
  },
  {
   "cell_type": "markdown",
   "id": "97c5a060-8eb9-4bd6-b20d-9210c6ffc630",
   "metadata": {},
   "source": [
    "#### check out the ASCII art below for indexing vs slicing insights\n",
    "* think of indexing as pulling out an element in that positions\n",
    "* think of slicing as returning the sub-list between corners"
   ]
  },
  {
   "cell_type": "raw",
   "id": "bb6aa9ac-c549-4318-8999-b53bd4de6dc0",
   "metadata": {},
   "source": [
    "                +---+---+---+---+---+---+\n",
    "                | P | y | t | h | o | n |\n",
    "                +---+---+---+---+---+---+\n",
    "Slice position: 0   1   2   3   4   5   6\n",
    "Index position:   0   1   2   3   4   5"
   ]
  },
  {
   "cell_type": "code",
   "execution_count": 110,
   "id": "649ef539-f52a-4061-9f3f-7c283d8c90ae",
   "metadata": {},
   "outputs": [
    {
     "name": "stdout",
     "output_type": "stream",
     "text": [
      "p[0] is P\n",
      "p[5] is n\n",
      "p[0:1] is ['P']\n",
      "p[0:2] is ['P', 'y']\n"
     ]
    }
   ],
   "source": [
    "p = ['P','y','t','h','o','n']\n",
    "# Why the two sets of numbers:\n",
    "# indexing gives items, not lists\n",
    "print(f'p[0] is {p[0]}')\n",
    "print(f'p[5] is {p[5]}')\n",
    "\n",
    "# Slicing gives lists\n",
    "print(f'p[0:1] is {p[0:1]}')\n",
    "print(f'p[0:2] is {p[0:2]}')"
   ]
  },
  {
   "cell_type": "markdown",
   "id": "d07cb34d-6274-4de2-98fc-0fd7c1b50c8d",
   "metadata": {},
   "source": [
    "#### list out all the shortcuts for x[low:high:stride] "
   ]
  },
  {
   "cell_type": "code",
   "execution_count": 112,
   "id": "e98b5269-0493-4e9e-935a-7145c7b63435",
   "metadata": {},
   "outputs": [
    {
     "data": {
      "text/plain": [
       "['a', 'b', 'c', 'd', 'e', 'f', 'g', 'h', 'i', 'j', 'k', 'l', 'm']"
      ]
     },
     "execution_count": 112,
     "metadata": {},
     "output_type": "execute_result"
    }
   ],
   "source": [
    "x = [chr(i) for i in range(97, 110)]  # 97-123 are all the letters\n",
    "x"
   ]
  },
  {
   "cell_type": "code",
   "execution_count": 118,
   "id": "4ee34cb4-fc95-4b51-a729-0c9af3441bcc",
   "metadata": {},
   "outputs": [
    {
     "data": {
      "text/plain": [
       "slice(1, 5, 1)"
      ]
     },
     "execution_count": 118,
     "metadata": {},
     "output_type": "execute_result"
    }
   ],
   "source": [
    "my_slice = slice(1,5,1)\n",
    "my_slice"
   ]
  },
  {
   "cell_type": "code",
   "execution_count": 119,
   "id": "6fa27967-8b89-4d50-adfe-2f365296cec3",
   "metadata": {},
   "outputs": [
    {
     "data": {
      "text/plain": [
       "['b', 'c', 'd', 'e']"
      ]
     },
     "execution_count": 119,
     "metadata": {},
     "output_type": "execute_result"
    }
   ],
   "source": [
    "x[my_slice]"
   ]
  },
  {
   "cell_type": "raw",
   "id": "7875c514-3437-4d1a-a880-69f75062fe3e",
   "metadata": {},
   "source": [
    "x[:]                # [x[0],   x[1],          ..., x[-1]    ]\n",
    "x[low:]             # [x[low], x[low+1],      ..., x[-1]    ]\n",
    "x[:high]            # [x[0],   x[1],          ..., x[high-1]]\n",
    "x[low:high]         # [x[low], x[low+1],      ..., x[high-1]]\n",
    "x[::stride]         # [x[0],   x[stride],     ..., x[-1]    ]\n",
    "x[low::stride]      # [x[low], x[low+stride], ..., x[-1]    ]\n",
    "x[:high:stride]     # [x[0],   x[stride],     ..., x[high-1]]\n",
    "x[low:high:stride]  # [x[low], x[low+stride], ..., x[high-1]]"
   ]
  },
  {
   "cell_type": "markdown",
   "id": "d7126584-5ad1-4e9a-9e56-ff72f74c6bc9",
   "metadata": {},
   "source": [
    "#### striding backwards changes things a bit\n",
    "* easy way to reverse a list on the fly"
   ]
  },
  {
   "cell_type": "raw",
   "id": "636eeb69-faa2-4a0c-b9dd-0202a76d49c0",
   "metadata": {},
   "source": [
    "x[::-stride]        # [x[-1],   x[-1-stride],   ..., x[0]    ]\n",
    "x[high::-stride]    # [x[high], x[high-stride], ..., x[0]    ]\n",
    "x[:low:-stride]     # [x[-1],   x[-1-stride],   ..., x[low+1]]\n",
    "x[high:low:-stride] # [x[high], x[high-stride], ..., x[low+1]]"
   ]
  },
  {
   "cell_type": "markdown",
   "id": "a6d1c9c4-bce4-4356-be8c-8556415fe841",
   "metadata": {},
   "source": [
    "---\n",
    "How did this change with numpy?"
   ]
  },
  {
   "cell_type": "code",
   "execution_count": 120,
   "id": "7641b288-1c85-467b-891c-38184d2426b2",
   "metadata": {},
   "outputs": [],
   "source": [
    "import numpy as np"
   ]
  },
  {
   "cell_type": "code",
   "execution_count": 124,
   "id": "38dfe718-4717-4813-9731-a73f3ec20793",
   "metadata": {},
   "outputs": [
    {
     "data": {
      "text/plain": [
       "array([[0., 0., 0., 0.],\n",
       "       [0., 0., 0., 0.],\n",
       "       [0., 0., 0., 0.],\n",
       "       [0., 0., 0., 0.]])"
      ]
     },
     "execution_count": 124,
     "metadata": {},
     "output_type": "execute_result"
    }
   ],
   "source": [
    "gray_array = np.zeros([4,4])\n",
    "gray_array"
   ]
  },
  {
   "cell_type": "code",
   "execution_count": 127,
   "id": "0d4481bb-d582-4bb1-b936-77f1b6c264c1",
   "metadata": {},
   "outputs": [
    {
     "data": {
      "text/plain": [
       "array([[0., 0., 0., 0.],\n",
       "       [0., 0., 0., 0.],\n",
       "       [0., 0., 0., 0.],\n",
       "       [0., 0., 1., 0.]])"
      ]
     },
     "execution_count": 127,
     "metadata": {},
     "output_type": "execute_result"
    }
   ],
   "source": [
    "gray_array[ 3, 2 ] = 1\n",
    "gray_array"
   ]
  },
  {
   "cell_type": "code",
   "execution_count": 138,
   "id": "9d17aa6f-ae6e-41bb-9c44-edbebfaf2c0b",
   "metadata": {},
   "outputs": [
    {
     "data": {
      "text/plain": [
       "array([[1., 1., 1., 1.],\n",
       "       [1., 1., 1., 1.],\n",
       "       [1., 1., 1., 1.],\n",
       "       [1., 1., 1., 1.]])"
      ]
     },
     "execution_count": 138,
     "metadata": {},
     "output_type": "execute_result"
    }
   ],
   "source": [
    "gray_array = np.zeros([4,4])\n",
    "gray_array[ : , :: ] = 1\n",
    "gray_array"
   ]
  },
  {
   "cell_type": "code",
   "execution_count": null,
   "id": "b4c483c8-3454-41cb-b144-8ac753a52da8",
   "metadata": {},
   "outputs": [],
   "source": []
  }
 ],
 "metadata": {
  "kernelspec": {
   "display_name": "Python 3 (ipykernel)",
   "language": "python",
   "name": "python3"
  },
  "language_info": {
   "codemirror_mode": {
    "name": "ipython",
    "version": 3
   },
   "file_extension": ".py",
   "mimetype": "text/x-python",
   "name": "python",
   "nbconvert_exporter": "python",
   "pygments_lexer": "ipython3",
   "version": "3.9.5"
  }
 },
 "nbformat": 4,
 "nbformat_minor": 5
}
