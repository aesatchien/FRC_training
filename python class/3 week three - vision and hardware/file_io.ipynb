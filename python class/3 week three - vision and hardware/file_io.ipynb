{
 "cells": [
  {
   "cell_type": "markdown",
   "id": "e1cfec67-a13c-4f57-9cfd-163eeb9b9a54",
   "metadata": {
    "tags": []
   },
   "source": [
    "---\n",
    "### basic file input and output (io)\n",
    "* So far you have used many blocks: for, if, def, class, try\n",
    "* Python knows to start the block at the colon and stop when indentation ends\n",
    "* The same goes for the **with** statement that manages resources \n",
    "* Example from https://www.geeksforgeeks.org/with-statement-in-python/\n",
    "\n",
    "`with expression [as variable]:` <br>\n",
    "&emsp;`with-block`"
   ]
  },
  {
   "cell_type": "markdown",
   "id": "aba75da6-b025-46e8-8d0a-435917326127",
   "metadata": {},
   "source": [
    "#### how to write files"
   ]
  },
  {
   "cell_type": "code",
   "execution_count": null,
   "id": "939d726d-18fa-460e-abdf-deee56906e9c",
   "metadata": {},
   "outputs": [],
   "source": [
    "# 1) without using with statement\n",
    "file = open('files/hello.txt', 'w')\n",
    "file.write('hello world ! (1)')\n",
    "file.close()"
   ]
  },
  {
   "cell_type": "code",
   "execution_count": null,
   "id": "6ab73057-a62d-4165-b823-1115d8643666",
   "metadata": {},
   "outputs": [],
   "source": [
    "# 2) without using with statement, error tolerant\n",
    "file = open('files/hello.txt', 'w')\n",
    "try:\n",
    "    file.write('hello world ! (2)')\n",
    "finally:\n",
    "    file.close()"
   ]
  },
  {
   "cell_type": "code",
   "execution_count": null,
   "id": "18406c1a-d3ba-4f27-9651-07ae83f95cea",
   "metadata": {
    "tags": []
   },
   "outputs": [],
   "source": [
    "# using with statement\n",
    "with open('files/hello.txt', 'w') as file:\n",
    "    file.write('hello world ! (3)')"
   ]
  },
  {
   "cell_type": "code",
   "execution_count": null,
   "id": "5b6b9c5a-5ea4-42df-a8d1-1ea93dfc7cf2",
   "metadata": {},
   "outputs": [],
   "source": [
    "# demonstrate file.closed"
   ]
  },
  {
   "cell_type": "markdown",
   "id": "2cc01517-fe78-4351-8833-cc37ef850afb",
   "metadata": {},
   "source": [
    "#### how to read files"
   ]
  },
  {
   "cell_type": "code",
   "execution_count": null,
   "id": "a8943bce-b7dd-4c9e-bb5c-b1cd879cb06b",
   "metadata": {},
   "outputs": [],
   "source": [
    "# using with statement \n",
    "with open('files/zen.txt', 'r') as file:\n",
    "    text = file.read()\n",
    "    text_lines = file.readlines()"
   ]
  },
  {
   "cell_type": "code",
   "execution_count": null,
   "id": "80376ace-02fb-428a-99de-780978b07b99",
   "metadata": {},
   "outputs": [],
   "source": [
    "# demonstrate only the first one is complete\n",
    "text"
   ]
  },
  {
   "cell_type": "code",
   "execution_count": null,
   "id": "10d367f1-7e2c-4dea-b2f2-c1faec9c2b4f",
   "metadata": {},
   "outputs": [],
   "source": [
    "# notice the differeence in how the file is read\n",
    "text_lines"
   ]
  },
  {
   "cell_type": "code",
   "execution_count": null,
   "id": "39b43d14-7245-4e3e-8bbd-7b9bbb987a3f",
   "metadata": {},
   "outputs": [],
   "source": [
    "# did the with statement take care of our resorces?\n",
    "file.closed"
   ]
  },
  {
   "cell_type": "code",
   "execution_count": null,
   "id": "d43fb3bb-5e30-4264-9274-1d548265b7b8",
   "metadata": {},
   "outputs": [],
   "source": [
    "# if the file is really big you might do something like this to be efficient on memory\n",
    "line_counter = 0 \n",
    "with open('files/zen.txt') as f:\n",
    "    for line in f:\n",
    "        # do something with data\n",
    "        line_counter += 1\n",
    "line_counter"
   ]
  },
  {
   "cell_type": "code",
   "execution_count": null,
   "id": "b6ebff8d-7558-4f01-b590-02a1581f293f",
   "metadata": {},
   "outputs": [],
   "source": [
    "# emonstrate newlines and carriage returns\n",
    "print(text.upper())"
   ]
  },
  {
   "cell_type": "markdown",
   "id": "5da46e9d-0089-43c4-a457-fcb3ec5d4f6b",
   "metadata": {},
   "source": [
    "#### python special characters in strings\n",
    "* \\n - Newline\n",
    "* \\t - Horizontal tab\n",
    "* \\r - Carriage return\n",
    "* \\b - Backspace\n",
    "* \\f - Form feed\n",
    "* \\' - Single Quote\n",
    "* \\\" - double quote\n",
    "* \\\\ -Backslash\n",
    "* \\v -vertical tab\n",
    "* \\N - N is the number for Unicode character\n",
    "* \\NNN - NNN is digits for Octal value\n",
    "* \\xNN - NN is a hex value; \\x is used to denote following is a hex value.\n",
    "* \\a - bell sound, actually default chime"
   ]
  },
  {
   "cell_type": "markdown",
   "id": "326c35a4-8c08-4aef-8ab6-bb53a4929ad3",
   "metadata": {},
   "source": [
    "### what about big files?"
   ]
  },
  {
   "cell_type": "code",
   "execution_count": null,
   "id": "ccdcf7ef-0b90-409a-80ed-f099b1d572d4",
   "metadata": {},
   "outputs": [],
   "source": [
    "import numpy as np"
   ]
  },
  {
   "cell_type": "code",
   "execution_count": null,
   "id": "4acf2ec2-5ed9-4535-a4eb-49fb341c147d",
   "metadata": {},
   "outputs": [],
   "source": [
    "size = 1000000 # a million points (not that big)\n",
    "big_data = np.random.random(size)\n",
    "big_data"
   ]
  },
  {
   "cell_type": "code",
   "execution_count": null,
   "id": "37fcc04f-616f-4cf3-85fd-ae1c31366925",
   "metadata": {},
   "outputs": [],
   "source": [
    "%%time\n",
    "# there's also a np.savetext() and np.loadtext()\n",
    "with open('files/data.txt', 'w') as file:\n",
    "    for item in big_data:\n",
    "        file.write(str(item)+'\\n')"
   ]
  },
  {
   "cell_type": "code",
   "execution_count": null,
   "id": "4df2e536-d089-4355-9846-cd9ff0496bcb",
   "metadata": {},
   "outputs": [],
   "source": [
    "# pickle is fast, easy, efficient\n",
    "# use pickle.dump() and pickle.load() to write arbitray python objects to binary files\n",
    "import pickle"
   ]
  },
  {
   "cell_type": "code",
   "execution_count": null,
   "id": "729d35f1-d24e-487f-9491-8cf724835591",
   "metadata": {},
   "outputs": [],
   "source": [
    "%%time\n",
    "with open('files/data.pkl', 'wb') as file:  # note the b now for binary\n",
    "    pickle.dump(big_data, file)"
   ]
  },
  {
   "cell_type": "code",
   "execution_count": null,
   "id": "cfe0ddf7-cc04-436b-b3a8-ea2dca2d8768",
   "metadata": {},
   "outputs": [],
   "source": [
    "# you can read right back from the pkl file\n",
    "with open('files/data.pkl', 'rb') as file:\n",
    "    pkl_data = pickle.load(file)"
   ]
  },
  {
   "cell_type": "code",
   "execution_count": null,
   "id": "dc406024-283e-4716-b3ba-e2483f0e7792",
   "metadata": {},
   "outputs": [],
   "source": [
    "pkl_data"
   ]
  },
  {
   "cell_type": "code",
   "execution_count": null,
   "id": "35700066-afa8-484a-b18f-bc21d3edbdc4",
   "metadata": {
    "tags": []
   },
   "outputs": [],
   "source": [
    "%%time\n",
    "# can use np.save() and np.load() - it uses pickle by default\n",
    "# there's also a np.savetext() and np.loadtext()\n",
    "np.save('files/data', big_data)"
   ]
  },
  {
   "cell_type": "code",
   "execution_count": null,
   "id": "a7387425-f44f-4925-afba-7028095534b5",
   "metadata": {},
   "outputs": [],
   "source": []
  },
  {
   "cell_type": "markdown",
   "id": "8d4e302f-1577-4d45-a9ef-962a8793b881",
   "metadata": {},
   "source": [
    "___\n",
    "### what about spreadsheets (and tab separated data)?\n",
    "* pandas is the basic go-to data science library\n",
    "* it incorporates numpy and matplotlib, and makes a nice big dictionary of data\n",
    "* it stores these as series and dataFrames\n",
    "* working with them is like the jump from lists to numpy arrays - far more functionality"
   ]
  },
  {
   "cell_type": "code",
   "execution_count": 1,
   "id": "08673c84-1ff5-4525-a978-04def837c7b8",
   "metadata": {},
   "outputs": [],
   "source": [
    "import pandas as pd"
   ]
  },
  {
   "cell_type": "code",
   "execution_count": 2,
   "id": "919dfb86-fe40-44a4-8672-9f937928dda4",
   "metadata": {},
   "outputs": [],
   "source": [
    "co2_df = pd.read_csv('files/co2-mm-mlo_csv.csv')"
   ]
  },
  {
   "cell_type": "code",
   "execution_count": 3,
   "id": "3f564e24-ca23-448c-b0ae-4c80a5bfb211",
   "metadata": {},
   "outputs": [
    {
     "data": {
      "text/html": [
       "<div>\n",
       "<style scoped>\n",
       "    .dataframe tbody tr th:only-of-type {\n",
       "        vertical-align: middle;\n",
       "    }\n",
       "\n",
       "    .dataframe tbody tr th {\n",
       "        vertical-align: top;\n",
       "    }\n",
       "\n",
       "    .dataframe thead th {\n",
       "        text-align: right;\n",
       "    }\n",
       "</style>\n",
       "<table border=\"1\" class=\"dataframe\">\n",
       "  <thead>\n",
       "    <tr style=\"text-align: right;\">\n",
       "      <th></th>\n",
       "      <th>Date</th>\n",
       "      <th>Decimal Date</th>\n",
       "      <th>Average</th>\n",
       "      <th>Interpolated</th>\n",
       "      <th>Trend</th>\n",
       "      <th>Number of Days</th>\n",
       "    </tr>\n",
       "  </thead>\n",
       "  <tbody>\n",
       "    <tr>\n",
       "      <th>0</th>\n",
       "      <td>1958-03-01</td>\n",
       "      <td>1958.208</td>\n",
       "      <td>315.71</td>\n",
       "      <td>315.71</td>\n",
       "      <td>314.62</td>\n",
       "      <td>-1</td>\n",
       "    </tr>\n",
       "    <tr>\n",
       "      <th>1</th>\n",
       "      <td>1958-04-01</td>\n",
       "      <td>1958.292</td>\n",
       "      <td>317.45</td>\n",
       "      <td>317.45</td>\n",
       "      <td>315.29</td>\n",
       "      <td>-1</td>\n",
       "    </tr>\n",
       "    <tr>\n",
       "      <th>2</th>\n",
       "      <td>1958-05-01</td>\n",
       "      <td>1958.375</td>\n",
       "      <td>317.50</td>\n",
       "      <td>317.50</td>\n",
       "      <td>314.71</td>\n",
       "      <td>-1</td>\n",
       "    </tr>\n",
       "    <tr>\n",
       "      <th>3</th>\n",
       "      <td>1958-06-01</td>\n",
       "      <td>1958.458</td>\n",
       "      <td>-99.99</td>\n",
       "      <td>317.10</td>\n",
       "      <td>314.85</td>\n",
       "      <td>-1</td>\n",
       "    </tr>\n",
       "    <tr>\n",
       "      <th>4</th>\n",
       "      <td>1958-07-01</td>\n",
       "      <td>1958.542</td>\n",
       "      <td>315.86</td>\n",
       "      <td>315.86</td>\n",
       "      <td>314.98</td>\n",
       "      <td>-1</td>\n",
       "    </tr>\n",
       "    <tr>\n",
       "      <th>...</th>\n",
       "      <td>...</td>\n",
       "      <td>...</td>\n",
       "      <td>...</td>\n",
       "      <td>...</td>\n",
       "      <td>...</td>\n",
       "      <td>...</td>\n",
       "    </tr>\n",
       "    <tr>\n",
       "      <th>722</th>\n",
       "      <td>2018-05-01</td>\n",
       "      <td>2018.375</td>\n",
       "      <td>411.24</td>\n",
       "      <td>411.24</td>\n",
       "      <td>407.91</td>\n",
       "      <td>24</td>\n",
       "    </tr>\n",
       "    <tr>\n",
       "      <th>723</th>\n",
       "      <td>2018-06-01</td>\n",
       "      <td>2018.458</td>\n",
       "      <td>410.79</td>\n",
       "      <td>410.79</td>\n",
       "      <td>408.49</td>\n",
       "      <td>29</td>\n",
       "    </tr>\n",
       "    <tr>\n",
       "      <th>724</th>\n",
       "      <td>2018-07-01</td>\n",
       "      <td>2018.542</td>\n",
       "      <td>408.71</td>\n",
       "      <td>408.71</td>\n",
       "      <td>408.32</td>\n",
       "      <td>27</td>\n",
       "    </tr>\n",
       "    <tr>\n",
       "      <th>725</th>\n",
       "      <td>2018-08-01</td>\n",
       "      <td>2018.625</td>\n",
       "      <td>406.99</td>\n",
       "      <td>406.99</td>\n",
       "      <td>408.90</td>\n",
       "      <td>30</td>\n",
       "    </tr>\n",
       "    <tr>\n",
       "      <th>726</th>\n",
       "      <td>2018-09-01</td>\n",
       "      <td>2018.708</td>\n",
       "      <td>405.51</td>\n",
       "      <td>405.51</td>\n",
       "      <td>409.02</td>\n",
       "      <td>29</td>\n",
       "    </tr>\n",
       "  </tbody>\n",
       "</table>\n",
       "<p>727 rows × 6 columns</p>\n",
       "</div>"
      ],
      "text/plain": [
       "           Date  Decimal Date  Average  Interpolated   Trend  Number of Days\n",
       "0    1958-03-01      1958.208   315.71        315.71  314.62              -1\n",
       "1    1958-04-01      1958.292   317.45        317.45  315.29              -1\n",
       "2    1958-05-01      1958.375   317.50        317.50  314.71              -1\n",
       "3    1958-06-01      1958.458   -99.99        317.10  314.85              -1\n",
       "4    1958-07-01      1958.542   315.86        315.86  314.98              -1\n",
       "..          ...           ...      ...           ...     ...             ...\n",
       "722  2018-05-01      2018.375   411.24        411.24  407.91              24\n",
       "723  2018-06-01      2018.458   410.79        410.79  408.49              29\n",
       "724  2018-07-01      2018.542   408.71        408.71  408.32              27\n",
       "725  2018-08-01      2018.625   406.99        406.99  408.90              30\n",
       "726  2018-09-01      2018.708   405.51        405.51  409.02              29\n",
       "\n",
       "[727 rows x 6 columns]"
      ]
     },
     "execution_count": 3,
     "metadata": {},
     "output_type": "execute_result"
    }
   ],
   "source": [
    "co2_df"
   ]
  },
  {
   "cell_type": "code",
   "execution_count": 6,
   "id": "cbe37c33-c041-4836-bbfe-87f678b0c90d",
   "metadata": {},
   "outputs": [],
   "source": [
    "co2_df = co2_df[co2_df['Average']>0]"
   ]
  },
  {
   "cell_type": "code",
   "execution_count": 11,
   "id": "75be6b8a-f414-4449-a13a-2cecef96ac41",
   "metadata": {},
   "outputs": [
    {
     "data": {
      "text/plain": [
       "<AxesSubplot:xlabel='Decimal Date'>"
      ]
     },
     "execution_count": 11,
     "metadata": {},
     "output_type": "execute_result"
    },
    {
     "data": {
      "image/png": "[encoded data removed]",
      "text/plain": [
       "<Figure size 432x288 with 1 Axes>"
      ]
     },
     "metadata": {
      "needs_background": "light"
     },
     "output_type": "display_data"
    }
   ],
   "source": [
    "# simple plotting is easy \n",
    "co2_df.plot('Decimal Date', 'Average')"
   ]
  },
  {
   "cell_type": "code",
   "execution_count": 12,
   "id": "778db361-c397-4633-990c-456a25ffe65a",
   "metadata": {},
   "outputs": [],
   "source": [
    "# making new columns is easy"
   ]
  },
  {
   "cell_type": "code",
   "execution_count": 16,
   "id": "0e80071e-db84-4e8e-a670-f79882db95f9",
   "metadata": {},
   "outputs": [
    {
     "data": {
      "text/plain": [
       "0      314.62\n",
       "1      315.29\n",
       "2      314.71\n",
       "4      314.98\n",
       "5      315.94\n",
       "        ...  \n",
       "722    407.91\n",
       "723    408.49\n",
       "724    408.32\n",
       "725    408.90\n",
       "726    409.02\n",
       "Name: Trend, Length: 720, dtype: float64"
      ]
     },
     "execution_count": 16,
     "metadata": {},
     "output_type": "execute_result"
    }
   ],
   "source": [
    "co2_df['Trend']"
   ]
  },
  {
   "cell_type": "markdown",
   "id": "d0204aa4-26b1-4187-8eb6-c427fa8b05f5",
   "metadata": {},
   "source": [
    "---\n",
    "#### not just files"
   ]
  },
  {
   "cell_type": "code",
   "execution_count": 18,
   "id": "92a5530a-5f38-4d98-9585-59c58ae93d30",
   "metadata": {},
   "outputs": [],
   "source": [
    "# a bit more general\n",
    "url = 'https://en.wikipedia.org/wiki/World_population'"
   ]
  },
  {
   "cell_type": "code",
   "execution_count": 19,
   "id": "92dc98e4-5e08-4aa5-9811-7d6571cd67d6",
   "metadata": {},
   "outputs": [],
   "source": [
    "pop_tables = pd.read_html(url)\n",
    "pop_table_df = pop_tables[4]"
   ]
  },
  {
   "cell_type": "code",
   "execution_count": 20,
   "id": "48463352-5551-4023-8a6e-1f584a352c8d",
   "metadata": {},
   "outputs": [],
   "source": [
    "#!pip install lxml"
   ]
  },
  {
   "cell_type": "code",
   "execution_count": 22,
   "id": "a07b0b05-96b8-41a3-b992-81252c212ec1",
   "metadata": {},
   "outputs": [
    {
     "data": {
      "text/html": [
       "<div>\n",
       "<style scoped>\n",
       "    .dataframe tbody tr th:only-of-type {\n",
       "        vertical-align: middle;\n",
       "    }\n",
       "\n",
       "    .dataframe tbody tr th {\n",
       "        vertical-align: top;\n",
       "    }\n",
       "\n",
       "    .dataframe thead th {\n",
       "        text-align: right;\n",
       "    }\n",
       "</style>\n",
       "<table border=\"1\" class=\"dataframe\">\n",
       "  <thead>\n",
       "    <tr style=\"text-align: right;\">\n",
       "      <th></th>\n",
       "      <th>Rank</th>\n",
       "      <th>Country</th>\n",
       "      <th>Population</th>\n",
       "      <th>% of world</th>\n",
       "      <th>Date</th>\n",
       "      <th>Source(official or UN)</th>\n",
       "    </tr>\n",
       "  </thead>\n",
       "  <tbody>\n",
       "    <tr>\n",
       "      <th>0</th>\n",
       "      <td>1</td>\n",
       "      <td>China</td>\n",
       "      <td>1413747800</td>\n",
       "      <td>NaN</td>\n",
       "      <td>18 Jun 2022</td>\n",
       "      <td>National population clock[92]</td>\n",
       "    </tr>\n",
       "    <tr>\n",
       "      <th>1</th>\n",
       "      <td>2</td>\n",
       "      <td>India</td>\n",
       "      <td>1379294725</td>\n",
       "      <td>NaN</td>\n",
       "      <td>18 Jun 2022</td>\n",
       "      <td>National population clock[93]</td>\n",
       "    </tr>\n",
       "    <tr>\n",
       "      <th>2</th>\n",
       "      <td>3</td>\n",
       "      <td>United States</td>\n",
       "      <td>332789225</td>\n",
       "      <td>NaN</td>\n",
       "      <td>18 Jun 2022</td>\n",
       "      <td>National population clock[94]</td>\n",
       "    </tr>\n",
       "    <tr>\n",
       "      <th>3</th>\n",
       "      <td>4</td>\n",
       "      <td>Indonesia</td>\n",
       "      <td>269603400</td>\n",
       "      <td>NaN</td>\n",
       "      <td>1 Jul 2020</td>\n",
       "      <td>National annual projection[95]</td>\n",
       "    </tr>\n",
       "    <tr>\n",
       "      <th>4</th>\n",
       "      <td>5</td>\n",
       "      <td>Pakistan</td>\n",
       "      <td>220892331</td>\n",
       "      <td>NaN</td>\n",
       "      <td>1 Jul 2020</td>\n",
       "      <td>UN Projection[96]</td>\n",
       "    </tr>\n",
       "    <tr>\n",
       "      <th>5</th>\n",
       "      <td>6</td>\n",
       "      <td>Brazil</td>\n",
       "      <td>214774567</td>\n",
       "      <td>NaN</td>\n",
       "      <td>18 Jun 2022</td>\n",
       "      <td>National population clock[97]</td>\n",
       "    </tr>\n",
       "    <tr>\n",
       "      <th>6</th>\n",
       "      <td>7</td>\n",
       "      <td>Nigeria</td>\n",
       "      <td>206139587</td>\n",
       "      <td>NaN</td>\n",
       "      <td>1 Jul 2020</td>\n",
       "      <td>UN Projection[96]</td>\n",
       "    </tr>\n",
       "    <tr>\n",
       "      <th>7</th>\n",
       "      <td>8</td>\n",
       "      <td>Bangladesh</td>\n",
       "      <td>172912102</td>\n",
       "      <td>NaN</td>\n",
       "      <td>18 Jun 2022</td>\n",
       "      <td>National population clock[98]</td>\n",
       "    </tr>\n",
       "    <tr>\n",
       "      <th>8</th>\n",
       "      <td>9</td>\n",
       "      <td>Russia</td>\n",
       "      <td>146748590</td>\n",
       "      <td>NaN</td>\n",
       "      <td>1 Jan 2020</td>\n",
       "      <td>National annual estimate[99]</td>\n",
       "    </tr>\n",
       "    <tr>\n",
       "      <th>9</th>\n",
       "      <td>10</td>\n",
       "      <td>Mexico</td>\n",
       "      <td>127792286</td>\n",
       "      <td>NaN</td>\n",
       "      <td>1 Jul 2020</td>\n",
       "      <td>National annual projection[100]</td>\n",
       "    </tr>\n",
       "  </tbody>\n",
       "</table>\n",
       "</div>"
      ],
      "text/plain": [
       "   Rank        Country  Population  % of world         Date  \\\n",
       "0     1          China  1413747800         NaN  18 Jun 2022   \n",
       "1     2          India  1379294725         NaN  18 Jun 2022   \n",
       "2     3  United States   332789225         NaN  18 Jun 2022   \n",
       "3     4      Indonesia   269603400         NaN   1 Jul 2020   \n",
       "4     5       Pakistan   220892331         NaN   1 Jul 2020   \n",
       "5     6         Brazil   214774567         NaN  18 Jun 2022   \n",
       "6     7        Nigeria   206139587         NaN   1 Jul 2020   \n",
       "7     8     Bangladesh   172912102         NaN  18 Jun 2022   \n",
       "8     9         Russia   146748590         NaN   1 Jan 2020   \n",
       "9    10         Mexico   127792286         NaN   1 Jul 2020   \n",
       "\n",
       "            Source(official or UN)  \n",
       "0    National population clock[92]  \n",
       "1    National population clock[93]  \n",
       "2    National population clock[94]  \n",
       "3   National annual projection[95]  \n",
       "4                UN Projection[96]  \n",
       "5    National population clock[97]  \n",
       "6                UN Projection[96]  \n",
       "7    National population clock[98]  \n",
       "8     National annual estimate[99]  \n",
       "9  National annual projection[100]  "
      ]
     },
     "execution_count": 22,
     "metadata": {},
     "output_type": "execute_result"
    }
   ],
   "source": [
    "pop_table_df"
   ]
  },
  {
   "cell_type": "code",
   "execution_count": 23,
   "id": "4d939b04-1a64-49b2-828f-204b57ec520f",
   "metadata": {},
   "outputs": [
    {
     "data": {
      "text/plain": [
       "Index(['Rank', 'Country', 'Population', '% of world', 'Date',\n",
       "       'Source(official or UN)'],\n",
       "      dtype='object')"
      ]
     },
     "execution_count": 23,
     "metadata": {},
     "output_type": "execute_result"
    }
   ],
   "source": [
    "pop_table_df.columns"
   ]
  },
  {
   "cell_type": "code",
   "execution_count": 24,
   "id": "80ffb5a1-9d36-4f33-88a7-1c528265dadd",
   "metadata": {},
   "outputs": [],
   "source": [
    "pop_table_df['Population_Mil'] = pop_table_df['Population']/1E6"
   ]
  },
  {
   "cell_type": "code",
   "execution_count": 25,
   "id": "453c55c4-6fda-436a-83b9-90407d66f6cc",
   "metadata": {},
   "outputs": [
    {
     "data": {
      "image/png": "[encoded data removed]",
      "text/plain": [
       "<Figure size 432x288 with 1 Axes>"
      ]
     },
     "metadata": {
      "needs_background": "light"
     },
     "output_type": "display_data"
    }
   ],
   "source": [
    "ax = pop_table_df.plot.scatter('Country','Population_Mil')"
   ]
  },
  {
   "cell_type": "code",
   "execution_count": 26,
   "id": "23d625be-77cd-4e8d-901f-7498f90bf8e9",
   "metadata": {},
   "outputs": [],
   "source": [
    "import matplotlib.pyplot as plt"
   ]
  },
  {
   "cell_type": "code",
   "execution_count": 28,
   "id": "409d6d4f-6026-45d3-b8d4-4d1b9bb9a0c5",
   "metadata": {},
   "outputs": [
    {
     "data": {
      "image/png": "[encoded data removed]",
      "text/plain": [
       "<Figure size 1008x432 with 1 Axes>"
      ]
     },
     "metadata": {
      "needs_background": "light"
     },
     "output_type": "display_data"
    }
   ],
   "source": [
    "fig, ax = plt.subplots(1,1, figsize = (14,6))\n",
    "fontsize = 18\n",
    "pop_table_df.plot.scatter(x='Country',y='Population_Mil', s='Population_Mil', ax=ax)\n",
    "ax.set_title(f'World Population, 2020', fontsize=fontsize)\n",
    "ax.annotate(f'Source: {url}', xy=(1, 1), xytext=(0.55, 0.95), textcoords='axes fraction', fontsize=12)\n",
    "ax.set_xlabel('Country',  fontsize=fontsize-2)\n",
    "ax.tick_params(axis='x', labelsize=12)\n",
    "ax.set_ylabel('Population, Millions', fontsize=fontsize-2)\n",
    "ax.set_ylim([0,1600])\n",
    "plt.show()\n"
   ]
  },
  {
   "cell_type": "code",
   "execution_count": null,
   "id": "fc998a31-4e1d-4ed5-a33a-c7b3343ea264",
   "metadata": {},
   "outputs": [],
   "source": []
  }
 ],
 "metadata": {
  "kernelspec": {
   "display_name": "Python 3 (ipykernel)",
   "language": "python",
   "name": "python3"
  },
  "language_info": {
   "codemirror_mode": {
    "name": "ipython",
    "version": 3
   },
   "file_extension": ".py",
   "mimetype": "text/x-python",
   "name": "python",
   "nbconvert_exporter": "python",
   "pygments_lexer": "ipython3",
   "version": "3.9.5"
  }
 },
 "nbformat": 4,
 "nbformat_minor": 5
}
