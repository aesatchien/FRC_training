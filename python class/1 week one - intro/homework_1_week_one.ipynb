{
 "cells": [
  {
   "cell_type": "markdown",
   "id": "c5280ede-f9a8-41a6-98a9-4706dce3f13e",
   "metadata": {},
   "source": [
    "## Week one python homework - 20220612 CJH\n",
    "---"
   ]
  },
  {
   "cell_type": "markdown",
   "id": "6127bef3-0b83-4cff-bfa0-0df095e8a376",
   "metadata": {
    "tags": []
   },
   "source": [
    "### Exercise 1 Background and hints - working with strings and lists together\n",
    "* You can treat strings like lists\n",
    "* You can break strings apart into lists, usually on puncuation"
   ]
  },
  {
   "cell_type": "code",
   "execution_count": 1,
   "id": "0425bb21-6529-4033-9f8b-3de56d6861c2",
   "metadata": {},
   "outputs": [],
   "source": [
    "# strings can actually be treated like lists of characters"
   ]
  },
  {
   "cell_type": "code",
   "execution_count": 1,
   "id": "366b95cb-8048-4629-bef3-e81e5851941a",
   "metadata": {},
   "outputs": [],
   "source": [
    "test_string = 'This is a sample sentence.'"
   ]
  },
  {
   "cell_type": "code",
   "execution_count": 4,
   "id": "9d3035a9-e544-424c-ad92-d07014e9b5a1",
   "metadata": {},
   "outputs": [
    {
     "name": "stdout",
     "output_type": "stream",
     "text": [
      "The first character of test_string is : T\n",
      "The last 5 characters of test_string are : ence.\n"
     ]
    }
   ],
   "source": [
    "# you can index the test string same as a list - just FYI\n",
    "print(f'The first character of test_string is : {test_string[0]}')\n",
    "print(f'The last 5 characters of test_string are : {test_string[-5:]}')"
   ]
  },
  {
   "cell_type": "code",
   "execution_count": 8,
   "id": "67c90365-dff9-4563-864b-d12abdae59dc",
   "metadata": {},
   "outputs": [
    {
     "data": {
      "text/plain": [
       "['This', 'is', 'a', 'sample', 'sentence.']"
      ]
     },
     "execution_count": 8,
     "metadata": {},
     "output_type": "execute_result"
    }
   ],
   "source": [
    "# you can split strings on any character, and you get a list back\n",
    "split_sentence_list = test_string.split(' ')\n",
    "split_sentence_list  # remember in a Jupyter cell the last value you executed is displayed"
   ]
  },
  {
   "cell_type": "code",
   "execution_count": 9,
   "id": "2ab8d62f-e239-48f8-8cb5-4d0573c826c4",
   "metadata": {
    "tags": []
   },
   "outputs": [
    {
     "data": {
      "text/plain": [
       "['THIS', 'IS', 'A', 'SAMPLE', 'SENTENCE.']"
      ]
     },
     "execution_count": 9,
     "metadata": {},
     "output_type": "execute_result"
    }
   ],
   "source": [
    "# for loops can be done in-place with python's \"list comprehension\"\n",
    "loud_sentence_list = [s.upper() for s in split_sentence_list ]\n",
    "loud_sentence_list"
   ]
  },
  {
   "cell_type": "code",
   "execution_count": 57,
   "id": "b1ca9b42-9fd8-47a3-8d85-7b38115448ef",
   "metadata": {},
   "outputs": [
    {
     "data": {
      "text/plain": [
       "'THIS ** IS ** A ** SAMPLE ** SENTENCE.'"
      ]
     },
     "execution_count": 57,
     "metadata": {},
     "output_type": "execute_result"
    }
   ],
   "source": [
    "# the string function join will put together everything in a list with the chosen string in between\n",
    "# in your assignment you'd join with spaces in the middle instead of what I do with two asterisks and spaces below\n",
    "' ** '.join(loud_sentence_list)"
   ]
  },
  {
   "cell_type": "markdown",
   "id": "e790e8d1-6358-410a-b7eb-7bfe281168c6",
   "metadata": {},
   "source": [
    "### Exercise 1 Assignment: Take the following paragraph, and fix the text.  \n",
    "* Hints: copy the raw text below and paste into a cell where you assign it to a string\n",
    "* Split it on the punctuation and save it as a list\n",
    "* Take the resulting list and fix the capitalization, sentence by sentence\n",
    "* Put the text back together and print it"
   ]
  },
  {
   "cell_type": "raw",
   "id": "ca34f8d1-23b9-45cf-9f9a-079393112993",
   "metadata": {},
   "source": [
    "'IT is a PErIOd of civil war. RebEl spaceshIPs, StrikinG FrOM A hiDdEn base, HAVe WOn their FiRst vIctory AGaiNst The Evil GalactIc EmpiRE. DuRIng THe baTtle, ReBEL spiES managed to sTeaL SecreT plaNs tO tHe EmpIre’s ultimate wEapON, THE DEATH STAR, a space sTaTion wIth eNOugH POwer TO deStRoy aN EntiRe planeT.'"
   ]
  },
  {
   "cell_type": "code",
   "execution_count": 5,
   "id": "697d91e1-0560-4aac-85cd-2cc0218d5c22",
   "metadata": {},
   "outputs": [],
   "source": [
    "test_string = 'IT is a PErIOd of civil war. RebEl spaceshIPs, StrikinG FrOM A hiDdEn base, HAVe WOn their FiRst vIctory AGaiNst The Evil GalactIc EmpiRE. DuRIng THe baTtle, ReBEL spiES managed to sTeaL SecreT plaNs tO tHe EmpIre’s ultimate wEapON, THE DEATH STAR, a space sTaTion wIth eNOugH POwer TO deStRoy aN EntiRe planeT.'"
   ]
  },
  {
   "cell_type": "code",
   "execution_count": 15,
   "id": "78e91676-94dd-4e95-94b5-5a6f4045ae15",
   "metadata": {},
   "outputs": [
    {
     "data": {
      "text/plain": [
       "['IT is a PErIOd of civil war',\n",
       " 'RebEl spaceshIPs, StrikinG FrOM A hiDdEn base, HAVe WOn their FiRst vIctory AGaiNst The Evil GalactIc EmpiRE',\n",
       " 'DuRIng THe baTtle, ReBEL spiES managed to sTeaL SecreT plaNs tO tHe EmpIre’s ultimate wEapON, THE DEATH STAR, a space sTaTion wIth eNOugH POwer TO deStRoy aN EntiRe planeT',\n",
       " '']"
      ]
     },
     "execution_count": 15,
     "metadata": {},
     "output_type": "execute_result"
    }
   ],
   "source": [
    "sentence_list = [s.strip() for s in test_string.split('.')]\n",
    "sentence_list"
   ]
  },
  {
   "cell_type": "code",
   "execution_count": 19,
   "id": "af9871ea-191d-41af-b5cb-d866f6bb33dd",
   "metadata": {},
   "outputs": [
    {
     "data": {
      "text/plain": [
       "[0, 1, 2, 3, 4, 5, 6, 7, 8, 9]"
      ]
     },
     "execution_count": 19,
     "metadata": {},
     "output_type": "execute_result"
    }
   ],
   "source": [
    "list(range(10))"
   ]
  },
  {
   "cell_type": "code",
   "execution_count": 20,
   "id": "34574c43-bef5-4e8d-872e-7c34e048bbd4",
   "metadata": {},
   "outputs": [
    {
     "name": "stdout",
     "output_type": "stream",
     "text": [
      "0\n",
      "1\n",
      "4\n",
      "9\n",
      "16\n",
      "25\n",
      "36\n",
      "49\n",
      "64\n",
      "81\n"
     ]
    }
   ],
   "source": [
    "for i in range(10):\n",
    "    print(i*i)"
   ]
  },
  {
   "cell_type": "code",
   "execution_count": 18,
   "id": "d8c02e5a-805c-446d-8710-a984fb932f2d",
   "metadata": {},
   "outputs": [
    {
     "data": {
      "text/plain": [
       "['It is a period of civil war',\n",
       " 'Rebel spaceships, striking from a hidden base, have won their first victory against the evil galactic empire',\n",
       " 'During the battle, rebel spies managed to steal secret plans to the empire’s ultimate weapon, the death star, a space station with enough power to destroy an entire planet',\n",
       " '']"
      ]
     },
     "execution_count": 18,
     "metadata": {},
     "output_type": "execute_result"
    }
   ],
   "source": [
    "result = []\n",
    "for s in sentence_list:\n",
    "    result.append( s.capitalize() )\n",
    "result\n"
   ]
  },
  {
   "cell_type": "code",
   "execution_count": 22,
   "id": "5adb9292-b579-49a0-bebb-11ef8afc112f",
   "metadata": {},
   "outputs": [
    {
     "data": {
      "text/plain": [
       "['It is a period of civil war',\n",
       " 'Rebel spaceships, striking from a hidden base, have won their first victory against the evil galactic empire',\n",
       " 'During the battle, rebel spies managed to steal secret plans to the empire’s ultimate weapon, the death star, a space station with enough power to destroy an entire planet',\n",
       " '']"
      ]
     },
     "execution_count": 22,
     "metadata": {},
     "output_type": "execute_result"
    }
   ],
   "source": [
    "fixed_list = [ s.capitalize() for s in sentence_list ]\n",
    "fixed_list"
   ]
  },
  {
   "cell_type": "code",
   "execution_count": 26,
   "id": "8166cdf9-5c95-42d7-8056-eb3bf303979b",
   "metadata": {},
   "outputs": [
    {
     "data": {
      "text/plain": [
       "'It is a period of civil war. Rebel spaceships, striking from a hidden base, have won their first victory against the evil galactic empire. During the battle, rebel spies managed to steal secret plans to the empire’s ultimate weapon, the death star, a space station with enough power to destroy an entire planet.'"
      ]
     },
     "execution_count": 26,
     "metadata": {},
     "output_type": "execute_result"
    }
   ],
   "source": [
    "'. '.join(fixed_list).strip()"
   ]
  },
  {
   "cell_type": "code",
   "execution_count": 29,
   "id": "703416ff-2c62-4065-b517-ea0293eb6896",
   "metadata": {},
   "outputs": [
    {
     "data": {
      "text/plain": [
       "'  hi  !'"
      ]
     },
     "execution_count": 29,
     "metadata": {},
     "output_type": "execute_result"
    }
   ],
   "source": [
    "spacy_string = '  hi  !  '\n",
    "spacy_string."
   ]
  },
  {
   "cell_type": "raw",
   "id": "da429c1d-047c-4e12-8c78-73c516324f18",
   "metadata": {},
   "source": [
    "# here's how I made the string - from the original correct text, which I assigned to the variable 'preamble'\n",
    "# random.random() returns a random number between 0 and 1\n",
    "import random  \n",
    "''.join([s.upper() if random.random() > 0.7 else s for s in preamble])"
   ]
  },
  {
   "cell_type": "markdown",
   "id": "a3d58f5d-2995-4c44-94ac-06c7fddda263",
   "metadata": {},
   "source": [
    "---\n",
    "### Exercise 2 - functions and timing, making a simple clock \n",
    "* Make a function that returns the current date and time as a string, e.g. 'Fri Jun 10 22:10:00 2022'\n",
    "  * you will need to either `import time` or `import datetime`\n",
    "  * datetime is easier - see the notebook we did in class\n",
    "* Make a loop that prints the time every second for 10 seconds\n",
    "  * try it both as a for loop and as a list comprehension\n",
    "  * try it both with regular `print(string)` statements, and with `print(string, end=('\\r')` statements "
   ]
  },
  {
   "cell_type": "code",
   "execution_count": 30,
   "id": "6aba8927-7162-4108-b379-177821cab722",
   "metadata": {},
   "outputs": [],
   "source": [
    "import time"
   ]
  },
  {
   "cell_type": "code",
   "execution_count": 31,
   "id": "32554543-d521-4cb2-83d3-4f86e2e14794",
   "metadata": {},
   "outputs": [
    {
     "data": {
      "text/plain": [
       "'Mon Jun 20 17:26:56 2022'"
      ]
     },
     "execution_count": 31,
     "metadata": {},
     "output_type": "execute_result"
    }
   ],
   "source": [
    "time.asctime()"
   ]
  },
  {
   "cell_type": "code",
   "execution_count": 35,
   "id": "ca0ac178-9b89-4cd1-b438-17e0a2b0e04f",
   "metadata": {},
   "outputs": [
    {
     "name": "stdout",
     "output_type": "stream",
     "text": [
      "Mon Jun 20 17:29:18 2022\r"
     ]
    }
   ],
   "source": [
    "for i in range(10):\n",
    "    print(time.asctime(), end='\\r')\n",
    "    time.sleep(1)"
   ]
  },
  {
   "cell_type": "code",
   "execution_count": 48,
   "id": "397d2084-a12e-4213-bb4c-c9931a53d778",
   "metadata": {},
   "outputs": [
    {
     "data": {
      "text/plain": [
       "(2, 3, 5)"
      ]
     },
     "execution_count": 48,
     "metadata": {},
     "output_type": "execute_result"
    }
   ],
   "source": [
    "x = 2, 3, 5\n",
    "x"
   ]
  },
  {
   "cell_type": "code",
   "execution_count": 46,
   "id": "40658fdd-79bf-433b-98c8-5ba61e5bdc6d",
   "metadata": {},
   "outputs": [
    {
     "ename": "TypeError",
     "evalue": "'tuple' object does not support item assignment",
     "output_type": "error",
     "traceback": [
      "\u001b[1;31m---------------------------------------------------------------------------\u001b[0m",
      "\u001b[1;31mTypeError\u001b[0m                                 Traceback (most recent call last)",
      "Input \u001b[1;32mIn [46]\u001b[0m, in \u001b[0;36m<cell line: 1>\u001b[1;34m()\u001b[0m\n\u001b[1;32m----> 1\u001b[0m x[\u001b[38;5;241m0\u001b[39m]\u001b[38;5;241m=\u001b[39m\u001b[38;5;241m4\u001b[39m\n",
      "\u001b[1;31mTypeError\u001b[0m: 'tuple' object does not support item assignment"
     ]
    }
   ],
   "source": [
    "x[0]=4"
   ]
  },
  {
   "cell_type": "code",
   "execution_count": 41,
   "id": "af9bc04d-be46-47ab-8ae4-1114a7a05293",
   "metadata": {},
   "outputs": [
    {
     "data": {
      "text/plain": [
       "[2, 3]"
      ]
     },
     "execution_count": 41,
     "metadata": {},
     "output_type": "execute_result"
    }
   ],
   "source": [
    "y = [2, 3]\n",
    "y"
   ]
  },
  {
   "cell_type": "code",
   "execution_count": 45,
   "id": "d4bba5ea-31e4-45ba-ba6e-e60d627eac1d",
   "metadata": {},
   "outputs": [
    {
     "data": {
      "text/plain": [
       "[4, 3]"
      ]
     },
     "execution_count": 45,
     "metadata": {},
     "output_type": "execute_result"
    }
   ],
   "source": [
    "y[0] = 4\n",
    "y"
   ]
  },
  {
   "cell_type": "markdown",
   "id": "63d2ba66-89c7-43be-854f-1e928ec1d164",
   "metadata": {},
   "source": [
    "---\n",
    "### Exercise 3 - Using numpy and making your own functions - calculations on circles\n",
    "* import numpy as np and use np.pi in your calculations\n",
    "* make two functions that each take a radius as input **don't forget the colon and four spaces**\n",
    "  * area(radius) should return pi * radius ** 2 (** is how you raise to a power in python)  \n",
    "  * and circumference(radius) should return 2 * pi * radius\n",
    "* make a list of the areas of circles with radii from 1 to 10"
   ]
  },
  {
   "cell_type": "code",
   "execution_count": 49,
   "id": "5c70c02d-6af4-4e7b-8bbc-ba17bc5f9b3b",
   "metadata": {},
   "outputs": [],
   "source": [
    "# importing a library with a nickname\n",
    "import numpy as np"
   ]
  },
  {
   "cell_type": "code",
   "execution_count": null,
   "id": "a87958cb-3132-42ae-bc43-c67c0837a114",
   "metadata": {},
   "outputs": [],
   "source": [
    " np."
   ]
  },
  {
   "cell_type": "code",
   "execution_count": 50,
   "id": "d252bd29-edee-4c7d-a182-88a3c96e4955",
   "metadata": {},
   "outputs": [
    {
     "data": {
      "text/plain": [
       "3.141592653589793"
      ]
     },
     "execution_count": 50,
     "metadata": {},
     "output_type": "execute_result"
    }
   ],
   "source": [
    "# getting the value of pi that is part of numpy\n",
    "np.pi"
   ]
  },
  {
   "cell_type": "code",
   "execution_count": 51,
   "id": "637c3d12-9f48-413c-9735-9281d7f0dd8d",
   "metadata": {},
   "outputs": [],
   "source": [
    "# general format of functions \n",
    "def test_function(input=None):\n",
    "    print(f'Input was: {input}')"
   ]
  },
  {
   "cell_type": "code",
   "execution_count": 53,
   "id": "690544c3-578f-49ca-ac92-4ae9e47b5cd6",
   "metadata": {},
   "outputs": [
    {
     "name": "stdout",
     "output_type": "stream",
     "text": [
      "Input was: hello\n"
     ]
    }
   ],
   "source": [
    "# executing a function\n",
    "test_function('hello')"
   ]
  },
  {
   "cell_type": "code",
   "execution_count": 61,
   "id": "b4997ec5-7b8b-4ce6-8d61-5118c718bcef",
   "metadata": {},
   "outputs": [
    {
     "name": "stdout",
     "output_type": "stream",
     "text": [
      "Input was: hello\n"
     ]
    }
   ],
   "source": [
    "test_result = test_function('hello')"
   ]
  },
  {
   "cell_type": "code",
   "execution_count": 75,
   "id": "19e2d465-2bf1-48b6-aacc-af6105c9cb93",
   "metadata": {},
   "outputs": [
    {
     "name": "stdout",
     "output_type": "stream",
     "text": [
      "True\n"
     ]
    }
   ],
   "source": [
    "if test_result is None:\n",
    "    print('True')"
   ]
  },
  {
   "cell_type": "code",
   "execution_count": 56,
   "id": "9516b584-ccff-42da-bef8-965e180eab40",
   "metadata": {},
   "outputs": [],
   "source": [
    "def area(radius):\n",
    "    return np.pi * radius ** 2"
   ]
  },
  {
   "cell_type": "code",
   "execution_count": 57,
   "id": "be4b39e0-6979-4b58-b210-7e07cffbaa00",
   "metadata": {},
   "outputs": [
    {
     "data": {
      "text/plain": [
       "314.1592653589793"
      ]
     },
     "execution_count": 57,
     "metadata": {},
     "output_type": "execute_result"
    }
   ],
   "source": [
    "area(10)"
   ]
  },
  {
   "cell_type": "code",
   "execution_count": 58,
   "id": "0b94bc0a-818f-4d87-8c21-139cbd26ba3b",
   "metadata": {},
   "outputs": [
    {
     "data": {
      "text/plain": [
       "12.566370614359172"
      ]
     },
     "execution_count": 58,
     "metadata": {},
     "output_type": "execute_result"
    }
   ],
   "source": [
    "test_area = area(2)\n",
    "test_area"
   ]
  },
  {
   "cell_type": "markdown",
   "id": "d7b15d8c-4e50-462a-8b1a-6d921e3e52be",
   "metadata": {},
   "source": [
    "---\n",
    "### Excercise 4 - Using try and except - catch errors in your code or the way it is used\n",
    "#### it's like the if/else logic, but for errors that stop the code\n",
    "* Make a divide function - divide(x,y) that returns x/y\n",
    "* check that it works, and then execute it with y=0\n",
    "  * you will get a ZeroDivisionError, which will stop a program's execution\n",
    "* now add the try/catch logic to your function\n",
    "  * instead of finding quotient = x/y, put that part in a `try:` block\n",
    "  * in your `except:` block, trap the ZeroDivisionError and print that you had an error \n",
    "* check that your divide function works with zero and regular numbers\n"
   ]
  },
  {
   "cell_type": "code",
   "execution_count": null,
   "id": "ca272bc9-c7c8-4e4f-b6cc-36affd576e3e",
   "metadata": {},
   "outputs": [],
   "source": []
  },
  {
   "cell_type": "code",
   "execution_count": null,
   "id": "f4dac929-6504-46fd-8142-a03ec9404b49",
   "metadata": {},
   "outputs": [],
   "source": []
  },
  {
   "cell_type": "code",
   "execution_count": null,
   "id": "6906fa46-8e0a-4bf5-bd6f-3c68f42c80fe",
   "metadata": {},
   "outputs": [],
   "source": []
  },
  {
   "cell_type": "markdown",
   "id": "cf990f8a-2a37-4a4c-b9a4-0d265c9e90f0",
   "metadata": {},
   "source": [
    "### Non-Excercise 5 - most everything you need to know about f strings and printing\n",
    "* some history is here: https://realpython.com/python-f-strings/"
   ]
  },
  {
   "cell_type": "code",
   "execution_count": 32,
   "id": "050674d9-4174-403f-b4b7-b1467f7d2af2",
   "metadata": {},
   "outputs": [],
   "source": [
    "import random "
   ]
  },
  {
   "cell_type": "code",
   "execution_count": 33,
   "id": "bbae1e55-3bd7-4dea-84fd-bea7220913a5",
   "metadata": {},
   "outputs": [
    {
     "data": {
      "text/plain": [
       "[8.2, 5.8424, 4.94411, 7.8318, 9.879440719]"
      ]
     },
     "execution_count": 33,
     "metadata": {},
     "output_type": "execute_result"
    }
   ],
   "source": [
    "# python lets you round numbers with the round(number, decimal_places) function\n",
    "numbers = [round(10 * random.random(), random.randint(0, 10)) for i in range(5)]\n",
    "numbers"
   ]
  },
  {
   "cell_type": "code",
   "execution_count": 65,
   "id": "182a2565-3c73-430c-935b-2abac682ee51",
   "metadata": {},
   "outputs": [
    {
     "data": {
      "text/plain": [
       "'{numbers[0]} {numbers[1]} {numbers[2]} {numbers[3]} {numbers[4]}'"
      ]
     },
     "execution_count": 65,
     "metadata": {},
     "output_type": "execute_result"
    }
   ],
   "source": [
    "# cheat to give myself a string to paste in the print statements below \n",
    "' '.join(['{numbers['+ str(ix)+ ']}' for ix, n in enumerate(numbers)])"
   ]
  },
  {
   "cell_type": "code",
   "execution_count": 68,
   "id": "2d0b9b7f-a2bd-4d56-b202-b13bbbe0a307",
   "metadata": {},
   "outputs": [
    {
     "name": "stdout",
     "output_type": "stream",
     "text": [
      "As default floats, no control on format:   8.2 5.8424 4.94411 7.8318 9.879440719\n",
      "As floats with 3 places after the decimal: 8.200 5.842 4.944 7.832 9.879\n",
      "As increasing decimal floats:              8 5.8 4.94 7.832 9.8794\n",
      "As floats in 6 digits of precision:        8.200000 5.842400 4.944110 7.831800 9.879441\n",
      "As floats in 8 spaces but fixed precision:        8      5.8     4.94    7.832   9.8794\n",
      "As above but align right:                  8        5.8      4.94     7.832    9.8794  \n"
     ]
    }
   ],
   "source": [
    "# a whole bunch of float formatting - you use :, (number of digits total).(number of digits after decimal) and the letter f for floats\n",
    "print(f'As default floats, no control on format:   {numbers[0]} {numbers[1]} {numbers[2]} {numbers[3]} {numbers[4]}')\n",
    "print(f'As floats with 3 places after the decimal: {numbers[0]:.3f} {numbers[1]:.3f} {numbers[2]:.3f} {numbers[3]:.3f} {numbers[4]:.3f}')\n",
    "print(f'As increasing decimal floats:              {numbers[0]:.0f} {numbers[1]:.1f} {numbers[2]:.2f} {numbers[3]:.3f} {numbers[4]:.4f}')\n",
    "print(f'As floats in 6 digits of precision:        {numbers[0]:6f} {numbers[1]:6f} {numbers[2]:6f} {numbers[3]:6f} {numbers[4]:6f}')\n",
    "print(f'As floats in 8 spaces but fixed precision: {numbers[0]:8.0f} {numbers[1]:8.1f} {numbers[2]:8.2f} {numbers[3]:8.3f} {numbers[4]:8.4f}')\n",
    "print(f'As above but align right:                  {numbers[0]:<8.0f} {numbers[1]:<8.1f} {numbers[2]:<8.2f} {numbers[3]:<8.3f} {numbers[4]:<8.4f}')"
   ]
  },
  {
   "cell_type": "code",
   "execution_count": 63,
   "id": "937a9314-3461-4be1-9bca-95949a35a959",
   "metadata": {},
   "outputs": [
    {
     "data": {
      "text/plain": [
       "[-55, 1, 101, 3398, 45691]"
      ]
     },
     "execution_count": 63,
     "metadata": {},
     "output_type": "execute_result"
    }
   ],
   "source": [
    "# some integers\n",
    "ints = [-55, 1, 101, 3398, 45691]\n",
    "ints"
   ]
  },
  {
   "cell_type": "code",
   "execution_count": 64,
   "id": "634ebdae-8461-4335-92a5-28461090cbe9",
   "metadata": {},
   "outputs": [
    {
     "name": "stdout",
     "output_type": "stream",
     "text": [
      "ints, no control on format:          -55 1 101 3398 45691\n",
      "ints, 10 fixed spaces:                      -55          1        101       3398      45691\n",
      "ints, 10 fixed spaces, align right:  -55        1          101        3398       45691     \n"
     ]
    }
   ],
   "source": [
    "# some integer formatting - you use :, number of digits and the letter d for integers\n",
    "print(f'ints, no control on format:          {ints[0]} {ints[1]} {ints[2]} {ints[3]} {ints[4]}')\n",
    "print(f'ints, 10 fixed spaces:               {ints[0]:10d} {ints[1]:10d} {ints[2]:10d} {ints[3]:10d} {ints[4]:10d}')\n",
    "print(f'ints, 10 fixed spaces, align right:  {ints[0]:<10d} {ints[1]:<10d} {ints[2]:<10d} {ints[3]:<10d} {ints[4]:<10d}')"
   ]
  },
  {
   "cell_type": "code",
   "execution_count": null,
   "id": "99dbe723-9c08-4c6e-ad95-479c099069ca",
   "metadata": {},
   "outputs": [],
   "source": []
  }
 ],
 "metadata": {
  "kernelspec": {
   "display_name": "Python 3 (ipykernel)",
   "language": "python",
   "name": "python3"
  },
  "language_info": {
   "codemirror_mode": {
    "name": "ipython",
    "version": 3
   },
   "file_extension": ".py",
   "mimetype": "text/x-python",
   "name": "python",
   "nbconvert_exporter": "python",
   "pygments_lexer": "ipython3",
   "version": "3.9.5"
  }
 },
 "nbformat": 4,
 "nbformat_minor": 5
}
