{
 "cells": [
  {
   "cell_type": "markdown",
   "id": "c5280ede-f9a8-41a6-98a9-4706dce3f13e",
   "metadata": {},
   "source": [
    "## Week one python homework - 20220612 CJH\n",
    "---"
   ]
  },
  {
   "cell_type": "markdown",
   "id": "6127bef3-0b83-4cff-bfa0-0df095e8a376",
   "metadata": {
    "tags": []
   },
   "source": [
    "### Exercise 1 Background and hints - working with strings and lists together\n",
    "* You can treat strings like lists\n",
    "* You can break strings apart into lists, usually on puncuation"
   ]
  },
  {
   "cell_type": "code",
   "execution_count": 1,
   "id": "0425bb21-6529-4033-9f8b-3de56d6861c2",
   "metadata": {},
   "outputs": [],
   "source": [
    "# strings can actually be treated like lists of characters"
   ]
  },
  {
   "cell_type": "code",
   "execution_count": 2,
   "id": "366b95cb-8048-4629-bef3-e81e5851941a",
   "metadata": {},
   "outputs": [],
   "source": [
    "test_string = 'This is a sample sentence.'"
   ]
  },
  {
   "cell_type": "code",
   "execution_count": 58,
   "id": "9d3035a9-e544-424c-ad92-d07014e9b5a1",
   "metadata": {},
   "outputs": [
    {
     "name": "stdout",
     "output_type": "stream",
     "text": [
      "The first character of test_string is : T\n",
      "The last 5 characters of test_string are : ence.\n"
     ]
    }
   ],
   "source": [
    "# you can index the test string same as a list - just FYI\n",
    "print(f'The first character of test_string is : {test_string[0]}')\n",
    "print(f'The last 5 characters of test_string are : {test_string[-5:]}')"
   ]
  },
  {
   "cell_type": "code",
   "execution_count": 8,
   "id": "67c90365-dff9-4563-864b-d12abdae59dc",
   "metadata": {},
   "outputs": [
    {
     "data": {
      "text/plain": [
       "['This', 'is', 'a', 'sample', 'sentence.']"
      ]
     },
     "execution_count": 8,
     "metadata": {},
     "output_type": "execute_result"
    }
   ],
   "source": [
    "# you can split strings on any character, and you get a list back\n",
    "split_sentence_list = test_string.split(' ')\n",
    "split_sentence_list  # remember in a Jupyter cell the last value you executed is displayed"
   ]
  },
  {
   "cell_type": "code",
   "execution_count": 9,
   "id": "2ab8d62f-e239-48f8-8cb5-4d0573c826c4",
   "metadata": {
    "tags": []
   },
   "outputs": [
    {
     "data": {
      "text/plain": [
       "['THIS', 'IS', 'A', 'SAMPLE', 'SENTENCE.']"
      ]
     },
     "execution_count": 9,
     "metadata": {},
     "output_type": "execute_result"
    }
   ],
   "source": [
    "# for loops can be done in-place with python's \"list comprehension\"\n",
    "loud_sentence_list = [s.upper() for s in split_sentence_list ]\n",
    "loud_sentence_list"
   ]
  },
  {
   "cell_type": "code",
   "execution_count": 57,
   "id": "b1ca9b42-9fd8-47a3-8d85-7b38115448ef",
   "metadata": {},
   "outputs": [
    {
     "data": {
      "text/plain": [
       "'THIS ** IS ** A ** SAMPLE ** SENTENCE.'"
      ]
     },
     "execution_count": 57,
     "metadata": {},
     "output_type": "execute_result"
    }
   ],
   "source": [
    "# the string function join will put together everything in a list with the chosen string in between\n",
    "# in your assignment you'd join with spaces in the middle instead of what I do with two asterisks and spaces below\n",
    "' ** '.join(loud_sentence_list)"
   ]
  },
  {
   "cell_type": "markdown",
   "id": "e790e8d1-6358-410a-b7eb-7bfe281168c6",
   "metadata": {},
   "source": [
    "### Exercise 1 Assignment: Take the following paragraph, and fix the text.  \n",
    "* Hints: copy the raw text below and paste into a cell where you assign it to a string\n",
    "* Split it on the punctuation and save it as a list\n",
    "* Take the resulting list and fix the capitalization, sentence by sentence\n",
    "* Put the text back together and print it"
   ]
  },
  {
   "cell_type": "raw",
   "id": "ca34f8d1-23b9-45cf-9f9a-079393112993",
   "metadata": {},
   "source": [
    "'IT is a PErIOd of civil war. RebEl spaceshIPs, StrikinG FrOM A hiDdEn base, HAVe WOn their FiRst vIctory AGaiNst The Evil GalactIc EmpiRE. DuRIng THe baTtle, ReBEL spiES managed to sTeaL SecreT plaNs tO tHe EmpIre’s ultimate wEapON, THE DEATH STAR, a space sTaTion wIth eNOugH POwer TO deStRoy aN EntiRe planeT.'"
   ]
  },
  {
   "cell_type": "code",
   "execution_count": null,
   "id": "697d91e1-0560-4aac-85cd-2cc0218d5c22",
   "metadata": {},
   "outputs": [],
   "source": []
  },
  {
   "cell_type": "code",
   "execution_count": null,
   "id": "bbaaace1-845c-489a-87a2-384ae130a034",
   "metadata": {},
   "outputs": [],
   "source": []
  },
  {
   "cell_type": "code",
   "execution_count": null,
   "id": "78e91676-94dd-4e95-94b5-5a6f4045ae15",
   "metadata": {},
   "outputs": [],
   "source": []
  },
  {
   "cell_type": "code",
   "execution_count": null,
   "id": "27fc4d24-33a3-4da3-901a-68fc8c45d4e6",
   "metadata": {},
   "outputs": [],
   "source": []
  },
  {
   "cell_type": "code",
   "execution_count": null,
   "id": "5adb9292-b579-49a0-bebb-11ef8afc112f",
   "metadata": {},
   "outputs": [],
   "source": []
  },
  {
   "cell_type": "raw",
   "id": "da429c1d-047c-4e12-8c78-73c516324f18",
   "metadata": {},
   "source": [
    "# here's how I made the string - from the original correct text, which I assigned to the variable 'preamble'\n",
    "# random.random() returns a random number between 0 and 1\n",
    "import random  \n",
    "''.join([s.upper() if random.random() > 0.7 else s for s in preamble])"
   ]
  },
  {
   "cell_type": "markdown",
   "id": "a3d58f5d-2995-4c44-94ac-06c7fddda263",
   "metadata": {},
   "source": [
    "---\n",
    "### Exercise 2 - functions and timing, making a simple clock \n",
    "* Make a function that returns the current date and time as a string, e.g. 'Fri Jun 10 22:10:00 2022'\n",
    "  * you will need to either `import time` or `import datetime`\n",
    "  * datetime is easier - see the notebook we did in class\n",
    "* Make a loop that prints the time every second for 10 seconds\n",
    "  * try it both as a for loop and as a list comprehension\n",
    "  * try it both with regular `print(string)` statements, and with `print(string, end=('\\r')` statements "
   ]
  },
  {
   "cell_type": "code",
   "execution_count": 43,
   "id": "6aba8927-7162-4108-b379-177821cab722",
   "metadata": {},
   "outputs": [],
   "source": [
    "import datetime"
   ]
  },
  {
   "cell_type": "code",
   "execution_count": null,
   "id": "32554543-d521-4cb2-83d3-4f86e2e14794",
   "metadata": {},
   "outputs": [],
   "source": []
  },
  {
   "cell_type": "code",
   "execution_count": null,
   "id": "ca0ac178-9b89-4cd1-b438-17e0a2b0e04f",
   "metadata": {},
   "outputs": [],
   "source": []
  },
  {
   "cell_type": "code",
   "execution_count": null,
   "id": "397d2084-a12e-4213-bb4c-c9931a53d778",
   "metadata": {},
   "outputs": [],
   "source": []
  },
  {
   "cell_type": "markdown",
   "id": "63d2ba66-89c7-43be-854f-1e928ec1d164",
   "metadata": {},
   "source": [
    "---\n",
    "### Exercise 3 - Using numpy and making your own functions - calculations on circles\n",
    "* import numpy as np and use np.pi in your calculations\n",
    "* make two functions that each take a radius as input **don't forget the colon and four spaces**\n",
    "  * area(radius) should return pi * radius ** 2 (** is how you raise to a power in python)  \n",
    "  * and circumference(radius) should return 2 * pi * radius\n",
    "* make a list of the areas of circles with radii from 1 to 10"
   ]
  },
  {
   "cell_type": "code",
   "execution_count": 51,
   "id": "5c70c02d-6af4-4e7b-8bbc-ba17bc5f9b3b",
   "metadata": {},
   "outputs": [],
   "source": [
    "# importing a library with a nickname\n",
    "import numpy as np"
   ]
  },
  {
   "cell_type": "code",
   "execution_count": 52,
   "id": "d252bd29-edee-4c7d-a182-88a3c96e4955",
   "metadata": {},
   "outputs": [
    {
     "data": {
      "text/plain": [
       "3.141592653589793"
      ]
     },
     "execution_count": 52,
     "metadata": {},
     "output_type": "execute_result"
    }
   ],
   "source": [
    "# getting the value of pi that is part of numpy\n",
    "np.pi"
   ]
  },
  {
   "cell_type": "code",
   "execution_count": 49,
   "id": "637c3d12-9f48-413c-9735-9281d7f0dd8d",
   "metadata": {},
   "outputs": [],
   "source": [
    "# general format of functions \n",
    "def test_function(input=None):\n",
    "    print(f'Input was: {input}')"
   ]
  },
  {
   "cell_type": "code",
   "execution_count": 56,
   "id": "690544c3-578f-49ca-ac92-4ae9e47b5cd6",
   "metadata": {},
   "outputs": [
    {
     "name": "stdout",
     "output_type": "stream",
     "text": [
      "Input was: None\n"
     ]
    }
   ],
   "source": [
    "# executing a function\n",
    "test_function()"
   ]
  },
  {
   "cell_type": "code",
   "execution_count": null,
   "id": "9516b584-ccff-42da-bef8-965e180eab40",
   "metadata": {},
   "outputs": [],
   "source": []
  },
  {
   "cell_type": "code",
   "execution_count": null,
   "id": "be4b39e0-6979-4b58-b210-7e07cffbaa00",
   "metadata": {},
   "outputs": [],
   "source": []
  },
  {
   "cell_type": "code",
   "execution_count": null,
   "id": "0b94bc0a-818f-4d87-8c21-139cbd26ba3b",
   "metadata": {},
   "outputs": [],
   "source": []
  },
  {
   "cell_type": "markdown",
   "id": "d7b15d8c-4e50-462a-8b1a-6d921e3e52be",
   "metadata": {},
   "source": [
    "---\n",
    "### Excercise 4 - Using try and except - catch errors in your code or the way it is used\n",
    "#### it's like the if/else logic, but for errors that stop the code\n",
    "* Make a divide function - divide(x,y) that returns x/y\n",
    "* check that it works, and then execute it with y=0\n",
    "  * you will get a ZeroDivisionError, which will stop a program's execution\n",
    "* now add the try/catch logic to your function\n",
    "  * instead of finding quotient = x/y, put that part in a `try:` block\n",
    "  * in your `except:` block, trap the ZeroDivisionError and print that you had an error \n",
    "* check that your divide function works with zero and regular numbers\n"
   ]
  },
  {
   "cell_type": "code",
   "execution_count": null,
   "id": "ca272bc9-c7c8-4e4f-b6cc-36affd576e3e",
   "metadata": {},
   "outputs": [],
   "source": []
  },
  {
   "cell_type": "code",
   "execution_count": null,
   "id": "f4dac929-6504-46fd-8142-a03ec9404b49",
   "metadata": {},
   "outputs": [],
   "source": []
  },
  {
   "cell_type": "code",
   "execution_count": null,
   "id": "6906fa46-8e0a-4bf5-bd6f-3c68f42c80fe",
   "metadata": {},
   "outputs": [],
   "source": []
  },
  {
   "cell_type": "markdown",
   "id": "cf990f8a-2a37-4a4c-b9a4-0d265c9e90f0",
   "metadata": {},
   "source": [
    "### Non-Excercise 5 - most everything you need to know about f strings and printing\n",
    "* some history is here: https://realpython.com/python-f-strings/"
   ]
  },
  {
   "cell_type": "code",
   "execution_count": 32,
   "id": "050674d9-4174-403f-b4b7-b1467f7d2af2",
   "metadata": {},
   "outputs": [],
   "source": [
    "import random "
   ]
  },
  {
   "cell_type": "code",
   "execution_count": 33,
   "id": "bbae1e55-3bd7-4dea-84fd-bea7220913a5",
   "metadata": {},
   "outputs": [
    {
     "data": {
      "text/plain": [
       "[8.2, 5.8424, 4.94411, 7.8318, 9.879440719]"
      ]
     },
     "execution_count": 33,
     "metadata": {},
     "output_type": "execute_result"
    }
   ],
   "source": [
    "# python lets you round numbers with the round(number, decimal_places) function\n",
    "numbers = [round(10 * random.random(), random.randint(0, 10)) for i in range(5)]\n",
    "numbers"
   ]
  },
  {
   "cell_type": "code",
   "execution_count": 65,
   "id": "182a2565-3c73-430c-935b-2abac682ee51",
   "metadata": {},
   "outputs": [
    {
     "data": {
      "text/plain": [
       "'{numbers[0]} {numbers[1]} {numbers[2]} {numbers[3]} {numbers[4]}'"
      ]
     },
     "execution_count": 65,
     "metadata": {},
     "output_type": "execute_result"
    }
   ],
   "source": [
    "# cheat to give myself a string to paste in the print statements below \n",
    "' '.join(['{numbers['+ str(ix)+ ']}' for ix, n in enumerate(numbers)])"
   ]
  },
  {
   "cell_type": "code",
   "execution_count": 68,
   "id": "2d0b9b7f-a2bd-4d56-b202-b13bbbe0a307",
   "metadata": {},
   "outputs": [
    {
     "name": "stdout",
     "output_type": "stream",
     "text": [
      "As default floats, no control on format:   8.2 5.8424 4.94411 7.8318 9.879440719\n",
      "As floats with 3 places after the decimal: 8.200 5.842 4.944 7.832 9.879\n",
      "As increasing decimal floats:              8 5.8 4.94 7.832 9.8794\n",
      "As floats in 6 digits of precision:        8.200000 5.842400 4.944110 7.831800 9.879441\n",
      "As floats in 8 spaces but fixed precision:        8      5.8     4.94    7.832   9.8794\n",
      "As above but align right:                  8        5.8      4.94     7.832    9.8794  \n"
     ]
    }
   ],
   "source": [
    "# a whole bunch of float formatting - you use :, (number of digits total).(number of digits after decimal) and the letter f for floats\n",
    "print(f'As default floats, no control on format:   {numbers[0]} {numbers[1]} {numbers[2]} {numbers[3]} {numbers[4]}')\n",
    "print(f'As floats with 3 places after the decimal: {numbers[0]:.3f} {numbers[1]:.3f} {numbers[2]:.3f} {numbers[3]:.3f} {numbers[4]:.3f}')\n",
    "print(f'As increasing decimal floats:              {numbers[0]:.0f} {numbers[1]:.1f} {numbers[2]:.2f} {numbers[3]:.3f} {numbers[4]:.4f}')\n",
    "print(f'As floats in 6 digits of precision:        {numbers[0]:6f} {numbers[1]:6f} {numbers[2]:6f} {numbers[3]:6f} {numbers[4]:6f}')\n",
    "print(f'As floats in 8 spaces but fixed precision: {numbers[0]:8.0f} {numbers[1]:8.1f} {numbers[2]:8.2f} {numbers[3]:8.3f} {numbers[4]:8.4f}')\n",
    "print(f'As above but align right:                  {numbers[0]:<8.0f} {numbers[1]:<8.1f} {numbers[2]:<8.2f} {numbers[3]:<8.3f} {numbers[4]:<8.4f}')"
   ]
  },
  {
   "cell_type": "code",
   "execution_count": 63,
   "id": "937a9314-3461-4be1-9bca-95949a35a959",
   "metadata": {},
   "outputs": [
    {
     "data": {
      "text/plain": [
       "[-55, 1, 101, 3398, 45691]"
      ]
     },
     "execution_count": 63,
     "metadata": {},
     "output_type": "execute_result"
    }
   ],
   "source": [
    "# some integers\n",
    "ints = [-55, 1, 101, 3398, 45691]\n",
    "ints"
   ]
  },
  {
   "cell_type": "code",
   "execution_count": 64,
   "id": "634ebdae-8461-4335-92a5-28461090cbe9",
   "metadata": {},
   "outputs": [
    {
     "name": "stdout",
     "output_type": "stream",
     "text": [
      "ints, no control on format:          -55 1 101 3398 45691\n",
      "ints, 10 fixed spaces:                      -55          1        101       3398      45691\n",
      "ints, 10 fixed spaces, align right:  -55        1          101        3398       45691     \n"
     ]
    }
   ],
   "source": [
    "# some integer formatting - you use :, number of digits and the letter d for integers\n",
    "print(f'ints, no control on format:          {ints[0]} {ints[1]} {ints[2]} {ints[3]} {ints[4]}')\n",
    "print(f'ints, 10 fixed spaces:               {ints[0]:10d} {ints[1]:10d} {ints[2]:10d} {ints[3]:10d} {ints[4]:10d}')\n",
    "print(f'ints, 10 fixed spaces, align right:  {ints[0]:<10d} {ints[1]:<10d} {ints[2]:<10d} {ints[3]:<10d} {ints[4]:<10d}')"
   ]
  },
  {
   "cell_type": "code",
   "execution_count": null,
   "id": "99dbe723-9c08-4c6e-ad95-479c099069ca",
   "metadata": {},
   "outputs": [],
   "source": []
  }
 ],
 "metadata": {
  "kernelspec": {
   "display_name": "Python 3 (ipykernel)",
   "language": "python",
   "name": "python3"
  },
  "language_info": {
   "codemirror_mode": {
    "name": "ipython",
    "version": 3
   },
   "file_extension": ".py",
   "mimetype": "text/x-python",
   "name": "python",
   "nbconvert_exporter": "python",
   "pygments_lexer": "ipython3",
   "version": "3.9.5"
  }
 },
 "nbformat": 4,
 "nbformat_minor": 5
}
