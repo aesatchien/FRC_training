{
 "cells": [
  {
   "cell_type": "markdown",
   "id": "1101fe65",
   "metadata": {},
   "source": [
    "## Quick Python tutorial - 20211215 CJH\n",
    "---"
   ]
  },
  {
   "cell_type": "markdown",
   "id": "e8626f4e",
   "metadata": {
    "tags": []
   },
   "source": [
    "### Jupyter notebook cells allow three kinds of input: code, markdown, and raw text\n",
    "* the following cell has examples of markdown format in a *raw text* cell"
   ]
  },
  {
   "cell_type": "raw",
   "id": "5bf9f7e4",
   "metadata": {
    "tags": []
   },
   "source": [
    "### This is Header 3\n",
    "#### This is Header 4\n",
    "\n",
    "Three dashes (---) gives you a horizontal line\n",
    "---\n",
    "* This starts a *bulletedlist* and **double asterisks** put text in bold\n",
    "  * You can also call out text as `code`"
   ]
  },
  {
   "cell_type": "markdown",
   "id": "a938b31d-55a6-46f7-a708-91ef7f6f2fef",
   "metadata": {
    "tags": []
   },
   "source": [
    "### This is Header 3\n",
    "#### This is Header 4\n",
    "---\n",
    "Three dashes (---) gives you a horizontal line\n",
    "\n",
    "* This starts a *bulletedlist* and **double asterisks** put text in bold\n",
    "  * You can also call out text as `code`"
   ]
  },
  {
   "cell_type": "markdown",
   "id": "9c587a11-9d8f-4575-80bc-05a369f50094",
   "metadata": {},
   "source": [
    "#### And you can embed images"
   ]
  },
  {
   "cell_type": "raw",
   "id": "5aa85c3b-8b1e-4362-adde-b0baaa8b146b",
   "metadata": {},
   "source": [
    "![alt text](https://www.python.org/static/community_logos/python-logo.png \"Title is Python Logo\") "
   ]
  },
  {
   "cell_type": "markdown",
   "id": "ebcd2384-9525-4f28-914a-df4ba7f0c1d0",
   "metadata": {},
   "source": [
    "![alt text](https://www.python.org/static/community_logos/python-logo.png \"Title is Python Logo\") "
   ]
  },
  {
   "cell_type": "markdown",
   "id": "e102dce6-588e-4835-9659-6b682bde42ec",
   "metadata": {},
   "source": [
    "### How to deal with Jupyter\n",
    "* SHIFT+ENTER executes a cell\n",
    "* CTRL+Z is undo, but it keeps a memory for each cell, which is kinda nice\n",
    "* ESC takes you out of a cell, and then you can\n",
    "  * m / r / y  covert a cell to markdown / raw / code (**c** can't be code because it is copy) \n",
    "  * a - add a cell before current\n",
    "  * b - add a cell after current\n",
    "  * c - copy current selected cells\n",
    "  * x - cut current selected cells\n",
    "  * v - paste what was cut/copied\n",
    "  * z - undo one of the other cut/copy/paste etc\n",
    "* If you aren't auto-closing [], '', \"\", {}, etc, change it on the settings\n",
    "  "
   ]
  },
  {
   "cell_type": "markdown",
   "id": "5a390843-332b-407e-bdb7-694a7960472c",
   "metadata": {},
   "source": [
    "#### Here is your stereotypical first line of code - the Hello World! statement"
   ]
  },
  {
   "cell_type": "code",
   "execution_count": 2,
   "id": "4b2b6529",
   "metadata": {},
   "outputs": [
    {
     "name": "stdout",
     "output_type": "stream",
     "text": [
      "Hello World!\n"
     ]
    }
   ],
   "source": [
    "print('Hello World!')"
   ]
  },
  {
   "cell_type": "markdown",
   "id": "a5718d7c",
   "metadata": {
    "tags": []
   },
   "source": [
    "### Comments\n",
    "* single line comments start with a #\n",
    "* you an put a # anywhere in a line and the rest of the line is a comment\n",
    "* multi-line comments aren't a thing but python ignores string literals that are not assigned to a variable so you can effectively start and end with three quotes \"\"\" or '''\n",
    "* \"\"\" is used for **doscstrings** and ''' is used for multi-line comments"
   ]
  },
  {
   "cell_type": "code",
   "execution_count": 2,
   "id": "06eff167",
   "metadata": {},
   "outputs": [
    {
     "data": {
      "text/plain": [
       "'\\nso is this, but you could actually assign it to a variable\\n'"
      ]
     },
     "execution_count": 2,
     "metadata": {},
     "output_type": "execute_result"
    }
   ],
   "source": [
    "# this is a comment\n",
    "x = 3  # now I'm going to mention why I set x equal to 3\n",
    "\n",
    "'''\n",
    "so is this, but you could actually assign it to a variable\n",
    "'''"
   ]
  },
  {
   "cell_type": "markdown",
   "id": "27fa362b",
   "metadata": {},
   "source": [
    "### Numbers\n",
    "* python has integers (3), floating point (3.1234) numbers and complex numbers (3 + 4j)\n",
    "* and booleans (True and False)\n",
    "* and **None**, which doesn't really have a good category"
   ]
  },
  {
   "cell_type": "code",
   "execution_count": 3,
   "id": "ef4c26f4",
   "metadata": {},
   "outputs": [
    {
     "data": {
      "text/plain": [
       "11.5"
      ]
     },
     "execution_count": 3,
     "metadata": {},
     "output_type": "execute_result"
    }
   ],
   "source": [
    "x = 4  # int\n",
    "y = 7.5  # float\n",
    "x + y  # python figures out what type the answer should be"
   ]
  },
  {
   "cell_type": "code",
   "execution_count": 4,
   "id": "6f556f72",
   "metadata": {},
   "outputs": [
    {
     "name": "stdout",
     "output_type": "stream",
     "text": [
      "Format string approach: x is <class 'int'>, y is <class 'float'>, x+y is <class 'float'>\n"
     ]
    }
   ],
   "source": [
    "# format strings are new in python 3.7 and are far better than the old ways of formatting\n",
    "print(f'Format string approach: x is {type(x)}, y is {type(y)}, x+y is {type(x+y)}')"
   ]
  },
  {
   "cell_type": "code",
   "execution_count": 5,
   "id": "7ba1634d",
   "metadata": {},
   "outputs": [
    {
     "data": {
      "text/plain": [
       "(3+4j)"
      ]
     },
     "execution_count": 5,
     "metadata": {},
     "output_type": "execute_result"
    }
   ],
   "source": [
    "3+4j"
   ]
  },
  {
   "cell_type": "markdown",
   "id": "5ea9f672-c94d-4012-ab81-c470fdc2de0d",
   "metadata": {
    "tags": []
   },
   "source": [
    "#### Exercise: set x=3 and y=4.  Find x+y, x-y, x times y, and x divided by y"
   ]
  },
  {
   "cell_type": "markdown",
   "id": "5b55f3cf-84f1-4929-b3d6-1d196682a2a0",
   "metadata": {
    "tags": []
   },
   "source": [
    "<details>\n",
    "<summary>Click here for answer</summary>\n",
    "x = 3; y = 4 <br>\n",
    "print('x plus y is ', x + y) <br>\n",
    "print('x minus y is ', x - y) <br>\n",
    "print('x times y is ', x * y) <br>\n",
    "print('x divided by y is ', x / y) <br>\n",
    "</details>"
   ]
  },
  {
   "cell_type": "code",
   "execution_count": 5,
   "id": "eb74def2-444a-4dd4-a60f-165363938240",
   "metadata": {
    "tags": []
   },
   "outputs": [],
   "source": [
    "# test your code here"
   ]
  },
  {
   "cell_type": "markdown",
   "id": "6ba05f64",
   "metadata": {},
   "source": [
    "### Strings\n",
    "A string in python is enclosed in single ' or double \" quotes"
   ]
  },
  {
   "cell_type": "code",
   "execution_count": 6,
   "id": "a566c081",
   "metadata": {},
   "outputs": [
    {
     "data": {
      "text/plain": [
       "'hello world'"
      ]
     },
     "execution_count": 6,
     "metadata": {},
     "output_type": "execute_result"
    }
   ],
   "source": [
    "string_1 = 'hello'\n",
    "string_2 = \"world\"\n",
    "string_1 + ' ' + string_2"
   ]
  },
  {
   "cell_type": "code",
   "execution_count": 7,
   "id": "0f15eca2",
   "metadata": {},
   "outputs": [
    {
     "data": {
      "text/plain": [
       "'HELLO'"
      ]
     },
     "execution_count": 7,
     "metadata": {},
     "output_type": "execute_result"
    }
   ],
   "source": [
    "string_1.upper()"
   ]
  },
  {
   "cell_type": "code",
   "execution_count": 8,
   "id": "264ba5ad",
   "metadata": {},
   "outputs": [
    {
     "data": {
      "text/plain": [
       "\u001b[1;31mDocstring:\u001b[0m\n",
       "S.startswith(prefix[, start[, end]]) -> bool\n",
       "\n",
       "Return True if S starts with the specified prefix, False otherwise.\n",
       "With optional start, test S beginning at that position.\n",
       "With optional end, stop comparing S at that position.\n",
       "prefix can also be a tuple of strings to try.\n",
       "\u001b[1;31mType:\u001b[0m      builtin_function_or_method\n"
      ]
     },
     "metadata": {},
     "output_type": "display_data"
    }
   ],
   "source": [
    "# strings have a lot of built in functions.  add a . at the end of the name and hit tab to see them all\n",
    "# don't know what a function does?  put a question mark at the end instead of () and python will return the docstring\n",
    "string_1.startswith?"
   ]
  },
  {
   "cell_type": "code",
   "execution_count": 9,
   "id": "f9d316b0",
   "metadata": {},
   "outputs": [
    {
     "data": {
      "text/plain": [
       "True"
      ]
     },
     "execution_count": 9,
     "metadata": {},
     "output_type": "execute_result"
    }
   ],
   "source": [
    "string_1.startswith('h', 0)"
   ]
  },
  {
   "cell_type": "markdown",
   "id": "a40ec3f2-bc80-4889-96b9-a13e395d41a1",
   "metadata": {
    "tags": []
   },
   "source": [
    "#### Exercise: make a string and have python tell you everything you can do to it"
   ]
  },
  {
   "cell_type": "code",
   "execution_count": 13,
   "id": "d9e76a0d-59ed-4fec-8cb9-8557be0a2032",
   "metadata": {},
   "outputs": [],
   "source": [
    "# test your code here"
   ]
  },
  {
   "cell_type": "markdown",
   "id": "dab51729-fdea-4f65-8595-f9185d629d4a",
   "metadata": {
    "tags": []
   },
   "source": [
    "#### Exercise\n",
    "* have python fix the capitalization in \"The Quick bRown foX jumped OVER the LaZy doGs\"\n",
    "* then have it convert it into a an article title"
   ]
  },
  {
   "cell_type": "markdown",
   "id": "ebfba03e-53e0-4f72-8b54-339cbc092f2d",
   "metadata": {
    "tags": []
   },
   "source": [
    "<details>\n",
    "<summary>Click here for answer</summary>\n",
    "test_string = \"The Quick bRown foX jumped OVER the LaZy doGs\" <br>\n",
    "test_string.capitalize()\n",
    "</details>"
   ]
  },
  {
   "cell_type": "code",
   "execution_count": 21,
   "id": "c0efd667-263d-434b-a8f9-b5f72049b0a6",
   "metadata": {
    "tags": []
   },
   "outputs": [],
   "source": [
    "# test your code here"
   ]
  },
  {
   "cell_type": "markdown",
   "id": "38505b84",
   "metadata": {},
   "source": [
    "### Lists\n",
    "* a collection of objects comma-seperarted inside []\n",
    "* one of the most useful and 'pythonic' aspects of the language\n",
    "* you can collect anything you want in a list\n",
    "* for loops are simpler in python than other languages because you can iterate over a list\n",
    "* you reference the ith elements with mylist[i] (starts at zero)"
   ]
  },
  {
   "cell_type": "code",
   "execution_count": 10,
   "id": "5d457884-27cc-492b-8f3a-02b11c189af3",
   "metadata": {},
   "outputs": [],
   "source": [
    "my_numeric_list = [1,2,3,4]\n",
    "my_string_list = ['a', 'b', 'c']"
   ]
  },
  {
   "cell_type": "code",
   "execution_count": 74,
   "id": "9d5f91d8-b3ea-4d51-a825-7bc72e0abc73",
   "metadata": {},
   "outputs": [
    {
     "data": {
      "text/plain": [
       "1"
      ]
     },
     "execution_count": 74,
     "metadata": {},
     "output_type": "execute_result"
    }
   ],
   "source": [
    "# lists are zero-indexed, and you can get single elements or ranges\n",
    "my_numeric_list[0]"
   ]
  },
  {
   "cell_type": "code",
   "execution_count": 76,
   "id": "66f9225a-4da8-42ff-9d60-4433b1cc26e7",
   "metadata": {},
   "outputs": [
    {
     "data": {
      "text/plain": [
       "[2, 3]"
      ]
     },
     "execution_count": 76,
     "metadata": {},
     "output_type": "execute_result"
    }
   ],
   "source": [
    "my_numeric_list[1:3]"
   ]
  },
  {
   "cell_type": "code",
   "execution_count": 11,
   "id": "a57efc55",
   "metadata": {},
   "outputs": [
    {
     "data": {
      "text/plain": [
       "[1, 2, 3, 4, 'a', 'b', 'c']"
      ]
     },
     "execution_count": 11,
     "metadata": {},
     "output_type": "execute_result"
    }
   ],
   "source": [
    "my_numeric_list + my_string_list"
   ]
  },
  {
   "cell_type": "code",
   "execution_count": 12,
   "id": "74d35d0b",
   "metadata": {},
   "outputs": [
    {
     "data": {
      "text/plain": [
       "4"
      ]
     },
     "execution_count": 12,
     "metadata": {},
     "output_type": "execute_result"
    }
   ],
   "source": [
    "# you often need to know the length of lists.  use len()\n",
    "len(my_numeric_list)"
   ]
  },
  {
   "cell_type": "markdown",
   "id": "3179126e",
   "metadata": {},
   "source": [
    "### Dictionaries\n",
    "* a key/value pair similar to a list but each value has a unique name\n",
    "* {key_1:value_1, key_2:value_2, ...}\n",
    "* like a list you can put whatever you want in the values and you can easily iterate over the keys or values\n",
    "* you access a value with the dict_name[key] format"
   ]
  },
  {
   "cell_type": "code",
   "execution_count": 13,
   "id": "c62a4384",
   "metadata": {},
   "outputs": [
    {
     "data": {
      "text/plain": [
       "'Cory'"
      ]
     },
     "execution_count": 13,
     "metadata": {},
     "output_type": "execute_result"
    }
   ],
   "source": [
    "# never name your dictionary 'dict'! you will get very strange behaviour\n",
    "my_dict = {'FIRST_NAME':'Cory', 'LAST_NAME':'Hill', 6:'The number six'}\n",
    "my_dict['FIRST_NAME']"
   ]
  },
  {
   "cell_type": "code",
   "execution_count": 14,
   "id": "407f812d",
   "metadata": {},
   "outputs": [
    {
     "data": {
      "text/plain": [
       "'The number six'"
      ]
     },
     "execution_count": 14,
     "metadata": {},
     "output_type": "execute_result"
    }
   ],
   "source": [
    "my_dict[6]"
   ]
  },
  {
   "cell_type": "code",
   "execution_count": 15,
   "id": "0cb31da4",
   "metadata": {},
   "outputs": [
    {
     "data": {
      "text/plain": [
       "dict_keys(['FIRST_NAME', 'LAST_NAME', 6])"
      ]
     },
     "execution_count": 15,
     "metadata": {},
     "output_type": "execute_result"
    }
   ],
   "source": [
    "my_dict.keys()  # returns a list of the keys"
   ]
  },
  {
   "cell_type": "code",
   "execution_count": 16,
   "id": "785f267c",
   "metadata": {},
   "outputs": [
    {
     "data": {
      "text/plain": [
       "dict_values(['Cory', 'Hill', 'The number six'])"
      ]
     },
     "execution_count": 16,
     "metadata": {},
     "output_type": "execute_result"
    }
   ],
   "source": [
    "my_dict.values()  # returns a list of the values"
   ]
  },
  {
   "cell_type": "code",
   "execution_count": 57,
   "id": "bfe7a7d2-802c-411b-9d91-5ee9823321b2",
   "metadata": {},
   "outputs": [
    {
     "data": {
      "text/plain": [
       "'jim@mail.com'"
      ]
     },
     "execution_count": 57,
     "metadata": {},
     "output_type": "execute_result"
    }
   ],
   "source": [
    "# nesting dictionaries is one of the best ways to make a quick database - and it's basically just like JSON\n",
    "address_list = {\n",
    "'user_1':{'email':'cjh123@yahoo.com', 'first_name':'Cory', 'last_name':'Hill'},\n",
    "'user_2':{'email':'jim@mail.com', 'first_name':'Jim', 'last_name':'Doe'},    \n",
    "}\n",
    "\n",
    "address_list['user_2']['email']"
   ]
  },
  {
   "cell_type": "markdown",
   "id": "24318bc4-8178-4127-b684-2f525492f159",
   "metadata": {},
   "source": [
    "### Functions\n",
    "* You indent four spaces (or one tab) to show you are in a block of code\n",
    "* Functions have return values you can assign to variables (defaults to \"None\")\n"
   ]
  },
  {
   "cell_type": "code",
   "execution_count": 87,
   "id": "7cacb8e3",
   "metadata": {},
   "outputs": [],
   "source": [
    "def myfunc(x, y):\n",
    "    return x + y\n",
    "\n",
    "def myfunc2(x=1, y=0):  # giving the function default values\n",
    "    return x + y\n",
    "\n",
    "def greet_us(name1, name2):\n",
    "    print(f'Hello {name1} and {name2}!')"
   ]
  },
  {
   "cell_type": "code",
   "execution_count": 88,
   "id": "76e5b677",
   "metadata": {},
   "outputs": [
    {
     "data": {
      "text/plain": [
       "14.9"
      ]
     },
     "execution_count": 88,
     "metadata": {},
     "output_type": "execute_result"
    }
   ],
   "source": [
    "myfunc(5, 9.9)"
   ]
  },
  {
   "cell_type": "code",
   "execution_count": 91,
   "id": "9013fa71-83eb-4141-bca5-571395442221",
   "metadata": {},
   "outputs": [
    {
     "ename": "TypeError",
     "evalue": "myfunc() missing 2 required positional arguments: 'x' and 'y'",
     "output_type": "error",
     "traceback": [
      "\u001b[1;31m---------------------------------------------------------------------------\u001b[0m",
      "\u001b[1;31mTypeError\u001b[0m                                 Traceback (most recent call last)",
      "\u001b[1;32m~\\AppData\\Local\\Temp\\1/ipykernel_8436/1200136947.py\u001b[0m in \u001b[0;36m<module>\u001b[1;34m\u001b[0m\n\u001b[1;32m----> 1\u001b[1;33m \u001b[0mmyfunc\u001b[0m\u001b[1;33m(\u001b[0m\u001b[1;33m)\u001b[0m\u001b[1;33m\u001b[0m\u001b[1;33m\u001b[0m\u001b[0m\n\u001b[0m",
      "\u001b[1;31mTypeError\u001b[0m: myfunc() missing 2 required positional arguments: 'x' and 'y'"
     ]
    }
   ],
   "source": [
    "myfunc()"
   ]
  },
  {
   "cell_type": "code",
   "execution_count": 90,
   "id": "ef0a5aa6-349e-4c4a-b682-513111b02ccc",
   "metadata": {},
   "outputs": [
    {
     "data": {
      "text/plain": [
       "1"
      ]
     },
     "execution_count": 90,
     "metadata": {},
     "output_type": "execute_result"
    }
   ],
   "source": [
    "myfunc2()"
   ]
  },
  {
   "cell_type": "code",
   "execution_count": 73,
   "id": "8cf8d054-fefe-4277-bb7f-2a48792f3ed9",
   "metadata": {
    "tags": []
   },
   "outputs": [
    {
     "name": "stdout",
     "output_type": "stream",
     "text": [
      "Hello John Doe and Superman!\n"
     ]
    }
   ],
   "source": [
    "greet_us('John Doe', 'Superman')"
   ]
  },
  {
   "cell_type": "markdown",
   "id": "a96cf6f1",
   "metadata": {},
   "source": [
    "### Importing - using external libraries (benefit from the hard work of others)\n",
    "* pretend there is a module named foo that has a function called bar\n",
    "  * **import foo** - allows you to reference foo.bar()\n",
    "  * **import foo as f**  - allows you to reference f.bar() if you are too lazy to type / already have a / foo \n",
    "  * **from foo import bar** - allows you to just use bar()\n",
    "  * from foo import * - gets everything in foo, allows you to use bar() but may add things you don't want\n",
    "\n"
   ]
  },
  {
   "cell_type": "code",
   "execution_count": 49,
   "id": "647ca681",
   "metadata": {},
   "outputs": [
    {
     "data": {
      "text/plain": [
       "1.4142135623730951"
      ]
     },
     "execution_count": 49,
     "metadata": {},
     "output_type": "execute_result"
    }
   ],
   "source": [
    "# we use numpy a lot - it works quickly on arrays and has many built in math functions\n",
    "import numpy\n",
    "numpy.sqrt(2)"
   ]
  },
  {
   "cell_type": "code",
   "execution_count": 18,
   "id": "b1a160e9",
   "metadata": {},
   "outputs": [
    {
     "data": {
      "text/plain": [
       "1.4142135623730951"
      ]
     },
     "execution_count": 18,
     "metadata": {},
     "output_type": "execute_result"
    }
   ],
   "source": [
    "import numpy as np\n",
    "np.sqrt(2)"
   ]
  },
  {
   "cell_type": "code",
   "execution_count": 19,
   "id": "1183ae9a",
   "metadata": {},
   "outputs": [
    {
     "data": {
      "text/plain": [
       "1.4142135623730951"
      ]
     },
     "execution_count": 19,
     "metadata": {},
     "output_type": "execute_result"
    }
   ],
   "source": [
    "from numpy import sqrt\n",
    "sqrt(2)"
   ]
  },
  {
   "cell_type": "code",
   "execution_count": 20,
   "id": "f0abef2f",
   "metadata": {},
   "outputs": [
    {
     "data": {
      "text/plain": [
       "1.4142135623730951"
      ]
     },
     "execution_count": 20,
     "metadata": {},
     "output_type": "execute_result"
    }
   ],
   "source": [
    "from numpy import *\n",
    "sqrt(2)"
   ]
  },
  {
   "cell_type": "code",
   "execution_count": 21,
   "id": "414ba4cd",
   "metadata": {},
   "outputs": [],
   "source": [
    "# this is an example of an ipython \"magic\" command\n",
    "# %reset"
   ]
  },
  {
   "cell_type": "code",
   "execution_count": 22,
   "id": "34b0478f",
   "metadata": {},
   "outputs": [
    {
     "data": {
      "text/plain": [
       "1.4142135623730951"
      ]
     },
     "execution_count": 22,
     "metadata": {},
     "output_type": "execute_result"
    }
   ],
   "source": [
    "sqrt(2)"
   ]
  },
  {
   "cell_type": "markdown",
   "id": "fe4b3fcc",
   "metadata": {},
   "source": [
    "### Dates and times\n",
    "* time module (measures seconds since the epoch, pauses execution, formats and converts times) \n",
    "* datetime module (formats dates as well as date arithmetic)"
   ]
  },
  {
   "cell_type": "code",
   "execution_count": 41,
   "id": "b01eb339-b31a-418f-abae-43099655707f",
   "metadata": {},
   "outputs": [],
   "source": [
    "import time\n",
    "time.sleep(0.25)  # pause execution for 0.25 s"
   ]
  },
  {
   "cell_type": "code",
   "execution_count": 42,
   "id": "25053472-b476-45a5-b10a-4be893b289f5",
   "metadata": {},
   "outputs": [
    {
     "name": "stdout",
     "output_type": "stream",
     "text": [
      "1639676449.6652029\n",
      "time.struct_time(tm_year=2021, tm_mon=12, tm_mday=16, tm_hour=9, tm_min=40, tm_sec=49, tm_wday=3, tm_yday=350, tm_isdst=0)\n",
      "Thu Dec 16 09:40:49 2021\n"
     ]
    }
   ],
   "source": [
    "now = time.time()  # calculate seconds since epoch\n",
    "print(now)  \n",
    "print(time.localtime(now))\n",
    "print(time.asctime(time.localtime(now)))"
   ]
  },
  {
   "cell_type": "code",
   "execution_count": 43,
   "id": "e432b82a",
   "metadata": {},
   "outputs": [
    {
     "name": "stdout",
     "output_type": "stream",
     "text": [
      "Now: 1.639676e+09\n"
     ]
    }
   ],
   "source": [
    "print(f'Now: {now:2e}')"
   ]
  },
  {
   "cell_type": "code",
   "execution_count": 130,
   "id": "da594241",
   "metadata": {},
   "outputs": [
    {
     "name": "stdout",
     "output_type": "stream",
     "text": [
      "Cory is 17422 days old.\n"
     ]
    }
   ],
   "source": [
    "import datetime  # you usually do from datetime import date or from datetime import datetime\n",
    "today = datetime.date.today()\n",
    "cory_birthday = datetime.date(1974, 4, 6)\n",
    "delta = today - cory_birthday\n",
    "print(f'Cory is {delta.days} days old.')"
   ]
  },
  {
   "cell_type": "code",
   "execution_count": 139,
   "id": "1d92c1d4-4ff7-4a6d-9f6c-9fd401c96505",
   "metadata": {},
   "outputs": [
    {
     "name": "stdout",
     "output_type": "stream",
     "text": [
      "students are more like 6194 days old\n"
     ]
    }
   ],
   "source": [
    "student_birthday = datetime.date(2005, 1, 1)\n",
    "days=(today-student_birthday).days\n",
    "print(f'students are more like {days} days old')"
   ]
  },
  {
   "cell_type": "code",
   "execution_count": 155,
   "id": "86528690-31ec-489c-acdf-18970a5960fc",
   "metadata": {},
   "outputs": [
    {
     "name": "stdout",
     "output_type": "stream",
     "text": [
      "and they probobaly only remember about 2100 of them\n"
     ]
    }
   ],
   "source": [
    "def roundup(x):\n",
    "    return int(x) if x % 100 == 0 else int(x + 100 - x % 100)\n",
    "print(f'and they probobaly only remember about {roundup(days/3)} of them')"
   ]
  },
  {
   "cell_type": "code",
   "execution_count": 45,
   "id": "a7a15588",
   "metadata": {},
   "outputs": [
    {
     "data": {
      "text/plain": [
       "datetime.datetime(2021, 12, 16, 9, 41, 26, 665415)"
      ]
     },
     "execution_count": 45,
     "metadata": {},
     "output_type": "execute_result"
    }
   ],
   "source": [
    "datetime.datetime.now()"
   ]
  },
  {
   "cell_type": "code",
   "execution_count": 46,
   "id": "85259dea",
   "metadata": {
    "tags": []
   },
   "outputs": [
    {
     "data": {
      "text/plain": [
       "'2021-12-16 09:41:27'"
      ]
     },
     "execution_count": 46,
     "metadata": {},
     "output_type": "execute_result"
    }
   ],
   "source": [
    "datetime.datetime.now().strftime(\"%Y-%m-%d %H:%M:%S\")"
   ]
  },
  {
   "cell_type": "markdown",
   "id": "d195fd02-17ff-4fce-8bd7-13cbc0d56450",
   "metadata": {
    "tags": []
   },
   "source": [
    "#### Exercise - tell me how many days old you are"
   ]
  },
  {
   "cell_type": "code",
   "execution_count": 21,
   "id": "03f62e6f-204d-4877-ad83-93e8fdfcff60",
   "metadata": {
    "tags": []
   },
   "outputs": [],
   "source": [
    "# test your code here"
   ]
  },
  {
   "cell_type": "markdown",
   "id": "9d15cf7c",
   "metadata": {},
   "source": [
    "### Numpy - one stop shop for all array math"
   ]
  },
  {
   "cell_type": "code",
   "execution_count": 28,
   "id": "9fc2984c",
   "metadata": {},
   "outputs": [],
   "source": [
    "import numpy as np"
   ]
  },
  {
   "cell_type": "code",
   "execution_count": 29,
   "id": "2c7b3bda",
   "metadata": {},
   "outputs": [
    {
     "data": {
      "text/plain": [
       "array([0.        , 0.62831853, 1.25663706, 1.88495559, 2.51327412,\n",
       "       3.14159265, 3.76991118, 4.39822972, 5.02654825, 5.65486678,\n",
       "       6.28318531])"
      ]
     },
     "execution_count": 29,
     "metadata": {},
     "output_type": "execute_result"
    }
   ],
   "source": [
    "x = np.linspace(0, 2*np.pi, 11)\n",
    "x"
   ]
  },
  {
   "cell_type": "code",
   "execution_count": 30,
   "id": "b753b640",
   "metadata": {},
   "outputs": [
    {
     "data": {
      "text/plain": [
       "1.0"
      ]
     },
     "execution_count": 30,
     "metadata": {},
     "output_type": "execute_result"
    }
   ],
   "source": [
    "np.sin(np.pi/2)"
   ]
  },
  {
   "cell_type": "code",
   "execution_count": 31,
   "id": "1325812e",
   "metadata": {},
   "outputs": [
    {
     "data": {
      "text/plain": [
       "array([ 0.00000000e+00,  5.87785252e-01,  9.51056516e-01,  9.51056516e-01,\n",
       "        5.87785252e-01,  1.22464680e-16, -5.87785252e-01, -9.51056516e-01,\n",
       "       -9.51056516e-01, -5.87785252e-01, -2.44929360e-16])"
      ]
     },
     "execution_count": 31,
     "metadata": {},
     "output_type": "execute_result"
    }
   ],
   "source": [
    "y = np.sin(x)\n",
    "y"
   ]
  },
  {
   "cell_type": "markdown",
   "id": "f8ddebe9",
   "metadata": {},
   "source": [
    "### matplotlib - you will see this in every python program that generates plots\n",
    "It can plot anything - check out https://matplotlib.org/gallery.html"
   ]
  },
  {
   "cell_type": "code",
   "execution_count": 32,
   "id": "903760fd",
   "metadata": {},
   "outputs": [],
   "source": [
    "import matplotlib.pyplot as plt  # "
   ]
  },
  {
   "cell_type": "code",
   "execution_count": 185,
   "id": "2ee8d6b1",
   "metadata": {},
   "outputs": [],
   "source": [
    "x = np.linspace(0, 6.28, 100)\n",
    "y = np.sin(x)"
   ]
  },
  {
   "cell_type": "code",
   "execution_count": 194,
   "id": "6dd7d74d-3f82-4d40-9354-6324422ba4e2",
   "metadata": {},
   "outputs": [
    {
     "data": {
      "text/plain": [
       "array([0.        , 0.63434343, 1.26868687, 1.9030303 , 2.53737374,\n",
       "       3.17171717, 3.80606061, 4.44040404, 5.07474747, 5.70909091])"
      ]
     },
     "execution_count": 194,
     "metadata": {},
     "output_type": "execute_result"
    }
   ],
   "source": [
    "x[0:100:10]"
   ]
  },
  {
   "cell_type": "code",
   "execution_count": 191,
   "id": "77bf3f35-4221-45c5-9837-9709f79d4287",
   "metadata": {},
   "outputs": [
    {
     "data": {
      "text/plain": [
       "array([ 0.        ,  0.5926488 ,  0.95471098,  0.94531608,  0.56811946,\n",
       "       -0.03011996, -0.61664037, -0.96323955, -0.93506338, -0.54307459])"
      ]
     },
     "execution_count": 191,
     "metadata": {},
     "output_type": "execute_result"
    }
   ],
   "source": [
    "y[0:100:10]"
   ]
  },
  {
   "cell_type": "code",
   "execution_count": 195,
   "id": "125ac8fc",
   "metadata": {},
   "outputs": [
    {
     "data": {
      "image/png": "[encoded data removed]",
      "text/plain": [
       "<Figure size 432x288 with 1 Axes>"
      ]
     },
     "metadata": {
      "needs_background": "light"
     },
     "output_type": "display_data"
    }
   ],
   "source": [
    "# we'll never actually do it this way, because there is a more robust syntax in matplotlib \n",
    "plt.plot(x,y, label='sin(x)')\n",
    "plt.title('Super quick intro to numpy and pyplot'); plt.xlabel('x'); plt.ylabel('sin(x)');\n",
    "plt.legend()\n",
    "plt.show()"
   ]
  },
  {
   "cell_type": "markdown",
   "id": "5741e6c4-34b3-4030-864d-50b7a5c7622a",
   "metadata": {},
   "source": [
    "####  Comparison `==, !=, >, <, >=, <=`"
   ]
  },
  {
   "cell_type": "code",
   "execution_count": 64,
   "id": "91f8c446-9b61-4336-9239-afd44b81b28b",
   "metadata": {
    "tags": []
   },
   "outputs": [
    {
     "name": "stdout",
     "output_type": "stream",
     "text": [
      "1 == 0: False\n",
      "1 != 0: True\n",
      "1 > 1: False\n",
      "1 < 0: False\n",
      "1 < 1: False\n",
      "1 >= 0: True\n",
      "1 >= 1: True\n",
      "1 <= 0: False\n",
      "1 <= 1: True\n"
     ]
    }
   ],
   "source": [
    "print(f'1 == 0: {1 == 0}')\n",
    "print(f'1 != 0: {1 != 0}')\n",
    "print(f'1 > 1: {1 > 1}')\n",
    "print(f'1 < 0: {1 < 0}')\n",
    "print(f'1 < 1: {1 < 1}')\n",
    "print(f'1 >= 0: {1 >= 0}')\n",
    "print(f'1 >= 1: {1 >= 1}')\n",
    "print(f'1 <= 0: {1 <= 0}')\n",
    "print(f'1 <= 1: {1 <= 1}')"
   ]
  },
  {
   "cell_type": "markdown",
   "id": "0c2fcf51-03ad-4ca0-98a7-eb96dcea0ac9",
   "metadata": {},
   "source": [
    "#### Logical operators: and or not"
   ]
  },
  {
   "cell_type": "code",
   "execution_count": 65,
   "id": "23d9053b-4b6c-44a9-9013-56aa2ae1c194",
   "metadata": {},
   "outputs": [
    {
     "name": "stdout",
     "output_type": "stream",
     "text": [
      "x and y is False\n",
      "x or y is True\n",
      "not x is False\n"
     ]
    }
   ],
   "source": [
    "x = True\n",
    "y = False\n",
    "\n",
    "print('x and y is', x and y)\n",
    "print('x or y is', x or y)\n",
    "print('not x is', not x)"
   ]
  },
  {
   "cell_type": "markdown",
   "id": "034d51b4-12b2-48a7-9ca5-9250e4f4a9fd",
   "metadata": {
    "tags": []
   },
   "source": [
    "### Conditional statements\n",
    "* format is `if test expression:`\n",
    "* can have an optional `elif` (as many as you want)\n",
    "* can have an optional `else` (the catch-all at the end)\n",
    "* note - it only does the first one that matches and then ends\n",
    "* You indent four spaces (or one tab) to show you are in a block of code"
   ]
  },
  {
   "cell_type": "code",
   "execution_count": 66,
   "id": "8b1211af-5bc5-4bfb-9c80-85c6195e8bef",
   "metadata": {},
   "outputs": [
    {
     "name": "stdout",
     "output_type": "stream",
     "text": [
      "4 is greater than 2\n"
     ]
    }
   ],
   "source": [
    "x = 4\n",
    "if x == 2:\n",
    "    print(f'{x} is exactly 2')\n",
    "elif x < 2:\n",
    "    print(f'{x} is less than 2')\n",
    "elif x > 2:\n",
    "    print(f'{x} is greater than 2')\n",
    "else: \n",
    "    print(f'{x} does not compare to 2')"
   ]
  },
  {
   "cell_type": "markdown",
   "id": "31160be7-2832-4e39-bbc0-2287c8100333",
   "metadata": {},
   "source": [
    "### For loops"
   ]
  },
  {
   "cell_type": "markdown",
   "id": "c249aca1-0c58-410c-989d-12c0e9087d7d",
   "metadata": {},
   "source": [
    "* unlike other languages, in python you inherenetly need an iterator to loop over\n",
    "* alternately you can use enumerate \n",
    "* options are break, continue in each step\n",
    "* indent again to tell python what is in the loop"
   ]
  },
  {
   "cell_type": "code",
   "execution_count": 160,
   "id": "dc597bee-aa27-4fe4-a68d-46920f7285dd",
   "metadata": {},
   "outputs": [
    {
     "name": "stdout",
     "output_type": "stream",
     "text": [
      "The count is 0\n",
      "The count is 1\n",
      "The count is 2\n",
      "The count is 3\n",
      "The count is 4\n",
      "All done.  By the way, i is still 4\n"
     ]
    }
   ],
   "source": [
    "for i in range(5):\n",
    "    print(f'The count is {i}')\n",
    "print(f'All done.  By the way, i is still {i}')"
   ]
  },
  {
   "cell_type": "code",
   "execution_count": 164,
   "id": "d3c1fad7-9cef-491f-bfd2-957e29136d5c",
   "metadata": {},
   "outputs": [
    {
     "name": "stdout",
     "output_type": "stream",
     "text": [
      "element 0 of the list is element one, and it is a <class 'str'>\n",
      "element 1 of the list is 2, and it is a <class 'int'>\n",
      "element 2 of the list is 3.0, and it is a <class 'float'>\n"
     ]
    }
   ],
   "source": [
    "some_list = ['element one', 2, 3.0]\n",
    "for ix, value in enumerate(some_list):\n",
    "    print(f'element {ix} of the list is {value}, and it is a {type(value)}')"
   ]
  },
  {
   "cell_type": "markdown",
   "id": "57bea3a8-83a7-40d0-8aa5-cb460fa9c31b",
   "metadata": {},
   "source": [
    "### While loops\n",
    "* python has them too\n",
    "* but like when using the table saw, you need special permission from a mentor to put one in the robot"
   ]
  },
  {
   "cell_type": "markdown",
   "id": "4d46e2ef-cf00-4954-9617-48436a34bd3c",
   "metadata": {},
   "source": [
    "### List comprehension\n",
    "* the most \"pythonic\" of the cool things you do with python\n",
    "* it's a one-line for statement that can give you a list of computations\n",
    "* looks like this: \n",
    "  * [f(x) for x in sequence]\n",
    "  * [f(x) for x in sequence if condition]\n",
    "  * [f(x) if condition else g(x) for x in sequence]"
   ]
  },
  {
   "cell_type": "code",
   "execution_count": 177,
   "id": "65108e4d-4b22-4202-a230-f3f5f4bbc48a",
   "metadata": {},
   "outputs": [
    {
     "data": {
      "text/plain": [
       "[0, 1, 4, 9, 16, 25, 36, 49, 64, 81]"
      ]
     },
     "execution_count": 177,
     "metadata": {},
     "output_type": "execute_result"
    }
   ],
   "source": [
    "squares = [i**2 for i in range(10)]\n",
    "squares"
   ]
  },
  {
   "cell_type": "code",
   "execution_count": 178,
   "id": "a0853e97-6c75-42c0-8309-4b0653d77504",
   "metadata": {
    "tags": []
   },
   "outputs": [
    {
     "data": {
      "text/plain": [
       "[0, 2, 4, 6, 8, 10, 12, 14, 16, 18]"
      ]
     },
     "execution_count": 178,
     "metadata": {},
     "output_type": "execute_result"
    }
   ],
   "source": [
    "even_numbers = [i for i in range(20) if i%2==0]\n",
    "even_numbers"
   ]
  },
  {
   "cell_type": "code",
   "execution_count": 179,
   "id": "64ad1986-9f85-46a6-a215-0ad4dc43b95a",
   "metadata": {},
   "outputs": [
    {
     "data": {
      "text/plain": [
       "[0, 7, 2, 7, 4, 7, 6, 7, 8, 7, 10, 7, 12, 7, 14, 7, 16, 7, 18, 7]"
      ]
     },
     "execution_count": 179,
     "metadata": {},
     "output_type": "execute_result"
    }
   ],
   "source": [
    "# maybe I only consider one odd number acceptable\n",
    "special_numbers = [i if i%2==0 else 7 for i in range(20)]\n",
    "special_numbers"
   ]
  },
  {
   "cell_type": "code",
   "execution_count": 182,
   "id": "4d63cdf7-316a-4113-bf42-8ccd2db10936",
   "metadata": {},
   "outputs": [
    {
     "name": "stdout",
     "output_type": "stream",
     "text": [
      "hello hello hello hello "
     ]
    },
    {
     "data": {
      "text/plain": [
       "[None, None, None, None]"
      ]
     },
     "execution_count": 182,
     "metadata": {},
     "output_type": "execute_result"
    }
   ],
   "source": [
    "# this is a bit annoying\n",
    "[print('hello', end=\" \") for i in range(4)]"
   ]
  },
  {
   "cell_type": "code",
   "execution_count": 183,
   "id": "1b10d26f-2e6f-498d-bb3a-dcbc86f2c0dc",
   "metadata": {},
   "outputs": [
    {
     "name": "stdout",
     "output_type": "stream",
     "text": [
      "hello hello hello hello "
     ]
    }
   ],
   "source": [
    "# by convention an underscore (alone) is a dummy variable\n",
    "_ = [print('hello', end=\" \") for i in range(4)]"
   ]
  },
  {
   "cell_type": "markdown",
   "id": "8ed5ee5b-21e9-4e9b-8fd0-89139e41e13b",
   "metadata": {},
   "source": [
    "### Try-except\n",
    "* Catch errors so the code does not die\n",
    "* optionally can end with a `finally` clause"
   ]
  },
  {
   "cell_type": "code",
   "execution_count": 116,
   "id": "f1edbb23-6fc4-43a7-a287-e22274d4aeab",
   "metadata": {},
   "outputs": [
    {
     "ename": "ZeroDivisionError",
     "evalue": "division by zero",
     "output_type": "error",
     "traceback": [
      "\u001b[1;31m---------------------------------------------------------------------------\u001b[0m",
      "\u001b[1;31mZeroDivisionError\u001b[0m                         Traceback (most recent call last)",
      "\u001b[1;32m~\\AppData\\Local\\Temp\\1/ipykernel_8436/3573414940.py\u001b[0m in \u001b[0;36m<module>\u001b[1;34m\u001b[0m\n\u001b[1;32m----> 1\u001b[1;33m \u001b[0mx\u001b[0m \u001b[1;33m/\u001b[0m \u001b[1;36m0\u001b[0m\u001b[1;33m\u001b[0m\u001b[1;33m\u001b[0m\u001b[0m\n\u001b[0m",
      "\u001b[1;31mZeroDivisionError\u001b[0m: division by zero"
     ]
    }
   ],
   "source": [
    " x / 0"
   ]
  },
  {
   "cell_type": "code",
   "execution_count": 128,
   "id": "1aced4fc-bd52-4490-ac79-5b8db1c84f7b",
   "metadata": {},
   "outputs": [
    {
     "name": "stdout",
     "output_type": "stream",
     "text": [
      " Unable to execute that command: <class 'ZeroDivisionError'>: division by zero\n"
     ]
    }
   ],
   "source": [
    "try:\n",
    "    x / 0\n",
    "except Exception as e:  # generic exception, catches them all\n",
    "    print(f' Unable to execute that command: {type(e)}: {e}')\n",
    "    "
   ]
  },
  {
   "cell_type": "code",
   "execution_count": 129,
   "id": "6764cf19-0b9a-4191-aeb4-48f6940f0c22",
   "metadata": {},
   "outputs": [
    {
     "name": "stdout",
     "output_type": "stream",
     "text": [
      "Unable to execute that command: division by zero\n"
     ]
    }
   ],
   "source": [
    "try:\n",
    "    x / 0\n",
    "except ZeroDivisionError as e:  # specific only specific exception\n",
    "    print(f'Unable to execute that command: {e}')\n",
    "    "
   ]
  },
  {
   "cell_type": "markdown",
   "id": "83f4f424-7daa-44d8-a04f-783d22f5c56d",
   "metadata": {
    "tags": []
   },
   "source": [
    "### Classes\n",
    "* Classes are a collection of functions and variables bundled together for convenience\n",
    "  * Functions in classes are (often) called members\n",
    "  * Variables are often called attributes\n",
    "* This is one of the only times we use capital letters in Python  - (because they are important)\n",
    "* You can build new classes from old ones, and that makes them very good as reusable templates\n",
    "* **You address members and attributes with the dot \".\" operator**  (Oh, so strings are classes too?)\n",
    "* There is a LOT to learn about classes.  This is the most basic intro.\n",
    "* _ _init_ _ is necessary if we want to construct with variables passed in and setting up unique attributes"
   ]
  },
  {
   "cell_type": "code",
   "execution_count": 97,
   "id": "c928a8a1-8c7a-443c-bea9-23e23b5d4f2e",
   "metadata": {},
   "outputs": [],
   "source": [
    "class MyFirstClass:\n",
    "    def __init__(self, name):  \n",
    "        self.name = name\n",
    "\n",
    "    def greet(self):\n",
    "        print(f'Hello {self.name}!')"
   ]
  },
  {
   "cell_type": "code",
   "execution_count": 98,
   "id": "d26c8031-9e2d-43e7-9993-b5c725a770a2",
   "metadata": {},
   "outputs": [
    {
     "name": "stdout",
     "output_type": "stream",
     "text": [
      "Hello Alice!\n"
     ]
    }
   ],
   "source": [
    "alice = MyFirstClass(name='Alice')\n",
    "alice.greet()"
   ]
  },
  {
   "cell_type": "code",
   "execution_count": 99,
   "id": "372869c1-56f0-43f3-8fac-c2edf12aa4f9",
   "metadata": {},
   "outputs": [],
   "source": [
    "class Circle:\n",
    "    def __init__(self, radius):\n",
    "        self.pi = 3.14159\n",
    "        self.radius = radius\n",
    "\n",
    "    def area(self):\n",
    "        return self.pi * self.radius**2\n",
    "\n",
    "    def circumference(self):\n",
    "        return 2*self.pi * self.radius"
   ]
  },
  {
   "cell_type": "code",
   "execution_count": 103,
   "id": "95093440-002f-40ef-860b-e42df9134101",
   "metadata": {},
   "outputs": [],
   "source": [
    "my_circle = Circle(2)"
   ]
  },
  {
   "cell_type": "code",
   "execution_count": 104,
   "id": "ddeaa810-2297-4006-9826-b3d41c1eaa76",
   "metadata": {},
   "outputs": [
    {
     "data": {
      "text/plain": [
       "3.14159"
      ]
     },
     "execution_count": 104,
     "metadata": {},
     "output_type": "execute_result"
    }
   ],
   "source": [
    "my_circle.pi"
   ]
  },
  {
   "cell_type": "code",
   "execution_count": 105,
   "id": "b6b7a58d-067b-41a4-b0d6-67d1e7be7aca",
   "metadata": {},
   "outputs": [
    {
     "data": {
      "text/plain": [
       "12.56636"
      ]
     },
     "execution_count": 105,
     "metadata": {},
     "output_type": "execute_result"
    }
   ],
   "source": [
    "my_circle.area()"
   ]
  },
  {
   "cell_type": "markdown",
   "id": "a98f14b0-0dba-4df5-802b-1b5e49ed1721",
   "metadata": {},
   "source": [
    "### Class inheritance\n",
    "* You will see this all the time in the robot code\n",
    "* We take a template and extend it with custom functions\n",
    "* The new class is the child and the class it came from is the parent\n",
    "* There is a bit of arcane syntax that initializes the parent and from the child (not covered here)"
   ]
  },
  {
   "cell_type": "code",
   "execution_count": 114,
   "id": "89aa2746-d6b3-437b-a869-805da6c89f16",
   "metadata": {},
   "outputs": [],
   "source": [
    "class Animal:\n",
    "    def greet(self):\n",
    "        print('Hello, I am an animal')\n",
    "\n",
    "    def favorite_food(self):\n",
    "        return 'beef'\n",
    "\n",
    "\n",
    "class Dog(Animal):\n",
    "    def greet(self):\n",
    "        print('wof wof')\n",
    "\n",
    "\n",
    "class Cat(Animal):\n",
    "    def favorite_food(self):\n",
    "        return 'fish'"
   ]
  },
  {
   "cell_type": "code",
   "execution_count": 156,
   "id": "4235ff4f-0889-4cb0-b3fd-36fa518d5464",
   "metadata": {},
   "outputs": [
    {
     "name": "stdout",
     "output_type": "stream",
     "text": [
      "Dog stuff:\n",
      "wof wof\n",
      "Dog's favorite food is beef\n",
      "\n",
      "Cat stuff:\n",
      "Hello, I am an animal\n",
      "Cat's favorite food is fish\n"
     ]
    }
   ],
   "source": [
    "print('Dog stuff:')\n",
    "dog = Dog()\n",
    "dog.greet()\n",
    "print(f\"Dog's favorite food is {dog.favorite_food()}\")\n",
    "\n",
    "print('\\nCat stuff:')\n",
    "cat = Cat()\n",
    "cat.greet()\n",
    "print(f\"Cat's favorite food is {cat.favorite_food()}\")"
   ]
  },
  {
   "cell_type": "code",
   "execution_count": null,
   "id": "73f70de7-3acd-4334-82ef-423dbe73cc8d",
   "metadata": {
    "jupyter": {
     "source_hidden": true
    },
    "tags": []
   },
   "outputs": [],
   "source": []
  }
 ],
 "metadata": {
  "kernelspec": {
   "display_name": "Python 3 (ipykernel)",
   "language": "python",
   "name": "python3"
  },
  "language_info": {
   "codemirror_mode": {
    "name": "ipython",
    "version": 3
   },
   "file_extension": ".py",
   "mimetype": "text/x-python",
   "name": "python",
   "nbconvert_exporter": "python",
   "pygments_lexer": "ipython3",
   "version": "3.9.5"
  }
 },
 "nbformat": 4,
 "nbformat_minor": 5
}
