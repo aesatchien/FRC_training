{
 "cells": [
  {
   "cell_type": "markdown",
   "id": "c19e57ee-baed-4b81-b21c-93d0476712e4",
   "metadata": {},
   "source": [
    "### Starting Jupyter Desktop when you double-click a notebook\n",
    "* Jupyter only sees directories at and below where you started, so start from here\n",
    "* Example folders will be below this notebook"
   ]
  },
  {
   "cell_type": "code",
   "execution_count": null,
   "id": "5d793ae2-ac17-4710-ab85-cb5f49c7c3b9",
   "metadata": {},
   "outputs": [],
   "source": []
  }
 ],
 "metadata": {
  "kernelspec": {
   "display_name": "Python 3 (ipykernel)",
   "language": "python",
   "name": "python3"
  },
  "language_info": {
   "codemirror_mode": {
    "name": "ipython",
    "version": 3
   },
   "file_extension": ".py",
   "mimetype": "text/x-python",
   "name": "python",
   "nbconvert_exporter": "python",
   "pygments_lexer": "ipython3",
   "version": "3.9.5"
  }
 },
 "nbformat": 4,
 "nbformat_minor": 5
}
