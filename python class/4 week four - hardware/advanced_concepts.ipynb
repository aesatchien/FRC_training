{
 "cells": [
  {
   "cell_type": "markdown",
   "id": "f8f0a203-48cf-4fa6-8d9d-9ea49137876c",
   "metadata": {},
   "source": [
    "### Python advanced concepts  2022 0701 CJH\n",
    "* Mainly taken from Real Python (https://realpython.com/) - search for the examples for more in-depth explanations\n",
    "---"
   ]
  },
  {
   "cell_type": "markdown",
   "id": "5f8cd6d9-a58b-4f05-9685-b90495b2f8ad",
   "metadata": {},
   "source": [
    "### lambdas (aka anonymous functions)\n",
    "https://docs.python.org/2/reference/expressions.html#lambda\n",
    "* a time saving device for returning an in-line function\n",
    "* you define it where you use it\n",
    "* so it's a perfect device for a function that you only use once\n",
    "* very common to use with **functions that require functions** as input (like when you bind actions to a joystick button)\n",
    "* most menu functions and button binding functions prefer lambdas (strange crashing behavior otherwise)"
   ]
  },
  {
   "cell_type": "code",
   "execution_count": 89,
   "id": "33102da0-a80a-4f0c-9bd3-0a76b61a67b0",
   "metadata": {},
   "outputs": [
    {
     "data": {
      "text/plain": [
       "228"
      ]
     },
     "execution_count": 89,
     "metadata": {},
     "output_type": "execute_result"
    }
   ],
   "source": [
    "# standard function definition\n",
    "def sum(a,b):\n",
    "    \"\"\" This function adds a and b \"\"\"\n",
    "    return a + b\n",
    "\n",
    "sum(19, 209)"
   ]
  },
  {
   "cell_type": "code",
   "execution_count": 84,
   "id": "c14f4327-f79c-4e22-bbe7-6c1d7ace1f1d",
   "metadata": {},
   "outputs": [
    {
     "data": {
      "text/plain": [
       "\u001b[1;31mSignature:\u001b[0m \u001b[0msum\u001b[0m\u001b[1;33m(\u001b[0m\u001b[0ma\u001b[0m\u001b[1;33m,\u001b[0m \u001b[0mb\u001b[0m\u001b[1;33m)\u001b[0m\u001b[1;33m\u001b[0m\u001b[1;33m\u001b[0m\u001b[0m\n",
       "\u001b[1;31mDocstring:\u001b[0m This function adds a and b \n",
       "\u001b[1;31mFile:\u001b[0m      c:\\users\\cjhill\\appdata\\local\\temp\\1\\ipykernel_28740\\3098887164.py\n",
       "\u001b[1;31mType:\u001b[0m      function\n"
      ]
     },
     "metadata": {},
     "output_type": "display_data"
    }
   ],
   "source": [
    "sum?"
   ]
  },
  {
   "cell_type": "code",
   "execution_count": 87,
   "id": "aeedf5b8-582f-4eb2-bfb8-5695097727f5",
   "metadata": {},
   "outputs": [
    {
     "data": {
      "text/plain": [
       "11"
      ]
     },
     "execution_count": 87,
     "metadata": {},
     "output_type": "execute_result"
    }
   ],
   "source": [
    "# a lambda definition is a bit different - still have the colon but can't use the next line\n",
    "lsum = lambda x,y: x + y\n",
    "\n",
    "lsum(3, 8)"
   ]
  },
  {
   "cell_type": "code",
   "execution_count": 88,
   "id": "66a4a379-a257-49b9-800a-c326ee08a33a",
   "metadata": {
    "tags": []
   },
   "outputs": [
    {
     "data": {
      "text/plain": [
       "5"
      ]
     },
     "execution_count": 88,
     "metadata": {},
     "output_type": "execute_result"
    }
   ],
   "source": [
    "# immediately invoked function expression  (IIFE)\n",
    "# rarely used this way but it is possible\n",
    "(lambda x, y: x + y)(2, 3)"
   ]
  },
  {
   "cell_type": "code",
   "execution_count": 90,
   "id": "b20564ec-7035-40ae-8249-28a1820c1d91",
   "metadata": {},
   "outputs": [
    {
     "data": {
      "text/plain": [
       "<function __main__.<lambda>(x, y)>"
      ]
     },
     "execution_count": 90,
     "metadata": {},
     "output_type": "execute_result"
    }
   ],
   "source": [
    "lsum"
   ]
  },
  {
   "cell_type": "markdown",
   "id": "e48f4f59-ca1b-4545-8e4c-f25e85042f2a",
   "metadata": {},
   "source": [
    "#### what's the differenece?\n",
    "* **def** names functions, and can contain any number of statements\n",
    "* **lambda** is one expression, one line\n",
    "* if you need to bother to name it, you probably want a def"
   ]
  },
  {
   "cell_type": "markdown",
   "id": "96dcb29c-8e76-43e3-aed5-771a96e10701",
   "metadata": {
    "tags": []
   },
   "source": [
    "#### test it out on python's built-in sorted() function\n",
    "* a / in a function's signature means that all preceding arguments must be positional\n",
    "* a bare * in a function's signature means that all following arguments must be named"
   ]
  },
  {
   "cell_type": "code",
   "execution_count": 91,
   "id": "d048268c-2965-4158-8827-c929550cc542",
   "metadata": {},
   "outputs": [
    {
     "data": {
      "text/plain": [
       "\u001b[1;31mSignature:\u001b[0m \u001b[0msorted\u001b[0m\u001b[1;33m(\u001b[0m\u001b[0miterable\u001b[0m\u001b[1;33m,\u001b[0m \u001b[1;33m/\u001b[0m\u001b[1;33m,\u001b[0m \u001b[1;33m*\u001b[0m\u001b[1;33m,\u001b[0m \u001b[0mkey\u001b[0m\u001b[1;33m=\u001b[0m\u001b[1;32mNone\u001b[0m\u001b[1;33m,\u001b[0m \u001b[0mreverse\u001b[0m\u001b[1;33m=\u001b[0m\u001b[1;32mFalse\u001b[0m\u001b[1;33m)\u001b[0m\u001b[1;33m\u001b[0m\u001b[1;33m\u001b[0m\u001b[0m\n",
       "\u001b[1;31mDocstring:\u001b[0m\n",
       "Return a new list containing all items from the iterable in ascending order.\n",
       "\n",
       "A custom key function can be supplied to customize the sort order, and the\n",
       "reverse flag can be set to request the result in descending order.\n",
       "\u001b[1;31mType:\u001b[0m      builtin_function_or_method\n"
      ]
     },
     "metadata": {},
     "output_type": "display_data"
    }
   ],
   "source": [
    "# an actual use - pass a different sorting function to python's sorted() list operation\n",
    "sorted?"
   ]
  },
  {
   "cell_type": "code",
   "execution_count": 97,
   "id": "961034bf-8b9e-4a25-95ae-e57fd6901e76",
   "metadata": {},
   "outputs": [
    {
     "data": {
      "text/plain": [
       "[9, 8, 7, 6, 5, 4, 3, 2, 1, 0]"
      ]
     },
     "execution_count": 97,
     "metadata": {},
     "output_type": "execute_result"
    }
   ],
   "source": [
    "digits = list(range(9,-1,-1))\n",
    "digits"
   ]
  },
  {
   "cell_type": "code",
   "execution_count": 99,
   "id": "1358821b-134a-487d-a63f-19514c84effe",
   "metadata": {
    "tags": []
   },
   "outputs": [
    {
     "data": {
      "text/plain": [
       "[9, 8, 7, 6, 5, 4, 3, 2, 1, 0]"
      ]
     },
     "execution_count": 99,
     "metadata": {},
     "output_type": "execute_result"
    }
   ],
   "source": [
    "# by default it just sorts in ascending order on the value given\n",
    "sorted(digits, reverse=True)"
   ]
  },
  {
   "cell_type": "code",
   "execution_count": 100,
   "id": "31324676-f7f2-459f-a6bd-bb0eed05832c",
   "metadata": {},
   "outputs": [
    {
     "data": {
      "text/plain": [
       "[0, 1, 2, 3, 4, 5, 6, 7, 8, 9]"
      ]
     },
     "execution_count": 100,
     "metadata": {},
     "output_type": "execute_result"
    }
   ],
   "source": [
    "#this is explicitly stating the default\n",
    "sorted(digits, key=lambda x: x)  # the lambda of x returns x "
   ]
  },
  {
   "cell_type": "code",
   "execution_count": 101,
   "id": "939d623f-98f5-49c7-859f-44011e1976fb",
   "metadata": {},
   "outputs": [],
   "source": [
    "def negate(x):\n",
    "    return -x"
   ]
  },
  {
   "cell_type": "code",
   "execution_count": 33,
   "id": "9a2f21aa-5ef7-49be-9c4d-baa104d8eb43",
   "metadata": {},
   "outputs": [],
   "source": [
    "negate_lambda = lambda x: -x"
   ]
  },
  {
   "cell_type": "code",
   "execution_count": 104,
   "id": "49b61ca3-c713-4a35-972e-11b9e1912ac6",
   "metadata": {},
   "outputs": [
    {
     "data": {
      "text/plain": [
       "-8"
      ]
     },
     "execution_count": 104,
     "metadata": {},
     "output_type": "execute_result"
    }
   ],
   "source": [
    "negate(8)"
   ]
  },
  {
   "cell_type": "code",
   "execution_count": 105,
   "id": "b8e3115d-909e-4535-a289-2d90e115ee7d",
   "metadata": {},
   "outputs": [
    {
     "data": {
      "text/plain": [
       "[9, 8, 7, 6, 5, 4, 3, 2, 1, 0]"
      ]
     },
     "execution_count": 105,
     "metadata": {},
     "output_type": "execute_result"
    }
   ],
   "source": [
    "sorted(digits, key=lambda x: -x)  # actually, you could have just said reverse=True"
   ]
  },
  {
   "cell_type": "code",
   "execution_count": 106,
   "id": "97c5e875-b9a6-45e1-9fc6-fcd2d002c579",
   "metadata": {},
   "outputs": [],
   "source": [
    "def invert(x):\n",
    "    return -x"
   ]
  },
  {
   "cell_type": "code",
   "execution_count": 107,
   "id": "4b3091c8-ef58-4df5-a482-d4c15787d2fd",
   "metadata": {},
   "outputs": [
    {
     "data": {
      "text/plain": [
       "[9, 8, 7, 6, 5, 4, 3, 2, 1, 0]"
      ]
     },
     "execution_count": 107,
     "metadata": {},
     "output_type": "execute_result"
    }
   ],
   "source": [
    "sorted(digits, key=invert)  # doesn't have to be a lambda"
   ]
  },
  {
   "cell_type": "code",
   "execution_count": 109,
   "id": "441b897c-2b9c-422f-a69d-a59a53256975",
   "metadata": {
    "tags": []
   },
   "outputs": [
    {
     "data": {
      "text/plain": [
       "[5, 6, 4, 7, 3, 8, 2, 9, 1, 0]"
      ]
     },
     "execution_count": 109,
     "metadata": {},
     "output_type": "execute_result"
    }
   ],
   "source": [
    "# here is a wacky one\n",
    "sorted(digits, key=lambda x: abs(5-x))"
   ]
  },
  {
   "cell_type": "code",
   "execution_count": 37,
   "id": "fec29dbc-24fc-4c89-9f1a-dedb401bf8f4",
   "metadata": {},
   "outputs": [],
   "source": [
    "strange_list = [0, -1, 2, -3, 4, -5]"
   ]
  },
  {
   "cell_type": "code",
   "execution_count": 42,
   "id": "90582bab-8421-4fdf-b5d8-e1c3f4facae1",
   "metadata": {},
   "outputs": [
    {
     "data": {
      "text/plain": [
       "[4, 2, 0, -1, -3, -5]"
      ]
     },
     "execution_count": 42,
     "metadata": {},
     "output_type": "execute_result"
    }
   ],
   "source": [
    "sorted(strange_list, key=invert)"
   ]
  },
  {
   "cell_type": "markdown",
   "id": "38836e75-2009-4f33-8a84-9fc591013886",
   "metadata": {},
   "source": [
    "---\n",
    "### args and kwargs\n",
    "* Python has unpacking operators `(*)` and `(**)`\n",
    "* you can use them in function defintions and when you call functions\n",
    "* examples from https://realpython.com/python-kwargs-and-args/"
   ]
  },
  {
   "cell_type": "code",
   "execution_count": 110,
   "id": "63a4291e-4a5c-41cb-8375-aa54dfbe676e",
   "metadata": {},
   "outputs": [
    {
     "name": "stdout",
     "output_type": "stream",
     "text": [
      "10\n"
     ]
    }
   ],
   "source": [
    "# sum_integers_list.py\n",
    "def my_sum(my_integers):\n",
    "    result = 0\n",
    "    for x in my_integers:\n",
    "        result += x\n",
    "    return result\n",
    "\n",
    "list_of_integers = [1, 2, 3, 4]\n",
    "print(my_sum(list_of_integers))"
   ]
  },
  {
   "cell_type": "code",
   "execution_count": 55,
   "id": "0a5a8bf7-c88e-481b-9d4f-79c78d2f3440",
   "metadata": {},
   "outputs": [
    {
     "data": {
      "text/plain": [
       "3"
      ]
     },
     "execution_count": 55,
     "metadata": {},
     "output_type": "execute_result"
    }
   ],
   "source": [
    "my_sum([1,2])"
   ]
  },
  {
   "cell_type": "markdown",
   "id": "dab756e1-d43f-482b-8abd-fac6c0321ac6",
   "metadata": {},
   "source": [
    "### instead, you could have your function look at every *unnamed* argument passed to it with the * operator\n",
    "* for example, define it with `*args` and your function now has an iterator `args` you can loop over"
   ]
  },
  {
   "cell_type": "code",
   "execution_count": 112,
   "id": "63ee4822-13d2-443b-90e8-1fe1bfc7fe42",
   "metadata": {},
   "outputs": [
    {
     "name": "stdout",
     "output_type": "stream",
     "text": [
      "(1, 2, 3, 5)\n",
      "11\n"
     ]
    }
   ],
   "source": [
    "# sum_integers_args.py\n",
    "def my_sum_args(*args):\n",
    "    print(args)\n",
    "    result = 0\n",
    "    # Iterating over the Python args tuple\n",
    "    for x in args:\n",
    "        result += x\n",
    "    return result\n",
    "\n",
    "print(my_sum_args(1, 2, 3, 5))"
   ]
  },
  {
   "cell_type": "code",
   "execution_count": 114,
   "id": "1b0c0ea9-3a71-4308-91c0-4d9cf95a7368",
   "metadata": {},
   "outputs": [
    {
     "name": "stdout",
     "output_type": "stream",
     "text": [
      "(2, 4, 5, 6)\n"
     ]
    },
    {
     "data": {
      "text/plain": [
       "17"
      ]
     },
     "execution_count": 114,
     "metadata": {},
     "output_type": "execute_result"
    }
   ],
   "source": [
    "my_sum_args(2, 4, 5, 6,)"
   ]
  },
  {
   "cell_type": "markdown",
   "id": "47589e50-cb4c-4fc2-9a0a-80201009dce7",
   "metadata": {},
   "source": [
    "### instead, you could have your function look at every *named* argument passed to it with the ** operator\n",
    "* for example, define it with `**kwargs` and your function now has an dictionary `kwargs` you can iterate over\n",
    "* note, however, when you iterate over a dictionary you get the keys, so use kwargs.values() or kwargs.keys() when you loop"
   ]
  },
  {
   "cell_type": "code",
   "execution_count": 115,
   "id": "1ce1cb5a-7b23-4055-a76b-3b1dfc8de489",
   "metadata": {},
   "outputs": [
    {
     "name": "stdout",
     "output_type": "stream",
     "text": [
      "{'a': 'Real', 'b': 'Python', 'c': 'Is', 'd': 'Great', 'e': '!'}\n",
      "RealPythonIsGreat!\n"
     ]
    }
   ],
   "source": [
    "# concatenate.py\n",
    "def concatenate(**kwargs):\n",
    "    result = \"\"\n",
    "    # Iterating over the Python kwargs dictionary\n",
    "    print(kwargs)\n",
    "    for arg in kwargs.values():\n",
    "        result += arg\n",
    "    return result\n",
    "\n",
    "print(concatenate(a=\"Real\", b=\"Python\", c=\"Is\", d=\"Great\", e=\"!\"))"
   ]
  },
  {
   "cell_type": "code",
   "execution_count": 116,
   "id": "9aad0860-27b6-41e5-a920-9e56fc338fb7",
   "metadata": {},
   "outputs": [],
   "source": [
    "test_dict = {'a': 'Real', 'b': 'Python', 'c': 'Is', 'd': 'Great', 'e': '!'}"
   ]
  },
  {
   "cell_type": "code",
   "execution_count": 118,
   "id": "7536e6e7-e077-42db-97f3-dbed098e622a",
   "metadata": {},
   "outputs": [
    {
     "data": {
      "text/plain": [
       "dict_values(['Real', 'Python', 'Is', 'Great', '!'])"
      ]
     },
     "execution_count": 118,
     "metadata": {},
     "output_type": "execute_result"
    }
   ],
   "source": [
    "test_dict.values()"
   ]
  },
  {
   "cell_type": "markdown",
   "id": "8d82cbbd-447c-4ded-992f-78691e94462f",
   "metadata": {
    "tags": []
   },
   "source": [
    "___\n",
    "### putting them all together has a specific order"
   ]
  },
  {
   "cell_type": "code",
   "execution_count": 119,
   "id": "b78b8e76-5c7c-45eb-bc1b-f3692dd1aa86",
   "metadata": {},
   "outputs": [],
   "source": [
    "# correct_function_definition.py\n",
    "def my_function(a, b, *args, **kwargs):\n",
    "    pass"
   ]
  },
  {
   "cell_type": "code",
   "execution_count": 120,
   "id": "2d92336e-6370-4a09-b38f-6a882245aceb",
   "metadata": {},
   "outputs": [],
   "source": [
    "# simple test\n",
    "def show_args(a, b, *args, **kwargs):\n",
    "    print(f'a and b were {a} and {b}')\n",
    "    print(f'args were {args}')  # this is a tuple\n",
    "    print(f'kwargs were {kwargs}')  # this is a dictionary"
   ]
  },
  {
   "cell_type": "code",
   "execution_count": 121,
   "id": "4b516e2f-9242-437e-b0c0-4bfd7d4c5494",
   "metadata": {},
   "outputs": [
    {
     "name": "stdout",
     "output_type": "stream",
     "text": [
      "a and b were 2 and 3\n",
      "args were (4, 5, 6)\n",
      "kwargs were {'kw_1': 1, 'kw_2': 2}\n"
     ]
    },
    {
     "name": "stderr",
     "output_type": "stream",
     "text": [
      "17:56:10:328 INFO    : nt                  : server: client CONNECTED: 127.0.0.1 port 51371\n",
      "17:56:10:328 INFO    : nt                  : server: client CONNECTED: 127.0.0.1 port 51371\n",
      "17:56:10:328 INFO    : nt                  : server: client CONNECTED: 127.0.0.1 port 51371\n",
      "17:56:10:328 INFO    : nt                  : server: client CONNECTED: 127.0.0.1 port 51371\n",
      "18:06:00:845 INFO    : nt                  : server: client CONNECTED: 127.0.0.1 port 50996\n",
      "18:06:00:845 INFO    : nt                  : server: client CONNECTED: 127.0.0.1 port 50996\n",
      "18:06:00:845 INFO    : nt                  : server: client CONNECTED: 127.0.0.1 port 50996\n",
      "18:06:00:845 INFO    : nt                  : server: client CONNECTED: 127.0.0.1 port 50996\n",
      "18:36:55:905 INFO    : nt                  : server: client CONNECTED: 10.0.0.2 port 56358\n",
      "18:36:55:905 INFO    : nt                  : server: client CONNECTED: 10.0.0.2 port 56358\n",
      "18:36:55:905 INFO    : nt                  : server: client CONNECTED: 10.0.0.2 port 56358\n",
      "18:36:55:905 INFO    : nt                  : server: client CONNECTED: 10.0.0.2 port 56358\n",
      "18:36:58:819 INFO    : nt                  : server: client CONNECTED: 10.0.0.2 port 56360\n",
      "18:36:58:819 INFO    : nt                  : server: client CONNECTED: 10.0.0.2 port 56360\n",
      "18:36:58:819 INFO    : nt                  : server: client CONNECTED: 10.0.0.2 port 56360\n",
      "18:36:58:819 INFO    : nt                  : server: client CONNECTED: 10.0.0.2 port 56360\n"
     ]
    }
   ],
   "source": [
    "# where are my first two?\n",
    "show_args(2, 3, 4, 5, 6, kw_1=1, kw_2=2)"
   ]
  },
  {
   "cell_type": "markdown",
   "id": "17651522-4572-46d6-81cf-0be7507a4d75",
   "metadata": {},
   "source": [
    "___\n",
    "#### when else to use the unpacking operators"
   ]
  },
  {
   "cell_type": "code",
   "execution_count": 63,
   "id": "4f0960f6-b572-417c-8fec-297473b639c8",
   "metadata": {},
   "outputs": [
    {
     "data": {
      "text/plain": [
       "[0, 1, 2, 3, 4, 5, 6, 7, 8, 9]"
      ]
     },
     "execution_count": 63,
     "metadata": {},
     "output_type": "execute_result"
    }
   ],
   "source": [
    "digits = list(range(10))\n",
    "digits"
   ]
  },
  {
   "cell_type": "code",
   "execution_count": 64,
   "id": "eebedd76-3c4e-49e5-adb1-2434b22f3eeb",
   "metadata": {},
   "outputs": [
    {
     "name": "stdout",
     "output_type": "stream",
     "text": [
      "[0, 1, 2, 3, 4, 5, 6, 7, 8, 9]\n"
     ]
    }
   ],
   "source": [
    "print(digits)  # prints a list"
   ]
  },
  {
   "cell_type": "code",
   "execution_count": 65,
   "id": "3e194fb3-f0bc-4b11-9699-3da28409f750",
   "metadata": {},
   "outputs": [
    {
     "name": "stdout",
     "output_type": "stream",
     "text": [
      "0 1 2 3 4 5 6 7 8 9\n"
     ]
    }
   ],
   "source": [
    "# unpack the list \n",
    "print(*digits)  # same as print(1, 2, 3, 4...)"
   ]
  },
  {
   "cell_type": "code",
   "execution_count": 66,
   "id": "2f9f3cd8-3d68-4464-859a-c6eda59813ba",
   "metadata": {},
   "outputs": [
    {
     "name": "stdout",
     "output_type": "stream",
     "text": [
      "0 1 2 3\n"
     ]
    }
   ],
   "source": [
    "print(0,1,2,3)"
   ]
  },
  {
   "cell_type": "code",
   "execution_count": 67,
   "id": "3b2930c7-440b-41b6-b504-d953242760a7",
   "metadata": {},
   "outputs": [],
   "source": [
    "# more esoteric unpacking - middle can have any number of values, includong zero\n",
    "first, *middle, last = 'A long string'  # strings are iterables, so you can treat them like a list"
   ]
  },
  {
   "cell_type": "code",
   "execution_count": 68,
   "id": "eed8b4c8-c4d5-4355-ac86-3b8ad9f9893f",
   "metadata": {},
   "outputs": [
    {
     "name": "stdout",
     "output_type": "stream",
     "text": [
      "first: A \n",
      "middle: [' ', 'l', 'o', 'n', 'g', ' ', 's', 't', 'r', 'i', 'n'] \n",
      "last: g\n"
     ]
    }
   ],
   "source": [
    "print(f'first: {first} \\nmiddle: {middle} \\nlast: {last}')"
   ]
  },
  {
   "cell_type": "code",
   "execution_count": 69,
   "id": "7e5c6817-f0ea-48b0-bdf9-02ba2bbed8c9",
   "metadata": {},
   "outputs": [
    {
     "name": "stdout",
     "output_type": "stream",
     "text": [
      "first: h \n",
      "middle: [] \n",
      "last: i\n"
     ]
    }
   ],
   "source": [
    "first, *middle, last = 'hi'  # what will happen?\n",
    "print(f'first: {first} \\nmiddle: {middle} \\nlast: {last}')"
   ]
  },
  {
   "cell_type": "code",
   "execution_count": 89,
   "id": "68e6f097-73e1-4a81-8b60-4dba0e72bff2",
   "metadata": {},
   "outputs": [
    {
     "data": {
      "text/plain": [
       "['Michael', 'John', 'Nancy']"
      ]
     },
     "execution_count": 89,
     "metadata": {},
     "output_type": "execute_result"
    }
   ],
   "source": [
    "*names, = 'Michael', 'John', 'Nancy'  \n",
    "names   # just what we did with * args"
   ]
  },
  {
   "cell_type": "code",
   "execution_count": null,
   "id": "bcd0ac08-702b-42fc-bd9c-08c36028abfa",
   "metadata": {},
   "outputs": [],
   "source": [
    "names = ['Michael', 'John', 'Nancy']"
   ]
  },
  {
   "cell_type": "markdown",
   "id": "ad0142e2-198e-4f63-9d57-7dbc77f7da27",
   "metadata": {},
   "source": [
    "### now with dictionaries\n",
    "___"
   ]
  },
  {
   "cell_type": "code",
   "execution_count": 70,
   "id": "2efc9c85-a7fc-484b-a499-b53321242506",
   "metadata": {},
   "outputs": [],
   "source": [
    "def sum_ten(a, b, c, d, e, f, g, h, i, j):\n",
    "    return a + b + c + d + e + f + g + h + i + j"
   ]
  },
  {
   "cell_type": "code",
   "execution_count": 73,
   "id": "360c1051-99e4-4e9e-a66d-25a6356d27b8",
   "metadata": {},
   "outputs": [
    {
     "data": {
      "text/plain": [
       "'z'"
      ]
     },
     "execution_count": 73,
     "metadata": {},
     "output_type": "execute_result"
    }
   ],
   "source": [
    "chr(97+25)"
   ]
  },
  {
   "cell_type": "code",
   "execution_count": 75,
   "id": "47c610d6-fb8e-44e5-a454-3cd703ca1122",
   "metadata": {},
   "outputs": [
    {
     "data": {
      "text/plain": [
       "['a', 'b', 'c', 'd', 'e', 'f', 'g', 'h', 'i', 'j']"
      ]
     },
     "execution_count": 75,
     "metadata": {},
     "output_type": "execute_result"
    }
   ],
   "source": [
    "chars = [chr(i) for i in range(97, 97+10)]\n",
    "chars"
   ]
  },
  {
   "cell_type": "code",
   "execution_count": 76,
   "id": "f7741e69-cf76-4d80-8700-bfa4e98514f9",
   "metadata": {},
   "outputs": [
    {
     "data": {
      "text/plain": [
       "{'a': 0,\n",
       " 'b': 1,\n",
       " 'c': 2,\n",
       " 'd': 3,\n",
       " 'e': 4,\n",
       " 'f': 5,\n",
       " 'g': 6,\n",
       " 'h': 7,\n",
       " 'i': 8,\n",
       " 'j': 9}"
      ]
     },
     "execution_count": 76,
     "metadata": {},
     "output_type": "execute_result"
    }
   ],
   "source": [
    "char_dict = dict(zip(chars, digits))\n",
    "char_dict"
   ]
  },
  {
   "cell_type": "code",
   "execution_count": 77,
   "id": "33f376e6-94e7-4092-aa84-9ea31df23b6b",
   "metadata": {},
   "outputs": [
    {
     "name": "stdout",
     "output_type": "stream",
     "text": [
      "a b c d e f g h i j\n"
     ]
    }
   ],
   "source": [
    "print(*char_dict)"
   ]
  },
  {
   "cell_type": "code",
   "execution_count": 78,
   "id": "cdb03bc3-e7e0-41e2-ba97-1f20f0548a23",
   "metadata": {},
   "outputs": [
    {
     "ename": "TypeError",
     "evalue": "print() takes at most 4 keyword arguments (10 given)",
     "output_type": "error",
     "traceback": [
      "\u001b[1;31m---------------------------------------------------------------------------\u001b[0m",
      "\u001b[1;31mTypeError\u001b[0m                                 Traceback (most recent call last)",
      "Input \u001b[1;32mIn [78]\u001b[0m, in \u001b[0;36m<cell line: 1>\u001b[1;34m()\u001b[0m\n\u001b[1;32m----> 1\u001b[0m \u001b[38;5;28mprint\u001b[39m(\u001b[38;5;241m*\u001b[39m\u001b[38;5;241m*\u001b[39mchar_dict)\n",
      "\u001b[1;31mTypeError\u001b[0m: print() takes at most 4 keyword arguments (10 given)"
     ]
    }
   ],
   "source": [
    "print(**char_dict)"
   ]
  },
  {
   "cell_type": "code",
   "execution_count": 79,
   "id": "c6300451-1d2c-4421-9e51-61adefa0d633",
   "metadata": {},
   "outputs": [
    {
     "ename": "TypeError",
     "evalue": "sum_ten() missing 9 required positional arguments: 'b', 'c', 'd', 'e', 'f', 'g', 'h', 'i', and 'j'",
     "output_type": "error",
     "traceback": [
      "\u001b[1;31m---------------------------------------------------------------------------\u001b[0m",
      "\u001b[1;31mTypeError\u001b[0m                                 Traceback (most recent call last)",
      "Input \u001b[1;32mIn [79]\u001b[0m, in \u001b[0;36m<cell line: 2>\u001b[1;34m()\u001b[0m\n\u001b[0;32m      1\u001b[0m \u001b[38;5;66;03m# nope, the function does not allow a dictionary\u001b[39;00m\n\u001b[1;32m----> 2\u001b[0m \u001b[43msum_ten\u001b[49m\u001b[43m(\u001b[49m\u001b[43mchar_dict\u001b[49m\u001b[43m)\u001b[49m\n",
      "\u001b[1;31mTypeError\u001b[0m: sum_ten() missing 9 required positional arguments: 'b', 'c', 'd', 'e', 'f', 'g', 'h', 'i', and 'j'"
     ]
    }
   ],
   "source": [
    "# nope, the function does not allow a dictionary\n",
    "sum_ten(char_dict)"
   ]
  },
  {
   "cell_type": "code",
   "execution_count": 80,
   "id": "d0f2703c-3a8e-4f47-ab50-de59daa12649",
   "metadata": {},
   "outputs": [
    {
     "data": {
      "text/plain": [
       "'abcdefghij'"
      ]
     },
     "execution_count": 80,
     "metadata": {},
     "output_type": "execute_result"
    }
   ],
   "source": [
    "# gettting closer ...\n",
    "sum_ten(*char_dict)"
   ]
  },
  {
   "cell_type": "code",
   "execution_count": 81,
   "id": "e1771e53-f461-4325-9376-b83677d49675",
   "metadata": {},
   "outputs": [
    {
     "data": {
      "text/plain": [
       "45"
      ]
     },
     "execution_count": 81,
     "metadata": {},
     "output_type": "execute_result"
    },
    {
     "name": "stderr",
     "output_type": "stream",
     "text": [
      "15:50:54:496 INFO    : nt                  : server: client CONNECTED: 10.0.0.2 port 54564\n",
      "15:50:54:496 INFO    : nt                  : server: client CONNECTED: 10.0.0.2 port 54564\n",
      "15:50:54:496 INFO    : nt                  : server: client CONNECTED: 10.0.0.2 port 54564\n",
      "15:50:54:496 INFO    : nt                  : server: client CONNECTED: 10.0.0.2 port 54564\n"
     ]
    }
   ],
   "source": [
    "# pass a list of named values to a function \n",
    "sum_ten(**char_dict)"
   ]
  },
  {
   "cell_type": "code",
   "execution_count": 82,
   "id": "b2a72b91-8eea-4a3a-9b31-c3c008697b82",
   "metadata": {},
   "outputs": [
    {
     "data": {
      "text/plain": [
       "'__main__'"
      ]
     },
     "execution_count": 82,
     "metadata": {},
     "output_type": "execute_result"
    }
   ],
   "source": [
    "__name__"
   ]
  },
  {
   "cell_type": "code",
   "execution_count": null,
   "id": "baf5dabc-3f97-4194-a0b4-2d09f91ffc64",
   "metadata": {},
   "outputs": [],
   "source": []
  }
 ],
 "metadata": {
  "kernelspec": {
   "display_name": "Python 3 (ipykernel)",
   "language": "python",
   "name": "python3"
  },
  "language_info": {
   "codemirror_mode": {
    "name": "ipython",
    "version": 3
   },
   "file_extension": ".py",
   "mimetype": "text/x-python",
   "name": "python",
   "nbconvert_exporter": "python",
   "pygments_lexer": "ipython3",
   "version": "3.9.5"
  }
 },
 "nbformat": 4,
 "nbformat_minor": 5
}
