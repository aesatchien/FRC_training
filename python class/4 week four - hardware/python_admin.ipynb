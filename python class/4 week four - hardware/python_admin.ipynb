{
 "cells": [
  {
   "cell_type": "markdown",
   "id": "b0c64b24-6558-47f5-85ce-46e025847e8d",
   "metadata": {},
   "source": [
    "### Installing miniconda and environments  - 20220701 CJH\n",
    "#### Ostensibly to run robot code but it's good for everything else as well\n",
    "---\n",
    "* How to install your own python separate from Jupyter Desktop\n",
    "* slides are here: https://docs.google.com/presentation/d/1I9zLBFxzQQfoCT_rQM1h9BL_zonfC3Td5V-v-lqOAmo/edit#slide=id.p\n",
    "* instruction manual is here: https://docs.google.com/document/d/1oS4aMhn9Rf_kpubbQ_JGEtOcRR36LoU-QbJQERZtyIU/edit#"
   ]
  },
  {
   "cell_type": "markdown",
   "id": "d9adb81d-12a3-40d4-9eb1-cab0ee60daa0",
   "metadata": {},
   "source": [
    "#### go to https://docs.conda.io/en/latest/miniconda.html and choose the newest version for your OS\n",
    "* as of today it's python 3.9, available for windows and mac\n",
    "* download and install if you don't already have it\n",
    "* if you have Anaconda (Miniconda's bloated older sibling) that'll work too"
   ]
  },
  {
   "cell_type": "markdown",
   "id": "e9e7eb42-41dd-484d-abb9-c7c866254a56",
   "metadata": {},
   "source": [
    "#### you need a terminal to work in, and on windows get git bash https://git-scm.com/downloads\n",
    "* macs already have a great terminal \n",
    "* on windows you can use WSL (windows subsystem for linux) but it's not perfect yet \n",
    "* I have a slide for this - knowing the basic commands for a terminal"
   ]
  },
  {
   "cell_type": "markdown",
   "id": "a972845e-4e23-4787-bc11-63e87cf5b6e8",
   "metadata": {},
   "source": [
    "#### once miniconda is installed, you should have a python of your own\n",
    "* open up a git bash or a mac terminal\n",
    "* try typing `python --version` in your terminal"
   ]
  },
  {
   "cell_type": "markdown",
   "id": "c7053e63-4e6d-40c5-9363-97a2efc99453",
   "metadata": {
    "tags": []
   },
   "source": [
    "#### you can (optionally) make new environments if you will have multiple projects\n",
    "**environments are disposable!**\n",
    "* syntax is `conda create -n myenv python=3.9` where myenv is the name you choose\n",
    "* for instance: robot, science, web\n",
    "* if you want to see them all, type `conda env list`\n",
    "* or you can just do everything in one environemnt\n",
    "* don't like an environment, just delete and make another `conda remove --name myenv --all`"
   ]
  },
  {
   "cell_type": "markdown",
   "id": "b17609e3-af6b-45d3-9c7b-a3c72162402c",
   "metadata": {},
   "source": [
    "#### you can switch between environments\n",
    "* `conda deactivate` takes you back to base\n",
    "* `conda activate myenv` switches to myenv (or whatever name you choose)\n"
   ]
  },
  {
   "cell_type": "markdown",
   "id": "ea748e0f-1e4b-4d9b-8b7d-1893ff9ba4a7",
   "metadata": {},
   "source": [
    "#### pip and conda are package managers, you can get libraries with them\n",
    "* for instance if in your robot environment, you'd want a \n",
    "  * `pip install ipython robotpy[all]` (win, just this simple line should do it) \n",
    "    * or, for mac: `pip install -U robotpy` and\n",
    "    * `pip install robotpy-rev robotpy-navx robotpy-commands-v1 robotpy-commands-v2 robotpy-romi` (mac, maybe not all necessary)\n",
    "  * this should also work: `pip install robotpy[rev,navx,commands-v1,commands-v2,romi,halsim]` no spaces\n",
    "* in your science environment, you might want\n",
    "  * `pip install ipython numpy pandas matplotlib`\n",
    "* in your web environment, you might want \n",
    "  * `pip install ipython bs4 requests lxml`\n",
    "* if you are developing windows apps, you might want\n",
    "  * `pip install ipython pyqt5 pyqt5-tools`"
   ]
  },
  {
   "cell_type": "markdown",
   "id": "b8cde6c5-a80a-449b-876e-23c4bec94446",
   "metadata": {},
   "source": [
    "#### once this is done and installed, you can run the robot code yourself\n",
    "* clone it from https://github.com/aesatchien/FRC2429_2022\n",
    "* go into the robot directory and run `python robot.py sim`"
   ]
  },
  {
   "cell_type": "markdown",
   "id": "e33ca24f-7695-4a18-b3f7-6bd670cc3791",
   "metadata": {
    "tags": []
   },
   "source": [
    "---\n",
    "## Checklist\n",
    "1) have python installed somewhere you can get to it (miniconda or other)\n",
    "2) have a terminal you can use to execute commands (git bash or regular mac terminal)\n",
    "3) install necessary python packages (in base or custom environment) for running robot code \n",
    "4) download robot code\n",
    "5) run code from robot directory `python robot.py -sim`\n",
    "6) not really optional - have an IDE like pycharm or VScode for editing the code "
   ]
  },
  {
   "cell_type": "markdown",
   "id": "ad9a7c6e-f84b-4104-9011-728305f1ccaf",
   "metadata": {},
   "source": [
    "#### I have all of these items on the USB sticks"
   ]
  },
  {
   "cell_type": "code",
   "execution_count": null,
   "id": "58414674-08f6-4af5-abc8-7a408006d507",
   "metadata": {},
   "outputs": [],
   "source": []
  }
 ],
 "metadata": {
  "kernelspec": {
   "display_name": "Python 3 (ipykernel)",
   "language": "python",
   "name": "python3"
  },
  "language_info": {
   "codemirror_mode": {
    "name": "ipython",
    "version": 3
   },
   "file_extension": ".py",
   "mimetype": "text/x-python",
   "name": "python",
   "nbconvert_exporter": "python",
   "pygments_lexer": "ipython3",
   "version": "3.9.5"
  }
 },
 "nbformat": 4,
 "nbformat_minor": 5
}
