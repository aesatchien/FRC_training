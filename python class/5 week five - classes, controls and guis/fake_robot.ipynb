{
 "cells": [
  {
   "cell_type": "markdown",
   "id": "8e510a7b-938d-412c-87b5-da7b7b2bff41",
   "metadata": {},
   "source": [
    "### Classes review, and a toy robot  -- 20220708 CJH\n",
    "* Make a motor, and encoder and a robot\n",
    "* drive the (fake) robot\n",
    "* realize this is pretty much how it works for the FRC robot\n",
    "  * but with a lot more infrastructure\n",
    "  * a cool CommandScheduler to handle all the separate activities for us"
   ]
  },
  {
   "cell_type": "code",
   "execution_count": 1,
   "id": "4217e4b7-e576-4418-a5fd-94c98792f26d",
   "metadata": {},
   "outputs": [],
   "source": [
    "import time"
   ]
  },
  {
   "cell_type": "code",
   "execution_count": 2,
   "id": "7a0deebd-b025-4f38-aec4-25c3b549a60f",
   "metadata": {},
   "outputs": [],
   "source": [
    "import keyboard"
   ]
  },
  {
   "cell_type": "code",
   "execution_count": 3,
   "id": "96dc1a5f-b1e4-4836-8b63-3dc025bd6e7a",
   "metadata": {
    "tags": []
   },
   "outputs": [],
   "source": [
    "# if you don't have it\n",
    "#!pip install keyboard"
   ]
  },
  {
   "cell_type": "code",
   "execution_count": 7,
   "id": "eef4027c-6b7b-436f-b4b7-e58993a3207f",
   "metadata": {},
   "outputs": [
    {
     "name": "stdout",
     "output_type": "stream",
     "text": [
      "Last key pressed:space         \n",
      "Done\n"
     ]
    }
   ],
   "source": [
    "# play with the keyboard module for a sec - careful not to type all over stuff\n",
    "# more appropriate in a console than in jupyter cells\n",
    "start_time = time.time()\n",
    "while (time.time() - start_time) < 10:\n",
    "    key = keyboard.read_key()\n",
    "    print(f'Last key pressed:{key}         ', end='\\r')\n",
    "    time.sleep(0.1)\n",
    "print(f'\\nDone')                                 "
   ]
  },
  {
   "cell_type": "code",
   "execution_count": 8,
   "id": "b13688eb-9693-48d2-b740-f7878bf88405",
   "metadata": {},
   "outputs": [],
   "source": [
    "### make a class for a motor\n",
    "class Motor:\n",
    "    \n",
    "    def __init__(self, output_channel=1):\n",
    "        self.output_channel = output_channel  # channel for communicating OUT to the (imaginary) hardware\n",
    "        self.output = 0  # variable from -1 to 1 for % output\n",
    "    \n",
    "    def set_power(self, power):\n",
    "        self.output = power\n",
    "        # do something to the hardware channel to update the motor output\n",
    "        \n",
    "    def get_power(self):\n",
    "        return self.output"
   ]
  },
  {
   "cell_type": "code",
   "execution_count": 9,
   "id": "bdf2db48-cf48-4eeb-8863-12473aab19a1",
   "metadata": {},
   "outputs": [],
   "source": [
    "# make a class for an encoder \n",
    "class Encoder:\n",
    "    \n",
    "    def __init__(self, input_channels=(2,3), motor=None):\n",
    "        self.input_channels = input_channels # channel for communicating IN from the (imaginary) hardware\n",
    "        self.motor = motor  # cheat for this simple example\n",
    "        \n",
    "        self.counts = 0  # variable from -1 to 1 for % output\n",
    "        self.distance_per_pulse  = 1/128  # quiz: is this an integer or a float?\n",
    "        self.rate = 0\n",
    "        self.previous_counts = 0\n",
    "        self.previous_time = 0\n",
    "    \n",
    "    def get_counts(self):\n",
    "        return self.counts\n",
    "        \n",
    "    def get_distance(self):\n",
    "        return self.counts * self.distance_per_pulse\n",
    "    \n",
    "    def get_rate(self):\n",
    "        return self.rate\n",
    "        \n",
    "    def update(self):\n",
    "        # normally you would be just asking the hardware for this, but here's we're faking it\n",
    "        now = time.time()\n",
    "        self.counts += self.motor.get_power()  # just a toy example\n",
    "        self.rate = (self.counts - self.previous_counts) * self.distance_per_pulse / (now - self.previous_time)\n",
    "        self.previous_time = now\n",
    "        self.previous_counts = self.counts\n",
    "        "
   ]
  },
  {
   "cell_type": "code",
   "execution_count": 15,
   "id": "58d10ded-f00d-4299-bcd3-de84a3b54b58",
   "metadata": {},
   "outputs": [],
   "source": [
    "# make a robot class\n",
    "# note the structure of the while statement\n",
    "class Robot:\n",
    "   \n",
    "    def __init__(self, motor=None, encoder=None):\n",
    "        self.motor = motor\n",
    "        self.encoder = encoder\n",
    "        self.loop_time = 0.02\n",
    "        \n",
    "    def run(self):\n",
    "        print(f'Starting robot!')\n",
    "        start_time = time.time()\n",
    "        loop_counter = 0\n",
    "        \n",
    "        # while True:  this version runs forever, so may not be a good idea\n",
    "        while loop_counter < 1000:\n",
    "         \n",
    "            # check our inputs - in this case a keyboard instead of a joystick\n",
    "            if keyboard.is_pressed('q'):\n",
    "                break  # done with the while loop\n",
    "            elif keyboard.is_pressed(']'):\n",
    "                new_power = min(1, self.motor.get_power() + .05 )\n",
    "                self.motor.set_power(new_power)\n",
    "            elif keyboard.is_pressed('['):\n",
    "                new_power = max(-1, self.motor.get_power() - .05 )\n",
    "                self.motor.set_power(new_power)\n",
    "            else:\n",
    "                pass  # just for teaching purposes\n",
    "            \n",
    "            self.encoder.update()\n",
    "            \n",
    "            message = f'Time: {time.time()-start_time: 2.1f}  Robot distance: {self.encoder.get_distance(): 2.2f}  '\n",
    "            message += f'Rate:{self.encoder.get_rate(): 2.2f}  Motor output: {self.motor.get_power():+2.2f}     '\n",
    "            print(message, end='\\r')\n",
    "            \n",
    "            time.sleep(self.loop_time)\n",
    "            loop_counter += 1\n",
    "        \n",
    "        end_time = time.time()\n",
    "        print(f'\\nDisabling robot after {end_time - start_time:2.2f} s')\n",
    "        "
   ]
  },
  {
   "cell_type": "markdown",
   "id": "4c5df1b3-b3bf-41dd-9f8c-ab0d7483138f",
   "metadata": {},
   "source": [
    "#### now make a robot\n",
    "* instantiate a motor and an encoder\n",
    "* instantiate a robot with your motor and encoder"
   ]
  },
  {
   "cell_type": "code",
   "execution_count": 18,
   "id": "08029fac-dc82-48f7-a102-44d1abe8b7c0",
   "metadata": {},
   "outputs": [],
   "source": [
    "my_motor = Motor(1)\n",
    "my_encoder = Encoder((6,7), my_motor)"
   ]
  },
  {
   "cell_type": "code",
   "execution_count": 19,
   "id": "101b6355-3037-4baf-b7b9-ddbcee90089f",
   "metadata": {},
   "outputs": [],
   "source": [
    "my_robot = Robot(motor=my_motor, encoder=my_encoder)"
   ]
  },
  {
   "cell_type": "markdown",
   "id": "8d543516-2ecd-4225-aedd-2d88821c489c",
   "metadata": {},
   "source": [
    "#### run your robot\n",
    "* don't start typing in the next cell - hit escape if you need to\n",
    "* mapped q to quit, [ to slow down and ] to speed up"
   ]
  },
  {
   "cell_type": "code",
   "execution_count": 23,
   "id": "8a4f227e-525c-40d7-99f6-59970b247851",
   "metadata": {},
   "outputs": [
    {
     "name": "stdout",
     "output_type": "stream",
     "text": [
      "Starting robot!\n",
      "Time:  31.1  Robot distance:  12.04  Rate: 0.25  Motor output: +1.00     \n",
      "Disabling robot after 31.16 s\n"
     ]
    }
   ],
   "source": [
    "my_robot.run()"
   ]
  },
  {
   "cell_type": "markdown",
   "id": "298dabb7-6ef5-4a67-a75c-b4d6e719108a",
   "metadata": {},
   "source": [
    "#### that's kind of how the classes work in the robots we use\n",
    "* the classes for the components probably inherit from parent classes\n",
    "  * e.g. basic PWM, basic digital IO, basic analog voltage, basic human input "
   ]
  },
  {
   "cell_type": "markdown",
   "id": "e110cf9d-04cd-43f6-a86c-e9adcc82b77d",
   "metadata": {
    "tags": []
   },
   "source": [
    "---\n",
    "### let's add some telemetry"
   ]
  },
  {
   "cell_type": "code",
   "execution_count": 24,
   "id": "83c38013-9986-4919-9146-0c3cf4e6c94b",
   "metadata": {},
   "outputs": [],
   "source": [
    "import numpy as np\n",
    "import matplotlib.pyplot as plt"
   ]
  },
  {
   "cell_type": "code",
   "execution_count": 25,
   "id": "c82ae7d7-1767-4004-989e-eee885565aad",
   "metadata": {},
   "outputs": [],
   "source": [
    "# now with an extra set of data\n",
    "class Robot:\n",
    "   \n",
    "    def __init__(self, motor=None, encoder=None):\n",
    "        self.motor = motor\n",
    "        self.encoder = encoder\n",
    "        self.loop_time = 0.02\n",
    "        self.loop_counter = 0\n",
    "        \n",
    "        self.data_buffer_length = 1024\n",
    "        self.data = None\n",
    "   \n",
    "    def reset_data(self):\n",
    "        self.data = {'TIME':np.zeros(self.data_buffer_length), 'DISTANCE':np.zeros(self.data_buffer_length), \n",
    "                     'RATE':np.zeros(self.data_buffer_length)}\n",
    "        \n",
    "    def run(self):\n",
    "        print(f'Starting robot!')\n",
    "        start_time = time.time()\n",
    "        self.loop_counter = 0\n",
    "        self.reset_data()\n",
    "        \n",
    "        # while True:  this version runs forever, so may not be a good idea\n",
    "        while self.loop_counter < 1000:\n",
    "         \n",
    "            # check our inputs - in this case a keyboard instead of a joystick\n",
    "            if keyboard.is_pressed('q'):\n",
    "                break  # done with the while loop\n",
    "            elif keyboard.is_pressed(']'):\n",
    "                new_power = min(1, self.motor.get_power() + .05 )\n",
    "                self.motor.set_power(new_power)\n",
    "            elif keyboard.is_pressed('['):\n",
    "                new_power = max(-1, self.motor.get_power() - .05 )\n",
    "                self.motor.set_power(new_power)\n",
    "            else:\n",
    "                pass  # just for teaching purposes\n",
    "            \n",
    "            self.encoder.update()\n",
    "            \n",
    "            # write data - should protect this so we \n",
    "            self.data['TIME'][self.loop_counter] = time.time() - start_time\n",
    "            self.data['DISTANCE'][self.loop_counter] = self.encoder.get_distance()\n",
    "            self.data['RATE'][self.loop_counter] = self.encoder.get_rate()\n",
    "            \n",
    "            message = f'Time: {time.time()-start_time: 2.1f}  Robot distance: {self.encoder.get_distance(): 2.2f}  '\n",
    "            message += f'Rate:{self.encoder.get_rate(): 2.2f}  Motor output: {self.motor.get_power():+2.2f}     '\n",
    "            print(message, end='\\r')\n",
    "            \n",
    "            time.sleep(self.loop_time)\n",
    "            self.loop_counter += 1\n",
    "        \n",
    "        end_time = time.time()\n",
    "        print(f'\\nDisabling robot after {end_time - start_time:2.2f} s')\n",
    "        "
   ]
  },
  {
   "cell_type": "code",
   "execution_count": 26,
   "id": "d641b6de-3d40-47c7-ac0c-cf51ace8a1c0",
   "metadata": {},
   "outputs": [
    {
     "name": "stdout",
     "output_type": "stream",
     "text": [
      "Starting robot!\n",
      "Time:  31.1  Robot distance:  11.61  Rate:-0.25  Motor output: -1.00     \n",
      "Disabling robot after 31.16 s\n"
     ]
    }
   ],
   "source": [
    "my_robot = Robot(motor=my_motor, encoder=my_encoder)\n",
    "my_robot.run()"
   ]
  },
  {
   "cell_type": "code",
   "execution_count": 27,
   "id": "959aaa2a-3e8b-42c1-b5c2-64bf899b93ac",
   "metadata": {},
   "outputs": [
    {
     "data": {
      "text/plain": [
       "1000"
      ]
     },
     "execution_count": 27,
     "metadata": {},
     "output_type": "execute_result"
    }
   ],
   "source": [
    "my_robot.loop_counter"
   ]
  },
  {
   "cell_type": "code",
   "execution_count": 28,
   "id": "221390f5-8447-41a3-8523-85937f0f5500",
   "metadata": {},
   "outputs": [
    {
     "data": {
      "image/png": "[encoded data removed]",
      "text/plain": [
       "<Figure size 1008x432 with 1 Axes>"
      ]
     },
     "metadata": {
      "needs_background": "light"
     },
     "output_type": "display_data"
    }
   ],
   "source": [
    "fig, ax = plt.subplots(1,1, figsize = (14,6))\n",
    "fontsize = 18\n",
    "ax.plot(my_robot.data['TIME'][:my_robot.loop_counter], my_robot.data['DISTANCE'][:my_robot.loop_counter], label='distance')\n",
    "ax.set_title(f'Robot Telemetry', fontsize=fontsize)\n",
    "ax.annotate(f'Annotation could go here', xy=(1, 1), xytext=(0.05, 0.05), textcoords='axes fraction', fontsize=12)\n",
    "ax.set_xlabel('Time (s)',  fontsize=fontsize-2)\n",
    "ax.tick_params(axis='x', labelsize=12)\n",
    "ax.set_ylabel('Distance (units)', fontsize=fontsize-2)\n",
    "# ax.set_ylim([-1,1])\n",
    "ax.legend()\n",
    "plt.show()"
   ]
  },
  {
   "cell_type": "markdown",
   "id": "e7cb1779-7635-4fa0-9327-6faba34b14fc",
   "metadata": {},
   "source": [
    "### take suggestions from the class if time allows"
   ]
  },
  {
   "cell_type": "code",
   "execution_count": null,
   "id": "14f7d446-f171-4995-8dc0-3c8cae5a3664",
   "metadata": {},
   "outputs": [],
   "source": []
  }
 ],
 "metadata": {
  "kernelspec": {
   "display_name": "Python 3 (ipykernel)",
   "language": "python",
   "name": "python3"
  },
  "language_info": {
   "codemirror_mode": {
    "name": "ipython",
    "version": 3
   },
   "file_extension": ".py",
   "mimetype": "text/x-python",
   "name": "python",
   "nbconvert_exporter": "python",
   "pygments_lexer": "ipython3",
   "version": "3.9.5"
  }
 },
 "nbformat": 4,
 "nbformat_minor": 5
}
