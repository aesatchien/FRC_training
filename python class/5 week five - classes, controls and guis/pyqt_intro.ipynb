{
 "cells": [
  {
   "cell_type": "markdown",
   "id": "f701fdab-c225-4d39-9064-eb8548f96b84",
   "metadata": {},
   "source": [
    "### a taste of pyqt  20220702 CJH\n",
    "* QT is a universal windowing framework for any platform (windows, mac, linux, mobile)\n",
    "* https://www.qt.io/?hsLang=en"
   ]
  },
  {
   "cell_type": "code",
   "execution_count": null,
   "id": "dadf3dff-8b7b-4d24-a235-29b67421ef99",
   "metadata": {},
   "outputs": [],
   "source": [
    "# if you don't have it you'll need to uncomment and run this\n",
    "#!pip install pyqt5"
   ]
  },
  {
   "cell_type": "code",
   "execution_count": 1,
   "id": "e35fdee2-a61c-4ba3-bfb9-f1eed433fcd5",
   "metadata": {},
   "outputs": [],
   "source": [
    "import sys\n",
    "from PyQt5.QtWidgets import QApplication, QWidget, QLabel, QPushButton, QMenuBar, QAction, QMenu\n",
    "from PyQt5.QtGui import QIcon\n",
    "from PyQt5.QtCore import pyqtSlot"
   ]
  },
  {
   "cell_type": "markdown",
   "id": "5aa5cd8c-cdfd-4223-a305-6979b44809a0",
   "metadata": {
    "tags": []
   },
   "source": [
    "#### hello world\n",
    "https://pythonbasics.org/pyqt-hello-world/"
   ]
  },
  {
   "cell_type": "code",
   "execution_count": 2,
   "id": "b9761b8d-9559-4dc8-ab09-f97e161f39a5",
   "metadata": {},
   "outputs": [],
   "source": [
    "def window():\n",
    "    app = QApplication(sys.argv)\n",
    "    widget = QWidget()\n",
    "\n",
    "    textLabel = QLabel(widget)\n",
    "    textLabel.setText(\"Hello World!\")\n",
    "    textLabel.move(110,85)\n",
    "\n",
    "    widget.setGeometry(50,50,320,200)\n",
    "    widget.setWindowTitle(\"PyQt5 Example\")\n",
    "    widget.show()\n",
    "    sys.exit(app.exec_())"
   ]
  },
  {
   "cell_type": "markdown",
   "id": "e18cd72c-6e61-4363-afcd-cce63f271182",
   "metadata": {},
   "source": [
    "#### this is supposed to be done in a script, not jupyter\n",
    "* in the script, you'll have a `if __name__ == \"__main__\":`\n",
    "* clause and then you'll call the window there"
   ]
  },
  {
   "cell_type": "code",
   "execution_count": 3,
   "id": "cd70dc71-3bfa-40b2-b7d5-3bd40959f9e0",
   "metadata": {},
   "outputs": [
    {
     "ename": "SystemExit",
     "evalue": "0",
     "output_type": "error",
     "traceback": [
      "An exception has occurred, use %tb to see the full traceback.\n",
      "\u001b[1;31mSystemExit\u001b[0m\u001b[1;31m:\u001b[0m 0\n"
     ]
    },
    {
     "name": "stderr",
     "output_type": "stream",
     "text": [
      "C:\\Users\\cjhill\\Miniconda3\\envs\\robo2022\\lib\\site-packages\\IPython\\core\\interactiveshell.py:3377: UserWarning: To exit: use 'exit', 'quit', or Ctrl-D.\n",
      "  warn(\"To exit: use 'exit', 'quit', or Ctrl-D.\", stacklevel=1)\n"
     ]
    }
   ],
   "source": [
    "window()"
   ]
  },
  {
   "cell_type": "markdown",
   "id": "acd61961-74b9-4c21-a9ff-32246872285e",
   "metadata": {},
   "source": [
    "### button example\n",
    "https://pythonbasics.org/pyqt-buttons/"
   ]
  },
  {
   "cell_type": "code",
   "execution_count": 6,
   "id": "d907ce1e-2476-4111-88e6-0d6b2dcb6e93",
   "metadata": {},
   "outputs": [],
   "source": [
    "def window():\n",
    "    app = QApplication(sys.argv)\n",
    "    widget = QWidget()\n",
    "\n",
    "    button1 = QPushButton(widget)\n",
    "    button1.setText(\"Button1\")\n",
    "    button1.move(64,32)\n",
    "    button1.clicked.connect(button1_clicked)\n",
    "\n",
    "    button2 = QPushButton(widget)\n",
    "    button2.setText(\"Button2\")\n",
    "    button2.move(64,64)\n",
    "    button2.clicked.connect(lambda:print('Button 2 clicked with lambda'))\n",
    "\n",
    "    widget.setGeometry(50,50,320,200)\n",
    "    widget.setWindowTitle(\"PyQt5 Button Click Example\")\n",
    "    widget.show()\n",
    "    sys.exit(app.exec_())\n",
    "\n",
    "\n",
    "def button1_clicked():\n",
    "    print(\"Button 1 clicked with a function call\")\n"
   ]
  },
  {
   "cell_type": "code",
   "execution_count": 7,
   "id": "b729c75e-bfa7-4b84-be43-fe4679010a9d",
   "metadata": {},
   "outputs": [
    {
     "name": "stdout",
     "output_type": "stream",
     "text": [
      "Button 2 clicked with lambda\n",
      "Button 1 clicked with a function call\n",
      "Button 2 clicked with lambda\n"
     ]
    },
    {
     "ename": "SystemExit",
     "evalue": "0",
     "output_type": "error",
     "traceback": [
      "An exception has occurred, use %tb to see the full traceback.\n",
      "\u001b[1;31mSystemExit\u001b[0m\u001b[1;31m:\u001b[0m 0\n"
     ]
    }
   ],
   "source": [
    "window()"
   ]
  },
  {
   "cell_type": "code",
   "execution_count": 8,
   "id": "a71832a2-bf48-4d46-aaa4-dcd8dbe49db5",
   "metadata": {},
   "outputs": [],
   "source": [
    "def window():\n",
    "    app = QApplication(sys.argv)\n",
    "    widget = QWidget()\n",
    "   \n",
    "    menu_bar = QMenuBar(widget)\n",
    "    #app.setMenuBar(menu_bar)\n",
    "    file_menu = QMenu(\"&File\",)\n",
    "    menu_bar.addMenu(file_menu)\n",
    "    edit_menu = QMenu(\"&Edit\",)\n",
    "    menu_bar.addMenu(edit_menu)\n",
    "    \n",
    "    print_action = QAction(\"&Say hello...\", widget)\n",
    "    file_menu.addAction(print_action)\n",
    "    print_action.triggered.connect(menu_item_triggered)\n",
    "    \n",
    "    widget.setGeometry(50,50,320,200)\n",
    "    widget.setWindowTitle(\"PyQt5 Menu Item Example\")\n",
    "    widget.show()\n",
    "    sys.exit(app.exec_())\n",
    "\n",
    "    \n",
    "\n",
    "def menu_item_triggered():\n",
    "    print(\"Menu item triggered with a function call\")"
   ]
  },
  {
   "cell_type": "code",
   "execution_count": 9,
   "id": "25f32eee-ee68-4880-acc4-afc1fd75c31f",
   "metadata": {},
   "outputs": [
    {
     "name": "stdout",
     "output_type": "stream",
     "text": [
      "Menu item triggered with a function call\n"
     ]
    },
    {
     "ename": "SystemExit",
     "evalue": "0",
     "output_type": "error",
     "traceback": [
      "An exception has occurred, use %tb to see the full traceback.\n",
      "\u001b[1;31mSystemExit\u001b[0m\u001b[1;31m:\u001b[0m 0\n"
     ]
    }
   ],
   "source": [
    "window()"
   ]
  },
  {
   "cell_type": "markdown",
   "id": "070272c2-4588-45c4-a7fd-675ccd89aaee",
   "metadata": {},
   "source": [
    "#### never add widgets by hand - use a ui manager\n",
    "* manages you layout for you so you don't have to do it in code\n",
    "* only code the functions you want to assign"
   ]
  },
  {
   "cell_type": "code",
   "execution_count": 10,
   "id": "666c74ed-6e65-49b5-ab6f-bca074ff93e7",
   "metadata": {},
   "outputs": [],
   "source": [
    "#!pip install pyqt5-tools"
   ]
  },
  {
   "cell_type": "code",
   "execution_count": null,
   "id": "103365f1-c374-4d05-b22f-57d754ed8628",
   "metadata": {},
   "outputs": [],
   "source": [
    "# normally you do this from a console\n",
    "!pyqt5-tools.exe designer"
   ]
  },
  {
   "cell_type": "markdown",
   "id": "2a968eef-6d2f-4450-9c83-7344191d2a24",
   "metadata": {},
   "source": [
    "### save this text as a file and then run from the command line\n",
    "* jupyter is not the right tool for this\n",
    "* but jupyter can do it - just do File -> New -> Python File \n",
    "* pycharm or vscode is the better way to go"
   ]
  },
  {
   "cell_type": "raw",
   "id": "e5a0b8dd-891f-4514-a8d7-a7a690bcb952",
   "metadata": {},
   "source": [
    "import sys\n",
    "from PyQt5.QtWidgets import QApplication, QWidget, QPushButton\n",
    "from PyQt5.QtGui import QIcon\n",
    "from PyQt5.QtCore import pyqtSlot\n",
    "\n",
    "def window():\n",
    "   app = QApplication(sys.argv)\n",
    "   widget = QWidget()\n",
    "   \n",
    "   button1 = QPushButton(widget)\n",
    "   button1.setText(\"Button1\")\n",
    "   button1.move(64,32)\n",
    "   button1.clicked.connect(button1_clicked)\n",
    "\n",
    "   button2 = QPushButton(widget)\n",
    "   button2.setText(\"Button2\")\n",
    "   button2.move(64,64)\n",
    "   button2.clicked.connect(button2_clicked)\n",
    "\n",
    "   widget.setGeometry(50,50,320,200)\n",
    "   widget.setWindowTitle(\"PyQt5 Button Click Example\")\n",
    "   widget.show()\n",
    "   sys.exit(app.exec_())\n",
    "\n",
    "\n",
    "def button1_clicked():\n",
    "   print(\"Button 1 clicked\")\n",
    "\n",
    "def button2_clicked():\n",
    "   print(\"Button 2 clicked\")   \n",
    "   \n",
    "if __name__ == '__main__':\n",
    "   window()"
   ]
  }
 ],
 "metadata": {
  "kernelspec": {
   "display_name": "Python [conda env:robo2022]",
   "language": "python",
   "name": "conda-env-robo2022-py"
  },
  "language_info": {
   "codemirror_mode": {
    "name": "ipython",
    "version": 3
   },
   "file_extension": ".py",
   "mimetype": "text/x-python",
   "name": "python",
   "nbconvert_exporter": "python",
   "pygments_lexer": "ipython3",
   "version": "3.9.0"
  }
 },
 "nbformat": 4,
 "nbformat_minor": 5
}
