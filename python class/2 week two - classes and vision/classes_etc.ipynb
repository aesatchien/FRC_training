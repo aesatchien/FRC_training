{
 "cells": [
  {
   "cell_type": "markdown",
   "id": "4e810a87-7a1e-46b4-86ee-baf6cebbe690",
   "metadata": {},
   "source": [
    "### Make-up from session 1  - 2022 0617 CJH"
   ]
  },
  {
   "cell_type": "markdown",
   "id": "451140ce-9105-4641-842f-5379ac37150b",
   "metadata": {
    "tags": []
   },
   "source": [
    "### Classes and \"object oriented programming\" \n",
    "* Classes are a collection of functions and variables bundled together for convenience\n",
    "  * Functions in classes are (often) called members\n",
    "  * Variables are often called attributes\n",
    "* An **object** is an instance of a class. The class is a blueprint or template from which objects are created.\n",
    "* This is one of the only times we use **capital letters** in Python  - (because they are important)\n",
    "* You can build new classes from old ones, and that makes them very good as reusable templates\n",
    "* **You address members and attributes with the dot \".\" operator**  (Oh, so strings are classes too?  Everything in python is.)\n",
    "* There is a LOT to learn about classes.  This is the most basic intro.\n",
    "* _ _init_ _ is necessary if we want to construct with variables passed in and setting up unique attributes"
   ]
  },
  {
   "cell_type": "markdown",
   "id": "937a23a3-3ba3-44b8-a62e-001f679e470d",
   "metadata": {},
   "source": [
    "#### a class example - note the use of 'self' in all functions and in defining member variables"
   ]
  },
  {
   "cell_type": "code",
   "execution_count": 4,
   "id": "262fb393-72eb-4614-ae17-0b3f5decc4a6",
   "metadata": {},
   "outputs": [],
   "source": [
    "# classes start with the class keyword and follow similare Python rules for blocks (colon and indents)\n",
    "class MyFirstClass:\n",
    "    def __init__(self, name):  # __init__() is a SPECIAL class function that initializes the instance\n",
    "        self.name = name  # this is an example of a class member variable, often called an attribute\n",
    "\n",
    "    def greet(self):  # here is another class function.  Note ALL class functions take the default argument \"self\"\n",
    "        print(f'Hello {self.name}!')"
   ]
  },
  {
   "cell_type": "code",
   "execution_count": 7,
   "id": "50acd165-723d-410a-aeb5-8271b4c602e2",
   "metadata": {},
   "outputs": [],
   "source": [
    "# create an instance of the class\n",
    "alice = MyFirstClass(name='Alice')  "
   ]
  },
  {
   "cell_type": "code",
   "execution_count": 8,
   "id": "8ba85410-7c46-457d-9d49-d86206553bcc",
   "metadata": {},
   "outputs": [
    {
     "name": "stdout",
     "output_type": "stream",
     "text": [
      "Hello Alice!\n"
     ]
    }
   ],
   "source": [
    "# call the member function\n",
    "alice.greet()"
   ]
  },
  {
   "cell_type": "code",
   "execution_count": 9,
   "id": "b544642b-9790-48ba-9263-9b6b6f12b235",
   "metadata": {},
   "outputs": [
    {
     "data": {
      "text/plain": [
       "'Alice'"
      ]
     },
     "execution_count": 9,
     "metadata": {},
     "output_type": "execute_result"
    }
   ],
   "source": [
    "# ask for a member attribute\n",
    "alice.name"
   ]
  },
  {
   "cell_type": "markdown",
   "id": "16ee5733-b676-48d4-97f7-b7a3d7c1b5bf",
   "metadata": {},
   "source": [
    "#### a slightly more useful example: a Circle \n",
    "A circle has natural attributes and functions that apply to it"
   ]
  },
  {
   "cell_type": "code",
   "execution_count": 10,
   "id": "662bc4a1-ce68-4ff6-9248-3eedfeb72978",
   "metadata": {},
   "outputs": [],
   "source": [
    "class Circle:\n",
    "    def __init__(self, radius):\n",
    "        self.pi = 3.14159\n",
    "        # very common to name the class attribute the same as the parameter passed in - reduces confusion\n",
    "        self.radius = radius  # note how this is passed in when we instantiate a new Circle\n",
    "\n",
    "    def area(self):\n",
    "        return self.pi * self.radius**2\n",
    "\n",
    "    def circumference(self):\n",
    "        return 2*self.pi * self.radius"
   ]
  },
  {
   "cell_type": "code",
   "execution_count": 12,
   "id": "43a37f83-6ecf-4806-8377-020b53e3efbb",
   "metadata": {},
   "outputs": [
    {
     "data": {
      "text/plain": [
       "<__main__.Circle at 0x1c0b1dc3be0>"
      ]
     },
     "execution_count": 12,
     "metadata": {},
     "output_type": "execute_result"
    }
   ],
   "source": [
    "my_circle = Circle(2)\n",
    "my_circle  # tells you it is an object in the main program at a specific location in memory"
   ]
  },
  {
   "cell_type": "code",
   "execution_count": 13,
   "id": "7ce950df-049c-4def-aaf1-854f78519f87",
   "metadata": {},
   "outputs": [
    {
     "data": {
      "text/plain": [
       "3.14159"
      ]
     },
     "execution_count": 13,
     "metadata": {},
     "output_type": "execute_result"
    }
   ],
   "source": [
    "my_circle.pi"
   ]
  },
  {
   "cell_type": "code",
   "execution_count": 17,
   "id": "35e7b809-f17f-43a5-8ab2-220602be74a2",
   "metadata": {},
   "outputs": [
    {
     "data": {
      "text/plain": [
       "2"
      ]
     },
     "execution_count": 17,
     "metadata": {},
     "output_type": "execute_result"
    }
   ],
   "source": [
    "my_circle.radius  # use the tab key after the . to have the IDE find this for you"
   ]
  },
  {
   "cell_type": "code",
   "execution_count": 18,
   "id": "cd827310-394e-4c7c-bb82-b594a0efee74",
   "metadata": {},
   "outputs": [
    {
     "data": {
      "text/plain": [
       "(12.56636, 12.56636)"
      ]
     },
     "execution_count": 18,
     "metadata": {},
     "output_type": "execute_result"
    }
   ],
   "source": [
    "my_circle.area(), my_circle.circumference()"
   ]
  },
  {
   "cell_type": "markdown",
   "id": "e8baa507-376c-4d2a-b5b3-707bda2de587",
   "metadata": {},
   "source": [
    "#### Think back about strings, lists, even floats and ints\n",
    "* They all used the dot operator to access member attributes (values) and functions\n",
    "* Inside python, they're all classes"
   ]
  },
  {
   "cell_type": "markdown",
   "id": "40941af9-05f3-49af-bc34-9857dacac304",
   "metadata": {},
   "source": [
    "### Class inheritance\n",
    "* You will see this **all the time** in the robot code (and everywhere else too)\n",
    "* We take a template and modify existing ones or extend it with custom functions\n",
    "* The new class is the **child** and the class it came from is the **parent**\n",
    "* There is a bit of arcane syntax that initializes the parent and from the child (not covered here)"
   ]
  },
  {
   "cell_type": "code",
   "execution_count": 20,
   "id": "ebee6d84-00c5-4c32-b72f-cabd478d8f6b",
   "metadata": {},
   "outputs": [],
   "source": [
    "class Animal:\n",
    "    def greet(self):\n",
    "        print('Hello, I am an animal')\n",
    "\n",
    "    def favorite_food(self):\n",
    "        return 'organic matter'\n",
    "\n",
    "# now the Dog class is a child of Animal\n",
    "class Dog(Animal):\n",
    "    def greet(self):\n",
    "        print('wof wof')\n",
    "\n",
    "\n",
    "class Cat(Animal):\n",
    "    def favorite_food(self):\n",
    "        return 'fish'"
   ]
  },
  {
   "cell_type": "code",
   "execution_count": 27,
   "id": "e5a6decf-d911-4eef-84ce-6daad12ae943",
   "metadata": {},
   "outputs": [
    {
     "name": "stdout",
     "output_type": "stream",
     "text": [
      "Dog stuff:\n",
      "A dog says:\n",
      "wof wof\n",
      "Dog's favorite food is 'organic matter'\n",
      "\n",
      "Cat stuff:\n",
      "A cat says:\n",
      "Hello, I am an animal\n",
      "Cat's favorite food is 'fish'\n"
     ]
    }
   ],
   "source": [
    "print('Dog stuff:')\n",
    "dog = Dog()\n",
    "print('A dog says:') \n",
    "dog.greet()\n",
    "print(f\"Dog's favorite food is '{dog.favorite_food()}'\")\n",
    "\n",
    "print('\\nCat stuff:')\n",
    "cat = Cat()\n",
    "print('A cat says:') \n",
    "cat.greet()\n",
    "print(f\"Cat's favorite food is '{cat.favorite_food()}'\")"
   ]
  },
  {
   "cell_type": "markdown",
   "id": "7ca379a1-601f-4f01-866f-74ee5cddc437",
   "metadata": {
    "tags": []
   },
   "source": [
    "#### We will do a lot more with classes later\n",
    "* Motors, encoders, joysticks, drivetrains - all use a class template\n",
    "* Image processing pipelines are much better as classes\n",
    "* Anything complicated is better as a class\n",
    "  * Don't neeed global variables\n",
    "  * Don't have to worry about scope - the instance has access to everything it needs to know about itself\n",
    "  * Can reuse a class once (top level GUI) or hundreds of times"
   ]
  },
  {
   "cell_type": "markdown",
   "id": "c0725da6-edb3-4f57-8084-4d439f89e260",
   "metadata": {},
   "source": [
    "#### real-world example"
   ]
  },
  {
   "cell_type": "code",
   "execution_count": 86,
   "id": "7628504a-76f3-4de4-805a-adb7106ecef8",
   "metadata": {},
   "outputs": [],
   "source": [
    "import random"
   ]
  },
  {
   "cell_type": "code",
   "execution_count": 87,
   "id": "3fe7f61d-e631-44b2-ba78-b8a68b21691c",
   "metadata": {},
   "outputs": [],
   "source": [
    "class Card:\n",
    "    \n",
    "    def __init__(self, suit, value):\n",
    "        self.suit = suit\n",
    "        self.value = value\n",
    "    \n",
    "    def show(self):\n",
    "        print(f'{self.value} of {self.suit}')"
   ]
  },
  {
   "cell_type": "code",
   "execution_count": 88,
   "id": "2e8eca2e-dabe-4aec-b794-4799509556f6",
   "metadata": {},
   "outputs": [],
   "source": [
    "class Deck:\n",
    "    \n",
    "    def __init__(self):\n",
    "        self.remaining_cards = []\n",
    "        self.used_cards = []\n",
    "        self.build()\n",
    "    \n",
    "    def draw(self):\n",
    "        count = len(self.remaining_cards)\n",
    "        # print(f'Count is {count}')\n",
    "        if count > 0:\n",
    "            card = self.remaining_cards.pop(random.randint(0,count-1))\n",
    "            self.used_cards.append(card)\n",
    "            card.show()\n",
    "        else:\n",
    "            print('Out of cards.')\n",
    "    \n",
    "    def build(self):\n",
    "        self.used_cards = []\n",
    "        self.remaining_cards = []\n",
    "        suits = ['clubs', 'diamonds', 'hearts', 'spades']\n",
    "        values = [str(i) for i in range(2,11)] + ['jack', 'queen', 'king', 'ace']\n",
    "        for suit in suits:\n",
    "            for value in values:\n",
    "                self.remaining_cards.append(Card(suit,value))"
   ]
  },
  {
   "cell_type": "code",
   "execution_count": 89,
   "id": "db5f3df0-aa72-40bf-82d3-8a6faf27a8dd",
   "metadata": {},
   "outputs": [],
   "source": [
    "deck = Deck()"
   ]
  },
  {
   "cell_type": "code",
   "execution_count": 90,
   "id": "80121d5a-91de-466e-8edf-034d25416a43",
   "metadata": {},
   "outputs": [
    {
     "name": "stdout",
     "output_type": "stream",
     "text": [
      "8 of clubs\n",
      "4 of diamonds\n",
      "king of diamonds\n",
      "8 of spades\n",
      "ace of clubs\n",
      "jack of hearts\n",
      "9 of diamonds\n",
      "queen of hearts\n",
      "4 of hearts\n",
      "queen of spades\n",
      "king of hearts\n",
      "5 of spades\n",
      "5 of hearts\n",
      "king of spades\n",
      "3 of diamonds\n",
      "jack of clubs\n",
      "king of clubs\n",
      "7 of diamonds\n",
      "4 of spades\n",
      "3 of clubs\n",
      "6 of spades\n",
      "jack of spades\n",
      "jack of diamonds\n",
      "9 of spades\n",
      "5 of clubs\n",
      "7 of clubs\n",
      "2 of hearts\n",
      "10 of hearts\n",
      "6 of diamonds\n",
      "3 of spades\n",
      "10 of spades\n",
      "8 of diamonds\n",
      "2 of clubs\n",
      "10 of diamonds\n",
      "8 of hearts\n",
      "10 of clubs\n",
      "2 of diamonds\n",
      "5 of diamonds\n",
      "9 of hearts\n",
      "2 of spades\n",
      "6 of hearts\n",
      "7 of spades\n",
      "ace of hearts\n",
      "ace of spades\n",
      "3 of hearts\n",
      "7 of hearts\n",
      "6 of clubs\n",
      "ace of diamonds\n",
      "9 of clubs\n",
      "4 of clubs\n",
      "queen of clubs\n",
      "queen of diamonds\n",
      "Out of cards.\n",
      "Out of cards.\n"
     ]
    }
   ],
   "source": [
    "_ = [deck.draw() for i in range(54)]"
   ]
  },
  {
   "cell_type": "code",
   "execution_count": 91,
   "id": "b294ddef-c537-4fb0-8fb2-de9d388dda6b",
   "metadata": {},
   "outputs": [],
   "source": [
    "deck.build()"
   ]
  },
  {
   "cell_type": "code",
   "execution_count": 92,
   "id": "f040b924-0c7d-4d0a-a6d2-cdfbeca0f9e4",
   "metadata": {},
   "outputs": [
    {
     "name": "stdout",
     "output_type": "stream",
     "text": [
      "king of clubs\n"
     ]
    }
   ],
   "source": [
    "deck.draw()"
   ]
  },
  {
   "cell_type": "markdown",
   "id": "6fb159b2-333a-498a-9770-ec5e0b23a64e",
   "metadata": {},
   "source": [
    "---\n",
    "### List comprehension\n",
    "* the most \"pythonic\" of the cool things you do with python\n",
    "* it's a one-line for statement that can give you a list of computations\n",
    "* looks like this: \n",
    "  * [f(x) for x in sequence]\n",
    "  * [f(x) for x in sequence if condition]\n",
    "  * [f(x) if condition else g(x) for x in sequence]"
   ]
  },
  {
   "cell_type": "code",
   "execution_count": 177,
   "id": "f507a0fd-b597-4f13-a458-b2489db4f295",
   "metadata": {},
   "outputs": [
    {
     "data": {
      "text/plain": [
       "[0, 1, 4, 9, 16, 25, 36, 49, 64, 81]"
      ]
     },
     "execution_count": 177,
     "metadata": {},
     "output_type": "execute_result"
    }
   ],
   "source": [
    "squares = [i**2 for i in range(10)]\n",
    "squares"
   ]
  },
  {
   "cell_type": "code",
   "execution_count": 178,
   "id": "0d356a7d-f94a-4ed7-8d6c-058c5e448550",
   "metadata": {
    "tags": []
   },
   "outputs": [
    {
     "data": {
      "text/plain": [
       "[0, 2, 4, 6, 8, 10, 12, 14, 16, 18]"
      ]
     },
     "execution_count": 178,
     "metadata": {},
     "output_type": "execute_result"
    }
   ],
   "source": [
    "even_numbers = [i for i in range(20) if i%2==0]\n",
    "even_numbers"
   ]
  },
  {
   "cell_type": "code",
   "execution_count": 179,
   "id": "0bce3dc0-d2b2-488e-b7c1-be18c00a910f",
   "metadata": {},
   "outputs": [
    {
     "data": {
      "text/plain": [
       "[0, 7, 2, 7, 4, 7, 6, 7, 8, 7, 10, 7, 12, 7, 14, 7, 16, 7, 18, 7]"
      ]
     },
     "execution_count": 179,
     "metadata": {},
     "output_type": "execute_result"
    }
   ],
   "source": [
    "# maybe I only consider one odd number acceptable\n",
    "special_numbers = [i if i%2==0 else 7 for i in range(20)]\n",
    "special_numbers"
   ]
  },
  {
   "cell_type": "code",
   "execution_count": 182,
   "id": "b424d889-f7c2-4991-bfff-256bd266d436",
   "metadata": {},
   "outputs": [
    {
     "name": "stdout",
     "output_type": "stream",
     "text": [
      "hello hello hello hello "
     ]
    },
    {
     "data": {
      "text/plain": [
       "[None, None, None, None]"
      ]
     },
     "execution_count": 182,
     "metadata": {},
     "output_type": "execute_result"
    }
   ],
   "source": [
    "# this is a bit annoying\n",
    "[print('hello', end=\" \") for i in range(4)]"
   ]
  },
  {
   "cell_type": "code",
   "execution_count": 183,
   "id": "e7e5395f-6a91-434a-9fdf-1b31cb2dc7c8",
   "metadata": {},
   "outputs": [
    {
     "name": "stdout",
     "output_type": "stream",
     "text": [
      "hello hello hello hello "
     ]
    }
   ],
   "source": [
    "# by convention an underscore (alone) is a dummy variable\n",
    "_ = [print('hello', end=\" \") for i in range(4)]"
   ]
  },
  {
   "cell_type": "markdown",
   "id": "d0f7eb8d-fdf6-42a1-a03c-6210da616e1e",
   "metadata": {},
   "source": [
    "---\n",
    "### Try-except\n",
    "* Catch errors so the code does not die\n",
    "* optionally can end with a `finally` clause"
   ]
  },
  {
   "cell_type": "code",
   "execution_count": 116,
   "id": "02b04974-f31a-45a7-8603-4dc5ff8ec75f",
   "metadata": {},
   "outputs": [
    {
     "ename": "ZeroDivisionError",
     "evalue": "division by zero",
     "output_type": "error",
     "traceback": [
      "\u001b[1;31m---------------------------------------------------------------------------\u001b[0m",
      "\u001b[1;31mZeroDivisionError\u001b[0m                         Traceback (most recent call last)",
      "\u001b[1;32m~\\AppData\\Local\\Temp\\1/ipykernel_8436/3573414940.py\u001b[0m in \u001b[0;36m<module>\u001b[1;34m\u001b[0m\n\u001b[1;32m----> 1\u001b[1;33m \u001b[0mx\u001b[0m \u001b[1;33m/\u001b[0m \u001b[1;36m0\u001b[0m\u001b[1;33m\u001b[0m\u001b[1;33m\u001b[0m\u001b[0m\n\u001b[0m",
      "\u001b[1;31mZeroDivisionError\u001b[0m: division by zero"
     ]
    }
   ],
   "source": [
    " x / 0"
   ]
  },
  {
   "cell_type": "code",
   "execution_count": 128,
   "id": "149987ff-f7ef-4b32-a155-bfcfff5b876a",
   "metadata": {},
   "outputs": [
    {
     "name": "stdout",
     "output_type": "stream",
     "text": [
      " Unable to execute that command: <class 'ZeroDivisionError'>: division by zero\n"
     ]
    }
   ],
   "source": [
    "try:\n",
    "    x / 0\n",
    "except Exception as e:  # generic exception, catches them all\n",
    "    print(f' Unable to execute that command: {type(e)}: {e}')\n",
    "    "
   ]
  },
  {
   "cell_type": "code",
   "execution_count": 129,
   "id": "a6ec1a51-035e-4771-ab58-525c52120962",
   "metadata": {},
   "outputs": [
    {
     "name": "stdout",
     "output_type": "stream",
     "text": [
      "Unable to execute that command: division by zero\n"
     ]
    }
   ],
   "source": [
    "try:\n",
    "    x / 0\n",
    "except ZeroDivisionError as e:  # specific only specific exception\n",
    "    print(f'Unable to execute that command: {e}')\n",
    "    "
   ]
  },
  {
   "cell_type": "markdown",
   "id": "bc4305c2-7727-46b3-9b6c-b617077bb904",
   "metadata": {
    "tags": []
   },
   "source": [
    "---\n",
    "### For loops vs list comprehension"
   ]
  },
  {
   "cell_type": "code",
   "execution_count": 114,
   "id": "b65d0814-fe45-440f-a599-b2007c3d83a5",
   "metadata": {},
   "outputs": [
    {
     "name": "stdout",
     "output_type": "stream",
     "text": [
      "2.14 ms ± 61.5 µs per loop (mean ± std. dev. of 7 runs, 100 loops each)\n"
     ]
    }
   ],
   "source": [
    "%%timeit  # ipython 'magic' command to time the cell\n",
    "n = 100000\n",
    "million = list(range(n))"
   ]
  },
  {
   "cell_type": "code",
   "execution_count": 124,
   "id": "5695d4f9-14aa-4fbc-af0f-9cd031d99c51",
   "metadata": {},
   "outputs": [],
   "source": [
    "from math import sin"
   ]
  },
  {
   "cell_type": "code",
   "execution_count": 126,
   "id": "48988f1b-83e9-4cdc-bc4e-8b2df6941455",
   "metadata": {},
   "outputs": [
    {
     "name": "stdout",
     "output_type": "stream",
     "text": [
      "25.6 ms ± 3.28 ms per loop (mean ± std. dev. of 7 runs, 10 loops each)\n"
     ]
    }
   ],
   "source": [
    "%%timeit \n",
    "result = []\n",
    "for i in range(n):\n",
    "    result.append(sin(i))"
   ]
  },
  {
   "cell_type": "code",
   "execution_count": 137,
   "id": "20c19ffe-1360-48f8-a6fb-bcf81a82ae32",
   "metadata": {},
   "outputs": [
    {
     "name": "stdout",
     "output_type": "stream",
     "text": [
      "22 ms ± 2.87 ms per loop (mean ± std. dev. of 7 runs, 10 loops each)\n"
     ]
    }
   ],
   "source": [
    "%%timeit\n",
    "result = [sin(i) for i in range(n)]"
   ]
  },
  {
   "cell_type": "markdown",
   "id": "9e8e7d58-b3bb-4557-a3c4-67c908eddf02",
   "metadata": {},
   "source": [
    "#### vs numpy"
   ]
  },
  {
   "cell_type": "code",
   "execution_count": 138,
   "id": "91e6c50a-bc85-443d-a55d-d5ba5c82d91f",
   "metadata": {},
   "outputs": [],
   "source": [
    "import numpy as np"
   ]
  },
  {
   "cell_type": "code",
   "execution_count": 139,
   "id": "278ea7ff-cd77-4b46-89b4-03863641d5a4",
   "metadata": {},
   "outputs": [
    {
     "name": "stdout",
     "output_type": "stream",
     "text": [
      "60.5 µs ± 4.76 µs per loop (mean ± std. dev. of 7 runs, 10,000 loops each)\n"
     ]
    }
   ],
   "source": [
    "%%timeit \n",
    "x = np.arange(n)  # about 3x faster"
   ]
  },
  {
   "cell_type": "code",
   "execution_count": 140,
   "id": "61de32d7-b85a-4c7c-8734-49794445d0a7",
   "metadata": {},
   "outputs": [],
   "source": [
    "x = np.arange(n)"
   ]
  },
  {
   "cell_type": "code",
   "execution_count": 141,
   "id": "0bcad0b0-4bbf-4d94-af82-06b6b76496e8",
   "metadata": {},
   "outputs": [
    {
     "name": "stdout",
     "output_type": "stream",
     "text": [
      "1.16 ms ± 76.2 µs per loop (mean ± std. dev. of 7 runs, 1,000 loops each)\n"
     ]
    }
   ],
   "source": [
    "%%timeit\n",
    "y = np.sin(x)  # about 20x faster"
   ]
  },
  {
   "cell_type": "code",
   "execution_count": null,
   "id": "c05d7403-ff59-4241-8173-c91680db1afe",
   "metadata": {},
   "outputs": [],
   "source": []
  }
 ],
 "metadata": {
  "kernelspec": {
   "display_name": "Python 3 (ipykernel)",
   "language": "python",
   "name": "python3"
  },
  "language_info": {
   "codemirror_mode": {
    "name": "ipython",
    "version": 3
   },
   "file_extension": ".py",
   "mimetype": "text/x-python",
   "name": "python",
   "nbconvert_exporter": "python",
   "pygments_lexer": "ipython3",
   "version": "3.9.5"
  }
 },
 "nbformat": 4,
 "nbformat_minor": 5
}
