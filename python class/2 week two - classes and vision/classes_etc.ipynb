{
 "cells": [
  {
   "cell_type": "markdown",
   "id": "451140ce-9105-4641-842f-5379ac37150b",
   "metadata": {},
   "source": [
    "### Classes and \"object oriented programming\" \n",
    "* Classes are a collection of functions and variables bundled together for convenience\n",
    "  * Functions in classes are (often) called members\n",
    "  * Variables are often called attributes\n",
    "* An **object** is an instance of a class. The class is a blueprint or template from which objects are created.\n",
    "* This is one of the only times we use **capital letters** in Python  - (because they are important)\n",
    "* You can build new classes from old ones, and that makes them very good as reusable templates\n",
    "* **You address members and attributes with the dot \".\" operator**  (Oh, so strings are classes too?  Everything in python is.)\n",
    "* There is a LOT to learn about classes.  This is the most basic intro.\n",
    "* _ _init_ _ is necessary if we want to construct with variables passed in and setting up unique attributes"
   ]
  },
  {
   "cell_type": "markdown",
   "id": "937a23a3-3ba3-44b8-a62e-001f679e470d",
   "metadata": {},
   "source": [
    "#### a class example - note the use of 'self' in all functions and in defining member variables"
   ]
  },
  {
   "cell_type": "code",
   "execution_count": 4,
   "id": "262fb393-72eb-4614-ae17-0b3f5decc4a6",
   "metadata": {},
   "outputs": [],
   "source": [
    "# classes start with the class keyword and follow similare Python rules for blocks (colon and indents)\n",
    "class MyFirstClass:\n",
    "    def __init__(self, name):  # __init__() is a SPECIAL class function that initializes the instance\n",
    "        self.name = name  # this is an example of a class member variable, often called an attribute\n",
    "\n",
    "    def greet(self):  # here is another class function.  Note ALL class functions take the default argument \"self\"\n",
    "        print(f'Hello {self.name}!')"
   ]
  },
  {
   "cell_type": "code",
   "execution_count": 5,
   "id": "50acd165-723d-410a-aeb5-8271b4c602e2",
   "metadata": {},
   "outputs": [],
   "source": [
    "# create an instance of the class\n",
    "alice = MyFirstClass(name='Alice')  "
   ]
  },
  {
   "cell_type": "code",
   "execution_count": 6,
   "id": "8ba85410-7c46-457d-9d49-d86206553bcc",
   "metadata": {},
   "outputs": [
    {
     "name": "stdout",
     "output_type": "stream",
     "text": [
      "Hello Alice!\n"
     ]
    }
   ],
   "source": [
    "# call the member function\n",
    "alice.greet()"
   ]
  },
  {
   "cell_type": "code",
   "execution_count": 7,
   "id": "b544642b-9790-48ba-9263-9b6b6f12b235",
   "metadata": {},
   "outputs": [
    {
     "data": {
      "text/plain": [
       "'Alice'"
      ]
     },
     "execution_count": 7,
     "metadata": {},
     "output_type": "execute_result"
    }
   ],
   "source": [
    "# ask for a member attribute\n",
    "alice.name"
   ]
  },
  {
   "cell_type": "markdown",
   "id": "16ee5733-b676-48d4-97f7-b7a3d7c1b5bf",
   "metadata": {},
   "source": [
    "#### a slightly more useful example: a Circle \n",
    "A circle has natural attributes and functions that apply to it"
   ]
  },
  {
   "cell_type": "code",
   "execution_count": 8,
   "id": "662bc4a1-ce68-4ff6-9248-3eedfeb72978",
   "metadata": {},
   "outputs": [],
   "source": [
    "class Circle:\n",
    "    def __init__(self, radius):\n",
    "        self.pi = 3.14159\n",
    "        # very common to name the class attribute the same as the parameter passed in - reduces confusion\n",
    "        self.radius = radius  # note how this is passed in when we instantiate a new Circle\n",
    "\n",
    "    def area(self):\n",
    "        return self.pi * self.radius**2\n",
    "\n",
    "    def circumference(self):\n",
    "        return 2*self.pi * self.radius"
   ]
  },
  {
   "cell_type": "code",
   "execution_count": 9,
   "id": "43a37f83-6ecf-4806-8377-020b53e3efbb",
   "metadata": {},
   "outputs": [
    {
     "data": {
      "text/plain": [
       "<__main__.Circle at 0x214eb07eac0>"
      ]
     },
     "execution_count": 9,
     "metadata": {},
     "output_type": "execute_result"
    }
   ],
   "source": [
    "my_circle = Circle(radius=2)\n",
    "my_circle  # tells you it is an object in the main program at a specific location in memory"
   ]
  },
  {
   "cell_type": "code",
   "execution_count": 10,
   "id": "7ce950df-049c-4def-aaf1-854f78519f87",
   "metadata": {},
   "outputs": [
    {
     "data": {
      "text/plain": [
       "3.14159"
      ]
     },
     "execution_count": 10,
     "metadata": {},
     "output_type": "execute_result"
    }
   ],
   "source": [
    "my_circle.pi"
   ]
  },
  {
   "cell_type": "code",
   "execution_count": 11,
   "id": "35e7b809-f17f-43a5-8ab2-220602be74a2",
   "metadata": {},
   "outputs": [
    {
     "data": {
      "text/plain": [
       "2"
      ]
     },
     "execution_count": 11,
     "metadata": {},
     "output_type": "execute_result"
    }
   ],
   "source": [
    "my_circle.radius  # use the tab key after the . to have the IDE find this for you"
   ]
  },
  {
   "cell_type": "code",
   "execution_count": 12,
   "id": "cd827310-394e-4c7c-bb82-b594a0efee74",
   "metadata": {},
   "outputs": [
    {
     "data": {
      "text/plain": [
       "(12.56636, 12.56636, 3.14159)"
      ]
     },
     "execution_count": 12,
     "metadata": {},
     "output_type": "execute_result"
    }
   ],
   "source": [
    "my_circle.area(), my_circle.circumference(), my_circle.pi"
   ]
  },
  {
   "cell_type": "code",
   "execution_count": 13,
   "id": "cc694f48-b4dd-4b1c-8ccc-2303fe64cf69",
   "metadata": {},
   "outputs": [
    {
     "ename": "SyntaxError",
     "evalue": "invalid syntax (3687887163.py, line 2)",
     "output_type": "error",
     "traceback": [
      "\u001b[1;36m  Input \u001b[1;32mIn [13]\u001b[1;36m\u001b[0m\n\u001b[1;33m    my_circle.\u001b[0m\n\u001b[1;37m              ^\u001b[0m\n\u001b[1;31mSyntaxError\u001b[0m\u001b[1;31m:\u001b[0m invalid syntax\n"
     ]
    }
   ],
   "source": [
    "# try accessing the member of my_circle with the \".\" operator\n",
    "my_circle."
   ]
  },
  {
   "cell_type": "markdown",
   "id": "e8baa507-376c-4d2a-b5b3-707bda2de587",
   "metadata": {},
   "source": [
    "#### Think back about strings, lists, even floats and ints\n",
    "* They all used the dot operator to access member attributes (values) and functions\n",
    "* Inside python, they're all classes"
   ]
  },
  {
   "cell_type": "code",
   "execution_count": 14,
   "id": "7d168d22-b224-482d-bdbd-21bc3f6a4605",
   "metadata": {},
   "outputs": [],
   "source": [
    "my_string = 'hello'"
   ]
  },
  {
   "cell_type": "code",
   "execution_count": 15,
   "id": "7a2cf344-9fb2-4df3-aa04-290409e091dc",
   "metadata": {},
   "outputs": [
    {
     "data": {
      "text/plain": [
       "'HELLO'"
      ]
     },
     "execution_count": 15,
     "metadata": {},
     "output_type": "execute_result"
    }
   ],
   "source": [
    "'hello'.swapcase()  # see how the \".\" operator accesses the member functions of the string class"
   ]
  },
  {
   "cell_type": "markdown",
   "id": "40941af9-05f3-49af-bc34-9857dacac304",
   "metadata": {},
   "source": [
    "### Class inheritance\n",
    "* You will see this **all the time** in the robot code (and everywhere else too)\n",
    "* We take a template and modify existing ones or extend it with custom functions\n",
    "* The new class is the **child** and the class it came from is the **parent**\n",
    "* There is a bit of arcane syntax that initializes the parent and from the child (not covered here)"
   ]
  },
  {
   "cell_type": "code",
   "execution_count": 16,
   "id": "ebee6d84-00c5-4c32-b72f-cabd478d8f6b",
   "metadata": {},
   "outputs": [],
   "source": [
    "class Animal:\n",
    "    def greet(self):\n",
    "        print('Hello, I am an animal')\n",
    "\n",
    "    def favorite_food(self):\n",
    "        return 'organic matter'\n",
    "\n",
    "# now the Dog class is a child of Animal\n",
    "class Dog(Animal):\n",
    "    def greet(self):\n",
    "        print('wof wof')\n",
    "\n",
    "\n",
    "class Cat(Animal):\n",
    "    def favorite_food(self):\n",
    "        return 'fish'"
   ]
  },
  {
   "cell_type": "code",
   "execution_count": 17,
   "id": "35369f3a-95a8-404b-a51f-0d6f9d3da3b1",
   "metadata": {},
   "outputs": [],
   "source": [
    "animal = Animal()"
   ]
  },
  {
   "cell_type": "code",
   "execution_count": 18,
   "id": "8bd98c07-3e7a-402a-9272-1ce8722108f5",
   "metadata": {},
   "outputs": [
    {
     "data": {
      "text/plain": [
       "'organic matter'"
      ]
     },
     "execution_count": 18,
     "metadata": {},
     "output_type": "execute_result"
    }
   ],
   "source": [
    "animal.favorite_food()"
   ]
  },
  {
   "cell_type": "code",
   "execution_count": 19,
   "id": "1fa78200-3efc-483c-853e-397b521905a1",
   "metadata": {},
   "outputs": [
    {
     "name": "stdout",
     "output_type": "stream",
     "text": [
      "Hello, I am an animal\n"
     ]
    }
   ],
   "source": [
    "animal.greet()"
   ]
  },
  {
   "cell_type": "code",
   "execution_count": 20,
   "id": "51e80dfc-2a45-4e42-87ee-092ea1784ab6",
   "metadata": {},
   "outputs": [
    {
     "name": "stdout",
     "output_type": "stream",
     "text": [
      "Dog stuff:\n",
      "A dog says:\n",
      "wof wof\n",
      "Dog's favorite food is 'organic matter'\n"
     ]
    }
   ],
   "source": [
    "print('Dog stuff:')\n",
    "dog = Dog()\n",
    "print('A dog says:') \n",
    "dog.greet()\n",
    "print(f\"Dog's favorite food is '{dog.favorite_food()}'\")"
   ]
  },
  {
   "cell_type": "code",
   "execution_count": 21,
   "id": "cd0d51e0-e466-4210-976e-db7cd389f86d",
   "metadata": {},
   "outputs": [
    {
     "name": "stdout",
     "output_type": "stream",
     "text": [
      "\n",
      "Cat stuff:\n",
      "A cat says:\n",
      "Hello, I am an animal\n",
      "Cat's favorite food is 'fish'\n"
     ]
    }
   ],
   "source": [
    "print('\\nCat stuff:')\n",
    "cat = Cat()\n",
    "print('A cat says:') \n",
    "cat.greet()\n",
    "print(f\"Cat's favorite food is '{cat.favorite_food()}'\")"
   ]
  },
  {
   "cell_type": "markdown",
   "id": "7ca379a1-601f-4f01-866f-74ee5cddc437",
   "metadata": {},
   "source": [
    "#### We will do a lot more with classes later\n",
    "* Motors, encoders, joysticks, drivetrains - all use a class template\n",
    "* Image processing pipelines are much better as classes\n",
    "* Anything complicated is better as a class\n",
    "  * Don't neeed global variables\n",
    "  * Don't have to worry about scope - the instance has access to everything it needs to know about itself\n",
    "  * Can reuse a class once (top level GUI) or hundreds of times"
   ]
  },
  {
   "cell_type": "markdown",
   "id": "c0725da6-edb3-4f57-8084-4d439f89e260",
   "metadata": {},
   "source": [
    "#### real-world example"
   ]
  },
  {
   "cell_type": "code",
   "execution_count": 26,
   "id": "7628504a-76f3-4de4-805a-adb7106ecef8",
   "metadata": {},
   "outputs": [],
   "source": [
    "import random"
   ]
  },
  {
   "cell_type": "code",
   "execution_count": 27,
   "id": "3fe7f61d-e631-44b2-ba78-b8a68b21691c",
   "metadata": {},
   "outputs": [],
   "source": [
    "# here is a class that has two member attributes and one member function\n",
    "class Card:\n",
    "    \n",
    "    def __init__(self, suit, value):\n",
    "        self.suit = suit\n",
    "        self.value = value\n",
    "    \n",
    "    def show(self):\n",
    "        print(f'{self.value} of {self.suit}')"
   ]
  },
  {
   "cell_type": "code",
   "execution_count": 28,
   "id": "2e8eca2e-dabe-4aec-b794-4799509556f6",
   "metadata": {},
   "outputs": [],
   "source": [
    "# here is a class that makes 52 of the Card class, and has \n",
    "# two member attributes and two member functions\n",
    "class Deck:\n",
    "    \n",
    "    def __init__(self):\n",
    "        pass\n",
    "        #self.remaining_cards = []\n",
    "        #self.used_cards = []\n",
    "        #self.build()\n",
    "    \n",
    "    def draw(self):\n",
    "        count = len(self.remaining_cards)\n",
    "        # print(f'Count is {count}')\n",
    "        if count > 0:\n",
    "            card = self.remaining_cards.pop(random.randint(0,count-1))\n",
    "            self.used_cards.append(card)\n",
    "            card.show()\n",
    "        else:\n",
    "            print('Out of cards.')\n",
    "    \n",
    "    def build(self):\n",
    "        self.used_cards = []\n",
    "        self.remaining_cards = []\n",
    "        suits = ['clubs', 'diamonds', 'hearts', 'spades']\n",
    "        values = [str(i) for i in range(2,11)] + ['jack', 'queen', 'king', 'ace']\n",
    "        for suit in suits:\n",
    "            for value in values:\n",
    "                self.remaining_cards.append(Card(suit,value))"
   ]
  },
  {
   "cell_type": "code",
   "execution_count": 29,
   "id": "db5f3df0-aa72-40bf-82d3-8a6faf27a8dd",
   "metadata": {},
   "outputs": [],
   "source": [
    "deck = Deck()"
   ]
  },
  {
   "cell_type": "code",
   "execution_count": 30,
   "id": "622ab85d-cf55-4342-95b0-82668902e470",
   "metadata": {},
   "outputs": [],
   "source": [
    "deck.build()"
   ]
  },
  {
   "cell_type": "code",
   "execution_count": 31,
   "id": "80121d5a-91de-466e-8edf-034d25416a43",
   "metadata": {},
   "outputs": [
    {
     "name": "stdout",
     "output_type": "stream",
     "text": [
      "7 of diamonds\n",
      "jack of clubs\n",
      "6 of clubs\n",
      "queen of hearts\n",
      "10 of clubs\n",
      "9 of hearts\n",
      "5 of spades\n",
      "king of diamonds\n",
      "jack of diamonds\n",
      "3 of clubs\n",
      "4 of clubs\n",
      "7 of hearts\n",
      "9 of clubs\n",
      "2 of clubs\n",
      "3 of spades\n",
      "2 of hearts\n",
      "6 of diamonds\n",
      "4 of spades\n",
      "6 of hearts\n",
      "3 of diamonds\n",
      "8 of spades\n",
      "ace of clubs\n",
      "jack of hearts\n",
      "ace of hearts\n",
      "2 of spades\n",
      "6 of spades\n",
      "king of clubs\n",
      "jack of spades\n",
      "9 of diamonds\n",
      "5 of diamonds\n",
      "queen of clubs\n",
      "ace of spades\n",
      "8 of diamonds\n",
      "5 of hearts\n",
      "2 of diamonds\n",
      "ace of diamonds\n",
      "9 of spades\n",
      "8 of hearts\n",
      "8 of clubs\n",
      "queen of diamonds\n",
      "10 of spades\n",
      "10 of hearts\n",
      "10 of diamonds\n",
      "3 of hearts\n",
      "queen of spades\n",
      "7 of spades\n",
      "5 of clubs\n",
      "7 of clubs\n",
      "4 of hearts\n",
      "king of spades\n",
      "king of hearts\n",
      "4 of diamonds\n",
      "Out of cards.\n",
      "Out of cards.\n"
     ]
    }
   ],
   "source": [
    "_ = [deck.draw() for i in range(54)]"
   ]
  },
  {
   "cell_type": "code",
   "execution_count": 32,
   "id": "be3f1d48-6eab-4954-9758-83e89fd05954",
   "metadata": {},
   "outputs": [
    {
     "name": "stdout",
     "output_type": "stream",
     "text": [
      "Out of cards.\n"
     ]
    }
   ],
   "source": [
    "deck.draw()"
   ]
  },
  {
   "cell_type": "code",
   "execution_count": 33,
   "id": "b294ddef-c537-4fb0-8fb2-de9d388dda6b",
   "metadata": {},
   "outputs": [],
   "source": [
    "deck.build()"
   ]
  },
  {
   "cell_type": "code",
   "execution_count": 34,
   "id": "f040b924-0c7d-4d0a-a6d2-cdfbeca0f9e4",
   "metadata": {},
   "outputs": [
    {
     "name": "stdout",
     "output_type": "stream",
     "text": [
      "2 of spades\n"
     ]
    }
   ],
   "source": [
    "deck.draw()"
   ]
  },
  {
   "cell_type": "markdown",
   "id": "6fb159b2-333a-498a-9770-ec5e0b23a64e",
   "metadata": {},
   "source": [
    "---\n",
    "### List comprehension\n",
    "* the most \"pythonic\" of the cool things you do with python\n",
    "* it's a one-line for statement that can give you a list of computations\n",
    "* looks like this: \n",
    "  * [f(x) for x in sequence]\n",
    "  * [f(x) for x in sequence if condition]\n",
    "  * [f(x) if condition else g(x) for x in sequence]"
   ]
  },
  {
   "cell_type": "code",
   "execution_count": 35,
   "id": "f507a0fd-b597-4f13-a458-b2489db4f295",
   "metadata": {},
   "outputs": [
    {
     "data": {
      "text/plain": [
       "[0, 1, 4, 9, 16, 25, 36, 49, 64, 81]"
      ]
     },
     "execution_count": 35,
     "metadata": {},
     "output_type": "execute_result"
    }
   ],
   "source": [
    "squares = [i**2 for i in range(10)]\n",
    "squares"
   ]
  },
  {
   "cell_type": "code",
   "execution_count": 36,
   "id": "51c615ac-cdb9-4cf5-879b-bb93b750a364",
   "metadata": {},
   "outputs": [
    {
     "data": {
      "text/plain": [
       "[0, 1, 4, 9, 16, 25, 36, 49, 64, 81]"
      ]
     },
     "execution_count": 36,
     "metadata": {},
     "output_type": "execute_result"
    }
   ],
   "source": [
    "squares = []\n",
    "for i in range(10):\n",
    "    squares.append(i**2)\n",
    "squares"
   ]
  },
  {
   "cell_type": "code",
   "execution_count": 38,
   "id": "2b6a92ff-dfc0-4ed6-9b70-d6f119128bb4",
   "metadata": {},
   "outputs": [
    {
     "name": "stdout",
     "output_type": "stream",
     "text": [
      "459 divided by 2 is 229 remainder 1\n"
     ]
    }
   ],
   "source": [
    "# demonstrate // and % operators when used with numbers\n",
    "start_number = 459\n",
    "divisor = 2\n",
    "print(f'{start_number} divided by {divisor} is {start_number // divisor} remainder {start_number % divisor}')"
   ]
  },
  {
   "cell_type": "code",
   "execution_count": 41,
   "id": "085ffc24-7790-4c6b-92e3-52e83a464625",
   "metadata": {},
   "outputs": [
    {
     "data": {
      "text/plain": [
       "2"
      ]
     },
     "execution_count": 41,
     "metadata": {},
     "output_type": "execute_result"
    }
   ],
   "source": [
    "5 // 2  # integer division"
   ]
  },
  {
   "cell_type": "code",
   "execution_count": 40,
   "id": "cb75e930-5252-4775-8e95-4ab191209e04",
   "metadata": {},
   "outputs": [
    {
     "data": {
      "text/plain": [
       "1"
      ]
     },
     "execution_count": 40,
     "metadata": {},
     "output_type": "execute_result"
    }
   ],
   "source": [
    "5 % 2  # remainder (MODULUS)"
   ]
  },
  {
   "cell_type": "code",
   "execution_count": 43,
   "id": "c462701b-9ea2-4778-9f97-3e0a947cca9f",
   "metadata": {},
   "outputs": [
    {
     "data": {
      "text/plain": [
       "[0, 2, 4, 6, 8, 10, 12, 14, 16, 18]"
      ]
     },
     "execution_count": 43,
     "metadata": {},
     "output_type": "execute_result"
    }
   ],
   "source": [
    "# for loop approach\n",
    "even_numbers = []\n",
    "for i in range(20):\n",
    "    if i%2 == 0:\n",
    "        even_numbers.append(i)\n",
    "even_numbers"
   ]
  },
  {
   "cell_type": "code",
   "execution_count": 44,
   "id": "0d356a7d-f94a-4ed7-8d6c-058c5e448550",
   "metadata": {},
   "outputs": [
    {
     "data": {
      "text/plain": [
       "[0, 2, 4, 6, 8, 10, 12, 14, 16, 18]"
      ]
     },
     "execution_count": 44,
     "metadata": {},
     "output_type": "execute_result"
    }
   ],
   "source": [
    "# with list comprehension\n",
    "even_numbers = [i for i in range(20) if i%2==0]\n",
    "even_numbers"
   ]
  },
  {
   "cell_type": "code",
   "execution_count": null,
   "id": "0bce3dc0-d2b2-488e-b7c1-be18c00a910f",
   "metadata": {},
   "outputs": [
    {
     "data": {
      "text/plain": [
       "[0, 7, 2, 7, 4, 7, 6, 7, 8, 7, 10, 7, 12, 7, 14, 7, 16, 7, 18, 7]"
      ]
     },
     "execution_count": 66,
     "metadata": {},
     "output_type": "execute_result"
    }
   ],
   "source": [
    "# maybe I only consider one odd number acceptable\n",
    "special_numbers = [i if i%2==0 else 7 for i in range(20)]\n",
    "special_numbers"
   ]
  },
  {
   "cell_type": "code",
   "execution_count": null,
   "id": "b424d889-f7c2-4991-bfff-256bd266d436",
   "metadata": {},
   "outputs": [
    {
     "name": "stdout",
     "output_type": "stream",
     "text": [
      "hello hello hello hello "
     ]
    },
    {
     "data": {
      "text/plain": [
       "[None, None, None, None]"
      ]
     },
     "execution_count": 67,
     "metadata": {},
     "output_type": "execute_result"
    }
   ],
   "source": [
    "# this is a bit annoying\n",
    "[print('hello', end=\" \") for i in range(4)]"
   ]
  },
  {
   "cell_type": "code",
   "execution_count": null,
   "id": "e7e5395f-6a91-434a-9fdf-1b31cb2dc7c8",
   "metadata": {},
   "outputs": [
    {
     "name": "stdout",
     "output_type": "stream",
     "text": [
      "hello hello hello hello "
     ]
    }
   ],
   "source": [
    "# by convention an underscore (alone) is a dummy variable\n",
    "_ = [print('hello', end=\" \") for i in range(4)]"
   ]
  },
  {
   "cell_type": "markdown",
   "id": "d0f7eb8d-fdf6-42a1-a03c-6210da616e1e",
   "metadata": {},
   "source": [
    "---\n",
    "### Try-except\n",
    "* Catch errors so the code does not die\n",
    "* optionally can end with a `finally` clause"
   ]
  },
  {
   "cell_type": "code",
   "execution_count": 45,
   "id": "7a0444c9-6cf2-4c9f-9e4e-f1b4eadd3e32",
   "metadata": {},
   "outputs": [],
   "source": [
    "x = 5"
   ]
  },
  {
   "cell_type": "code",
   "execution_count": 46,
   "id": "02b04974-f31a-45a7-8603-4dc5ff8ec75f",
   "metadata": {},
   "outputs": [
    {
     "ename": "ZeroDivisionError",
     "evalue": "division by zero",
     "output_type": "error",
     "traceback": [
      "\u001b[1;31m---------------------------------------------------------------------------\u001b[0m",
      "\u001b[1;31mZeroDivisionError\u001b[0m                         Traceback (most recent call last)",
      "Input \u001b[1;32mIn [46]\u001b[0m, in \u001b[0;36m<cell line: 1>\u001b[1;34m()\u001b[0m\n\u001b[1;32m----> 1\u001b[0m \u001b[43mx\u001b[49m\u001b[43m \u001b[49m\u001b[38;5;241;43m/\u001b[39;49m\u001b[43m \u001b[49m\u001b[38;5;241;43m0\u001b[39;49m\n",
      "\u001b[1;31mZeroDivisionError\u001b[0m: division by zero"
     ]
    }
   ],
   "source": [
    "x / 0"
   ]
  },
  {
   "cell_type": "code",
   "execution_count": 47,
   "id": "149987ff-f7ef-4b32-a155-bfcfff5b876a",
   "metadata": {},
   "outputs": [
    {
     "name": "stdout",
     "output_type": "stream",
     "text": [
      " Unable to execute that command: <class 'ZeroDivisionError'>: division by zero\n"
     ]
    }
   ],
   "source": [
    "# catch all Exceptions\n",
    "try:\n",
    "    x / 0\n",
    "except Exception as e:  # generic exception, catches them all\n",
    "    print(f' Unable to execute that command: {type(e)}: {e}')\n",
    "    "
   ]
  },
  {
   "cell_type": "code",
   "execution_count": 52,
   "id": "a6ec1a51-035e-4771-ab58-525c52120962",
   "metadata": {},
   "outputs": [
    {
     "name": "stdout",
     "output_type": "stream",
     "text": [
      "Unable to execute that command: division by zero\n"
     ]
    }
   ],
   "source": [
    "# catch only the ZeroDivisionError\n",
    "try:\n",
    "    x / 0\n",
    "except ZeroDivisionError as e:  # specific only specific exception\n",
    "    print(f'Unable to execute that command: {e}')\n",
    "    "
   ]
  },
  {
   "cell_type": "code",
   "execution_count": 56,
   "id": "f8d4c9cf-d591-4564-b4a3-78059efe3e22",
   "metadata": {},
   "outputs": [],
   "source": [
    "# define a safe divide function that tolerates a zero\n",
    "def safe_divide(x, y):\n",
    "    try:\n",
    "        return x / y\n",
    "    except ZeroDivisionError as e:  # specific only specific exception\n",
    "        print(f'Unable to execute that command: {e}')"
   ]
  },
  {
   "cell_type": "code",
   "execution_count": 57,
   "id": "7a4df1ef-53aa-427c-8c76-491c48e3f446",
   "metadata": {},
   "outputs": [
    {
     "data": {
      "text/plain": [
       "5.0"
      ]
     },
     "execution_count": 57,
     "metadata": {},
     "output_type": "execute_result"
    }
   ],
   "source": [
    "safe_divide(10,2)"
   ]
  },
  {
   "cell_type": "code",
   "execution_count": 58,
   "id": "ce35b872-40ef-4e35-94fe-99ad5ce7ed73",
   "metadata": {},
   "outputs": [
    {
     "name": "stdout",
     "output_type": "stream",
     "text": [
      "Unable to execute that command: division by zero\n"
     ]
    }
   ],
   "source": [
    "safe_divide(10,0)"
   ]
  },
  {
   "cell_type": "markdown",
   "id": "bc4305c2-7727-46b3-9b6c-b617077bb904",
   "metadata": {},
   "source": [
    "---\n",
    "### For loops vs list comprehension\n",
    "%%timeit is better than %%time but %%time is simpler"
   ]
  },
  {
   "cell_type": "code",
   "execution_count": 80,
   "id": "b65d0814-fe45-440f-a599-b2007c3d83a5",
   "metadata": {},
   "outputs": [
    {
     "name": "stdout",
     "output_type": "stream",
     "text": [
      "CPU times: total: 15.6 ms\n",
      "Wall time: 3.99 ms\n"
     ]
    }
   ],
   "source": [
    "%%time  \n",
    "n = 100000\n",
    "million = list(range(n))"
   ]
  },
  {
   "cell_type": "code",
   "execution_count": 81,
   "id": "5695d4f9-14aa-4fbc-af0f-9cd031d99c51",
   "metadata": {},
   "outputs": [],
   "source": [
    "from math import sin"
   ]
  },
  {
   "cell_type": "code",
   "execution_count": 82,
   "id": "48988f1b-83e9-4cdc-bc4e-8b2df6941455",
   "metadata": {},
   "outputs": [
    {
     "name": "stdout",
     "output_type": "stream",
     "text": [
      "CPU times: total: 31.2 ms\n",
      "Wall time: 36.9 ms\n"
     ]
    }
   ],
   "source": [
    "%%time\n",
    "result = []\n",
    "for i in range(n):\n",
    "    result.append(sin(i))"
   ]
  },
  {
   "cell_type": "code",
   "execution_count": 83,
   "id": "20c19ffe-1360-48f8-a6fb-bcf81a82ae32",
   "metadata": {},
   "outputs": [
    {
     "name": "stdout",
     "output_type": "stream",
     "text": [
      "CPU times: total: 15.6 ms\n",
      "Wall time: 24.9 ms\n"
     ]
    }
   ],
   "source": [
    "%%time\n",
    "result = [sin(i) for i in range(n)]"
   ]
  },
  {
   "cell_type": "markdown",
   "id": "9e8e7d58-b3bb-4557-a3c4-67c908eddf02",
   "metadata": {},
   "source": [
    "#### vs numpy"
   ]
  },
  {
   "cell_type": "code",
   "execution_count": 85,
   "id": "91e6c50a-bc85-443d-a55d-d5ba5c82d91f",
   "metadata": {},
   "outputs": [],
   "source": [
    "import numpy as np"
   ]
  },
  {
   "cell_type": "code",
   "execution_count": 86,
   "id": "278ea7ff-cd77-4b46-89b4-03863641d5a4",
   "metadata": {},
   "outputs": [
    {
     "name": "stdout",
     "output_type": "stream",
     "text": [
      "CPU times: total: 0 ns\n",
      "Wall time: 0 ns\n"
     ]
    }
   ],
   "source": [
    "%%time\n",
    "x = np.arange(n)  # about 3x faster"
   ]
  },
  {
   "cell_type": "code",
   "execution_count": null,
   "id": "61de32d7-b85a-4c7c-8734-49794445d0a7",
   "metadata": {},
   "outputs": [],
   "source": [
    "x = np.arange(n)"
   ]
  },
  {
   "cell_type": "code",
   "execution_count": 87,
   "id": "0bcad0b0-4bbf-4d94-af82-06b6b76496e8",
   "metadata": {},
   "outputs": [
    {
     "name": "stdout",
     "output_type": "stream",
     "text": [
      "CPU times: total: 0 ns\n",
      "Wall time: 2.18 ms\n"
     ]
    }
   ],
   "source": [
    "%%time\n",
    "y = np.sin(x)  # about 20x faster"
   ]
  },
  {
   "cell_type": "code",
   "execution_count": null,
   "id": "c05d7403-ff59-4241-8173-c91680db1afe",
   "metadata": {},
   "outputs": [],
   "source": []
  }
 ],
 "metadata": {
  "kernelspec": {
   "display_name": "Python 3 (ipykernel)",
   "language": "python",
   "name": "python3"
  },
  "language_info": {
   "codemirror_mode": {
    "name": "ipython",
    "version": 3
   },
   "file_extension": ".py",
   "mimetype": "text/x-python",
   "name": "python",
   "nbconvert_exporter": "python",
   "pygments_lexer": "ipython3",
   "version": "3.9.5"
  }
 },
 "nbformat": 4,
 "nbformat_minor": 5
}
