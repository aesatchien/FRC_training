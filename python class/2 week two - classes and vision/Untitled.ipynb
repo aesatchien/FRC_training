{
 "cells": [
  {
   "cell_type": "code",
   "execution_count": 1,
   "id": "9bdac9a4-ec0f-4a28-8519-14883d39d665",
   "metadata": {},
   "outputs": [],
   "source": [
    "import numpy as np \n",
    "import matplotlib.pyplot as plt"
   ]
  },
  {
   "cell_type": "code",
   "execution_count": null,
   "id": "c4e65616-0572-4309-a8ec-049d895f4998",
   "metadata": {},
   "outputs": [],
   "source": []
  },
  {
   "cell_type": "code",
   "execution_count": 22,
   "id": "70171907-fb53-4a15-8c0c-f09274ff5a18",
   "metadata": {},
   "outputs": [
    {
     "data": {
      "text/plain": [
       "array([  0,   4,   8,  12,  16,  20,  24,  28,  32,  36,  40,  44,  48,\n",
       "        52,  56,  60,  64,  68,  72,  76,  80,  85,  89,  93,  97, 101,\n",
       "       105, 109, 113, 117, 121, 125, 129, 133, 137, 141, 145, 149, 153,\n",
       "       157, 161, 165, 170, 174, 178, 182, 186, 190, 194, 198, 202, 206,\n",
       "       210, 214, 218, 222, 226, 230, 234, 238, 242, 246, 250, 255],\n",
       "      dtype=uint8)"
      ]
     },
     "execution_count": 22,
     "metadata": {},
     "output_type": "execute_result"
    }
   ],
   "source": [
    "gray_image_base = np.linspace(0, 255, 64, dtype=np.uint8)\n",
    "gray_image_base"
   ]
  },
  {
   "cell_type": "code",
   "execution_count": 23,
   "id": "09df47c5-c266-462d-9ec0-2d8a73b34fb9",
   "metadata": {},
   "outputs": [
    {
     "data": {
      "text/plain": [
       "array([[  0,   4,   8,  12,  16,  20,  24,  28],\n",
       "       [ 32,  36,  40,  44,  48,  52,  56,  60],\n",
       "       [ 64,  68,  72,  76,  80,  85,  89,  93],\n",
       "       [ 97, 101, 105, 109, 113, 117, 121, 125],\n",
       "       [129, 133, 137, 141, 145, 149, 153, 157],\n",
       "       [161, 165, 170, 174, 178, 182, 186, 190],\n",
       "       [194, 198, 202, 206, 210, 214, 218, 222],\n",
       "       [226, 230, 234, 238, 242, 246, 250, 255]], dtype=uint8)"
      ]
     },
     "execution_count": 23,
     "metadata": {},
     "output_type": "execute_result"
    }
   ],
   "source": [
    "gray_image_base= gray_image_base.reshape(8, 8)\n",
    "gray_image_base"
   ]
  },
  {
   "cell_type": "code",
   "execution_count": 24,
   "id": "84f5b766-44cb-4ebf-bc7a-ad78220abb17",
   "metadata": {},
   "outputs": [
    {
     "data": {
      "image/png": "[encoded data removed]",
      "text/plain": [
       "<Figure size 432x288 with 1 Axes>"
      ]
     },
     "metadata": {
      "needs_background": "light"
     },
     "output_type": "display_data"
    }
   ],
   "source": [
    "plt.imshow(gray_image_base, cmap='gray', vmax=255); plt.axis('off');"
   ]
  },
  {
   "cell_type": "code",
   "execution_count": 99,
   "id": "e882fc9e-2602-44c1-99c7-b827da34c6eb",
   "metadata": {},
   "outputs": [
    {
     "data": {
      "image/png": "[encoded data removed]",
      "text/plain": [
       "<Figure size 432x288 with 1 Axes>"
      ]
     },
     "metadata": {
      "needs_background": "light"
     },
     "output_type": "display_data"
    }
   ],
   "source": [
    "gray_image = gray_image_base.copy()\n",
    "\n",
    "gray_image[1::2, ::2] = 255 # odd rows, even columns\n",
    "gray_image[::2, 1::2] = 255 # odd rows, even columns\n",
    "\n",
    "plt.imshow(gray_image, cmap='gray', vmax=255); plt.axis('off');"
   ]
  },
  {
   "cell_type": "code",
   "execution_count": null,
   "id": "faa8131f-9e2d-481a-9965-f6e688301b06",
   "metadata": {},
   "outputs": [],
   "source": []
  },
  {
   "cell_type": "code",
   "execution_count": 35,
   "id": "a0219778-1629-4b97-874d-07b452c06f34",
   "metadata": {},
   "outputs": [
    {
     "data": {
      "text/plain": [
       "[0, 1, 2, 3, 4, 5, 6, 7, 8, 9]"
      ]
     },
     "execution_count": 35,
     "metadata": {},
     "output_type": "execute_result"
    }
   ],
   "source": [
    "test_list = list(range(10))\n",
    "test_list"
   ]
  },
  {
   "cell_type": "code",
   "execution_count": 41,
   "id": "393dbdbb-4a36-4da7-a5a0-7efe1ea5f046",
   "metadata": {},
   "outputs": [
    {
     "data": {
      "text/plain": [
       "['a', 'b', 'c', 'd', 'e', 'f', 'g']"
      ]
     },
     "execution_count": 41,
     "metadata": {},
     "output_type": "execute_result"
    }
   ],
   "source": [
    "test_strings=['a', 'b', 'c', 'd', 'e', 'f', 'g']\n",
    "test_strings"
   ]
  },
  {
   "cell_type": "code",
   "execution_count": 60,
   "id": "a3478de5-7c68-4e7c-8e08-fbff476f4897",
   "metadata": {},
   "outputs": [
    {
     "data": {
      "text/plain": [
       "['a', 'b', 'c', 'd', 'e', 'f', 'g']"
      ]
     },
     "execution_count": 60,
     "metadata": {},
     "output_type": "execute_result"
    }
   ],
   "source": [
    "test_strings[:]"
   ]
  },
  {
   "cell_type": "code",
   "execution_count": 86,
   "id": "5a4f409f-330a-433f-a548-bbf07078ea98",
   "metadata": {},
   "outputs": [
    {
     "data": {
      "text/plain": [
       "['a', 'c', 'e', 'g']"
      ]
     },
     "execution_count": 86,
     "metadata": {},
     "output_type": "execute_result"
    }
   ],
   "source": [
    "test_strings[::2]"
   ]
  },
  {
   "cell_type": "code",
   "execution_count": null,
   "id": "24044eb4-56da-4c5e-8b50-8b204733ce78",
   "metadata": {},
   "outputs": [],
   "source": [
    "x[:]                # [x[0],   x[1],          ..., x[-1]    ]\n",
    "x[low:]             # [x[low], x[low+1],      ..., x[-1]    ]\n",
    "x[:high]            # [x[0],   x[1],          ..., x[high-1]]\n",
    "x[low:high]         # [x[low], x[low+1],      ..., x[high-1]]\n",
    "x[::stride]         # [x[0],   x[stride],     ..., x[-1]    ]\n",
    "x[low::stride]      # [x[low], x[low+stride], ..., x[-1]    ]\n",
    "x[:high:stride]     # [x[0],   x[stride],     ..., x[high-1]]\n",
    "x[low:high:stride]  # [x[low], x[low+stride], ..., x[high-1]]"
   ]
  },
  {
   "cell_type": "code",
   "execution_count": 101,
   "id": "35a17f2e-e1fe-4721-8875-2ded2737e7f3",
   "metadata": {},
   "outputs": [
    {
     "data": {
      "image/png": "[encoded data removed]",
      "text/plain": [
       "<Figure size 432x288 with 1 Axes>"
      ]
     },
     "metadata": {
      "needs_background": "light"
     },
     "output_type": "display_data"
    }
   ],
   "source": [
    "color_image = np.zeros([4,4,3], dtype=np.uint8)\n",
    "color_image[:,2,0] = 255\n",
    "color_image[:,1,1] = 255\n",
    "color_image[:,0,2] = 255\n",
    "plt.imshow(color_image, vmax=255); plt.axis('off');"
   ]
  },
  {
   "cell_type": "code",
   "execution_count": 111,
   "id": "bee593bd-9a41-4762-ac99-d2df5a0555b1",
   "metadata": {},
   "outputs": [
    {
     "data": {
      "image/png": "[encoded data removed]",
      "text/plain": [
       "<Figure size 432x288 with 1 Axes>"
      ]
     },
     "metadata": {
      "needs_background": "light"
     },
     "output_type": "display_data"
    }
   ],
   "source": [
    "color_image = np.zeros([4,4,3], dtype=np.uint8)\n",
    "color_image[0,1:3,0] = 255\n",
    "color_image[1,2:,1] = 255\n",
    "color_image[2,:2,2] = 255\n",
    "plt.imshow(color_image, vmax=255); plt.axis('off');"
   ]
  },
  {
   "cell_type": "code",
   "execution_count": null,
   "id": "4432143a-0c0c-4e6e-891b-04b535eaa6dd",
   "metadata": {},
   "outputs": [],
   "source": []
  }
 ],
 "metadata": {
  "kernelspec": {
   "display_name": "Python 3 (ipykernel)",
   "language": "python",
   "name": "python3"
  },
  "language_info": {
   "codemirror_mode": {
    "name": "ipython",
    "version": 3
   },
   "file_extension": ".py",
   "mimetype": "text/x-python",
   "name": "python",
   "nbconvert_exporter": "python",
   "pygments_lexer": "ipython3",
   "version": "3.9.5"
  }
 },
 "nbformat": 4,
 "nbformat_minor": 5
}
