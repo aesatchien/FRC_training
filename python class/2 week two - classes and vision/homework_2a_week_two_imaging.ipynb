{
 "cells": [
  {
   "cell_type": "markdown",
   "id": "c5280ede-f9a8-41a6-98a9-4706dce3f13e",
   "metadata": {},
   "source": [
    "## Week two python homework on imaging - 20220619 CJH\n",
    "### look for more homeworks soon on classes and review\n",
    "---"
   ]
  },
  {
   "cell_type": "markdown",
   "id": "6127bef3-0b83-4cff-bfa0-0df095e8a376",
   "metadata": {},
   "source": [
    "### Exercise 1 - making your own images with numpy"
   ]
  },
  {
   "cell_type": "markdown",
   "id": "7e73ae9d-69db-4db1-a177-2159f9072aca",
   "metadata": {},
   "source": [
    "#### Step 1: Use the python keywords `import` and `as` to get\n",
    "* numpy with the nickname np  - making arrays and doing math\n",
    "* matplotlib.pyplot with the nickname plt  - plotting anything, for this exercise images with `plt.imshow()`"
   ]
  },
  {
   "cell_type": "code",
   "execution_count": 1,
   "id": "239560f2-3bca-4a5f-81da-16360f45f220",
   "metadata": {},
   "outputs": [],
   "source": [
    "# import statements\n"
   ]
  },
  {
   "cell_type": "markdown",
   "id": "f4b9af77-b398-49dd-b7f1-173c11a276a5",
   "metadata": {},
   "source": [
    "#### recreate the 16 shades of gray 4x4 image that we did in class\n",
    "* make the numpy array with the 16 shades using linspace\n",
    "* reshape it to a 4x4 array\n",
    "* display it with `plt.imshow(gray_image, cmap='gray', vmax=255); plt.axis('off');`\n",
    "* if you named it something else, change the name from `gray_image` in the line above\n"
   ]
  },
  {
   "cell_type": "code",
   "execution_count": null,
   "id": "5b9a5999-2e21-445d-99e1-54261a788056",
   "metadata": {},
   "outputs": [],
   "source": []
  },
  {
   "cell_type": "code",
   "execution_count": null,
   "id": "42be1459-ef69-4e2a-8090-dffc30f265b6",
   "metadata": {},
   "outputs": [],
   "source": []
  },
  {
   "cell_type": "code",
   "execution_count": null,
   "id": "ac04f7c5-cf61-408c-a9c1-07d61604603d",
   "metadata": {},
   "outputs": [],
   "source": []
  },
  {
   "cell_type": "code",
   "execution_count": null,
   "id": "94d14048-ac17-4e96-82ef-0e2bd3f5a383",
   "metadata": {},
   "outputs": [],
   "source": []
  },
  {
   "cell_type": "markdown",
   "id": "f042bafb-a356-414e-8dcc-2839754ee618",
   "metadata": {},
   "source": [
    "#### now do it with 256 shades of gray \n",
    "* hint - your image will now be 16x16"
   ]
  },
  {
   "cell_type": "code",
   "execution_count": null,
   "id": "7c2d8090-d1ff-4d2b-9780-a37c9c37405d",
   "metadata": {},
   "outputs": [],
   "source": []
  },
  {
   "cell_type": "code",
   "execution_count": null,
   "id": "c3d11520-f917-402b-b52d-4a669dfed30e",
   "metadata": {},
   "outputs": [],
   "source": []
  },
  {
   "cell_type": "code",
   "execution_count": null,
   "id": "648d9d82-5a62-4716-a514-d85fd591be34",
   "metadata": {},
   "outputs": [],
   "source": []
  },
  {
   "attachments": {
    "2466916c-4f3c-4605-a7c2-728c82144e38.png": {
     "image/png": "[encoded data removed]"
    }
   },
   "cell_type": "markdown",
   "id": "c30114be-07fb-40b0-8b13-50e1ad4cfebe",
   "metadata": {
    "tags": []
   },
   "source": [
    "---\n",
    "### Exercise 2: generate and plot a checkerboard \n",
    "#### (might be harder than the color stripes below)\n",
    "![check.png](attachment:2466916c-4f3c-4605-a7c2-728c82144e38.png)\n",
    "\n",
    "**definitely tests your understanding of slicing**\n",
    "* hint: start with 8x8 zeros \n",
    "* change the odd rows, even columns in one line\n",
    "* change the even rows, odd columns in one line \n",
    "* plot it\n",
    "* spoilers available in the lecture\n"
   ]
  },
  {
   "cell_type": "code",
   "execution_count": null,
   "id": "6f3ffdc7-d896-4813-a523-ac5aed009538",
   "metadata": {},
   "outputs": [],
   "source": []
  },
  {
   "cell_type": "code",
   "execution_count": null,
   "id": "2a1d5586-0836-4d8e-8a68-8510d70d33f1",
   "metadata": {},
   "outputs": [],
   "source": []
  },
  {
   "cell_type": "code",
   "execution_count": null,
   "id": "8ddbb4fb-03a8-43a3-9dea-61e8a0272d5f",
   "metadata": {},
   "outputs": [],
   "source": []
  },
  {
   "attachments": {
    "51d7366b-7236-4fec-a8cd-c3d1fe874295.png": {
     "image/png": "[encoded data removed]"
    },
    "95ed4558-16eb-402e-bd55-84bddba5be15.png": {
     "image/png": "[encoded data removed]"
    }
   },
   "cell_type": "markdown",
   "id": "c4176b50-4771-43ee-aefb-faf66cbc55be",
   "metadata": {},
   "source": [
    "---\n",
    "### Exercise 3: generate each of these two 4x4 images (one at a time):\n",
    "![hor.png](attachment:95ed4558-16eb-402e-bd55-84bddba5be15.png) , ![vert.png](attachment:51d7366b-7236-4fec-a8cd-c3d1fe874295.png)"
   ]
  },
  {
   "cell_type": "markdown",
   "id": "99c62891-e3f8-4bd0-bbfc-b35773a1462a",
   "metadata": {},
   "source": [
    "* start with the (4,4,3) image of zeros we used in class\n",
    "* use three statements to set the stripe for each color to 255\n",
    "  * in one image you will be changing the rows\n",
    "  * in the other image you will be changing the columns\n",
    "* plot it\n",
    "* spoilers available in the lecture"
   ]
  },
  {
   "cell_type": "code",
   "execution_count": null,
   "id": "8ea35850-1c7b-40f1-8d2c-7ac80f830beb",
   "metadata": {},
   "outputs": [],
   "source": []
  },
  {
   "cell_type": "code",
   "execution_count": null,
   "id": "8e5fd65e-1285-4e50-b621-86192c585013",
   "metadata": {},
   "outputs": [],
   "source": []
  },
  {
   "cell_type": "code",
   "execution_count": null,
   "id": "3297512f-b9fe-4a5a-8d1c-cb2536507549",
   "metadata": {},
   "outputs": [],
   "source": []
  },
  {
   "cell_type": "code",
   "execution_count": null,
   "id": "3054a0a0-3a3e-4786-8585-5021856304ff",
   "metadata": {},
   "outputs": [],
   "source": []
  },
  {
   "cell_type": "code",
   "execution_count": null,
   "id": "8b61074c-03df-4cac-9ad3-3ae4fa2a2779",
   "metadata": {},
   "outputs": [],
   "source": []
  },
  {
   "cell_type": "code",
   "execution_count": null,
   "id": "b21a60c4-b57d-40d8-a5c1-d22b3be2514f",
   "metadata": {},
   "outputs": [],
   "source": []
  },
  {
   "cell_type": "code",
   "execution_count": null,
   "id": "84868879-bf1a-445e-b891-b5c339a8093f",
   "metadata": {},
   "outputs": [],
   "source": []
  }
 ],
 "metadata": {
  "kernelspec": {
   "display_name": "Python 3 (ipykernel)",
   "language": "python",
   "name": "python3"
  },
  "language_info": {
   "codemirror_mode": {
    "name": "ipython",
    "version": 3
   },
   "file_extension": ".py",
   "mimetype": "text/x-python",
   "name": "python",
   "nbconvert_exporter": "python",
   "pygments_lexer": "ipython3",
   "version": "3.9.5"
  }
 },
 "nbformat": 4,
 "nbformat_minor": 5
}
