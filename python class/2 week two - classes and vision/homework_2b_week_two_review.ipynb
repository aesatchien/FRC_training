{
 "cells": [
  {
   "cell_type": "markdown",
   "id": "c5280ede-f9a8-41a6-98a9-4706dce3f13e",
   "metadata": {},
   "source": [
    "## Week two python homework on classes and review - 20220619 CJH\n",
    "#### put together lists and functions into classes\n",
    "---"
   ]
  },
  {
   "cell_type": "markdown",
   "id": "c8f39150-3560-4a46-8072-1bede71e5b08",
   "metadata": {
    "tags": []
   },
   "source": [
    "####  new things you can do with lists - adding and removing items"
   ]
  },
  {
   "cell_type": "code",
   "execution_count": 2,
   "id": "4ba1cee6-8fd1-47da-a00a-31249d4f090a",
   "metadata": {},
   "outputs": [],
   "source": [
    "# add an item with append\n",
    "test_list = []  # start with an empty list"
   ]
  },
  {
   "cell_type": "code",
   "execution_count": 3,
   "id": "5b1a5f6b-467b-4f14-aaeb-fcf316b421d2",
   "metadata": {},
   "outputs": [
    {
     "data": {
      "text/plain": [
       "['first item', 'second item']"
      ]
     },
     "execution_count": 3,
     "metadata": {},
     "output_type": "execute_result"
    }
   ],
   "source": [
    "test_list.append('first item')  # adds an item to a list\n",
    "test_list.append('second item')\n",
    "test_list"
   ]
  },
  {
   "cell_type": "code",
   "execution_count": 4,
   "id": "8f39ba52-907e-470c-8dfd-807942698db6",
   "metadata": {},
   "outputs": [
    {
     "data": {
      "text/plain": [
       "'second item'"
      ]
     },
     "execution_count": 4,
     "metadata": {},
     "output_type": "execute_result"
    }
   ],
   "source": [
    "# remove and return an item with pop and an index\n",
    "popped_item = test_list.pop(-1)\n",
    "popped_item"
   ]
  },
  {
   "cell_type": "code",
   "execution_count": 5,
   "id": "9a5f73ff-4c97-49cd-b343-c0bd0ddc774b",
   "metadata": {},
   "outputs": [
    {
     "data": {
      "text/plain": [
       "['first item']"
      ]
     },
     "execution_count": 5,
     "metadata": {},
     "output_type": "execute_result"
    }
   ],
   "source": [
    "test_list"
   ]
  },
  {
   "cell_type": "code",
   "execution_count": 6,
   "id": "91b7605d-2f86-415c-bf55-7ad7e39fe290",
   "metadata": {},
   "outputs": [
    {
     "data": {
      "text/plain": [
       "1"
      ]
     },
     "execution_count": 6,
     "metadata": {},
     "output_type": "execute_result"
    }
   ],
   "source": [
    "# get the number of items in a list\n",
    "len(test_list)"
   ]
  },
  {
   "cell_type": "markdown",
   "id": "0d6c6736-adc1-4a58-87bd-330da962ed81",
   "metadata": {},
   "source": [
    "#### getting random numbers"
   ]
  },
  {
   "cell_type": "code",
   "execution_count": 7,
   "id": "754baa13-789c-46cc-8fd7-065c40be9a4a",
   "metadata": {},
   "outputs": [],
   "source": [
    "import random"
   ]
  },
  {
   "cell_type": "code",
   "execution_count": 13,
   "id": "96b498bf-82df-49b3-945a-1c8b8c6dbd6c",
   "metadata": {},
   "outputs": [
    {
     "data": {
      "text/plain": [
       "0.08313059351040586"
      ]
     },
     "execution_count": 13,
     "metadata": {},
     "output_type": "execute_result"
    }
   ],
   "source": [
    "# get a random number between 0 and 1\n",
    "random.random()"
   ]
  },
  {
   "cell_type": "code",
   "execution_count": 16,
   "id": "00934881-bef8-4896-b276-c0e688202128",
   "metadata": {},
   "outputs": [],
   "source": [
    "import time"
   ]
  },
  {
   "cell_type": "code",
   "execution_count": 18,
   "id": "55cee527-a168-4b5d-bece-908cf8997c5a",
   "metadata": {},
   "outputs": [
    {
     "name": "stdout",
     "output_type": "stream",
     "text": [
      "3\r"
     ]
    }
   ],
   "source": [
    "# get a random integer between a and b INCLUSIVE of b\n",
    "for i in range(30):\n",
    "    print(random.randint(1,6), end='\\r')\n",
    "    time.sleep(0.3)"
   ]
  },
  {
   "cell_type": "markdown",
   "id": "639d71fa-2f02-43f7-bded-424d4693a4d3",
   "metadata": {},
   "source": [
    "### Exercise: \n",
    "* make a new list of ten random numbers two ways:\n",
    "  * starting with an empty list and using a for loop with append\n",
    "  * list comprehension all in one line\n",
    "* make two copies of a list of the first ten numbers with  list(range(10))\n",
    "  * pop out the first, fourth and eigth elements of the first copy (in that order)\n",
    "  * now pop out the eigth, fourth and first elements of the second copy\n",
    "  * are your copies still the same?"
   ]
  },
  {
   "cell_type": "code",
   "execution_count": 39,
   "id": "6396d9f3-b4ac-4096-bab6-0b98fa7d5377",
   "metadata": {},
   "outputs": [],
   "source": [
    "copy_1 = randoms.copy()\n",
    "copy_2 = randoms.copy()"
   ]
  },
  {
   "cell_type": "code",
   "execution_count": 40,
   "id": "afb93bb9-279c-4ed6-9fb8-288e2196e6db",
   "metadata": {},
   "outputs": [
    {
     "data": {
      "text/plain": [
       "[2, 5, 6, 6, 3, 1, 3, 5, 1, 6]"
      ]
     },
     "execution_count": 40,
     "metadata": {},
     "output_type": "execute_result"
    }
   ],
   "source": [
    "copy_2"
   ]
  },
  {
   "cell_type": "code",
   "execution_count": 41,
   "id": "de24aa38-efac-4d61-88b8-c94e230436de",
   "metadata": {},
   "outputs": [
    {
     "data": {
      "text/plain": [
       "[5, 6, 6, 1, 3, 5, 1]"
      ]
     },
     "execution_count": 41,
     "metadata": {},
     "output_type": "execute_result"
    }
   ],
   "source": [
    "copy_1.pop(0)\n",
    "copy_1.pop(3)\n",
    "copy_1.pop(7)\n",
    "copy_1"
   ]
  },
  {
   "cell_type": "code",
   "execution_count": 42,
   "id": "b99b0136-38f9-4e4b-ac78-b18de6f1c819",
   "metadata": {},
   "outputs": [
    {
     "data": {
      "text/plain": [
       "[5, 6, 3, 1, 3, 1, 6]"
      ]
     },
     "execution_count": 42,
     "metadata": {},
     "output_type": "execute_result"
    }
   ],
   "source": [
    "copy_2.pop(7)\n",
    "copy_2.pop(3)\n",
    "copy_2.pop(0)\n",
    "copy_2"
   ]
  },
  {
   "cell_type": "code",
   "execution_count": 22,
   "id": "e454dd41-4eb2-4e82-900b-546f26729d62",
   "metadata": {},
   "outputs": [
    {
     "data": {
      "text/plain": [
       "[3, 6, 4, 2, 2, 1, 2, 4, 4, 1]"
      ]
     },
     "execution_count": 22,
     "metadata": {},
     "output_type": "execute_result"
    }
   ],
   "source": [
    "randoms = []\n",
    "for i in range(10):\n",
    "    randoms.append(random.randint(1,6))\n",
    "randoms"
   ]
  },
  {
   "cell_type": "code",
   "execution_count": 32,
   "id": "86922e38-7897-44a6-8b88-884e5e051ab0",
   "metadata": {},
   "outputs": [
    {
     "data": {
      "text/plain": [
       "[2, 5, 6, 6, 3, 1, 3, 5, 1, 6]"
      ]
     },
     "execution_count": 32,
     "metadata": {},
     "output_type": "execute_result"
    }
   ],
   "source": [
    "randoms = [random.randint(1,6) for i in range(10)]\n",
    "randoms"
   ]
  },
  {
   "cell_type": "markdown",
   "id": "41664731-04c4-4949-9b13-71e3d34470b0",
   "metadata": {
    "tags": []
   },
   "source": [
    "___\n",
    "### Exercises with the Card class\n",
    "* make two cards, the two of clubs and the king of hearts\n",
    "  * in jargon, you just *instantiated* two *objects*\n",
    "* have each card report their contents with the .show()\n",
    "* change the king of hearts to the queen of spades by accessing the attributes with \".\"\n",
    "* now make two new member functions in the Card class and test them\n",
    "  * change_suit - pass in a new suit and change the suit\n",
    "  * change_value - pass in a new value and change the card's value\n",
    "  * test your new functions\n",
    "  * this will test if you can put `self` in the right places\n"
   ]
  },
  {
   "cell_type": "code",
   "execution_count": 43,
   "id": "8e5fd65e-1285-4e50-b621-86192c585013",
   "metadata": {},
   "outputs": [],
   "source": [
    "# here is a class that has two member attributes and one member function\n",
    "# note the indentation on all class members and nested indentation on the defs\n",
    "class Card:\n",
    "    \n",
    "    def __init__(self, suit, value):\n",
    "        self.suit = suit\n",
    "        self.value = value\n",
    "    \n",
    "    def show(self):\n",
    "        print(f'{self.value} of {self.suit}')"
   ]
  },
  {
   "cell_type": "code",
   "execution_count": 45,
   "id": "8b61074c-03df-4cac-9ad3-3ae4fa2a2779",
   "metadata": {},
   "outputs": [
    {
     "data": {
      "text/plain": [
       "<__main__.Card at 0x2277779b2b0>"
      ]
     },
     "execution_count": 45,
     "metadata": {},
     "output_type": "execute_result"
    }
   ],
   "source": [
    "card_1 = Card('clubs','two')\n",
    "card_1"
   ]
  },
  {
   "cell_type": "code",
   "execution_count": 46,
   "id": "36671ba8-90cc-4bb7-ba5e-de2bc06cfcb5",
   "metadata": {},
   "outputs": [
    {
     "name": "stdout",
     "output_type": "stream",
     "text": [
      "two of clubs\n"
     ]
    }
   ],
   "source": [
    "card_1.show()"
   ]
  },
  {
   "cell_type": "code",
   "execution_count": 50,
   "id": "4a27480a-cb11-4d6e-87c2-df35071569df",
   "metadata": {},
   "outputs": [],
   "source": [
    "card_1.suit = 'spades'\n",
    "card_1.value = 'ace'"
   ]
  },
  {
   "cell_type": "code",
   "execution_count": 51,
   "id": "52c4c699-09a5-4dd0-9bad-95941b5ce56f",
   "metadata": {},
   "outputs": [
    {
     "name": "stdout",
     "output_type": "stream",
     "text": [
      "ace of spades\n"
     ]
    }
   ],
   "source": [
    "card_1.show()"
   ]
  },
  {
   "cell_type": "markdown",
   "id": "e6ff18a8-2d10-42a7-950e-5360e1d57955",
   "metadata": {},
   "source": [
    "#### make a an empty list of cards for an Uno-like deck\n",
    "* use suits = ['red', 'green', 'blue', 'yellow']\n",
    "* use values = ['2', '3', '4', '5', '6', '7', '8']\n",
    "* use a nested for loop to populate your list with on each of all 28 cards\n",
    "    * hints are below if you don't know how to add an element to a list\n",
    "* look at your list "
   ]
  },
  {
   "cell_type": "code",
   "execution_count": null,
   "id": "b21a60c4-b57d-40d8-a5c1-d22b3be2514f",
   "metadata": {},
   "outputs": [],
   "source": []
  },
  {
   "cell_type": "code",
   "execution_count": null,
   "id": "93586cc9-e483-4ab9-a2c5-7251d45919e9",
   "metadata": {},
   "outputs": [],
   "source": []
  },
  {
   "cell_type": "code",
   "execution_count": null,
   "id": "76f73b91-091e-40d7-a08c-4e71f5a9be1e",
   "metadata": {},
   "outputs": [],
   "source": []
  },
  {
   "cell_type": "markdown",
   "id": "b57e5dc7-e586-4e79-a472-b1a4adb78e40",
   "metadata": {
    "tags": []
   },
   "source": [
    "___\n",
    "### Working with a deck "
   ]
  },
  {
   "cell_type": "code",
   "execution_count": 60,
   "id": "d05ef671-d779-43bc-bb44-58571ab7df9b",
   "metadata": {},
   "outputs": [],
   "source": [
    "# here is a class that makes 52 of the Card class, and has \n",
    "# two member attributes and two member functions\n",
    "import random\n",
    "class Deck:\n",
    "    \n",
    "    def __init__(self):\n",
    "        self.remaining_cards = []  # make an empty list for remaining cards\n",
    "        self.used_cards = []  # make an empty list for cards that have been used\n",
    "        self.build()  # call the build function when me make a new deck\n",
    "    \n",
    "    def build(self):\n",
    "        # re-initialize the deck and build one with 52 new cards\n",
    "        self.used_cards = []\n",
    "        self.remaining_cards = []\n",
    "        suits = ['clubs', 'diamonds', 'hearts', 'spades']\n",
    "        values = [str(i) for i in range(2,11)] + ['jack', 'queen', 'king', 'ace']\n",
    "        for suit in suits:\n",
    "            for value in values:\n",
    "                self.remaining_cards.append(Card(suit,value))\n",
    "        \n",
    "    def draw(self):\n",
    "        # check to see if we have any cards left, and if so, move it from remaining cards to used cards\n",
    "        # and show which one it was\n",
    "        count = len(self.remaining_cards)\n",
    "        # print(f'Count is {count}')\n",
    "        if count > 0:\n",
    "            # get a random number between 0 and (number of cards left -1)\n",
    "            random_card = random.randint(0,count-1)\n",
    "            # move that card from unused to used array\n",
    "            card = self.remaining_cards.pop(random_card)\n",
    "            self.used_cards.append(card)\n",
    "            # show the card\n",
    "            card.show()\n",
    "        else:\n",
    "            print('Out of cards.')\n",
    "            card = Card('joker', 'joker')  # return something so we don't crash\n",
    "        return card  # I did not origianlly put this return value in the lecture example"
   ]
  },
  {
   "cell_type": "markdown",
   "id": "f5180c39-c572-4b5e-9462-b84316c7b759",
   "metadata": {},
   "source": [
    "#### hints on setting up a simple card drawing game"
   ]
  },
  {
   "cell_type": "code",
   "execution_count": 66,
   "id": "336275c4-8698-4a83-a5d8-9b5b00a495c5",
   "metadata": {},
   "outputs": [
    {
     "name": "stdout",
     "output_type": "stream",
     "text": [
      "6 of clubs\n"
     ]
    }
   ],
   "source": [
    "# how to draw a card and see if it is red or black\n",
    "deck = Deck()  # make a new deck\n",
    "card = deck.draw()  # return a new card"
   ]
  },
  {
   "cell_type": "code",
   "execution_count": 67,
   "id": "22e9bf94-8ece-40b9-8173-97967a79018d",
   "metadata": {},
   "outputs": [],
   "source": [
    "# make a dictionary to keep track of scores\n",
    "scores = {'red':0, 'black':0}"
   ]
  },
  {
   "cell_type": "code",
   "execution_count": 68,
   "id": "6258877b-596e-44c3-a510-4e68fc05f2af",
   "metadata": {},
   "outputs": [],
   "source": [
    "# use something like this to check scores\n",
    "if card.suit in ['diamonds', 'hearts']:\n",
    "    scores['red'] += 1\n",
    "elif card.suit in ['clubs', 'spades']:\n",
    "    scores['black'] += 1\n",
    "else:\n",
    "    print('Out of cards')"
   ]
  },
  {
   "cell_type": "code",
   "execution_count": 69,
   "id": "cebb80de-7354-4845-a055-b455c6f0ea16",
   "metadata": {},
   "outputs": [
    {
     "data": {
      "text/plain": [
       "{'red': 0, 'black': 1}"
      ]
     },
     "execution_count": 69,
     "metadata": {},
     "output_type": "execute_result"
    }
   ],
   "source": [
    "scores"
   ]
  },
  {
   "cell_type": "code",
   "execution_count": null,
   "id": "bcf7a04a-dd30-4539-ae04-3e629cb95de6",
   "metadata": {},
   "outputs": [],
   "source": []
  },
  {
   "cell_type": "markdown",
   "id": "68472ac0-8f86-43e1-ace5-b43de161cf41",
   "metadata": {},
   "source": [
    "### Excercise:  make a game\n",
    "* you're red, the computer is black\n",
    "* write a script to \n",
    "  * print that the game is starting\n",
    "  * draw nine cards from the deck\n",
    "  * keep track of the score as you draw\n",
    "  * winner is the one with the most cards of their color\n",
    "  * at the end, tell who won with how many points\n",
    "* you could do it as a for loop, or however you want to\n",
    "* don't forget to re-build the deck if it is out of cards"
   ]
  },
  {
   "cell_type": "code",
   "execution_count": null,
   "id": "c212254d-a0d7-4326-8881-a813c8d7aa5e",
   "metadata": {},
   "outputs": [],
   "source": []
  },
  {
   "cell_type": "code",
   "execution_count": null,
   "id": "a894c3c7-1428-4ebf-aa8d-e5fe2aa9a348",
   "metadata": {},
   "outputs": [],
   "source": []
  },
  {
   "cell_type": "code",
   "execution_count": null,
   "id": "60406379-ecba-4aee-a4e1-81db6b19c404",
   "metadata": {},
   "outputs": [],
   "source": []
  },
  {
   "cell_type": "markdown",
   "id": "a5e6ca3a-009a-4f97-8cef-b662f4617e02",
   "metadata": {},
   "source": [
    "### Exercise - make the deck auto-reshuffle"
   ]
  },
  {
   "cell_type": "markdown",
   "id": "2fc8472a-949c-44cf-aac3-06039b057d2b",
   "metadata": {},
   "source": [
    "<details>\n",
    "<summary>Hint #1</summary>\n",
    "edit the class itself\n",
    "</details>"
   ]
  },
  {
   "cell_type": "markdown",
   "id": "b1f54ba3-537c-4d86-bae6-d014b2c87a79",
   "metadata": {
    "tags": []
   },
   "source": [
    "<details>\n",
    "<summary>Hint #2</summary>\n",
    "probably in the draw function\n",
    "</details>"
   ]
  },
  {
   "cell_type": "markdown",
   "id": "abb07a68-1f27-4047-8ce1-3776e9ff2174",
   "metadata": {},
   "source": [
    "<details>\n",
    "<summary>Hint #3</summary>\n",
    "call self.build() in the draw function if there are no cards left\n",
    "</details>"
   ]
  },
  {
   "cell_type": "code",
   "execution_count": null,
   "id": "0d1eba8b-9b05-4d3d-865c-40fccdef2d9a",
   "metadata": {},
   "outputs": [],
   "source": []
  }
 ],
 "metadata": {
  "kernelspec": {
   "display_name": "Python 3 (ipykernel)",
   "language": "python",
   "name": "python3"
  },
  "language_info": {
   "codemirror_mode": {
    "name": "ipython",
    "version": 3
   },
   "file_extension": ".py",
   "mimetype": "text/x-python",
   "name": "python",
   "nbconvert_exporter": "python",
   "pygments_lexer": "ipython3",
   "version": "3.9.5"
  }
 },
 "nbformat": 4,
 "nbformat_minor": 5
}
