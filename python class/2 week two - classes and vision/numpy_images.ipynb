{
 "cells": [
  {
   "cell_type": "markdown",
   "id": "dc113e56-f5ec-4168-9f47-70f30ddaa6ef",
   "metadata": {},
   "source": [
    "## using numpy and making images  20220617 CJH\n",
    "* learn how to use numpy\n",
    "* learn imaging basics"
   ]
  },
  {
   "cell_type": "code",
   "execution_count": 56,
   "id": "bd502b3c-f341-45ba-add7-da86f1e9bcd1",
   "metadata": {},
   "outputs": [],
   "source": [
    "import numpy as np\n",
    "import matplotlib.pyplot as plt"
   ]
  },
  {
   "cell_type": "markdown",
   "id": "5ba585d8-c4d8-44b4-a09e-64d749c9551b",
   "metadata": {},
   "source": [
    "#### numpy is an improvement on python lists for math"
   ]
  },
  {
   "cell_type": "code",
   "execution_count": 3,
   "id": "ad98d6b6-3004-4d33-802d-23492f7a2f79",
   "metadata": {},
   "outputs": [
    {
     "data": {
      "text/plain": [
       "[1, 2, 3, 4, 5, 6, 7, 8, 9]"
      ]
     },
     "execution_count": 57,
     "metadata": {},
     "output_type": "execute_result"
    }
   ],
   "source": [
    "python_list = list(range(1, 10))  # get a list of digits\n",
    "python_list"
   ]
  },
  {
   "cell_type": "code",
   "execution_count": 4,
   "id": "58a25ebe-135a-40c8-a114-9a11eb461c7c",
   "metadata": {},
   "outputs": [
    {
     "data": {
      "text/plain": [
       "[1, 2, 3, 4, 5, 6, 7, 8, 9, 1, 2, 3, 4, 5, 6, 7, 8, 9]"
      ]
     },
     "execution_count": 58,
     "metadata": {},
     "output_type": "execute_result"
    }
   ],
   "source": [
    "python_list + python_list  # this is what happens with list addition"
   ]
  },
  {
   "cell_type": "code",
   "execution_count": 5,
   "id": "cf572e0c-f93e-484c-81af-cf9abd369568",
   "metadata": {},
   "outputs": [
    {
     "data": {
      "text/plain": [
       "array([ 1,  3,  5,  7,  9, 11, 13, 15, 17, 19])"
      ]
     },
     "execution_count": 59,
     "metadata": {},
     "output_type": "execute_result"
    }
   ],
   "source": [
    "numpy_array = np.arange(1, 20, 2)\n",
    "numpy_array"
   ]
  },
  {
   "cell_type": "code",
   "execution_count": 6,
   "id": "c80eb792-5b4f-4b02-9324-60255fc4d3fb",
   "metadata": {},
   "outputs": [
    {
     "data": {
      "text/plain": [
       "array([ 2,  6, 10, 14, 18, 22, 26, 30, 34, 38])"
      ]
     },
     "execution_count": 60,
     "metadata": {},
     "output_type": "execute_result"
    }
   ],
   "source": [
    "numpy_array + numpy_array  # now you can do math!"
   ]
  },
  {
   "cell_type": "code",
   "execution_count": 7,
   "id": "70e954a5-513d-4c30-83be-edbf190c00a0",
   "metadata": {},
   "outputs": [
    {
     "data": {
      "text/plain": [
       "array([ 2.1,  6.3, 10.5, 14.7, 18.9, 23.1, 27.3, 31.5, 35.7, 39.9])"
      ]
     },
     "execution_count": 61,
     "metadata": {},
     "output_type": "execute_result"
    }
   ],
   "source": [
    "numpy_array * 2.1"
   ]
  },
  {
   "cell_type": "code",
   "execution_count": 8,
   "id": "e1389990-6c8c-4b1e-b6e7-ed3d4cdc4fc4",
   "metadata": {},
   "outputs": [
    {
     "data": {
      "text/plain": [
       "[1, 2, 3, 4, 5, 6, 7, 8, 9]"
      ]
     },
     "execution_count": 62,
     "metadata": {},
     "output_type": "execute_result"
    }
   ],
   "source": [
    "python_list * 1"
   ]
  },
  {
   "cell_type": "code",
   "execution_count": 9,
   "id": "ee516911-7fb4-4dcf-8f3f-c492c8479245",
   "metadata": {},
   "outputs": [
    {
     "data": {
      "text/plain": [
       "[[1, 2, 3], [4, 5, 6], [7, 8, 9]]"
      ]
     },
     "execution_count": 63,
     "metadata": {},
     "output_type": "execute_result"
    }
   ],
   "source": [
    "# python lists are 1 dimensional (although you can nest them)\n",
    "python_nested_list = [[1, 2, 3], [4, 5, 6], [7, 8, 9]]\n",
    "python_nested_list"
   ]
  },
  {
   "cell_type": "code",
   "execution_count": 10,
   "id": "fceea2a6-d123-4db7-a23b-08795632dda5",
   "metadata": {},
   "outputs": [
    {
     "data": {
      "text/plain": [
       "6"
      ]
     },
     "execution_count": 64,
     "metadata": {},
     "output_type": "execute_result"
    }
   ],
   "source": [
    "# you can only slice a python list in 1D at a time list[top_level][first_nest_level][etc]\n",
    "python_nested_list[1][2]"
   ]
  },
  {
   "cell_type": "code",
   "execution_count": 11,
   "id": "5180354b-9817-4108-93dd-496b03fb3b6c",
   "metadata": {},
   "outputs": [
    {
     "ename": "TypeError",
     "evalue": "list indices must be integers or slices, not tuple",
     "output_type": "error",
     "traceback": [
      "\u001b[1;31m---------------------------------------------------------------------------\u001b[0m",
      "\u001b[1;31mTypeError\u001b[0m                                 Traceback (most recent call last)",
      "Input \u001b[1;32mIn [65]\u001b[0m, in \u001b[0;36m<cell line: 1>\u001b[1;34m()\u001b[0m\n\u001b[1;32m----> 1\u001b[0m \u001b[43mpython_nested_list\u001b[49m\u001b[43m[\u001b[49m\u001b[38;5;241;43m1\u001b[39;49m\u001b[43m \u001b[49m\u001b[43m,\u001b[49m\u001b[43m \u001b[49m\u001b[38;5;241;43m2\u001b[39;49m\u001b[43m]\u001b[49m\n",
      "\u001b[1;31mTypeError\u001b[0m: list indices must be integers or slices, not tuple"
     ]
    }
   ],
   "source": [
    "python_nested_list[1 , 2]"
   ]
  },
  {
   "cell_type": "code",
   "execution_count": 12,
   "id": "4c61c860-417c-4b55-99fe-a47a698875fc",
   "metadata": {},
   "outputs": [
    {
     "data": {
      "text/plain": [
       "[7, 8, 9]"
      ]
     },
     "execution_count": 66,
     "metadata": {},
     "output_type": "execute_result"
    }
   ],
   "source": [
    "# don't bother slicing a python nested list at the upper levels\n",
    "python_nested_list[1:3][1]"
   ]
  },
  {
   "cell_type": "markdown",
   "id": "ea7283cf-8735-4798-8423-90a7b4ad94c7",
   "metadata": {},
   "source": [
    "### numpy takes lists to the next level.  call them arrays now."
   ]
  },
  {
   "cell_type": "code",
   "execution_count": 13,
   "id": "9853ec3d-8e1b-4c7f-8d1e-5b9ce5424e96",
   "metadata": {},
   "outputs": [
    {
     "data": {
      "text/plain": [
       "array([1, 2, 3, 4, 5, 6, 7, 8, 9])"
      ]
     },
     "execution_count": 67,
     "metadata": {},
     "output_type": "execute_result"
    }
   ],
   "source": [
    "numpy_row = np.arange(1,10)\n",
    "numpy_row"
   ]
  },
  {
   "cell_type": "code",
   "execution_count": 14,
   "id": "57b557e7-810a-46d9-9d36-a22a57470d14",
   "metadata": {},
   "outputs": [
    {
     "data": {
      "text/plain": [
       "(9,)"
      ]
     },
     "execution_count": 68,
     "metadata": {},
     "output_type": "execute_result"
    }
   ],
   "source": [
    "numpy_row.shape"
   ]
  },
  {
   "cell_type": "code",
   "execution_count": 15,
   "id": "81b10e65-4b22-4da5-ab21-794f6266192c",
   "metadata": {},
   "outputs": [
    {
     "data": {
      "text/plain": [
       "array([[1],\n",
       "       [2],\n",
       "       [3],\n",
       "       [4],\n",
       "       [5],\n",
       "       [6],\n",
       "       [7],\n",
       "       [8],\n",
       "       [9]])"
      ]
     },
     "execution_count": 69,
     "metadata": {},
     "output_type": "execute_result"
    }
   ],
   "source": [
    "numpy_column = numpy_row.reshape(len(numpy_row),1)\n",
    "numpy_column"
   ]
  },
  {
   "cell_type": "code",
   "execution_count": 16,
   "id": "5589931a-e433-47d8-9e3e-b7a970db9218",
   "metadata": {},
   "outputs": [
    {
     "data": {
      "text/plain": [
       "(9, 1)"
      ]
     },
     "execution_count": 70,
     "metadata": {},
     "output_type": "execute_result"
    }
   ],
   "source": [
    "numpy_column.shape"
   ]
  },
  {
   "cell_type": "code",
   "execution_count": 17,
   "id": "de278b27-164a-4632-a38f-3a713554d9c7",
   "metadata": {},
   "outputs": [
    {
     "data": {
      "text/plain": [
       "array([[1, 2, 3],\n",
       "       [4, 5, 6],\n",
       "       [7, 8, 9]])"
      ]
     },
     "execution_count": 71,
     "metadata": {},
     "output_type": "execute_result"
    }
   ],
   "source": [
    "numpy_2D_array = numpy_row.reshape(3,3)\n",
    "numpy_2D_array"
   ]
  },
  {
   "cell_type": "code",
   "execution_count": 18,
   "id": "b914cb88-7009-4e78-9159-839e967e17ef",
   "metadata": {},
   "outputs": [
    {
     "data": {
      "text/plain": [
       "(3, 3)"
      ]
     },
     "execution_count": 72,
     "metadata": {},
     "output_type": "execute_result"
    }
   ],
   "source": [
    "numpy_2D_array.shape"
   ]
  },
  {
   "cell_type": "code",
   "execution_count": 19,
   "id": "02cdc1d3-70c3-4b40-ae0c-ce6a8aeee3dd",
   "metadata": {
    "tags": []
   },
   "outputs": [
    {
     "data": {
      "text/plain": [
       "array([1, 2, 3, 4, 5, 6, 7, 8, 9])"
      ]
     },
     "execution_count": 73,
     "metadata": {},
     "output_type": "execute_result"
    }
   ],
   "source": [
    "numpy_2D_array.flatten()"
   ]
  },
  {
   "cell_type": "markdown",
   "id": "84e35c80-d41e-4502-993b-035aaf230bdf",
   "metadata": {},
   "source": [
    "#### now you can slice in every dimension - just separate with commas\n",
    "* 1D: just like lists -  `python_list[start:stop:stride]`\n",
    "* 2D: comma separate dimensions - `numpy_2D_array[start_row:stop_row:stride , start_col:stop_col:stride]`\n",
    "* many dimensions - just keep adding commas"
   ]
  },
  {
   "cell_type": "code",
   "execution_count": 20,
   "id": "9ebfc879-b608-48e3-8197-ae11940e80c9",
   "metadata": {},
   "outputs": [
    {
     "data": {
      "text/plain": [
       "[3, 4, 5]"
      ]
     },
     "execution_count": 74,
     "metadata": {},
     "output_type": "execute_result"
    }
   ],
   "source": [
    "python_list[2:5]"
   ]
  },
  {
   "cell_type": "code",
   "execution_count": 21,
   "id": "088ca39a-d9da-4251-8f60-3c5357291f90",
   "metadata": {},
   "outputs": [
    {
     "data": {
      "text/plain": [
       "array([3, 4, 5])"
      ]
     },
     "execution_count": 75,
     "metadata": {},
     "output_type": "execute_result"
    }
   ],
   "source": [
    "numpy_row[2:5]"
   ]
  },
  {
   "cell_type": "code",
   "execution_count": 22,
   "id": "bd6644b8-cda5-4e51-96ee-d450d3f009e9",
   "metadata": {
    "tags": []
   },
   "outputs": [
    {
     "data": {
      "text/plain": [
       "array([[3],\n",
       "       [4],\n",
       "       [5]])"
      ]
     },
     "execution_count": 76,
     "metadata": {},
     "output_type": "execute_result"
    }
   ],
   "source": [
    "numpy_column[2:5]"
   ]
  },
  {
   "cell_type": "code",
   "execution_count": 23,
   "id": "c4d9c8f2-5e8a-45e1-8061-203365bc3d6e",
   "metadata": {},
   "outputs": [
    {
     "data": {
      "text/plain": [
       "array([[1, 2, 3],\n",
       "       [4, 5, 6],\n",
       "       [7, 8, 9]])"
      ]
     },
     "execution_count": 77,
     "metadata": {},
     "output_type": "execute_result"
    }
   ],
   "source": [
    "numpy_2D_array"
   ]
  },
  {
   "cell_type": "code",
   "execution_count": 24,
   "id": "bb5fd7c8-ce81-42e5-9b86-d69d2b05ac0c",
   "metadata": {},
   "outputs": [
    {
     "data": {
      "text/plain": [
       "3"
      ]
     },
     "execution_count": 78,
     "metadata": {},
     "output_type": "execute_result"
    }
   ],
   "source": [
    "numpy_2D_array[0, 2]"
   ]
  },
  {
   "cell_type": "code",
   "execution_count": 25,
   "id": "d606e95d-6b25-4f36-8c2e-bca849acbe06",
   "metadata": {},
   "outputs": [
    {
     "data": {
      "text/plain": [
       "array([[5, 6],\n",
       "       [8, 9]])"
      ]
     },
     "execution_count": 79,
     "metadata": {},
     "output_type": "execute_result"
    }
   ],
   "source": [
    "numpy_2D_array[1:, 1:]  # subset -bottom right corner"
   ]
  },
  {
   "cell_type": "markdown",
   "id": "57ed14dd-4c64-4e8e-bb08-ad050741a624",
   "metadata": {},
   "source": [
    "---\n",
    "#### python has int, str, float, bool, complex and you (maybe) can cast from one to another\n",
    "#### numpy has more, and there are rules as to what happens when you try to change\n",
    "* i - integer, b - boolean, u - unsigned integer, f - float, c - complex float\n",
    "* m - timedelta, M - datetime, O - object, S - string, U - unicode string\n",
    "* V - fixed chunk of memory for other type ( void )"
   ]
  },
  {
   "cell_type": "code",
   "execution_count": 26,
   "id": "626bf8d1-b650-488c-ba35-36513c5a72e4",
   "metadata": {},
   "outputs": [
    {
     "data": {
      "text/plain": [
       "dtype('int32')"
      ]
     },
     "execution_count": 80,
     "metadata": {},
     "output_type": "execute_result"
    }
   ],
   "source": [
    "numpy_2D_array.dtype"
   ]
  },
  {
   "cell_type": "code",
   "execution_count": 27,
   "id": "3245c4ec-13d4-4047-8f0b-8354f990762a",
   "metadata": {},
   "outputs": [],
   "source": [
    "numpy_2D_array[0,0] = 37.8234"
   ]
  },
  {
   "cell_type": "code",
   "execution_count": 28,
   "id": "a52c1636-d30b-49c4-9bcc-f9a52499af33",
   "metadata": {},
   "outputs": [
    {
     "data": {
      "text/plain": [
       "array([[37,  2,  3],\n",
       "       [ 4,  5,  6],\n",
       "       [ 7,  8,  9]])"
      ]
     },
     "execution_count": 82,
     "metadata": {},
     "output_type": "execute_result"
    }
   ],
   "source": [
    "# you can't stuff a float into a int array\n",
    "numpy_2D_array  # numpy automatically promotes/downgrades"
   ]
  },
  {
   "cell_type": "code",
   "execution_count": 29,
   "id": "4202712c-4748-43f8-bd9b-f92d46fd9689",
   "metadata": {},
   "outputs": [
    {
     "ename": "ValueError",
     "evalue": "invalid literal for int() with base 10: 'hello'",
     "output_type": "error",
     "traceback": [
      "\u001b[1;31m---------------------------------------------------------------------------\u001b[0m",
      "\u001b[1;31mValueError\u001b[0m                                Traceback (most recent call last)",
      "Input \u001b[1;32mIn [83]\u001b[0m, in \u001b[0;36m<cell line: 2>\u001b[1;34m()\u001b[0m\n\u001b[0;32m      1\u001b[0m \u001b[38;5;66;03m# regular python lists would be fine assigning a string to any position in a list\u001b[39;00m\n\u001b[1;32m----> 2\u001b[0m numpy_2D_array[\u001b[38;5;241m0\u001b[39m,\u001b[38;5;241m0\u001b[39m] \u001b[38;5;241m=\u001b[39m \u001b[38;5;124m'\u001b[39m\u001b[38;5;124mhello\u001b[39m\u001b[38;5;124m'\u001b[39m\n",
      "\u001b[1;31mValueError\u001b[0m: invalid literal for int() with base 10: 'hello'"
     ]
    }
   ],
   "source": [
    "# regular python lists would be fine assigning a string to any position in a list\n",
    "numpy_2D_array[0,0] = 'hello'"
   ]
  },
  {
   "cell_type": "code",
   "execution_count": 30,
   "id": "20b6bf58-b65f-41fb-a4ea-d6e4f5001f5e",
   "metadata": {},
   "outputs": [
    {
     "data": {
      "text/plain": [
       "array([[37.,  2.,  3.],\n",
       "       [ 4.,  5.,  6.],\n",
       "       [ 7.,  8.,  9.]], dtype=float32)"
      ]
     },
     "execution_count": 84,
     "metadata": {},
     "output_type": "execute_result"
    }
   ],
   "source": [
    "numpy_2D_array = numpy_2D_array.astype(np.single)\n",
    "numpy_2D_array"
   ]
  },
  {
   "cell_type": "code",
   "execution_count": 31,
   "id": "b84e95c2-94af-4c5a-a445-3752664372dc",
   "metadata": {},
   "outputs": [
    {
     "data": {
      "text/plain": [
       "array([[37.1234,  2.    ,  3.    ],\n",
       "       [ 4.    ,  5.    ,  6.    ],\n",
       "       [ 7.    ,  8.    ,  9.    ]], dtype=float32)"
      ]
     },
     "execution_count": 85,
     "metadata": {},
     "output_type": "execute_result"
    }
   ],
   "source": [
    "numpy_2D_array[0,0] = 37.1234\n",
    "numpy_2D_array"
   ]
  },
  {
   "cell_type": "markdown",
   "id": "ebb7137f-76a3-4832-ac86-0e795e3791bc",
   "metadata": {},
   "source": [
    "---\n",
    "#### super quick plot with numpy and matplotlib's **plot()** function"
   ]
  },
  {
   "cell_type": "code",
   "execution_count": 32,
   "id": "bf122bd2-c604-4bba-a9dc-78b1a462abdd",
   "metadata": {},
   "outputs": [
    {
     "data": {
      "text/plain": [
       "array([ 1.        ,  3.11111111,  5.22222222,  7.33333333,  9.44444444,\n",
       "       11.55555556, 13.66666667, 15.77777778, 17.88888889, 20.        ])"
      ]
     },
     "execution_count": 86,
     "metadata": {},
     "output_type": "execute_result"
    }
   ],
   "source": [
    "np.linspace(1, 20, 10)"
   ]
  },
  {
   "cell_type": "code",
   "execution_count": 33,
   "id": "b8b0272a-0b4e-40d0-908c-66599bad0394",
   "metadata": {},
   "outputs": [
    {
     "data": {
      "text/plain": [
       "array([0.   , 0.628, 1.256, 1.884, 2.512, 3.14 , 3.768, 4.396, 5.024,\n",
       "       5.652, 6.28 ])"
      ]
     },
     "execution_count": 87,
     "metadata": {},
     "output_type": "execute_result"
    }
   ],
   "source": [
    "# linspace is like arange but better\n",
    "x = np.linspace(0, 6.28, 101)  # 101 points between 0 and 2 pi\n",
    "x[::10]  # show from start to end, every 10 points"
   ]
  },
  {
   "cell_type": "code",
   "execution_count": 34,
   "id": "6de6a111-62df-4c6c-90d4-259fa2adc5ad",
   "metadata": {},
   "outputs": [
    {
     "data": {
      "text/plain": [
       "array([ 0.        ,  0.58752753,  0.95085946,  0.95135138,  0.58881556,\n",
       "        0.00159265, -0.586238  , -0.95036513, -0.95184088, -0.5901021 ,\n",
       "       -0.0031853 ])"
      ]
     },
     "execution_count": 88,
     "metadata": {},
     "output_type": "execute_result"
    }
   ],
   "source": [
    "y = np.sin(x)  # WITHOUT NUMPY THIS IS A FOR LOOP!\n",
    "y[::10]  # show from start to end, every 10 points"
   ]
  },
  {
   "cell_type": "code",
   "execution_count": 35,
   "id": "0fd70f8b-cdab-49e1-bcdf-358c23e6dc33",
   "metadata": {},
   "outputs": [
    {
     "data": {
      "image/png": "[encoded data removed]",
      "text/plain": [
       "<Figure size 432x288 with 1 Axes>"
      ]
     },
     "metadata": {
      "needs_background": "light"
     },
     "output_type": "display_data"
    }
   ],
   "source": [
    "# we'll rarely plot this way, because there is a more robust syntax in matplotlib \n",
    "plt.plot(x,y, label='sin(x)')\n",
    "plt.title('Super quick intro to numpy and pyplot')  # add a title to the plot \n",
    "plt.xlabel('x'); plt.ylabel('sin(x)');  # set the x and y labels\n",
    "plt.legend()  # turn on the legend, using the label from the plt.plot call\n",
    "plt.show()  # shpw the plot and reset the matplotlib.pyplot global object"
   ]
  },
  {
   "cell_type": "code",
   "execution_count": 36,
   "id": "5b6997b0-444b-4a65-b9d1-678981fc5286",
   "metadata": {},
   "outputs": [
    {
     "data": {
      "image/png": "[encoded data removed]",
      "text/plain": [
       "<Figure size 432x288 with 1 Axes>"
      ]
     },
     "metadata": {
      "needs_background": "light"
     },
     "output_type": "display_data"
    }
   ],
   "source": [
    "# we'll rarely plot this way, because there is a more robust syntax in matplotlib \n",
    "plt.plot(x, y, label='sin(x)')\n",
    "plt.plot(x, np.cos(x), label='cos(x)')\n",
    "plt.title('Two plots in one')  # add a title to the plot \n",
    "plt.xlabel('x'); plt.ylabel('function value');  # set the x and y labels\n",
    "plt.legend()  # turn on the legend, using the label from the plt.plot call\n",
    "plt.show()  # shpw the plot and reset the matplotlib.pyplot global object"
   ]
  },
  {
   "cell_type": "markdown",
   "id": "c6e750a8-924c-499d-b39c-d678165c3312",
   "metadata": {},
   "source": [
    "### switching gears to images\n",
    "* just think about 2D arrays of numbers and then plotting them"
   ]
  },
  {
   "cell_type": "code",
   "execution_count": 37,
   "id": "072a511f-6c37-4751-a484-eb610fefddd4",
   "metadata": {},
   "outputs": [
    {
     "data": {
      "text/plain": [
       "dtype('float64')"
      ]
     },
     "execution_count": 91,
     "metadata": {},
     "output_type": "execute_result"
    }
   ],
   "source": [
    "np.zeros(10).dtype"
   ]
  },
  {
   "cell_type": "code",
   "execution_count": 38,
   "id": "bbf3310d-ad6c-44c2-9bae-f606debb04b6",
   "metadata": {},
   "outputs": [
    {
     "data": {
      "text/plain": [
       "array([[0, 0, 0, 0],\n",
       "       [0, 0, 0, 0],\n",
       "       [0, 0, 0, 0],\n",
       "       [0, 0, 0, 0]], dtype=uint8)"
      ]
     },
     "execution_count": 92,
     "metadata": {},
     "output_type": "execute_result"
    }
   ],
   "source": [
    "gray_image = np.zeros((4,4), dtype=np.uint8)  # generate a 4x4 matrix of zeros\n",
    "gray_image"
   ]
  },
  {
   "cell_type": "code",
   "execution_count": 39,
   "id": "963759d2-c297-4266-9a25-4e5de0ff1385",
   "metadata": {},
   "outputs": [
    {
     "data": {
      "image/png": "[encoded data removed]",
      "text/plain": [
       "<Figure size 432x288 with 1 Axes>"
      ]
     },
     "metadata": {
      "needs_background": "light"
     },
     "output_type": "display_data"
    }
   ],
   "source": [
    "# matplotlib plots 2D arrays as well\n",
    "plt.imshow(gray_image, cmap='gray', vmax=255); plt.axis('off');"
   ]
  },
  {
   "cell_type": "code",
   "execution_count": 40,
   "id": "a5516ce1-c72c-4bea-b8b7-4900795af341",
   "metadata": {},
   "outputs": [
    {
     "data": {
      "text/plain": [
       "array([[  0,   0,   0,   0],\n",
       "       [  0,   0, 255,   0],\n",
       "       [  0,   0,   0,   0],\n",
       "       [  0,   0,   0,   0]], dtype=uint8)"
      ]
     },
     "execution_count": 94,
     "metadata": {},
     "output_type": "execute_result"
    }
   ],
   "source": [
    "# one down, two over\n",
    "gray_image = np.zeros((4,4), dtype=np.uint8)\n",
    "gray_image[1, 2] = 255\n",
    "gray_image"
   ]
  },
  {
   "cell_type": "code",
   "execution_count": 41,
   "id": "0b71fbfb-ed8c-41f2-8840-7005cf405763",
   "metadata": {},
   "outputs": [
    {
     "data": {
      "image/png": "[encoded data removed]",
      "text/plain": [
       "<Figure size 432x288 with 1 Axes>"
      ]
     },
     "metadata": {
      "needs_background": "light"
     },
     "output_type": "display_data"
    }
   ],
   "source": [
    "plt.imshow(gray_image, cmap='gray', vmax=255); plt.axis('off');"
   ]
  },
  {
   "cell_type": "code",
   "execution_count": 42,
   "id": "fd3943b3-fc33-47d9-9432-2cbd8f4b3305",
   "metadata": {},
   "outputs": [
    {
     "data": {
      "text/plain": [
       "array([[  0,   0,   0,   0],\n",
       "       [  0,   0,   0,   0],\n",
       "       [255, 255, 255, 255],\n",
       "       [  0,   0,   0,   0]], dtype=uint8)"
      ]
     },
     "execution_count": 96,
     "metadata": {},
     "output_type": "execute_result"
    }
   ],
   "source": [
    "# the entire nth row\n",
    "gray_image = np.zeros((4,4), dtype=np.uint8)\n",
    "gray_image[2, :] = 255\n",
    "gray_image"
   ]
  },
  {
   "cell_type": "code",
   "execution_count": 43,
   "id": "72f257aa-82e1-4dda-a8f9-b62539fe1544",
   "metadata": {},
   "outputs": [
    {
     "data": {
      "image/png": "[encoded data removed]",
      "text/plain": [
       "<Figure size 432x288 with 1 Axes>"
      ]
     },
     "metadata": {
      "needs_background": "light"
     },
     "output_type": "display_data"
    }
   ],
   "source": [
    "# a bit more complicated but we can throw in gridlines\n",
    "plt.pcolormesh(gray_image, cmap='gray', edgecolors='w', linewidth=1); plt.gca().invert_yaxis(); plt.axis('off');"
   ]
  },
  {
   "cell_type": "code",
   "execution_count": 44,
   "id": "0fd35cab-33e2-4909-800a-41f4fd30b4c0",
   "metadata": {},
   "outputs": [
    {
     "data": {
      "text/plain": [
       "array([[  0, 255,   0,   0],\n",
       "       [  0, 255,   0,   0],\n",
       "       [  0, 255,   0,   0],\n",
       "       [  0, 255,   0,   0]], dtype=uint8)"
      ]
     },
     "execution_count": 98,
     "metadata": {},
     "output_type": "execute_result"
    }
   ],
   "source": [
    "# the entire ith column\n",
    "gray_image = np.zeros((4,4), dtype=np.uint8)\n",
    "gray_image[:, 1] = 255\n",
    "gray_image"
   ]
  },
  {
   "cell_type": "code",
   "execution_count": 45,
   "id": "d8840ca8-46d8-4ea2-892b-b2c8eb72da70",
   "metadata": {},
   "outputs": [
    {
     "data": {
      "image/png": "[encoded data removed]",
      "text/plain": [
       "<Figure size 432x288 with 1 Axes>"
      ]
     },
     "metadata": {
      "needs_background": "light"
     },
     "output_type": "display_data"
    }
   ],
   "source": [
    "plt.imshow(gray_image, cmap='gray', vmax=255); plt.axis('off');"
   ]
  },
  {
   "cell_type": "code",
   "execution_count": 106,
   "id": "b0257208-332e-4f55-b9c1-ca1adf866884",
   "metadata": {},
   "outputs": [
    {
     "data": {
      "text/plain": [
       "array([  0,  17,  34,  51,  68,  85, 102, 119, 136, 153, 170, 187, 204,\n",
       "       221, 238, 255], dtype=uint8)"
      ]
     },
     "execution_count": 106,
     "metadata": {},
     "output_type": "execute_result"
    }
   ],
   "source": [
    "gray_image = np.linspace(0, 255, 16, dtype=np.uint8)\n",
    "gray_image"
   ]
  },
  {
   "cell_type": "code",
   "execution_count": 107,
   "id": "3c1e0150-ce3a-4d9f-8942-a926ec8094b3",
   "metadata": {},
   "outputs": [
    {
     "data": {
      "text/plain": [
       "array([[  0,  17,  34,  51],\n",
       "       [ 68,  85, 102, 119],\n",
       "       [136, 153, 170, 187],\n",
       "       [204, 221, 238, 255]], dtype=uint8)"
      ]
     },
     "execution_count": 107,
     "metadata": {},
     "output_type": "execute_result"
    }
   ],
   "source": [
    "gray_image= gray_image.reshape(4,4)\n",
    "gray_image"
   ]
  },
  {
   "cell_type": "code",
   "execution_count": 108,
   "id": "3f0e4816-e54e-467e-a5ab-8ee7b25ccd6e",
   "metadata": {},
   "outputs": [
    {
     "data": {
      "image/png": "[encoded data removed]",
      "text/plain": [
       "<Figure size 432x288 with 1 Axes>"
      ]
     },
     "metadata": {
      "needs_background": "light"
     },
     "output_type": "display_data"
    }
   ],
   "source": [
    "plt.imshow(gray_image, cmap='gray', vmax=255); plt.axis('off');"
   ]
  },
  {
   "attachments": {
    "2466916c-4f3c-4605-a7c2-728c82144e38.png": {
     "image/png": "[encoded data removed]"
    }
   },
   "cell_type": "markdown",
   "id": "f981698e-7d94-495e-aad1-bd7c58f43fed",
   "metadata": {
    "tags": []
   },
   "source": [
    "---\n",
    "#### Homework Exercise: generate and plot a checkerboard\n",
    "\n",
    "![check.png](attachment:2466916c-4f3c-4605-a7c2-728c82144e38.png)\n",
    "* hint: start with 8x8 zeros \n",
    "* change the odd rows, even columns in one line \n",
    "* change the even rows, odd columns in one line \n"
   ]
  },
  {
   "cell_type": "markdown",
   "id": "cb4c2c76-dfb3-4825-903c-f4911bb42023",
   "metadata": {},
   "source": [
    "<details>\n",
    "<summary>Click here for checkerboard answer</summary>\n",
    "checker = np.zeros((8,8)) <br>\n",
    "checker[1::2, ::2] = 255  # odd rows, even columns <br>\n",
    "checker[::2, 1::2] = 255  # even rows, odd columns <br>\n",
    "plt.imshow(checker, cmap='gray', vmax=255); plt.axis('off'); <br>\n",
    "</details> "
   ]
  },
  {
   "cell_type": "markdown",
   "id": "a15550b6-ca68-4586-8ff6-3ebfd2d0ee6f",
   "metadata": {},
   "source": [
    "___\n",
    "### Next: talk about color spaces\n",
    "color spaces: https://alloyui.com/examples/color-picker/hsv.html or http://colorizer.org/"
   ]
  },
  {
   "cell_type": "markdown",
   "id": "f3aa3c26-f6eb-4ae5-b5b7-11e13aba49ee",
   "metadata": {},
   "source": [
    "---\n",
    "#### ready for color?  you need another dimension for red, green and blue"
   ]
  },
  {
   "cell_type": "code",
   "execution_count": 49,
   "id": "90d42b1a-16c3-4651-9915-f237523480d3",
   "metadata": {},
   "outputs": [
    {
     "data": {
      "text/plain": [
       "array([[[0, 0, 0],\n",
       "        [0, 0, 0],\n",
       "        [0, 0, 0],\n",
       "        [0, 0, 0]],\n",
       "\n",
       "       [[0, 0, 0],\n",
       "        [0, 0, 0],\n",
       "        [0, 0, 0],\n",
       "        [0, 0, 0]],\n",
       "\n",
       "       [[0, 0, 0],\n",
       "        [0, 0, 0],\n",
       "        [0, 0, 0],\n",
       "        [0, 0, 0]],\n",
       "\n",
       "       [[0, 0, 0],\n",
       "        [0, 0, 0],\n",
       "        [0, 0, 0],\n",
       "        [0, 0, 0]]], dtype=uint8)"
      ]
     },
     "execution_count": 49,
     "metadata": {},
     "output_type": "execute_result"
    }
   ],
   "source": [
    "color_image = np.zeros([4,4,3], dtype=np.uint8)\n",
    "color_image  # looks weird but it's right - it's showing 3D slices"
   ]
  },
  {
   "cell_type": "code",
   "execution_count": 50,
   "id": "eccf58bf-7b34-4f55-8edd-7c95e6b434d9",
   "metadata": {},
   "outputs": [
    {
     "data": {
      "image/png": "[encoded data removed]",
      "text/plain": [
       "<Figure size 432x288 with 1 Axes>"
      ]
     },
     "metadata": {
      "needs_background": "light"
     },
     "output_type": "display_data"
    }
   ],
   "source": [
    "plt.imshow(color_image, vmax=255); plt.axis('off');"
   ]
  },
  {
   "cell_type": "code",
   "execution_count": 51,
   "id": "8e1e160d-cc9d-4c9d-bd9d-c4d4e4c6260b",
   "metadata": {},
   "outputs": [
    {
     "data": {
      "text/plain": [
       "array([[[255,   0,   0],\n",
       "        [255,   0,   0],\n",
       "        [255,   0,   0],\n",
       "        [255,   0,   0]],\n",
       "\n",
       "       [[255,   0,   0],\n",
       "        [255,   0,   0],\n",
       "        [255,   0,   0],\n",
       "        [255,   0,   0]],\n",
       "\n",
       "       [[255,   0,   0],\n",
       "        [255,   0,   0],\n",
       "        [255,   0,   0],\n",
       "        [255,   0,   0]],\n",
       "\n",
       "       [[255,   0,   0],\n",
       "        [255,   0,   0],\n",
       "        [255,   0,   0],\n",
       "        [255,   0,   0]]], dtype=uint8)"
      ]
     },
     "execution_count": 51,
     "metadata": {},
     "output_type": "execute_result"
    }
   ],
   "source": [
    "# the red channel\n",
    "color_image[:,:,0] = 255\n",
    "color_image"
   ]
  },
  {
   "cell_type": "code",
   "execution_count": 52,
   "id": "f084ade6-95cb-4be5-b529-f6a114fc1c2a",
   "metadata": {},
   "outputs": [
    {
     "data": {
      "text/plain": [
       "array([[255, 255, 255, 255],\n",
       "       [255, 255, 255, 255],\n",
       "       [255, 255, 255, 255],\n",
       "       [255, 255, 255, 255]], dtype=uint8)"
      ]
     },
     "execution_count": 52,
     "metadata": {},
     "output_type": "execute_result"
    }
   ],
   "source": [
    "# better to look at the red channel this way\n",
    "color_image[:,:,0]"
   ]
  },
  {
   "cell_type": "code",
   "execution_count": 53,
   "id": "ea5c03d5-89bf-45f8-ac02-3134421c568d",
   "metadata": {},
   "outputs": [
    {
     "data": {
      "image/png": "[encoded data removed]",
      "text/plain": [
       "<Figure size 432x288 with 1 Axes>"
      ]
     },
     "metadata": {
      "needs_background": "light"
     },
     "output_type": "display_data"
    }
   ],
   "source": [
    "plt.imshow(color_image, vmax=255); plt.axis('off');"
   ]
  },
  {
   "cell_type": "code",
   "execution_count": 54,
   "id": "8049f9dd-5c5f-460a-8175-d03bb1c62076",
   "metadata": {},
   "outputs": [
    {
     "data": {
      "image/png": "[encoded data removed]",
      "text/plain": [
       "<Figure size 432x288 with 1 Axes>"
      ]
     },
     "metadata": {
      "needs_background": "light"
     },
     "output_type": "display_data"
    }
   ],
   "source": [
    "# reset image and turn on the green\n",
    "color_image = np.zeros([4,4,3], dtype=np.uint8)\n",
    "color_image[:,:,1] = 255\n",
    "plt.imshow(color_image, vmax=255); plt.axis('off');"
   ]
  },
  {
   "cell_type": "code",
   "execution_count": 55,
   "id": "d735ce33-735b-4800-8877-07753fb483a5",
   "metadata": {},
   "outputs": [
    {
     "data": {
      "image/png": "[encoded data removed]",
      "text/plain": [
       "<Figure size 432x288 with 1 Axes>"
      ]
     },
     "metadata": {
      "needs_background": "light"
     },
     "output_type": "display_data"
    }
   ],
   "source": [
    "# reset image and turn on the blue\n",
    "color_image = np.zeros([4,4,3], dtype=np.uint8)\n",
    "color_image[:,:,2] = 255\n",
    "plt.imshow(color_image, vmax=255); plt.axis('off');"
   ]
  },
  {
   "attachments": {
    "51d7366b-7236-4fec-a8cd-c3d1fe874295.png": {
     "image/png": "[encoded data removed]"
    },
    "95ed4558-16eb-402e-bd55-84bddba5be15.png": {
     "image/png": "[encoded data removed]"
    }
   },
   "cell_type": "markdown",
   "id": "58a38679-53dc-4f1d-b0c4-bea83e832124",
   "metadata": {},
   "source": [
    "---\n",
    "### Homework exercises!  Generate these two 4x4 images:\n",
    "![hor.png](attachment:95ed4558-16eb-402e-bd55-84bddba5be15.png) , ![vert.png](attachment:51d7366b-7236-4fec-a8cd-c3d1fe874295.png)"
   ]
  },
  {
   "cell_type": "markdown",
   "id": "bf7c5226-deee-4512-9e1f-86f16e1f00dd",
   "metadata": {},
   "source": [
    "<details>\n",
    "<summary>Click here for row  stripes answer</summary>\n",
    "color_image = np.zeros([4,4,3], dtype=np.uint8) <br>\n",
    "color_image[:,0,0] = 255 <br>\n",
    "color_image[:,1,1] = 255 <br>\n",
    "color_image[:,2,2] = 255 <br>\n",
    "plt.imshow(color_image, vmax=255); plt.axis('off'); <br>\n",
    "</details>"
   ]
  },
  {
   "cell_type": "markdown",
   "id": "ac759c3f-ec1d-4592-bbcd-aba3a2f37c23",
   "metadata": {},
   "source": [
    "<details>\n",
    "<summary>Click here for column stripes answer</summary>\n",
    "color_image = np.zeros([4,4,3], dtype=np.uint8) <br>\n",
    "color_image[0,:,0] = 255 <br>\n",
    "color_image[1,:,1] = 255 <br>\n",
    "color_image[2,:,2] = 255 <br>\n",
    "plt.imshow(color_image, vmax=255); plt.axis('off'); <br>\n",
    "</details>"
   ]
  },
  {
   "cell_type": "code",
   "execution_count": null,
   "id": "e4852957-ddba-4a9a-a7db-c682c0c92b81",
   "metadata": {},
   "outputs": [],
   "source": []
  }
 ],
 "metadata": {
  "kernelspec": {
   "display_name": "Python 3 (ipykernel)",
   "language": "python",
   "name": "python3"
  },
  "language_info": {
   "codemirror_mode": {
    "name": "ipython",
    "version": 3
   },
   "file_extension": ".py",
   "mimetype": "text/x-python",
   "name": "python",
   "nbconvert_exporter": "python",
   "pygments_lexer": "ipython3",
   "version": "3.9.5"
  }
 },
 "nbformat": 4,
 "nbformat_minor": 5
}
